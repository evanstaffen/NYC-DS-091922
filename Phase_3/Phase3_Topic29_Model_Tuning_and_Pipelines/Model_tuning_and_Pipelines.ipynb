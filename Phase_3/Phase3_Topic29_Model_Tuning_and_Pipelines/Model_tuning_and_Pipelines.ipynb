{
 "cells": [
  {
   "cell_type": "markdown",
   "id": "6daf668b",
   "metadata": {
    "slideshow": {
     "slide_type": "slide"
    }
   },
   "source": [
    "<div style=\"color:white;\n",
    "           display:fill;\n",
    "           border-radius:5px;\n",
    "           background-color:#5642C5;\n",
    "           font-size:200%;\n",
    "           font-family:Arial;letter-spacing:0.5px\">\n",
    "\n",
    "<p width = 20%, style=\"padding: 10px;\n",
    "              color:white;\">\n",
    "Model Tuning\n",
    "              \n",
    "</p>\n",
    "</div>\n",
    "\n",
    "Data Science Cohort Live NYC Nov 2022\n",
    "<p>Phase 3: Topic 29</p>\n",
    "<br>\n",
    "<br>\n",
    "\n",
    "<div align = \"right\">\n",
    "<img src=\"Images/flatiron-school-logo.png\" align = \"right\" width=\"200\"/>\n",
    "</div>\n",
    "    \n",
    "    "
   ]
  },
  {
   "cell_type": "code",
   "execution_count": 1,
   "id": "fa35b8bf",
   "metadata": {
    "ExecuteTime": {
     "end_time": "2021-10-28T04:05:08.822957Z",
     "start_time": "2021-10-28T04:05:08.819534Z"
    },
    "slideshow": {
     "slide_type": "skip"
    }
   },
   "outputs": [],
   "source": [
    "import numpy as np\n",
    "import pandas as pd\n",
    "from matplotlib import pyplot as plt\n",
    "import seaborn as sns\n",
    "from scipy import stats as stats\n",
    "\n",
    "from sklearn.linear_model import LogisticRegression\n",
    "from sklearn.neighbors import KNeighborsClassifier\n",
    "from sklearn.tree import DecisionTreeClassifier\n",
    "\n",
    "from sklearn.metrics import precision_score, recall_score, plot_confusion_matrix, ConfusionMatrixDisplay\n",
    "from sklearn.model_selection import train_test_split, GridSearchCV,\\\n",
    "cross_val_score, RandomizedSearchCV\n",
    "\n",
    "from sklearn.preprocessing import OneHotEncoder, StandardScaler, Normalizer\n",
    "from sklearn.impute import SimpleImputer\n",
    "\n",
    "from sklearn.compose import ColumnTransformer"
   ]
  },
  {
   "cell_type": "markdown",
   "id": "87eef037",
   "metadata": {
    "cell_style": "split",
    "slideshow": {
     "slide_type": "slide"
    }
   },
   "source": [
    "#### Hyperparameters\n",
    "- Free knobs of a model used to **control the training process**."
   ]
  },
  {
   "cell_type": "markdown",
   "id": "7b7d47d4",
   "metadata": {
    "cell_style": "split",
    "slideshow": {
     "slide_type": "fragment"
    }
   },
   "source": [
    "<img src = \"Images\\levers.jpg\" width = 350/><center> Tuning your model!! </center>"
   ]
  },
  {
   "cell_type": "markdown",
   "id": "c513e58d",
   "metadata": {
    "cell_style": "split",
    "slideshow": {
     "slide_type": "fragment"
    }
   },
   "source": [
    "**Hyperparameters concerning the structure of cost function and model**"
   ]
  },
  {
   "cell_type": "markdown",
   "id": "9a1bd45a",
   "metadata": {
    "cell_style": "split",
    "heading_collapsed": true,
    "hidden": true,
    "slideshow": {
     "slide_type": "slide"
    }
   },
   "source": [
    "#### Hyperparameters\n",
    "- Free levers of a model used to **control the training process**.\n",
    "- $\\lambda$: the regularization parameter for $|\\textbf{w}|^2$ penalty.\n"
   ]
  },
  {
   "cell_type": "markdown",
   "id": "2dc2ec31",
   "metadata": {
    "cell_style": "split",
    "hidden": true,
    "slideshow": {
     "slide_type": "fragment"
    }
   },
   "source": [
    "#### Parameters\n",
    "\n",
    "- **Found by training the model**\n",
    "- Weights ($\\textbf{w}$, etc.): \n",
    "    Logistic Regression, Linear Regression\n"
   ]
  },
  {
   "cell_type": "markdown",
   "id": "fd3a274a",
   "metadata": {
    "cell_style": "split",
    "hidden": true,
    "slideshow": {
     "slide_type": "slide"
    }
   },
   "source": [
    "#### Hyperparameters\n",
    "- depth of decision tree\n",
    "- gini impurity or entropy?"
   ]
  },
  {
   "cell_type": "markdown",
   "id": "4574d72f",
   "metadata": {
    "cell_style": "split",
    "slideshow": {
     "slide_type": "fragment"
    }
   },
   "source": [
    "#### Parameters\n",
    "\n",
    "- Locations in feature space where splits were made"
   ]
  },
  {
   "cell_type": "markdown",
   "id": "84513692",
   "metadata": {
    "slideshow": {
     "slide_type": "fragment"
    }
   },
   "source": [
    "**Hyperparameters concerning the optimization process**"
   ]
  },
  {
   "cell_type": "markdown",
   "id": "3247fcc1",
   "metadata": {
    "cell_style": "split",
    "slideshow": {
     "slide_type": "slide"
    }
   },
   "source": [
    "- Can help get to solutions faster\n",
    "- Get *better* convergence to cost function minimum"
   ]
  },
  {
   "cell_type": "markdown",
   "id": "814f1b23",
   "metadata": {
    "cell_style": "split",
    "slideshow": {
     "slide_type": "fragment"
    }
   },
   "source": [
    "**Solvers for Logistic regression**: variants of gradient descent.\n",
    "\n",
    "- lbfgs (variant of Newton method)\n",
    "    - accounts for concavity of cost function\n",
    "- sag (Stochastic Gradient Descent)\n",
    "    - fast convergence\n",
    "    - excellent for larger number of samples\n",
    "- liblinear (Coordinate Descent)\n",
    "    - better for larger number of features\n",
    "\n"
   ]
  },
  {
   "cell_type": "markdown",
   "id": "df8e81ec",
   "metadata": {
    "cell_style": "center",
    "hidden": true,
    "slideshow": {
     "slide_type": "slide"
    }
   },
   "source": [
    "Depending on the sort of problem and data:\n",
    "- experiment with different values of these hyperparameters\n",
    "- improve model performance."
   ]
  },
  {
   "cell_type": "markdown",
   "id": "e27b7947",
   "metadata": {
    "slideshow": {
     "slide_type": "slide"
    }
   },
   "source": [
    "Running through the entire process of train/test splitting and cross-validation yet again:"
   ]
  },
  {
   "cell_type": "markdown",
   "id": "f4b2a4b7",
   "metadata": {
    "slideshow": {
     "slide_type": "slide"
    }
   },
   "source": [
    "Load iris data"
   ]
  },
  {
   "cell_type": "code",
   "execution_count": 2,
   "id": "1b761f1a",
   "metadata": {
    "slideshow": {
     "slide_type": "fragment"
    }
   },
   "outputs": [
    {
     "data": {
      "text/html": [
       "<div>\n",
       "<style scoped>\n",
       "    .dataframe tbody tr th:only-of-type {\n",
       "        vertical-align: middle;\n",
       "    }\n",
       "\n",
       "    .dataframe tbody tr th {\n",
       "        vertical-align: top;\n",
       "    }\n",
       "\n",
       "    .dataframe thead th {\n",
       "        text-align: right;\n",
       "    }\n",
       "</style>\n",
       "<table border=\"1\" class=\"dataframe\">\n",
       "  <thead>\n",
       "    <tr style=\"text-align: right;\">\n",
       "      <th></th>\n",
       "      <th>SepalLengthCm</th>\n",
       "      <th>SepalWidthCm</th>\n",
       "      <th>PetalLengthCm</th>\n",
       "      <th>PetalWidthCm</th>\n",
       "      <th>Species</th>\n",
       "    </tr>\n",
       "  </thead>\n",
       "  <tbody>\n",
       "    <tr>\n",
       "      <th>0</th>\n",
       "      <td>5.1</td>\n",
       "      <td>3.5</td>\n",
       "      <td>1.4</td>\n",
       "      <td>0.2</td>\n",
       "      <td>Iris-setosa</td>\n",
       "    </tr>\n",
       "    <tr>\n",
       "      <th>1</th>\n",
       "      <td>4.9</td>\n",
       "      <td>3.0</td>\n",
       "      <td>1.4</td>\n",
       "      <td>0.2</td>\n",
       "      <td>Iris-setosa</td>\n",
       "    </tr>\n",
       "    <tr>\n",
       "      <th>2</th>\n",
       "      <td>4.7</td>\n",
       "      <td>3.2</td>\n",
       "      <td>1.3</td>\n",
       "      <td>0.2</td>\n",
       "      <td>Iris-setosa</td>\n",
       "    </tr>\n",
       "    <tr>\n",
       "      <th>3</th>\n",
       "      <td>4.6</td>\n",
       "      <td>3.1</td>\n",
       "      <td>1.5</td>\n",
       "      <td>0.2</td>\n",
       "      <td>Iris-setosa</td>\n",
       "    </tr>\n",
       "    <tr>\n",
       "      <th>4</th>\n",
       "      <td>5.0</td>\n",
       "      <td>3.6</td>\n",
       "      <td>1.4</td>\n",
       "      <td>0.2</td>\n",
       "      <td>Iris-setosa</td>\n",
       "    </tr>\n",
       "  </tbody>\n",
       "</table>\n",
       "</div>"
      ],
      "text/plain": [
       "   SepalLengthCm  SepalWidthCm  PetalLengthCm  PetalWidthCm      Species\n",
       "0            5.1           3.5            1.4           0.2  Iris-setosa\n",
       "1            4.9           3.0            1.4           0.2  Iris-setosa\n",
       "2            4.7           3.2            1.3           0.2  Iris-setosa\n",
       "3            4.6           3.1            1.5           0.2  Iris-setosa\n",
       "4            5.0           3.6            1.4           0.2  Iris-setosa"
      ]
     },
     "execution_count": 2,
     "metadata": {},
     "output_type": "execute_result"
    }
   ],
   "source": [
    "iris_df = pd.read_csv('Data/Iris.csv').drop(columns = ['Id'])\n",
    "iris_df.head()"
   ]
  },
  {
   "cell_type": "markdown",
   "id": "07730754",
   "metadata": {
    "slideshow": {
     "slide_type": "slide"
    }
   },
   "source": [
    "Label encode the target class"
   ]
  },
  {
   "cell_type": "code",
   "execution_count": 3,
   "id": "337a455a",
   "metadata": {
    "slideshow": {
     "slide_type": "fragment"
    }
   },
   "outputs": [
    {
     "data": {
      "text/html": [
       "<div>\n",
       "<style scoped>\n",
       "    .dataframe tbody tr th:only-of-type {\n",
       "        vertical-align: middle;\n",
       "    }\n",
       "\n",
       "    .dataframe tbody tr th {\n",
       "        vertical-align: top;\n",
       "    }\n",
       "\n",
       "    .dataframe thead th {\n",
       "        text-align: right;\n",
       "    }\n",
       "</style>\n",
       "<table border=\"1\" class=\"dataframe\">\n",
       "  <thead>\n",
       "    <tr style=\"text-align: right;\">\n",
       "      <th></th>\n",
       "      <th>SepalLengthCm</th>\n",
       "      <th>SepalWidthCm</th>\n",
       "      <th>PetalLengthCm</th>\n",
       "      <th>PetalWidthCm</th>\n",
       "      <th>Species</th>\n",
       "    </tr>\n",
       "  </thead>\n",
       "  <tbody>\n",
       "    <tr>\n",
       "      <th>0</th>\n",
       "      <td>5.1</td>\n",
       "      <td>3.5</td>\n",
       "      <td>1.4</td>\n",
       "      <td>0.2</td>\n",
       "      <td>0</td>\n",
       "    </tr>\n",
       "    <tr>\n",
       "      <th>1</th>\n",
       "      <td>4.9</td>\n",
       "      <td>3.0</td>\n",
       "      <td>1.4</td>\n",
       "      <td>0.2</td>\n",
       "      <td>0</td>\n",
       "    </tr>\n",
       "    <tr>\n",
       "      <th>2</th>\n",
       "      <td>4.7</td>\n",
       "      <td>3.2</td>\n",
       "      <td>1.3</td>\n",
       "      <td>0.2</td>\n",
       "      <td>0</td>\n",
       "    </tr>\n",
       "    <tr>\n",
       "      <th>3</th>\n",
       "      <td>4.6</td>\n",
       "      <td>3.1</td>\n",
       "      <td>1.5</td>\n",
       "      <td>0.2</td>\n",
       "      <td>0</td>\n",
       "    </tr>\n",
       "    <tr>\n",
       "      <th>4</th>\n",
       "      <td>5.0</td>\n",
       "      <td>3.6</td>\n",
       "      <td>1.4</td>\n",
       "      <td>0.2</td>\n",
       "      <td>0</td>\n",
       "    </tr>\n",
       "  </tbody>\n",
       "</table>\n",
       "</div>"
      ],
      "text/plain": [
       "   SepalLengthCm  SepalWidthCm  PetalLengthCm  PetalWidthCm  Species\n",
       "0            5.1           3.5            1.4           0.2        0\n",
       "1            4.9           3.0            1.4           0.2        0\n",
       "2            4.7           3.2            1.3           0.2        0\n",
       "3            4.6           3.1            1.5           0.2        0\n",
       "4            5.0           3.6            1.4           0.2        0"
      ]
     },
     "execution_count": 3,
     "metadata": {},
     "output_type": "execute_result"
    }
   ],
   "source": [
    "from sklearn.preprocessing import LabelEncoder\n",
    "target_transform = LabelEncoder()\n",
    "iris_df['Species'] = target_transform.fit_transform(iris_df['Species'])\n",
    "iris_df.head()"
   ]
  },
  {
   "cell_type": "markdown",
   "id": "2ac31a76",
   "metadata": {
    "slideshow": {
     "slide_type": "slide"
    }
   },
   "source": [
    "Select two of the features and the target. Features are not obviously separable.\n",
    "- Tuning will be important."
   ]
  },
  {
   "cell_type": "code",
   "execution_count": 4,
   "id": "0f8148f7",
   "metadata": {
    "cell_style": "split",
    "slideshow": {
     "slide_type": "fragment"
    }
   },
   "outputs": [],
   "source": [
    "col_list = ['SepalWidthCm', 'SepalLengthCm']\n",
    "X = iris_df[col_list]\n",
    "y = iris_df['Species']"
   ]
  },
  {
   "cell_type": "code",
   "execution_count": 5,
   "id": "897e29f1",
   "metadata": {
    "cell_style": "split",
    "scrolled": false,
    "slideshow": {
     "slide_type": "fragment"
    }
   },
   "outputs": [
    {
     "data": {
      "image/png": "[encoded data removed]",
      "text/plain": [
       "<Figure size 406.375x360 with 6 Axes>"
      ]
     },
     "metadata": {
      "needs_background": "light"
     },
     "output_type": "display_data"
    }
   ],
   "source": [
    "sns.pairplot(hue = 'Species', \n",
    "             vars = col_list,\n",
    "             data = iris_df)\n",
    "plt.show()"
   ]
  },
  {
   "cell_type": "markdown",
   "id": "a6f8d7b1",
   "metadata": {
    "slideshow": {
     "slide_type": "slide"
    }
   },
   "source": [
    "Now, before doing anything: Train/test split!"
   ]
  },
  {
   "cell_type": "code",
   "execution_count": 6,
   "id": "6fd60505",
   "metadata": {
    "cell_style": "center",
    "slideshow": {
     "slide_type": "fragment"
    }
   },
   "outputs": [],
   "source": [
    "# shuffle and split, stratify keeps target distribution same in train/test\n",
    "X_train, X_test, y_train, y_test = train_test_split(X, y, stratify = y, test_size = 0.15, random_state = 42)"
   ]
  },
  {
   "cell_type": "code",
   "execution_count": 7,
   "id": "434563a2",
   "metadata": {
    "slideshow": {
     "slide_type": "slide"
    }
   },
   "outputs": [],
   "source": [
    "from sklearn.model_selection import KFold\n",
    "from sklearn.preprocessing import StandardScaler\n",
    "from sklearn.neighbors import KNeighborsClassifier\n",
    "from sklearn.metrics import precision_score, recall_score, f1_score, accuracy_score, classification_report"
   ]
  },
  {
   "cell_type": "code",
   "execution_count": 8,
   "id": "bed132bb",
   "metadata": {
    "cell_style": "center",
    "scrolled": false,
    "slideshow": {
     "slide_type": "slide"
    }
   },
   "outputs": [],
   "source": [
    "def cross_validation(X_train, y_train, k, num_split = 10):\n",
    "    \n",
    "    X_train = X_train.values\n",
    "    y_train = y_train.values\n",
    "    \n",
    "    score_train_list = []\n",
    "    score_val_list = []\n",
    "    \n",
    "    for train_index, valid_index in KFold(n_splits = num_split).split(X_train):\n",
    "        # train and validation splitting \n",
    "        X_train_fold, X_val_fold = X_train[train_index], X_train[valid_index]\n",
    "        y_train_fold, y_val_fold = y_train[train_index], y_train[valid_index]\n",
    "\n",
    "        #create/fit the Standard scaler on the train fold\n",
    "        scaler = StandardScaler()\n",
    "        X_tf_sc = scaler.fit_transform(X_train_fold)\n",
    "        # transform validation fold\n",
    "        X_vld_sc = scaler.transform(X_val_fold)\n",
    "\n",
    "        # create/fit knearest neighbor\n",
    "        knn = KNeighborsClassifier(n_neighbors = k)\n",
    "        knn.fit(X_tf_sc, y_train_fold)\n",
    "        \n",
    "        # now how did we do?\n",
    "        accuracy_train = knn.score(X_tf_sc, y_train_fold)\n",
    "        accuracy_val = knn.score(X_vld_sc, y_val_fold)\n",
    "        score_val_list.append(accuracy_val)\n",
    "        score_train_list.append(accuracy_train)\n",
    "    \n",
    "    return {'k': k, 'train': np.mean(score_train_list), 'validation': np.mean(score_val_list)}"
   ]
  },
  {
   "cell_type": "markdown",
   "id": "906f5114",
   "metadata": {
    "slideshow": {
     "slide_type": "slide"
    }
   },
   "source": [
    "Now for tuning parameters need to loop:"
   ]
  },
  {
   "cell_type": "code",
   "execution_count": 9,
   "id": "07ed06d5",
   "metadata": {
    "slideshow": {
     "slide_type": "fragment"
    }
   },
   "outputs": [],
   "source": [
    "# empty dataframe\n",
    "crossval_df = pd.DataFrame(columns = ['k', 'train', 'validation'])\n",
    "# append results for each value of k\n",
    "for k in np.arange(1,100):\n",
    "    crossval_df = crossval_df.append(cross_validation(X_train, y_train, k, 5), ignore_index = True)\n"
   ]
  },
  {
   "cell_type": "code",
   "execution_count": 10,
   "id": "0fd2fd2a",
   "metadata": {
    "slideshow": {
     "slide_type": "fragment"
    }
   },
   "outputs": [
    {
     "data": {
      "text/html": [
       "<div>\n",
       "<style scoped>\n",
       "    .dataframe tbody tr th:only-of-type {\n",
       "        vertical-align: middle;\n",
       "    }\n",
       "\n",
       "    .dataframe tbody tr th {\n",
       "        vertical-align: top;\n",
       "    }\n",
       "\n",
       "    .dataframe thead th {\n",
       "        text-align: right;\n",
       "    }\n",
       "</style>\n",
       "<table border=\"1\" class=\"dataframe\">\n",
       "  <thead>\n",
       "    <tr style=\"text-align: right;\">\n",
       "      <th></th>\n",
       "      <th>k</th>\n",
       "      <th>train</th>\n",
       "      <th>validation</th>\n",
       "    </tr>\n",
       "  </thead>\n",
       "  <tbody>\n",
       "    <tr>\n",
       "      <th>0</th>\n",
       "      <td>1.0</td>\n",
       "      <td>0.948825</td>\n",
       "      <td>0.717231</td>\n",
       "    </tr>\n",
       "    <tr>\n",
       "      <th>1</th>\n",
       "      <td>2.0</td>\n",
       "      <td>0.870103</td>\n",
       "      <td>0.764308</td>\n",
       "    </tr>\n",
       "    <tr>\n",
       "      <th>2</th>\n",
       "      <td>3.0</td>\n",
       "      <td>0.876024</td>\n",
       "      <td>0.756308</td>\n",
       "    </tr>\n",
       "    <tr>\n",
       "      <th>3</th>\n",
       "      <td>4.0</td>\n",
       "      <td>0.848437</td>\n",
       "      <td>0.779692</td>\n",
       "    </tr>\n",
       "    <tr>\n",
       "      <th>4</th>\n",
       "      <td>5.0</td>\n",
       "      <td>0.848437</td>\n",
       "      <td>0.779692</td>\n",
       "    </tr>\n",
       "  </tbody>\n",
       "</table>\n",
       "</div>"
      ],
      "text/plain": [
       "     k     train  validation\n",
       "0  1.0  0.948825    0.717231\n",
       "1  2.0  0.870103    0.764308\n",
       "2  3.0  0.876024    0.756308\n",
       "3  4.0  0.848437    0.779692\n",
       "4  5.0  0.848437    0.779692"
      ]
     },
     "execution_count": 10,
     "metadata": {},
     "output_type": "execute_result"
    }
   ],
   "source": [
    "crossval_df.head()"
   ]
  },
  {
   "cell_type": "markdown",
   "id": "5007ff57",
   "metadata": {
    "slideshow": {
     "slide_type": "slide"
    }
   },
   "source": [
    "Technically, we did this correctly. But..."
   ]
  },
  {
   "cell_type": "markdown",
   "id": "7e485ec0",
   "metadata": {
    "cell_style": "split",
    "slideshow": {
     "slide_type": "slide"
    }
   },
   "source": [
    "#### Whats the problem with this?\n",
    "\n",
    "- Need to write unecessary code. Hard to read.\n",
    "- Easy to mess up: track each data transformation carefully.\n",
    "- Changing/adding transformations: possibly a pain.\n",
    "- For loops for tuning, etc."
   ]
  },
  {
   "cell_type": "markdown",
   "id": "668ed755",
   "metadata": {
    "cell_style": "split",
    "slideshow": {
     "slide_type": "fragment"
    }
   },
   "source": [
    "#### The goal:\n",
    "\n",
    "- want to get best model in streamlined process.\n",
    "- want to be able to plug in and out different transformations easily and transparently. \n",
    "- try multiple transformations/models at once\n",
    "- want good reporting/ranking of different models."
   ]
  },
  {
   "cell_type": "markdown",
   "id": "1bd62d8b",
   "metadata": {
    "cell_style": "center",
    "slideshow": {
     "slide_type": "slide"
    }
   },
   "source": [
    "####  First part of solution: The pipeline \n",
    "\n",
    "- Transformer fitting and model fitting\n",
    "- Happen one right after the other.\n",
    "- **Ideal: unify into a single process.**"
   ]
  },
  {
   "cell_type": "markdown",
   "id": "dd254895",
   "metadata": {
    "slideshow": {
     "slide_type": "fragment"
    }
   },
   "source": [
    "Without the pipeline:\n",
    "- have to repeat fit and transformer/predicting for every transformer and model"
   ]
  },
  {
   "cell_type": "code",
   "execution_count": 11,
   "id": "289e099d",
   "metadata": {
    "ExecuteTime": {
     "end_time": "2021-10-28T03:33:54.664937Z",
     "start_time": "2021-10-28T03:33:54.657819Z"
    },
    "cell_style": "center",
    "hidden": true,
    "slideshow": {
     "slide_type": "fragment"
    }
   },
   "outputs": [
    {
     "name": "stdout",
     "output_type": "stream",
     "text": [
      "[1 1 2 2 0 2 0 0 2 1 0 2 1 1 0 0 0 1 2 0 1 0 1]\n"
     ]
    }
   ],
   "source": [
    "# Define transformers (will adjust/massage the data)\n",
    "imputer = SimpleImputer(strategy=\"median\") # replaces missing values\n",
    "std_scaler = StandardScaler() # scales the data\n",
    "\n",
    "# Define the classifier (predictor) to train\n",
    "rf_clf = DecisionTreeClassifier(random_state=42)\n",
    "\n",
    "# Have the classifer (and full pipeline) learn/train/fit from the data\n",
    "X_train_filled = imputer.fit_transform(X_train)\n",
    "X_train_scaled = std_scaler.fit_transform(X_train_filled)\n",
    "rf_clf.fit(X_train_scaled, y_train)\n",
    "\n",
    "# Predict using the trained classifier (still need to do the transformations)\n",
    "X_test_filled = imputer.transform(X_test)\n",
    "X_test_scaled = std_scaler.transform(X_test_filled)\n",
    "y_pred = rf_clf.predict(X_test_scaled)\n",
    "print(y_pred)"
   ]
  },
  {
   "cell_type": "markdown",
   "id": "ecea6458",
   "metadata": {
    "slideshow": {
     "slide_type": "slide"
    }
   },
   "source": [
    "Instead let's use the Pipeline object"
   ]
  },
  {
   "cell_type": "code",
   "execution_count": 12,
   "id": "40dcec7e",
   "metadata": {
    "slideshow": {
     "slide_type": "fragment"
    }
   },
   "outputs": [],
   "source": [
    "from sklearn.pipeline import Pipeline\n",
    "\n",
    "# this will allow us to visualize the pipeline (may not be available in learn-env)\n",
    "from sklearn import set_config\n",
    "set_config(display= 'diagram')"
   ]
  },
  {
   "cell_type": "markdown",
   "id": "e2ec3953",
   "metadata": {
    "cell_style": "split",
    "slideshow": {
     "slide_type": "slide"
    }
   },
   "source": [
    "Pipeline() constructor:\n",
    "- takes in list of tuples (steps):\n",
    "- user label of estimator/transformer in pipeline (a string)\n",
    "- the transformer/estimator\n"
   ]
  },
  {
   "cell_type": "markdown",
   "id": "b85dc8c2",
   "metadata": {
    "cell_style": "split",
    "slideshow": {
     "slide_type": "fragment"
    }
   },
   "source": [
    "Pipeline() object is a new estimator:\n",
    "- does all steps in a defined order\n",
    "- transformers in the beginning\n",
    "- predictive model must be last step"
   ]
  },
  {
   "cell_type": "markdown",
   "id": "63673ac1",
   "metadata": {
    "slideshow": {
     "slide_type": "slide"
    }
   },
   "source": [
    "Combining into a unified estimator-transformer:\n",
    "- single .fit()\n",
    "- single .predict()\n",
    "\n",
    "**Does everything in one shot**"
   ]
  },
  {
   "cell_type": "markdown",
   "id": "f9a5e8c7",
   "metadata": {
    "slideshow": {
     "slide_type": "slide"
    }
   },
   "source": [
    "Let's check this out on fitting/predicting with simple train/test split:"
   ]
  },
  {
   "cell_type": "code",
   "execution_count": 13,
   "id": "cae12950",
   "metadata": {
    "slideshow": {
     "slide_type": "slide"
    }
   },
   "outputs": [
    {
     "name": "stdout",
     "output_type": "stream",
     "text": [
      "[1 1 2 2 0 2 0 0 2 1 0 2 1 1 0 0 0 1 2 0 1 0 1]\n"
     ]
    }
   ],
   "source": [
    "steps = [('imputer', SimpleImputer(strategy=\"median\")), ('std_scaler', StandardScaler()),\n",
    "        ('rf_clf', DecisionTreeClassifier(random_state=42))]\n",
    "\n",
    "pipeline = Pipeline(steps)\n",
    "\n",
    "\n",
    "# Train the pipeline (tranformations & predictor)\n",
    "pipeline.fit(X_train, y_train)\n",
    "\n",
    "# Predict using the pipeline (includes the transfomers & trained predictor)\n",
    "predicted = pipeline.predict(X_test)\n",
    "print(predicted)"
   ]
  },
  {
   "cell_type": "markdown",
   "id": "ab9e6671",
   "metadata": {
    "slideshow": {
     "slide_type": "slide"
    }
   },
   "source": [
    "Side by side (they do the same thing)"
   ]
  },
  {
   "cell_type": "code",
   "execution_count": 14,
   "id": "46e4ef4b",
   "metadata": {
    "cell_style": "split",
    "slideshow": {
     "slide_type": "fragment"
    }
   },
   "outputs": [
    {
     "name": "stdout",
     "output_type": "stream",
     "text": [
      "[1 1 2 2 0 2 0 0 2 1 0 2 1 1 0 0 0 1 2 0 1 0 1]\n"
     ]
    }
   ],
   "source": [
    "# Define transformers (will adjust/massage the data)\n",
    "imputer = SimpleImputer(strategy=\"median\") # replaces missing values\n",
    "std_scaler = StandardScaler() # scales the data\n",
    "\n",
    "# Define the classifier (predictor) to train\n",
    "rf_clf = DecisionTreeClassifier(random_state=42)\n",
    "\n",
    "# Have the classifer (and full pipeline) learn/train/fit from the data\n",
    "X_train_filled = imputer.fit_transform(X_train)\n",
    "X_train_scaled = std_scaler.fit_transform(X_train_filled)\n",
    "rf_clf.fit(X_train_scaled, y_train)\n",
    "\n",
    "# Predict using the trained classifier (still need to do the transformations)\n",
    "X_test_filled = imputer.transform(X_test)\n",
    "X_test_scaled = std_scaler.transform(X_test_filled)\n",
    "y_pred = rf_clf.predict(X_test_scaled)\n",
    "print(y_pred)"
   ]
  },
  {
   "cell_type": "code",
   "execution_count": 15,
   "id": "df89949f",
   "metadata": {
    "cell_style": "split",
    "slideshow": {
     "slide_type": "fragment"
    }
   },
   "outputs": [
    {
     "name": "stdout",
     "output_type": "stream",
     "text": [
      "[1 1 2 2 0 2 0 0 2 1 0 2 1 1 0 0 0 1 2 0 1 0 1]\n"
     ]
    }
   ],
   "source": [
    "steps = [('imputer', SimpleImputer(strategy=\"median\")), ('std_scaler', StandardScaler()),\n",
    "        ('rf_clf', DecisionTreeClassifier(random_state=42))]\n",
    "\n",
    "pipeline = Pipeline(steps)\n",
    "\n",
    "\n",
    "# Train the pipeline (tranformations & predictor)\n",
    "pipeline.fit(X_train, y_train)\n",
    "\n",
    "# Predict using the pipeline (includes the transfomers & trained predictor)\n",
    "predicted = pipeline.predict(X_test)\n",
    "print(predicted)"
   ]
  },
  {
   "cell_type": "markdown",
   "id": "41ea4e1a",
   "metadata": {
    "slideshow": {
     "slide_type": "slide"
    }
   },
   "source": [
    "Now lets do **manual** cross validation **with pipeline**"
   ]
  },
  {
   "cell_type": "markdown",
   "id": "18aab522",
   "metadata": {
    "slideshow": {
     "slide_type": "slide"
    }
   },
   "source": [
    "First advantage: can define the entire set of transformations outside cross-validation function:"
   ]
  },
  {
   "cell_type": "code",
   "execution_count": 16,
   "id": "a897371c",
   "metadata": {
    "cell_style": "center",
    "slideshow": {
     "slide_type": "fragment"
    }
   },
   "outputs": [
    {
     "data": {
      "text/html": [
       "<style>div.sk-top-container {color: black;background-color: white;}div.sk-toggleable {background-color: white;}label.sk-toggleable__label {cursor: pointer;display: block;width: 100%;margin-bottom: 0;padding: 0.2em 0.3em;box-sizing: border-box;text-align: center;}div.sk-toggleable__content {max-height: 0;max-width: 0;overflow: hidden;text-align: left;background-color: #f0f8ff;}div.sk-toggleable__content pre {margin: 0.2em;color: black;border-radius: 0.25em;background-color: #f0f8ff;}input.sk-toggleable__control:checked~div.sk-toggleable__content {max-height: 200px;max-width: 100%;overflow: auto;}div.sk-estimator input.sk-toggleable__control:checked~label.sk-toggleable__label {background-color: #d4ebff;}div.sk-label input.sk-toggleable__control:checked~label.sk-toggleable__label {background-color: #d4ebff;}input.sk-hidden--visually {border: 0;clip: rect(1px 1px 1px 1px);clip: rect(1px, 1px, 1px, 1px);height: 1px;margin: -1px;overflow: hidden;padding: 0;position: absolute;width: 1px;}div.sk-estimator {font-family: monospace;background-color: #f0f8ff;margin: 0.25em 0.25em;border: 1px dotted black;border-radius: 0.25em;box-sizing: border-box;}div.sk-estimator:hover {background-color: #d4ebff;}div.sk-parallel-item::after {content: \"\";width: 100%;border-bottom: 1px solid gray;flex-grow: 1;}div.sk-label:hover label.sk-toggleable__label {background-color: #d4ebff;}div.sk-serial::before {content: \"\";position: absolute;border-left: 1px solid gray;box-sizing: border-box;top: 2em;bottom: 0;left: 50%;}div.sk-serial {display: flex;flex-direction: column;align-items: center;background-color: white;}div.sk-item {z-index: 1;}div.sk-parallel {display: flex;align-items: stretch;justify-content: center;background-color: white;}div.sk-parallel-item {display: flex;flex-direction: column;position: relative;background-color: white;}div.sk-parallel-item:first-child::after {align-self: flex-end;width: 50%;}div.sk-parallel-item:last-child::after {align-self: flex-start;width: 50%;}div.sk-parallel-item:only-child::after {width: 0;}div.sk-dashed-wrapped {border: 1px dashed gray;margin: 0.2em;box-sizing: border-box;padding-bottom: 0.1em;background-color: white;position: relative;}div.sk-label label {font-family: monospace;font-weight: bold;background-color: white;display: inline-block;line-height: 1.2em;}div.sk-label-container {position: relative;z-index: 2;text-align: center;}div.sk-container {display: inline-block;position: relative;}</style><div class=\"sk-top-container\"><div class=\"sk-container\"><div class=\"sk-item sk-dashed-wrapped\"><div class=\"sk-label-container\"><div class=\"sk-label sk-toggleable\"><input class=\"sk-toggleable__control sk-hidden--visually\" id=\"678bde88-1b0a-46f3-9eb7-f41be74b769c\" type=\"checkbox\" ><label class=\"sk-toggleable__label\" for=\"678bde88-1b0a-46f3-9eb7-f41be74b769c\">Pipeline</label><div class=\"sk-toggleable__content\"><pre>Pipeline(steps=[('imputer', SimpleImputer(strategy='median')),\n",
       "                ('std_scaler', StandardScaler()),\n",
       "                ('rf_clf', DecisionTreeClassifier(random_state=42))])</pre></div></div></div><div class=\"sk-serial\"><div class=\"sk-item\"><div class=\"sk-estimator sk-toggleable\"><input class=\"sk-toggleable__control sk-hidden--visually\" id=\"fe87b7f2-3d32-4089-a11d-8f0426778ae6\" type=\"checkbox\" ><label class=\"sk-toggleable__label\" for=\"fe87b7f2-3d32-4089-a11d-8f0426778ae6\">SimpleImputer</label><div class=\"sk-toggleable__content\"><pre>SimpleImputer(strategy='median')</pre></div></div></div><div class=\"sk-item\"><div class=\"sk-estimator sk-toggleable\"><input class=\"sk-toggleable__control sk-hidden--visually\" id=\"52d0fb4d-8e8f-4e2d-872a-d3cbc0bcd8f6\" type=\"checkbox\" ><label class=\"sk-toggleable__label\" for=\"52d0fb4d-8e8f-4e2d-872a-d3cbc0bcd8f6\">StandardScaler</label><div class=\"sk-toggleable__content\"><pre>StandardScaler()</pre></div></div></div><div class=\"sk-item\"><div class=\"sk-estimator sk-toggleable\"><input class=\"sk-toggleable__control sk-hidden--visually\" id=\"9b7b8d6e-b83b-4b12-9f07-cec39e373990\" type=\"checkbox\" ><label class=\"sk-toggleable__label\" for=\"9b7b8d6e-b83b-4b12-9f07-cec39e373990\">DecisionTreeClassifier</label><div class=\"sk-toggleable__content\"><pre>DecisionTreeClassifier(random_state=42)</pre></div></div></div></div></div></div></div>"
      ],
      "text/plain": [
       "Pipeline(steps=[('imputer', SimpleImputer(strategy='median')),\n",
       "                ('std_scaler', StandardScaler()),\n",
       "                ('rf_clf', DecisionTreeClassifier(random_state=42))])"
      ]
     },
     "execution_count": 16,
     "metadata": {},
     "output_type": "execute_result"
    }
   ],
   "source": [
    "# Can define outside the cross validation\n",
    "steps = [('imputer', SimpleImputer(strategy=\"median\")), ('std_scaler', StandardScaler()),\n",
    "        ('rf_clf', DecisionTreeClassifier(random_state=42))]\n",
    "\n",
    "model_pipe = Pipeline(steps)\n",
    "model_pipe"
   ]
  },
  {
   "cell_type": "markdown",
   "id": "c3bb9209",
   "metadata": {
    "slideshow": {
     "slide_type": "slide"
    }
   },
   "source": [
    "Second advantage: no keeping track of multiple variables.\n",
    "- single .fit() and .predict()"
   ]
  },
  {
   "cell_type": "code",
   "execution_count": 17,
   "id": "f5ff6372",
   "metadata": {
    "cell_style": "center",
    "slideshow": {
     "slide_type": "slide"
    }
   },
   "outputs": [],
   "source": [
    "def cross_validation_pip(X_train, y_train, estimator, num_split = 10):\n",
    "    \n",
    "    X_train = X_train.values\n",
    "    y_train = y_train.values\n",
    "    \n",
    "    score_train_list = []\n",
    "    score_val_list = []\n",
    "    \n",
    "    for train_index, valid_index in KFold(n_splits = num_split).split(X_train):\n",
    "        \n",
    "        # train and validation splitting \n",
    "        X_train_fold, X_val_fold = X_train[train_index], X_train[valid_index]\n",
    "        y_train_fold, y_val_fold = y_train[train_index], y_train[valid_index]\n",
    "\n",
    "        estimator.fit(X_train_fold, y_train_fold)\n",
    "        \n",
    "        # now how did we do?\n",
    "        accuracy_train = estimator.score(X_train_fold, y_train_fold)\n",
    "        accuracy_val = estimator.score(X_val_fold, y_val_fold)\n",
    "        score_val_list.append(accuracy_val)\n",
    "        score_train_list.append(accuracy_train)\n",
    "    \n",
    "    return {'train': np.mean(score_train_list), 'validation': np.mean(score_val_list)}"
   ]
  },
  {
   "cell_type": "code",
   "execution_count": 18,
   "id": "008845ed",
   "metadata": {
    "slideshow": {
     "slide_type": "slide"
    }
   },
   "outputs": [
    {
     "data": {
      "text/plain": [
       "{'train': 0.943119755911518, 'validation': 0.708974358974359}"
      ]
     },
     "execution_count": 18,
     "metadata": {},
     "output_type": "execute_result"
    }
   ],
   "source": [
    "cross_validation_pip(X_train, y_train, pipeline)"
   ]
  },
  {
   "cell_type": "markdown",
   "id": "22b40c7a",
   "metadata": {
    "slideshow": {
     "slide_type": "slide"
    }
   },
   "source": [
    "Compare manual cross-validation **without** pipeline:"
   ]
  },
  {
   "cell_type": "code",
   "execution_count": 19,
   "id": "7888b394",
   "metadata": {
    "slideshow": {
     "slide_type": "slide"
    }
   },
   "outputs": [],
   "source": [
    "def cross_validation(X_train, y_train, estimator, num_split = 10):\n",
    "    \n",
    "    X_train = X_train.values\n",
    "    y_train = y_train.values\n",
    "    \n",
    "    score_train_list = []\n",
    "    score_val_list = []\n",
    "    \n",
    "    for train_index, valid_index in KFold(n_splits = num_split).split(X_train):\n",
    "\n",
    "\n",
    "        # train and validation splitting \n",
    "        X_train_fold, X_val_fold = X_train[train_index], X_train[valid_index]\n",
    "        y_train_fold, y_val_fold = y_train[train_index], y_train[valid_index]\n",
    "        \n",
    "        # impute NaNs with medians\n",
    "        \n",
    "        simple_imp = SimpleImputer(strategy=\"median\")\n",
    "        X_tf_imp = simple_imp.fit_transform(X_train_fold)\n",
    "        X_vld_imp = simple_imp.transform(X_val_fold)\n",
    "\n",
    "        #create/fit the Standard scaler on the train fold\n",
    "        scaler = StandardScaler()\n",
    "        X_tf_sc = scaler.fit_transform(X_tf_imp)\n",
    "        \n",
    "        # transform validation fold\n",
    "        X_vld_sc = scaler.transform(X_vld_imp)\n",
    "\n",
    "        estimator.fit(X_tf_sc, y_train_fold)\n",
    "        \n",
    "        # now how did we do?\n",
    "        accuracy_train = estimator.score(X_tf_sc, y_train_fold)\n",
    "        accuracy_val = estimator.score(X_vld_sc, y_val_fold)\n",
    "        score_val_list.append(accuracy_val)\n",
    "        score_train_list.append(accuracy_train)\n",
    "    \n",
    "    return {'train': np.mean(score_train_list), 'validation': np.mean(score_val_list)}"
   ]
  },
  {
   "cell_type": "code",
   "execution_count": 20,
   "id": "e433e80e",
   "metadata": {
    "slideshow": {
     "slide_type": "slide"
    }
   },
   "outputs": [
    {
     "data": {
      "text/plain": [
       "{'train': 0.943119755911518, 'validation': 0.708974358974359}"
      ]
     },
     "execution_count": 20,
     "metadata": {},
     "output_type": "execute_result"
    }
   ],
   "source": [
    "dec_tree = DecisionTreeClassifier(random_state=42)\n",
    "cross_validation(X_train, y_train, dec_tree)"
   ]
  },
  {
   "cell_type": "markdown",
   "id": "65003f06",
   "metadata": {
    "cell_style": "split",
    "slideshow": {
     "slide_type": "slide"
    }
   },
   "source": [
    "Same result as pipeline but:\n",
    "- Much less customizable/plug and play\n",
    "- Have to be careful and keep track of variables.\n",
    "- Changing/adding steps requires changing code **carefully** in function\n",
    "- Track changes and follow order of transformations:\n",
    "    - train set\n",
    "    - test set"
   ]
  },
  {
   "cell_type": "markdown",
   "id": "98aafee1",
   "metadata": {
    "cell_style": "split",
    "slideshow": {
     "slide_type": "fragment"
    }
   },
   "source": [
    "<img src = \"Images/pipeline_vs_manual.png\" width = 600  /> <center>Pipeline: customizable box. <i>Takes care of the details.</i></center>"
   ]
  },
  {
   "cell_type": "markdown",
   "id": "2fe41b1c",
   "metadata": {
    "heading_collapsed": true,
    "hidden": true,
    "slideshow": {
     "slide_type": "slide"
    }
   },
   "source": [
    "#### Swapping in Different Models & Transformers"
   ]
  },
  {
   "cell_type": "markdown",
   "id": "2455b8ad",
   "metadata": {
    "slideshow": {
     "slide_type": "slide"
    }
   },
   "source": [
    "Pipeline object has the steps as an attribute:\n",
    "- Python list\n",
    "- can modify pipeline progression by modifying attribute."
   ]
  },
  {
   "cell_type": "code",
   "execution_count": 21,
   "id": "71ff1c3b",
   "metadata": {
    "cell_style": "split",
    "slideshow": {
     "slide_type": "slide"
    }
   },
   "outputs": [
    {
     "data": {
      "text/plain": [
       "[('imputer', SimpleImputer(strategy='median')),\n",
       " ('std_scaler', StandardScaler()),\n",
       " ('rf_clf', DecisionTreeClassifier(random_state=42))]"
      ]
     },
     "execution_count": 21,
     "metadata": {},
     "output_type": "execute_result"
    }
   ],
   "source": [
    "model_pipe.steps"
   ]
  },
  {
   "cell_type": "markdown",
   "id": "2aff8d87",
   "metadata": {
    "cell_style": "split",
    "slideshow": {
     "slide_type": "fragment"
    }
   },
   "source": [
    "Change model to KNN:"
   ]
  },
  {
   "cell_type": "code",
   "execution_count": 22,
   "id": "249920a2",
   "metadata": {
    "cell_style": "split",
    "slideshow": {
     "slide_type": "fragment"
    }
   },
   "outputs": [],
   "source": [
    "# pop the decision tree\n",
    "model_pipe.steps.pop(-1)\n",
    "# insert knn\n",
    "model_pipe.steps.append(\n",
    "['knn', KNeighborsClassifier()])"
   ]
  },
  {
   "cell_type": "code",
   "execution_count": 23,
   "id": "b5ed5dd8",
   "metadata": {
    "cell_style": "split",
    "scrolled": true,
    "slideshow": {
     "slide_type": "fragment"
    }
   },
   "outputs": [
    {
     "data": {
      "text/html": [
       "<style>div.sk-top-container {color: black;background-color: white;}div.sk-toggleable {background-color: white;}label.sk-toggleable__label {cursor: pointer;display: block;width: 100%;margin-bottom: 0;padding: 0.2em 0.3em;box-sizing: border-box;text-align: center;}div.sk-toggleable__content {max-height: 0;max-width: 0;overflow: hidden;text-align: left;background-color: #f0f8ff;}div.sk-toggleable__content pre {margin: 0.2em;color: black;border-radius: 0.25em;background-color: #f0f8ff;}input.sk-toggleable__control:checked~div.sk-toggleable__content {max-height: 200px;max-width: 100%;overflow: auto;}div.sk-estimator input.sk-toggleable__control:checked~label.sk-toggleable__label {background-color: #d4ebff;}div.sk-label input.sk-toggleable__control:checked~label.sk-toggleable__label {background-color: #d4ebff;}input.sk-hidden--visually {border: 0;clip: rect(1px 1px 1px 1px);clip: rect(1px, 1px, 1px, 1px);height: 1px;margin: -1px;overflow: hidden;padding: 0;position: absolute;width: 1px;}div.sk-estimator {font-family: monospace;background-color: #f0f8ff;margin: 0.25em 0.25em;border: 1px dotted black;border-radius: 0.25em;box-sizing: border-box;}div.sk-estimator:hover {background-color: #d4ebff;}div.sk-parallel-item::after {content: \"\";width: 100%;border-bottom: 1px solid gray;flex-grow: 1;}div.sk-label:hover label.sk-toggleable__label {background-color: #d4ebff;}div.sk-serial::before {content: \"\";position: absolute;border-left: 1px solid gray;box-sizing: border-box;top: 2em;bottom: 0;left: 50%;}div.sk-serial {display: flex;flex-direction: column;align-items: center;background-color: white;}div.sk-item {z-index: 1;}div.sk-parallel {display: flex;align-items: stretch;justify-content: center;background-color: white;}div.sk-parallel-item {display: flex;flex-direction: column;position: relative;background-color: white;}div.sk-parallel-item:first-child::after {align-self: flex-end;width: 50%;}div.sk-parallel-item:last-child::after {align-self: flex-start;width: 50%;}div.sk-parallel-item:only-child::after {width: 0;}div.sk-dashed-wrapped {border: 1px dashed gray;margin: 0.2em;box-sizing: border-box;padding-bottom: 0.1em;background-color: white;position: relative;}div.sk-label label {font-family: monospace;font-weight: bold;background-color: white;display: inline-block;line-height: 1.2em;}div.sk-label-container {position: relative;z-index: 2;text-align: center;}div.sk-container {display: inline-block;position: relative;}</style><div class=\"sk-top-container\"><div class=\"sk-container\"><div class=\"sk-item sk-dashed-wrapped\"><div class=\"sk-label-container\"><div class=\"sk-label sk-toggleable\"><input class=\"sk-toggleable__control sk-hidden--visually\" id=\"b08f5c64-1332-444a-a78a-11296512fd19\" type=\"checkbox\" ><label class=\"sk-toggleable__label\" for=\"b08f5c64-1332-444a-a78a-11296512fd19\">Pipeline</label><div class=\"sk-toggleable__content\"><pre>Pipeline(steps=[('imputer', SimpleImputer(strategy='median')),\n",
       "                ('std_scaler', StandardScaler()),\n",
       "                ['knn', KNeighborsClassifier()]])</pre></div></div></div><div class=\"sk-serial\"><div class=\"sk-item\"><div class=\"sk-estimator sk-toggleable\"><input class=\"sk-toggleable__control sk-hidden--visually\" id=\"b0d65413-c3b8-496b-a653-15168619b6fe\" type=\"checkbox\" ><label class=\"sk-toggleable__label\" for=\"b0d65413-c3b8-496b-a653-15168619b6fe\">SimpleImputer</label><div class=\"sk-toggleable__content\"><pre>SimpleImputer(strategy='median')</pre></div></div></div><div class=\"sk-item\"><div class=\"sk-estimator sk-toggleable\"><input class=\"sk-toggleable__control sk-hidden--visually\" id=\"f0dc3413-493e-4f40-b3e5-0e7fb7fa5f7f\" type=\"checkbox\" ><label class=\"sk-toggleable__label\" for=\"f0dc3413-493e-4f40-b3e5-0e7fb7fa5f7f\">StandardScaler</label><div class=\"sk-toggleable__content\"><pre>StandardScaler()</pre></div></div></div><div class=\"sk-item\"><div class=\"sk-estimator sk-toggleable\"><input class=\"sk-toggleable__control sk-hidden--visually\" id=\"0fddf170-111a-4497-838f-7d3b6ac33d91\" type=\"checkbox\" ><label class=\"sk-toggleable__label\" for=\"0fddf170-111a-4497-838f-7d3b6ac33d91\">KNeighborsClassifier</label><div class=\"sk-toggleable__content\"><pre>KNeighborsClassifier()</pre></div></div></div></div></div></div></div>"
      ],
      "text/plain": [
       "Pipeline(steps=[('imputer', SimpleImputer(strategy='median')),\n",
       "                ('std_scaler', StandardScaler()),\n",
       "                ['knn', KNeighborsClassifier()]])"
      ]
     },
     "execution_count": 23,
     "metadata": {},
     "output_type": "execute_result"
    }
   ],
   "source": [
    "model_pipe"
   ]
  },
  {
   "cell_type": "markdown",
   "id": "9ceb55a7",
   "metadata": {
    "cell_style": "split",
    "slideshow": {
     "slide_type": "fragment"
    }
   },
   "source": [
    "Can change transformers in the middle:"
   ]
  },
  {
   "cell_type": "code",
   "execution_count": 24,
   "id": "4c0b34ed",
   "metadata": {
    "cell_style": "split",
    "slideshow": {
     "slide_type": "fragment"
    }
   },
   "outputs": [
    {
     "data": {
      "text/html": [
       "<style>div.sk-top-container {color: black;background-color: white;}div.sk-toggleable {background-color: white;}label.sk-toggleable__label {cursor: pointer;display: block;width: 100%;margin-bottom: 0;padding: 0.2em 0.3em;box-sizing: border-box;text-align: center;}div.sk-toggleable__content {max-height: 0;max-width: 0;overflow: hidden;text-align: left;background-color: #f0f8ff;}div.sk-toggleable__content pre {margin: 0.2em;color: black;border-radius: 0.25em;background-color: #f0f8ff;}input.sk-toggleable__control:checked~div.sk-toggleable__content {max-height: 200px;max-width: 100%;overflow: auto;}div.sk-estimator input.sk-toggleable__control:checked~label.sk-toggleable__label {background-color: #d4ebff;}div.sk-label input.sk-toggleable__control:checked~label.sk-toggleable__label {background-color: #d4ebff;}input.sk-hidden--visually {border: 0;clip: rect(1px 1px 1px 1px);clip: rect(1px, 1px, 1px, 1px);height: 1px;margin: -1px;overflow: hidden;padding: 0;position: absolute;width: 1px;}div.sk-estimator {font-family: monospace;background-color: #f0f8ff;margin: 0.25em 0.25em;border: 1px dotted black;border-radius: 0.25em;box-sizing: border-box;}div.sk-estimator:hover {background-color: #d4ebff;}div.sk-parallel-item::after {content: \"\";width: 100%;border-bottom: 1px solid gray;flex-grow: 1;}div.sk-label:hover label.sk-toggleable__label {background-color: #d4ebff;}div.sk-serial::before {content: \"\";position: absolute;border-left: 1px solid gray;box-sizing: border-box;top: 2em;bottom: 0;left: 50%;}div.sk-serial {display: flex;flex-direction: column;align-items: center;background-color: white;}div.sk-item {z-index: 1;}div.sk-parallel {display: flex;align-items: stretch;justify-content: center;background-color: white;}div.sk-parallel-item {display: flex;flex-direction: column;position: relative;background-color: white;}div.sk-parallel-item:first-child::after {align-self: flex-end;width: 50%;}div.sk-parallel-item:last-child::after {align-self: flex-start;width: 50%;}div.sk-parallel-item:only-child::after {width: 0;}div.sk-dashed-wrapped {border: 1px dashed gray;margin: 0.2em;box-sizing: border-box;padding-bottom: 0.1em;background-color: white;position: relative;}div.sk-label label {font-family: monospace;font-weight: bold;background-color: white;display: inline-block;line-height: 1.2em;}div.sk-label-container {position: relative;z-index: 2;text-align: center;}div.sk-container {display: inline-block;position: relative;}</style><div class=\"sk-top-container\"><div class=\"sk-container\"><div class=\"sk-item sk-dashed-wrapped\"><div class=\"sk-label-container\"><div class=\"sk-label sk-toggleable\"><input class=\"sk-toggleable__control sk-hidden--visually\" id=\"6d56fe7b-bfc3-447a-b949-5dceb7944b1a\" type=\"checkbox\" ><label class=\"sk-toggleable__label\" for=\"6d56fe7b-bfc3-447a-b949-5dceb7944b1a\">Pipeline</label><div class=\"sk-toggleable__content\"><pre>Pipeline(steps=[('imputer', SimpleImputer(strategy='median')),\n",
       "                ('norm', Normalizer()), ['knn', KNeighborsClassifier()]])</pre></div></div></div><div class=\"sk-serial\"><div class=\"sk-item\"><div class=\"sk-estimator sk-toggleable\"><input class=\"sk-toggleable__control sk-hidden--visually\" id=\"fc766275-2ccf-4580-87fd-adea157016c7\" type=\"checkbox\" ><label class=\"sk-toggleable__label\" for=\"fc766275-2ccf-4580-87fd-adea157016c7\">SimpleImputer</label><div class=\"sk-toggleable__content\"><pre>SimpleImputer(strategy='median')</pre></div></div></div><div class=\"sk-item\"><div class=\"sk-estimator sk-toggleable\"><input class=\"sk-toggleable__control sk-hidden--visually\" id=\"3b3a884e-a70e-4883-b0ca-16676390037f\" type=\"checkbox\" ><label class=\"sk-toggleable__label\" for=\"3b3a884e-a70e-4883-b0ca-16676390037f\">Normalizer</label><div class=\"sk-toggleable__content\"><pre>Normalizer()</pre></div></div></div><div class=\"sk-item\"><div class=\"sk-estimator sk-toggleable\"><input class=\"sk-toggleable__control sk-hidden--visually\" id=\"0f47419b-b11e-4b35-ac85-61123bd4a5b5\" type=\"checkbox\" ><label class=\"sk-toggleable__label\" for=\"0f47419b-b11e-4b35-ac85-61123bd4a5b5\">KNeighborsClassifier</label><div class=\"sk-toggleable__content\"><pre>KNeighborsClassifier()</pre></div></div></div></div></div></div></div>"
      ],
      "text/plain": [
       "Pipeline(steps=[('imputer', SimpleImputer(strategy='median')),\n",
       "                ('norm', Normalizer()), ['knn', KNeighborsClassifier()]])"
      ]
     },
     "execution_count": 24,
     "metadata": {},
     "output_type": "execute_result"
    }
   ],
   "source": [
    "model_pipe.steps[1] = ('norm', Normalizer())\n",
    "model_pipe"
   ]
  },
  {
   "cell_type": "markdown",
   "id": "5a4898ce",
   "metadata": {
    "slideshow": {
     "slide_type": "slide"
    }
   },
   "source": [
    "#### Pipelines\n",
    "- Easily plug/play different transformers and models into our workflow"
   ]
  },
  {
   "cell_type": "markdown",
   "id": "4dc71eaf",
   "metadata": {
    "slideshow": {
     "slide_type": "slide"
    }
   },
   "source": [
    "#### Pipelines clearly awesome, but:"
   ]
  },
  {
   "cell_type": "markdown",
   "id": "dced810f",
   "metadata": {
    "slideshow": {
     "slide_type": "fragment"
    }
   },
   "source": [
    "Transformer/model pipeline hyperparameter tuning with cross-validation still pretty manual:\n",
    "\n",
    "Want:\n",
    "- Efficient hyperparameter tuning with minimal code\n",
    "- Leakage prevention\n",
    "- Automatic best model selection and reporting on the CV for each pipeline tried. \n"
   ]
  },
  {
   "cell_type": "markdown",
   "id": "c9a373c2",
   "metadata": {
    "slideshow": {
     "slide_type": "slide"
    }
   },
   "source": [
    "#### The CV Grid Search"
   ]
  },
  {
   "cell_type": "markdown",
   "id": "5f795b1e",
   "metadata": {
    "cell_style": "split",
    "hidden": true,
    "slideshow": {
     "slide_type": "fragment"
    }
   },
   "source": [
    "Scikit-Learn has a [`GridSearchCV`](https://scikit-learn.org/stable/modules/generated/sklearn.model_selection.GridSearchCV.html) class whose `fit()` method:\n",
    "\n",
    "- takes in a grid of hyperparameters\n",
    "- loops through all of them **in order**\n",
    "- runs cross-validation properly scoring by chosen metric\n"
   ]
  },
  {
   "cell_type": "markdown",
   "id": "1a87aa51",
   "metadata": {
    "cell_style": "split",
    "slideshow": {
     "slide_type": "fragment"
    }
   },
   "source": [
    "- Returns all the models fitted\n",
    "- Can easily access best model and its score"
   ]
  },
  {
   "cell_type": "markdown",
   "id": "06e75043",
   "metadata": {
    "cell_style": "split",
    "slideshow": {
     "slide_type": "fragment"
    }
   },
   "source": [
    "<center><img src = \"Images/hyperparameter_tuning_cv_grid.webp\" width = 400/></center>"
   ]
  },
  {
   "cell_type": "markdown",
   "id": "d3ba40b9",
   "metadata": {
    "heading_collapsed": true,
    "hidden": true,
    "slideshow": {
     "slide_type": "slide"
    }
   },
   "source": [
    "#### GridSearchCV"
   ]
  },
  {
   "cell_type": "code",
   "execution_count": 25,
   "id": "5b5ec9f4",
   "metadata": {
    "cell_style": "center",
    "slideshow": {
     "slide_type": "fragment"
    }
   },
   "outputs": [],
   "source": [
    "# let's define a new pipeline object \n",
    "\n",
    "steps = [('imputer', SimpleImputer(strategy=\"median\")), ('std_scaler', StandardScaler()),\n",
    "        ('knn', KNeighborsClassifier())]\n",
    "\n",
    "model_pipe = Pipeline(steps)"
   ]
  },
  {
   "cell_type": "markdown",
   "id": "4b872502",
   "metadata": {
    "cell_style": "split",
    "slideshow": {
     "slide_type": "fragment"
    }
   },
   "source": [
    "CV takes in a grid dictionary:\n",
    "- with pipeline: key must follow a specific format\n",
    "- \"pipelinename__hyperparameter\""
   ]
  },
  {
   "cell_type": "markdown",
   "id": "0c9a389b",
   "metadata": {
    "cell_style": "split",
    "slideshow": {
     "slide_type": "fragment"
    }
   },
   "source": [
    "With pipeline:\n",
    "- Can change hyperparameters of model\n",
    "- **Also** can change hyperparameters of transformers."
   ]
  },
  {
   "cell_type": "code",
   "execution_count": 26,
   "id": "e5d5f175",
   "metadata": {
    "ExecuteTime": {
     "end_time": "2021-10-28T03:33:35.802959Z",
     "start_time": "2021-10-28T03:33:35.800647Z"
    },
    "cell_style": "center",
    "hidden": true,
    "slideshow": {
     "slide_type": "fragment"
    }
   },
   "outputs": [],
   "source": [
    "\n",
    "pipe_grid = {'imputer__strategy': [\"mean\", \"median\"],\n",
    "             'knn__n_neighbors': [3, 5, 7, 9, 11, 13, 15, 18],\n",
    "             'knn__p': [1, 2, 3, 4]}\n",
    "\n",
    "# note: default scoring is aaccuracy\n",
    "gs_pipe = GridSearchCV(estimator=model_pipe, \n",
    "                       param_grid=pipe_grid)\n"
   ]
  },
  {
   "cell_type": "code",
   "execution_count": 27,
   "id": "f312fddb",
   "metadata": {
    "ExecuteTime": {
     "end_time": "2021-10-28T03:33:38.433413Z",
     "start_time": "2021-10-28T03:33:38.076112Z"
    },
    "hidden": true,
    "slideshow": {
     "slide_type": "slide"
    }
   },
   "outputs": [],
   "source": [
    "gs_pipe.fit(X_train, y_train);"
   ]
  },
  {
   "cell_type": "code",
   "execution_count": 28,
   "id": "37acf96b",
   "metadata": {
    "ExecuteTime": {
     "end_time": "2021-10-28T03:33:38.438408Z",
     "start_time": "2021-10-28T03:33:38.435309Z"
    },
    "cell_style": "center",
    "hidden": true,
    "slideshow": {
     "slide_type": "slide"
    }
   },
   "outputs": [
    {
     "data": {
      "text/plain": [
       "{'imputer__strategy': 'mean', 'knn__n_neighbors': 18, 'knn__p': 1}"
      ]
     },
     "execution_count": 28,
     "metadata": {},
     "output_type": "execute_result"
    }
   ],
   "source": [
    "gs_pipe.best_params_"
   ]
  },
  {
   "cell_type": "code",
   "execution_count": 29,
   "id": "34bad70c",
   "metadata": {
    "ExecuteTime": {
     "end_time": "2021-10-28T03:33:38.739396Z",
     "start_time": "2021-10-28T03:33:38.736044Z"
    },
    "cell_style": "center",
    "hidden": true,
    "slideshow": {
     "slide_type": "fragment"
    }
   },
   "outputs": [
    {
     "data": {
      "text/plain": [
       "0.811076923076923"
      ]
     },
     "execution_count": 29,
     "metadata": {},
     "output_type": "execute_result"
    }
   ],
   "source": [
    "gs_pipe.best_score_"
   ]
  },
  {
   "cell_type": "markdown",
   "id": "c22aafee",
   "metadata": {
    "slideshow": {
     "slide_type": "slide"
    }
   },
   "source": [
    "Get the best estimator"
   ]
  },
  {
   "cell_type": "code",
   "execution_count": 30,
   "id": "be8f0fba",
   "metadata": {
    "cell_style": "center",
    "slideshow": {
     "slide_type": "fragment"
    }
   },
   "outputs": [
    {
     "data": {
      "text/html": [
       "<style>div.sk-top-container {color: black;background-color: white;}div.sk-toggleable {background-color: white;}label.sk-toggleable__label {cursor: pointer;display: block;width: 100%;margin-bottom: 0;padding: 0.2em 0.3em;box-sizing: border-box;text-align: center;}div.sk-toggleable__content {max-height: 0;max-width: 0;overflow: hidden;text-align: left;background-color: #f0f8ff;}div.sk-toggleable__content pre {margin: 0.2em;color: black;border-radius: 0.25em;background-color: #f0f8ff;}input.sk-toggleable__control:checked~div.sk-toggleable__content {max-height: 200px;max-width: 100%;overflow: auto;}div.sk-estimator input.sk-toggleable__control:checked~label.sk-toggleable__label {background-color: #d4ebff;}div.sk-label input.sk-toggleable__control:checked~label.sk-toggleable__label {background-color: #d4ebff;}input.sk-hidden--visually {border: 0;clip: rect(1px 1px 1px 1px);clip: rect(1px, 1px, 1px, 1px);height: 1px;margin: -1px;overflow: hidden;padding: 0;position: absolute;width: 1px;}div.sk-estimator {font-family: monospace;background-color: #f0f8ff;margin: 0.25em 0.25em;border: 1px dotted black;border-radius: 0.25em;box-sizing: border-box;}div.sk-estimator:hover {background-color: #d4ebff;}div.sk-parallel-item::after {content: \"\";width: 100%;border-bottom: 1px solid gray;flex-grow: 1;}div.sk-label:hover label.sk-toggleable__label {background-color: #d4ebff;}div.sk-serial::before {content: \"\";position: absolute;border-left: 1px solid gray;box-sizing: border-box;top: 2em;bottom: 0;left: 50%;}div.sk-serial {display: flex;flex-direction: column;align-items: center;background-color: white;}div.sk-item {z-index: 1;}div.sk-parallel {display: flex;align-items: stretch;justify-content: center;background-color: white;}div.sk-parallel-item {display: flex;flex-direction: column;position: relative;background-color: white;}div.sk-parallel-item:first-child::after {align-self: flex-end;width: 50%;}div.sk-parallel-item:last-child::after {align-self: flex-start;width: 50%;}div.sk-parallel-item:only-child::after {width: 0;}div.sk-dashed-wrapped {border: 1px dashed gray;margin: 0.2em;box-sizing: border-box;padding-bottom: 0.1em;background-color: white;position: relative;}div.sk-label label {font-family: monospace;font-weight: bold;background-color: white;display: inline-block;line-height: 1.2em;}div.sk-label-container {position: relative;z-index: 2;text-align: center;}div.sk-container {display: inline-block;position: relative;}</style><div class=\"sk-top-container\"><div class=\"sk-container\"><div class=\"sk-item sk-dashed-wrapped\"><div class=\"sk-label-container\"><div class=\"sk-label sk-toggleable\"><input class=\"sk-toggleable__control sk-hidden--visually\" id=\"196cf991-64a9-4a2a-ad72-69fd5de1d2eb\" type=\"checkbox\" ><label class=\"sk-toggleable__label\" for=\"196cf991-64a9-4a2a-ad72-69fd5de1d2eb\">Pipeline</label><div class=\"sk-toggleable__content\"><pre>Pipeline(steps=[('imputer', SimpleImputer()), ('std_scaler', StandardScaler()),\n",
       "                ('knn', KNeighborsClassifier(n_neighbors=18, p=1))])</pre></div></div></div><div class=\"sk-serial\"><div class=\"sk-item\"><div class=\"sk-estimator sk-toggleable\"><input class=\"sk-toggleable__control sk-hidden--visually\" id=\"ec7a6732-5663-43da-a817-737ed79c8265\" type=\"checkbox\" ><label class=\"sk-toggleable__label\" for=\"ec7a6732-5663-43da-a817-737ed79c8265\">SimpleImputer</label><div class=\"sk-toggleable__content\"><pre>SimpleImputer()</pre></div></div></div><div class=\"sk-item\"><div class=\"sk-estimator sk-toggleable\"><input class=\"sk-toggleable__control sk-hidden--visually\" id=\"ecc99c17-fb17-45e0-957a-90d6f6d136d6\" type=\"checkbox\" ><label class=\"sk-toggleable__label\" for=\"ecc99c17-fb17-45e0-957a-90d6f6d136d6\">StandardScaler</label><div class=\"sk-toggleable__content\"><pre>StandardScaler()</pre></div></div></div><div class=\"sk-item\"><div class=\"sk-estimator sk-toggleable\"><input class=\"sk-toggleable__control sk-hidden--visually\" id=\"a448d4b6-bf03-4aec-bea2-8c72863b7227\" type=\"checkbox\" ><label class=\"sk-toggleable__label\" for=\"a448d4b6-bf03-4aec-bea2-8c72863b7227\">KNeighborsClassifier</label><div class=\"sk-toggleable__content\"><pre>KNeighborsClassifier(n_neighbors=18, p=1)</pre></div></div></div></div></div></div></div>"
      ],
      "text/plain": [
       "Pipeline(steps=[('imputer', SimpleImputer()), ('std_scaler', StandardScaler()),\n",
       "                ('knn', KNeighborsClassifier(n_neighbors=18, p=1))])"
      ]
     },
     "execution_count": 30,
     "metadata": {},
     "output_type": "execute_result"
    }
   ],
   "source": [
    "best_model = gs_pipe.best_estimator_\n",
    "best_model"
   ]
  },
  {
   "cell_type": "markdown",
   "id": "72c136bd",
   "metadata": {
    "slideshow": {
     "slide_type": "slide"
    }
   },
   "source": [
    "Evaluate on the test"
   ]
  },
  {
   "cell_type": "code",
   "execution_count": 33,
   "id": "ae0d29f1",
   "metadata": {
    "slideshow": {
     "slide_type": "fragment"
    }
   },
   "outputs": [],
   "source": [
    "y_pred = best_model.predict(X_test)"
   ]
  },
  {
   "cell_type": "code",
   "execution_count": 34,
   "id": "d4bf9bb2",
   "metadata": {
    "cell_style": "split",
    "slideshow": {
     "slide_type": "fragment"
    }
   },
   "outputs": [
    {
     "data": {
      "text/plain": [
       "<sklearn.metrics._plot.confusion_matrix.ConfusionMatrixDisplay at 0x7feeb1b05610>"
      ]
     },
     "execution_count": 34,
     "metadata": {},
     "output_type": "execute_result"
    },
    {
     "data": {
      "image/png": "[encoded data removed]",
      "text/plain": [
       "<Figure size 432x288 with 2 Axes>"
      ]
     },
     "metadata": {
      "needs_background": "light"
     },
     "output_type": "display_data"
    }
   ],
   "source": [
    "plot_confusion_matrix(best_model, X_test, y_test)\n",
    "#ConfusionMatrixDisplay.from_estimator(best_model, X_test, y_test);"
   ]
  },
  {
   "cell_type": "code",
   "execution_count": 35,
   "id": "11e4c2d7",
   "metadata": {
    "cell_style": "center",
    "slideshow": {
     "slide_type": "fragment"
    }
   },
   "outputs": [
    {
     "name": "stdout",
     "output_type": "stream",
     "text": [
      "              precision    recall  f1-score   support\n",
      "\n",
      "           0       1.00      1.00      1.00         7\n",
      "           1       0.62      0.62      0.62         8\n",
      "           2       0.62      0.62      0.62         8\n",
      "\n",
      "    accuracy                           0.74        23\n",
      "   macro avg       0.75      0.75      0.75        23\n",
      "weighted avg       0.74      0.74      0.74        23\n",
      "\n"
     ]
    }
   ],
   "source": [
    "print(classification_report(y_test, y_pred))"
   ]
  },
  {
   "cell_type": "markdown",
   "id": "3592ca85",
   "metadata": {
    "slideshow": {
     "slide_type": "slide"
    }
   },
   "source": [
    "Can also get full report of cross validation with the pipeline estimators:\n",
    "- e.g. a dataframe with all the models"
   ]
  },
  {
   "cell_type": "code",
   "execution_count": 36,
   "id": "35ff5277",
   "metadata": {
    "scrolled": true,
    "slideshow": {
     "slide_type": "slide"
    }
   },
   "outputs": [
    {
     "data": {
      "text/html": [
       "<div>\n",
       "<style scoped>\n",
       "    .dataframe tbody tr th:only-of-type {\n",
       "        vertical-align: middle;\n",
       "    }\n",
       "\n",
       "    .dataframe tbody tr th {\n",
       "        vertical-align: top;\n",
       "    }\n",
       "\n",
       "    .dataframe thead th {\n",
       "        text-align: right;\n",
       "    }\n",
       "</style>\n",
       "<table border=\"1\" class=\"dataframe\">\n",
       "  <thead>\n",
       "    <tr style=\"text-align: right;\">\n",
       "      <th></th>\n",
       "      <th>mean_fit_time</th>\n",
       "      <th>std_fit_time</th>\n",
       "      <th>mean_score_time</th>\n",
       "      <th>std_score_time</th>\n",
       "      <th>param_imputer__strategy</th>\n",
       "      <th>param_knn__n_neighbors</th>\n",
       "      <th>param_knn__p</th>\n",
       "      <th>params</th>\n",
       "      <th>split0_test_score</th>\n",
       "      <th>split1_test_score</th>\n",
       "      <th>split2_test_score</th>\n",
       "      <th>split3_test_score</th>\n",
       "      <th>split4_test_score</th>\n",
       "      <th>mean_test_score</th>\n",
       "      <th>std_test_score</th>\n",
       "      <th>rank_test_score</th>\n",
       "    </tr>\n",
       "  </thead>\n",
       "  <tbody>\n",
       "    <tr>\n",
       "      <th>60</th>\n",
       "      <td>0.002184</td>\n",
       "      <td>0.000227</td>\n",
       "      <td>0.001623</td>\n",
       "      <td>0.000145</td>\n",
       "      <td>median</td>\n",
       "      <td>18</td>\n",
       "      <td>1</td>\n",
       "      <td>{'imputer__strategy': 'median', 'knn__n_neighb...</td>\n",
       "      <td>0.769231</td>\n",
       "      <td>0.846154</td>\n",
       "      <td>0.8</td>\n",
       "      <td>0.76</td>\n",
       "      <td>0.88</td>\n",
       "      <td>0.811077</td>\n",
       "      <td>0.045746</td>\n",
       "      <td>1</td>\n",
       "    </tr>\n",
       "    <tr>\n",
       "      <th>28</th>\n",
       "      <td>0.002163</td>\n",
       "      <td>0.000104</td>\n",
       "      <td>0.001585</td>\n",
       "      <td>0.000074</td>\n",
       "      <td>mean</td>\n",
       "      <td>18</td>\n",
       "      <td>1</td>\n",
       "      <td>{'imputer__strategy': 'mean', 'knn__n_neighbor...</td>\n",
       "      <td>0.769231</td>\n",
       "      <td>0.846154</td>\n",
       "      <td>0.8</td>\n",
       "      <td>0.76</td>\n",
       "      <td>0.88</td>\n",
       "      <td>0.811077</td>\n",
       "      <td>0.045746</td>\n",
       "      <td>1</td>\n",
       "    </tr>\n",
       "    <tr>\n",
       "      <th>61</th>\n",
       "      <td>0.002344</td>\n",
       "      <td>0.000231</td>\n",
       "      <td>0.001629</td>\n",
       "      <td>0.000169</td>\n",
       "      <td>median</td>\n",
       "      <td>18</td>\n",
       "      <td>2</td>\n",
       "      <td>{'imputer__strategy': 'median', 'knn__n_neighb...</td>\n",
       "      <td>0.769231</td>\n",
       "      <td>0.807692</td>\n",
       "      <td>0.8</td>\n",
       "      <td>0.80</td>\n",
       "      <td>0.84</td>\n",
       "      <td>0.803385</td>\n",
       "      <td>0.022577</td>\n",
       "      <td>3</td>\n",
       "    </tr>\n",
       "    <tr>\n",
       "      <th>29</th>\n",
       "      <td>0.002186</td>\n",
       "      <td>0.000234</td>\n",
       "      <td>0.001617</td>\n",
       "      <td>0.000110</td>\n",
       "      <td>mean</td>\n",
       "      <td>18</td>\n",
       "      <td>2</td>\n",
       "      <td>{'imputer__strategy': 'mean', 'knn__n_neighbor...</td>\n",
       "      <td>0.769231</td>\n",
       "      <td>0.807692</td>\n",
       "      <td>0.8</td>\n",
       "      <td>0.80</td>\n",
       "      <td>0.84</td>\n",
       "      <td>0.803385</td>\n",
       "      <td>0.022577</td>\n",
       "      <td>3</td>\n",
       "    </tr>\n",
       "    <tr>\n",
       "      <th>62</th>\n",
       "      <td>0.002043</td>\n",
       "      <td>0.000070</td>\n",
       "      <td>0.001560</td>\n",
       "      <td>0.000046</td>\n",
       "      <td>median</td>\n",
       "      <td>18</td>\n",
       "      <td>3</td>\n",
       "      <td>{'imputer__strategy': 'median', 'knn__n_neighb...</td>\n",
       "      <td>0.769231</td>\n",
       "      <td>0.769231</td>\n",
       "      <td>0.8</td>\n",
       "      <td>0.80</td>\n",
       "      <td>0.84</td>\n",
       "      <td>0.795692</td>\n",
       "      <td>0.026080</td>\n",
       "      <td>5</td>\n",
       "    </tr>\n",
       "  </tbody>\n",
       "</table>\n",
       "</div>"
      ],
      "text/plain": [
       "    mean_fit_time  std_fit_time  mean_score_time  std_score_time  \\\n",
       "60       0.002184      0.000227         0.001623        0.000145   \n",
       "28       0.002163      0.000104         0.001585        0.000074   \n",
       "61       0.002344      0.000231         0.001629        0.000169   \n",
       "29       0.002186      0.000234         0.001617        0.000110   \n",
       "62       0.002043      0.000070         0.001560        0.000046   \n",
       "\n",
       "   param_imputer__strategy param_knn__n_neighbors param_knn__p  \\\n",
       "60                  median                     18            1   \n",
       "28                    mean                     18            1   \n",
       "61                  median                     18            2   \n",
       "29                    mean                     18            2   \n",
       "62                  median                     18            3   \n",
       "\n",
       "                                               params  split0_test_score  \\\n",
       "60  {'imputer__strategy': 'median', 'knn__n_neighb...           0.769231   \n",
       "28  {'imputer__strategy': 'mean', 'knn__n_neighbor...           0.769231   \n",
       "61  {'imputer__strategy': 'median', 'knn__n_neighb...           0.769231   \n",
       "29  {'imputer__strategy': 'mean', 'knn__n_neighbor...           0.769231   \n",
       "62  {'imputer__strategy': 'median', 'knn__n_neighb...           0.769231   \n",
       "\n",
       "    split1_test_score  split2_test_score  split3_test_score  \\\n",
       "60           0.846154                0.8               0.76   \n",
       "28           0.846154                0.8               0.76   \n",
       "61           0.807692                0.8               0.80   \n",
       "29           0.807692                0.8               0.80   \n",
       "62           0.769231                0.8               0.80   \n",
       "\n",
       "    split4_test_score  mean_test_score  std_test_score  rank_test_score  \n",
       "60               0.88         0.811077        0.045746                1  \n",
       "28               0.88         0.811077        0.045746                1  \n",
       "61               0.84         0.803385        0.022577                3  \n",
       "29               0.84         0.803385        0.022577                3  \n",
       "62               0.84         0.795692        0.026080                5  "
      ]
     },
     "execution_count": 36,
     "metadata": {},
     "output_type": "execute_result"
    }
   ],
   "source": [
    "cv_result_df = pd.DataFrame(gs_pipe.cv_results_)\n",
    "cv_result_df = cv_result_df.sort_values(by = 'rank_test_score')\n",
    "cv_result_df.head()"
   ]
  },
  {
   "cell_type": "markdown",
   "id": "4adb39c0",
   "metadata": {
    "cell_style": "split",
    "slideshow": {
     "slide_type": "slide"
    }
   },
   "source": [
    "Trying different metrics:\n",
    "- Default scoring was accuracy\n",
    "- But can try other with scoring = ''"
   ]
  },
  {
   "cell_type": "markdown",
   "id": "303ad902",
   "metadata": {
    "cell_style": "split",
    "slideshow": {
     "slide_type": "fragment"
    }
   },
   "source": [
    "- Takes string:\n",
    "    - 'average_precision'\n",
    "    - 'balanced_accuracy' (class averaged recall)\n",
    "    - 'roc_auc', etc."
   ]
  },
  {
   "cell_type": "code",
   "execution_count": 37,
   "id": "05a5deb2",
   "metadata": {
    "slideshow": {
     "slide_type": "slide"
    }
   },
   "outputs": [],
   "source": [
    "pipe_grid = {'imputer__strategy': [\"mean\", \"median\"],\n",
    "             'knn__n_neighbors': [3, 5, 7, 9, 11, 13, 15, 18],\n",
    "             'knn__p': [1, 2, 3, 4]}\n",
    "\n",
    "gs_pipe = GridSearchCV(estimator=model_pipe, \n",
    "                       param_grid=pipe_grid, scoring = 'precision_micro')"
   ]
  },
  {
   "cell_type": "code",
   "execution_count": 38,
   "id": "bbb80d93",
   "metadata": {
    "slideshow": {
     "slide_type": "fragment"
    }
   },
   "outputs": [],
   "source": [
    "gs_pipe.fit(X_train, y_train);\n",
    "best_est = gs_pipe.best_estimator_"
   ]
  },
  {
   "cell_type": "code",
   "execution_count": 39,
   "id": "b0661064",
   "metadata": {
    "slideshow": {
     "slide_type": "subslide"
    }
   },
   "outputs": [
    {
     "data": {
      "text/html": [
       "<style>div.sk-top-container {color: black;background-color: white;}div.sk-toggleable {background-color: white;}label.sk-toggleable__label {cursor: pointer;display: block;width: 100%;margin-bottom: 0;padding: 0.2em 0.3em;box-sizing: border-box;text-align: center;}div.sk-toggleable__content {max-height: 0;max-width: 0;overflow: hidden;text-align: left;background-color: #f0f8ff;}div.sk-toggleable__content pre {margin: 0.2em;color: black;border-radius: 0.25em;background-color: #f0f8ff;}input.sk-toggleable__control:checked~div.sk-toggleable__content {max-height: 200px;max-width: 100%;overflow: auto;}div.sk-estimator input.sk-toggleable__control:checked~label.sk-toggleable__label {background-color: #d4ebff;}div.sk-label input.sk-toggleable__control:checked~label.sk-toggleable__label {background-color: #d4ebff;}input.sk-hidden--visually {border: 0;clip: rect(1px 1px 1px 1px);clip: rect(1px, 1px, 1px, 1px);height: 1px;margin: -1px;overflow: hidden;padding: 0;position: absolute;width: 1px;}div.sk-estimator {font-family: monospace;background-color: #f0f8ff;margin: 0.25em 0.25em;border: 1px dotted black;border-radius: 0.25em;box-sizing: border-box;}div.sk-estimator:hover {background-color: #d4ebff;}div.sk-parallel-item::after {content: \"\";width: 100%;border-bottom: 1px solid gray;flex-grow: 1;}div.sk-label:hover label.sk-toggleable__label {background-color: #d4ebff;}div.sk-serial::before {content: \"\";position: absolute;border-left: 1px solid gray;box-sizing: border-box;top: 2em;bottom: 0;left: 50%;}div.sk-serial {display: flex;flex-direction: column;align-items: center;background-color: white;}div.sk-item {z-index: 1;}div.sk-parallel {display: flex;align-items: stretch;justify-content: center;background-color: white;}div.sk-parallel-item {display: flex;flex-direction: column;position: relative;background-color: white;}div.sk-parallel-item:first-child::after {align-self: flex-end;width: 50%;}div.sk-parallel-item:last-child::after {align-self: flex-start;width: 50%;}div.sk-parallel-item:only-child::after {width: 0;}div.sk-dashed-wrapped {border: 1px dashed gray;margin: 0.2em;box-sizing: border-box;padding-bottom: 0.1em;background-color: white;position: relative;}div.sk-label label {font-family: monospace;font-weight: bold;background-color: white;display: inline-block;line-height: 1.2em;}div.sk-label-container {position: relative;z-index: 2;text-align: center;}div.sk-container {display: inline-block;position: relative;}</style><div class=\"sk-top-container\"><div class=\"sk-container\"><div class=\"sk-item sk-dashed-wrapped\"><div class=\"sk-label-container\"><div class=\"sk-label sk-toggleable\"><input class=\"sk-toggleable__control sk-hidden--visually\" id=\"8b29014f-da7e-4268-be07-7a173cf14e06\" type=\"checkbox\" ><label class=\"sk-toggleable__label\" for=\"8b29014f-da7e-4268-be07-7a173cf14e06\">Pipeline</label><div class=\"sk-toggleable__content\"><pre>Pipeline(steps=[('imputer', SimpleImputer()), ('std_scaler', StandardScaler()),\n",
       "                ('knn', KNeighborsClassifier(n_neighbors=18, p=1))])</pre></div></div></div><div class=\"sk-serial\"><div class=\"sk-item\"><div class=\"sk-estimator sk-toggleable\"><input class=\"sk-toggleable__control sk-hidden--visually\" id=\"e5647312-bdec-41d8-95dd-6bbaa2ac1e3e\" type=\"checkbox\" ><label class=\"sk-toggleable__label\" for=\"e5647312-bdec-41d8-95dd-6bbaa2ac1e3e\">SimpleImputer</label><div class=\"sk-toggleable__content\"><pre>SimpleImputer()</pre></div></div></div><div class=\"sk-item\"><div class=\"sk-estimator sk-toggleable\"><input class=\"sk-toggleable__control sk-hidden--visually\" id=\"d6f9bdf3-fe9b-4149-8727-1cbda4c5c80e\" type=\"checkbox\" ><label class=\"sk-toggleable__label\" for=\"d6f9bdf3-fe9b-4149-8727-1cbda4c5c80e\">StandardScaler</label><div class=\"sk-toggleable__content\"><pre>StandardScaler()</pre></div></div></div><div class=\"sk-item\"><div class=\"sk-estimator sk-toggleable\"><input class=\"sk-toggleable__control sk-hidden--visually\" id=\"8a0f0fe9-dd93-45c2-bbcf-abd5235d8072\" type=\"checkbox\" ><label class=\"sk-toggleable__label\" for=\"8a0f0fe9-dd93-45c2-bbcf-abd5235d8072\">KNeighborsClassifier</label><div class=\"sk-toggleable__content\"><pre>KNeighborsClassifier(n_neighbors=18, p=1)</pre></div></div></div></div></div></div></div>"
      ],
      "text/plain": [
       "Pipeline(steps=[('imputer', SimpleImputer()), ('std_scaler', StandardScaler()),\n",
       "                ('knn', KNeighborsClassifier(n_neighbors=18, p=1))])"
      ]
     },
     "execution_count": 39,
     "metadata": {},
     "output_type": "execute_result"
    }
   ],
   "source": [
    "best_est"
   ]
  },
  {
   "cell_type": "markdown",
   "id": "5e57ad78",
   "metadata": {
    "slideshow": {
     "slide_type": "slide"
    }
   },
   "source": [
    "Obviously not enough search parameters: still gets same model\n",
    "- Also probably limited by intrinsic overlap in the data.\n",
    "- Will see another example of trying different metrics."
   ]
  },
  {
   "cell_type": "markdown",
   "id": "cd517f86",
   "metadata": {
    "slideshow": {
     "slide_type": "slide"
    }
   },
   "source": [
    "#### In this case:\n",
    "- Not many NaNs\n",
    "- Selected subset of data didn't require multiple types of transformers\n",
    "    - e.g. categorical vs. numeric columns\n",
    "    - ordinal vs. nominal categoricals\n",
    "    - feature engineering on column subsets (Polynomial, etc.)\n"
   ]
  },
  {
   "cell_type": "markdown",
   "id": "ede18c22",
   "metadata": {
    "slideshow": {
     "slide_type": "slide"
    }
   },
   "source": [
    "#### Column Transformers"
   ]
  },
  {
   "cell_type": "markdown",
   "id": "6a1f1e5d",
   "metadata": {
    "slideshow": {
     "slide_type": "fragment"
    }
   },
   "source": [
    "First step in:\n",
    "- dealing with systematically imputing data in pipelines\n",
    "- transforming features of various types in different ways"
   ]
  },
  {
   "cell_type": "code",
   "execution_count": 40,
   "id": "f0a4eb32",
   "metadata": {
    "cell_style": "center",
    "slideshow": {
     "slide_type": "slide"
    }
   },
   "outputs": [],
   "source": [
    "salary_df = pd.read_csv('Data/adult.csv', usecols = ['age', 'occupation', 'education', 'native.country', \n",
    "                                                     'hours.per.week', 'sex', 'income'])\n",
    "salary_df = salary_df[salary_df[\"native.country\"] == \"United-States\"]\n",
    "ed_list = ['10th','11th','HS-grad', 'Some-college', 'Assoc-acdm', 'Assoc-voc', 'Bachelors', 'Masters', 'Doctorate']\n",
    "salary_df = salary_df[salary_df['education'].isin(ed_list)].drop(columns = ['native.country'])"
   ]
  },
  {
   "cell_type": "markdown",
   "id": "e4f375f2",
   "metadata": {
    "slideshow": {
     "slide_type": "slide"
    }
   },
   "source": [
    "Salary prediction problem:\n",
    "- Predict whether someone makes >50K anually\n",
    "- Numeric and categorical features require different preparation\n",
    "- NaN imputation strategies specific to columns\n",
    "\n",
    "Let's learn how to implement all this in the Pipeline"
   ]
  },
  {
   "cell_type": "code",
   "execution_count": 41,
   "id": "2bf244ae",
   "metadata": {
    "cell_style": "split",
    "slideshow": {
     "slide_type": "slide"
    }
   },
   "outputs": [
    {
     "data": {
      "text/html": [
       "<div>\n",
       "<style scoped>\n",
       "    .dataframe tbody tr th:only-of-type {\n",
       "        vertical-align: middle;\n",
       "    }\n",
       "\n",
       "    .dataframe tbody tr th {\n",
       "        vertical-align: top;\n",
       "    }\n",
       "\n",
       "    .dataframe thead th {\n",
       "        text-align: right;\n",
       "    }\n",
       "</style>\n",
       "<table border=\"1\" class=\"dataframe\">\n",
       "  <thead>\n",
       "    <tr style=\"text-align: right;\">\n",
       "      <th></th>\n",
       "      <th>age</th>\n",
       "      <th>education</th>\n",
       "      <th>occupation</th>\n",
       "      <th>sex</th>\n",
       "      <th>hours.per.week</th>\n",
       "      <th>income</th>\n",
       "    </tr>\n",
       "  </thead>\n",
       "  <tbody>\n",
       "    <tr>\n",
       "      <th>0</th>\n",
       "      <td>90</td>\n",
       "      <td>HS-grad</td>\n",
       "      <td>?</td>\n",
       "      <td>Female</td>\n",
       "      <td>40</td>\n",
       "      <td>&lt;=50K</td>\n",
       "    </tr>\n",
       "    <tr>\n",
       "      <th>1</th>\n",
       "      <td>82</td>\n",
       "      <td>HS-grad</td>\n",
       "      <td>Exec-managerial</td>\n",
       "      <td>Female</td>\n",
       "      <td>18</td>\n",
       "      <td>&lt;=50K</td>\n",
       "    </tr>\n",
       "    <tr>\n",
       "      <th>2</th>\n",
       "      <td>66</td>\n",
       "      <td>Some-college</td>\n",
       "      <td>?</td>\n",
       "      <td>Female</td>\n",
       "      <td>40</td>\n",
       "      <td>&lt;=50K</td>\n",
       "    </tr>\n",
       "    <tr>\n",
       "      <th>4</th>\n",
       "      <td>41</td>\n",
       "      <td>Some-college</td>\n",
       "      <td>Prof-specialty</td>\n",
       "      <td>Female</td>\n",
       "      <td>40</td>\n",
       "      <td>&lt;=50K</td>\n",
       "    </tr>\n",
       "    <tr>\n",
       "      <th>5</th>\n",
       "      <td>34</td>\n",
       "      <td>HS-grad</td>\n",
       "      <td>Other-service</td>\n",
       "      <td>Female</td>\n",
       "      <td>45</td>\n",
       "      <td>&lt;=50K</td>\n",
       "    </tr>\n",
       "  </tbody>\n",
       "</table>\n",
       "</div>"
      ],
      "text/plain": [
       "   age     education       occupation     sex  hours.per.week income\n",
       "0   90       HS-grad                ?  Female              40  <=50K\n",
       "1   82       HS-grad  Exec-managerial  Female              18  <=50K\n",
       "2   66  Some-college                ?  Female              40  <=50K\n",
       "4   41  Some-college   Prof-specialty  Female              40  <=50K\n",
       "5   34       HS-grad    Other-service  Female              45  <=50K"
      ]
     },
     "execution_count": 41,
     "metadata": {},
     "output_type": "execute_result"
    }
   ],
   "source": [
    "salary_df.head()"
   ]
  },
  {
   "cell_type": "code",
   "execution_count": 42,
   "id": "ec2922a7",
   "metadata": {
    "cell_style": "split",
    "slideshow": {
     "slide_type": "fragment"
    }
   },
   "outputs": [
    {
     "name": "stdout",
     "output_type": "stream",
     "text": [
      "<class 'pandas.core.frame.DataFrame'>\n",
      "Int64Index: 27249 entries, 0 to 32560\n",
      "Data columns (total 6 columns):\n",
      " #   Column          Non-Null Count  Dtype \n",
      "---  ------          --------------  ----- \n",
      " 0   age             27249 non-null  int64 \n",
      " 1   education       27249 non-null  object\n",
      " 2   occupation      27249 non-null  object\n",
      " 3   sex             27249 non-null  object\n",
      " 4   hours.per.week  27249 non-null  int64 \n",
      " 5   income          27249 non-null  object\n",
      "dtypes: int64(2), object(4)\n",
      "memory usage: 1.5+ MB\n"
     ]
    }
   ],
   "source": [
    "salary_df.info()"
   ]
  },
  {
   "cell_type": "markdown",
   "id": "2a4d736d",
   "metadata": {
    "cell_style": "center",
    "slideshow": {
     "slide_type": "slide"
    }
   },
   "source": [
    "Nulls clearly encoded as '?'\n",
    "- Would do EDA before figuring out how to clean/preprocess columns\n",
    "- But lets go ahead and develop pipeline!"
   ]
  },
  {
   "cell_type": "markdown",
   "id": "0a3b655c",
   "metadata": {
    "cell_style": "split",
    "slideshow": {
     "slide_type": "fragment"
    }
   },
   "source": [
    "**Imputation**\n",
    "- Numeric: impute with mean\n",
    "- Education/occupation/sex: most common"
   ]
  },
  {
   "cell_type": "markdown",
   "id": "d9dc45c5",
   "metadata": {
    "cell_style": "split",
    "slideshow": {
     "slide_type": "fragment"
    }
   },
   "source": [
    "**Encoding**\n",
    "- Education: ordinal encoding\n",
    "- Occupation/Sex: one-hot encoding"
   ]
  },
  {
   "cell_type": "markdown",
   "id": "a74ebf59",
   "metadata": {
    "slideshow": {
     "slide_type": "fragment"
    }
   },
   "source": [
    "Then standardize and model."
   ]
  },
  {
   "cell_type": "code",
   "execution_count": 43,
   "id": "75c1f169",
   "metadata": {
    "slideshow": {
     "slide_type": "slide"
    }
   },
   "outputs": [
    {
     "data": {
      "text/plain": [
       "HS-grad         9702\n",
       "Some-college    6740\n",
       "Bachelors       4766\n",
       "Masters         1527\n",
       "Assoc-voc       1289\n",
       "11th            1067\n",
       "Assoc-acdm       982\n",
       "10th             848\n",
       "Doctorate        328\n",
       "Name: education, dtype: int64"
      ]
     },
     "execution_count": 43,
     "metadata": {},
     "output_type": "execute_result"
    }
   ],
   "source": [
    "salary_df['education'].value_counts()"
   ]
  },
  {
   "cell_type": "markdown",
   "id": "2e22d4e8",
   "metadata": {
    "cell_style": "split"
   },
   "source": [
    "No nans? Guess again!"
   ]
  },
  {
   "cell_type": "code",
   "execution_count": 44,
   "id": "e179811e",
   "metadata": {
    "cell_style": "split"
   },
   "outputs": [
    {
     "data": {
      "text/html": [
       "<div>\n",
       "<style scoped>\n",
       "    .dataframe tbody tr th:only-of-type {\n",
       "        vertical-align: middle;\n",
       "    }\n",
       "\n",
       "    .dataframe tbody tr th {\n",
       "        vertical-align: top;\n",
       "    }\n",
       "\n",
       "    .dataframe thead th {\n",
       "        text-align: right;\n",
       "    }\n",
       "</style>\n",
       "<table border=\"1\" class=\"dataframe\">\n",
       "  <thead>\n",
       "    <tr style=\"text-align: right;\">\n",
       "      <th></th>\n",
       "      <th>age</th>\n",
       "      <th>education</th>\n",
       "      <th>occupation</th>\n",
       "      <th>sex</th>\n",
       "      <th>hours.per.week</th>\n",
       "      <th>income</th>\n",
       "    </tr>\n",
       "  </thead>\n",
       "  <tbody>\n",
       "    <tr>\n",
       "      <th>0</th>\n",
       "      <td>90</td>\n",
       "      <td>HS-grad</td>\n",
       "      <td>?</td>\n",
       "      <td>Female</td>\n",
       "      <td>40</td>\n",
       "      <td>&lt;=50K</td>\n",
       "    </tr>\n",
       "    <tr>\n",
       "      <th>1</th>\n",
       "      <td>82</td>\n",
       "      <td>HS-grad</td>\n",
       "      <td>Exec-managerial</td>\n",
       "      <td>Female</td>\n",
       "      <td>18</td>\n",
       "      <td>&lt;=50K</td>\n",
       "    </tr>\n",
       "    <tr>\n",
       "      <th>2</th>\n",
       "      <td>66</td>\n",
       "      <td>Some-college</td>\n",
       "      <td>?</td>\n",
       "      <td>Female</td>\n",
       "      <td>40</td>\n",
       "      <td>&lt;=50K</td>\n",
       "    </tr>\n",
       "    <tr>\n",
       "      <th>4</th>\n",
       "      <td>41</td>\n",
       "      <td>Some-college</td>\n",
       "      <td>Prof-specialty</td>\n",
       "      <td>Female</td>\n",
       "      <td>40</td>\n",
       "      <td>&lt;=50K</td>\n",
       "    </tr>\n",
       "    <tr>\n",
       "      <th>5</th>\n",
       "      <td>34</td>\n",
       "      <td>HS-grad</td>\n",
       "      <td>Other-service</td>\n",
       "      <td>Female</td>\n",
       "      <td>45</td>\n",
       "      <td>&lt;=50K</td>\n",
       "    </tr>\n",
       "  </tbody>\n",
       "</table>\n",
       "</div>"
      ],
      "text/plain": [
       "   age     education       occupation     sex  hours.per.week income\n",
       "0   90       HS-grad                ?  Female              40  <=50K\n",
       "1   82       HS-grad  Exec-managerial  Female              18  <=50K\n",
       "2   66  Some-college                ?  Female              40  <=50K\n",
       "4   41  Some-college   Prof-specialty  Female              40  <=50K\n",
       "5   34       HS-grad    Other-service  Female              45  <=50K"
      ]
     },
     "execution_count": 44,
     "metadata": {},
     "output_type": "execute_result"
    }
   ],
   "source": [
    "salary_df.head()"
   ]
  },
  {
   "cell_type": "code",
   "execution_count": 45,
   "id": "1a4ce94c",
   "metadata": {
    "cell_style": "split",
    "scrolled": true,
    "slideshow": {
     "slide_type": "slide"
    }
   },
   "outputs": [
    {
     "data": {
      "text/html": [
       "<div>\n",
       "<style scoped>\n",
       "    .dataframe tbody tr th:only-of-type {\n",
       "        vertical-align: middle;\n",
       "    }\n",
       "\n",
       "    .dataframe tbody tr th {\n",
       "        vertical-align: top;\n",
       "    }\n",
       "\n",
       "    .dataframe thead th {\n",
       "        text-align: right;\n",
       "    }\n",
       "</style>\n",
       "<table border=\"1\" class=\"dataframe\">\n",
       "  <thead>\n",
       "    <tr style=\"text-align: right;\">\n",
       "      <th></th>\n",
       "      <th>age</th>\n",
       "      <th>education</th>\n",
       "      <th>occupation</th>\n",
       "      <th>sex</th>\n",
       "      <th>hours.per.week</th>\n",
       "      <th>income</th>\n",
       "    </tr>\n",
       "  </thead>\n",
       "  <tbody>\n",
       "    <tr>\n",
       "      <th>0</th>\n",
       "      <td>90</td>\n",
       "      <td>HS-grad</td>\n",
       "      <td>NaN</td>\n",
       "      <td>Female</td>\n",
       "      <td>40</td>\n",
       "      <td>&lt;=50K</td>\n",
       "    </tr>\n",
       "    <tr>\n",
       "      <th>1</th>\n",
       "      <td>82</td>\n",
       "      <td>HS-grad</td>\n",
       "      <td>Exec-managerial</td>\n",
       "      <td>Female</td>\n",
       "      <td>18</td>\n",
       "      <td>&lt;=50K</td>\n",
       "    </tr>\n",
       "    <tr>\n",
       "      <th>2</th>\n",
       "      <td>66</td>\n",
       "      <td>Some-college</td>\n",
       "      <td>NaN</td>\n",
       "      <td>Female</td>\n",
       "      <td>40</td>\n",
       "      <td>&lt;=50K</td>\n",
       "    </tr>\n",
       "  </tbody>\n",
       "</table>\n",
       "</div>"
      ],
      "text/plain": [
       "   age     education       occupation     sex  hours.per.week income\n",
       "0   90       HS-grad              NaN  Female              40  <=50K\n",
       "1   82       HS-grad  Exec-managerial  Female              18  <=50K\n",
       "2   66  Some-college              NaN  Female              40  <=50K"
      ]
     },
     "execution_count": 45,
     "metadata": {},
     "output_type": "execute_result"
    }
   ],
   "source": [
    "# replace with NaNs\n",
    "salary_df = salary_df.replace({'?':np.nan})\n",
    "salary_df.head(3)"
   ]
  },
  {
   "cell_type": "code",
   "execution_count": 46,
   "id": "2bf8217e",
   "metadata": {
    "cell_style": "split",
    "slideshow": {
     "slide_type": "fragment"
    }
   },
   "outputs": [
    {
     "name": "stdout",
     "output_type": "stream",
     "text": [
      "<class 'pandas.core.frame.DataFrame'>\n",
      "Int64Index: 27249 entries, 0 to 32560\n",
      "Data columns (total 6 columns):\n",
      " #   Column          Non-Null Count  Dtype \n",
      "---  ------          --------------  ----- \n",
      " 0   age             27249 non-null  int64 \n",
      " 1   education       27249 non-null  object\n",
      " 2   occupation      25766 non-null  object\n",
      " 3   sex             27249 non-null  object\n",
      " 4   hours.per.week  27249 non-null  int64 \n",
      " 5   income          27249 non-null  object\n",
      "dtypes: int64(2), object(4)\n",
      "memory usage: 1.5+ MB\n"
     ]
    }
   ],
   "source": [
    "salary_df.info()"
   ]
  },
  {
   "cell_type": "code",
   "execution_count": 47,
   "id": "6c7984f4",
   "metadata": {
    "cell_style": "center",
    "slideshow": {
     "slide_type": "slide"
    }
   },
   "outputs": [],
   "source": [
    "from sklearn.preprocessing import LabelEncoder"
   ]
  },
  {
   "cell_type": "code",
   "execution_count": 48,
   "id": "06d71cae",
   "metadata": {
    "cell_style": "split",
    "slideshow": {
     "slide_type": "fragment"
    }
   },
   "outputs": [],
   "source": [
    "X_income = salary_df.drop(columns = [\"income\"])\n",
    "y_income = salary_df['income']"
   ]
  },
  {
   "cell_type": "code",
   "execution_count": 49,
   "id": "8c7b8737",
   "metadata": {
    "cell_style": "split",
    "slideshow": {
     "slide_type": "fragment"
    }
   },
   "outputs": [],
   "source": [
    "lab_enc = LabelEncoder()\n",
    "y_income = lab_enc.fit_transform(y_income)"
   ]
  },
  {
   "cell_type": "markdown",
   "id": "6c0da2a1",
   "metadata": {
    "slideshow": {
     "slide_type": "slide"
    }
   },
   "source": [
    "#### Before doing anything else"
   ]
  },
  {
   "cell_type": "code",
   "execution_count": 50,
   "id": "124f6847",
   "metadata": {
    "slideshow": {
     "slide_type": "fragment"
    }
   },
   "outputs": [],
   "source": [
    "X_inc_train, X_inc_test, y_inc_train, y_inc_test = train_test_split(X_income, y_income, test_size = 0.15)"
   ]
  },
  {
   "cell_type": "code",
   "execution_count": 51,
   "id": "259decca",
   "metadata": {
    "scrolled": true,
    "slideshow": {
     "slide_type": "fragment"
    }
   },
   "outputs": [],
   "source": [
    "from sklearn.pipeline import Pipeline\n",
    "from sklearn.impute import SimpleImputer\n",
    "from sklearn.preprocessing import LabelEncoder\n",
    "from sklearn.preprocessing import OrdinalEncoder\n",
    "from sklearn.preprocessing import OneHotEncoder\n",
    "from sklearn.preprocessing import StandardScaler\n",
    "from sklearn.preprocessing import MaxAbsScaler\n",
    "from sklearn.compose import ColumnTransformer"
   ]
  },
  {
   "cell_type": "markdown",
   "id": "6b9c68f6",
   "metadata": {
    "cell_style": "split",
    "slideshow": {
     "slide_type": "slide"
    }
   },
   "source": [
    "Create three separate transformation pipelines:\n",
    "- Ordinal Categorical\n",
    "- Nominal Categorical\n",
    "- Numeric "
   ]
  },
  {
   "cell_type": "code",
   "execution_count": 52,
   "id": "0eebc0ed",
   "metadata": {
    "cell_style": "split",
    "slideshow": {
     "slide_type": "fragment"
    }
   },
   "outputs": [
    {
     "data": {
      "text/html": [
       "<div>\n",
       "<style scoped>\n",
       "    .dataframe tbody tr th:only-of-type {\n",
       "        vertical-align: middle;\n",
       "    }\n",
       "\n",
       "    .dataframe tbody tr th {\n",
       "        vertical-align: top;\n",
       "    }\n",
       "\n",
       "    .dataframe thead th {\n",
       "        text-align: right;\n",
       "    }\n",
       "</style>\n",
       "<table border=\"1\" class=\"dataframe\">\n",
       "  <thead>\n",
       "    <tr style=\"text-align: right;\">\n",
       "      <th></th>\n",
       "      <th>age</th>\n",
       "      <th>education</th>\n",
       "      <th>occupation</th>\n",
       "      <th>sex</th>\n",
       "      <th>hours.per.week</th>\n",
       "    </tr>\n",
       "  </thead>\n",
       "  <tbody>\n",
       "    <tr>\n",
       "      <th>0</th>\n",
       "      <td>90</td>\n",
       "      <td>HS-grad</td>\n",
       "      <td>NaN</td>\n",
       "      <td>Female</td>\n",
       "      <td>40</td>\n",
       "    </tr>\n",
       "    <tr>\n",
       "      <th>1</th>\n",
       "      <td>82</td>\n",
       "      <td>HS-grad</td>\n",
       "      <td>Exec-managerial</td>\n",
       "      <td>Female</td>\n",
       "      <td>18</td>\n",
       "    </tr>\n",
       "    <tr>\n",
       "      <th>2</th>\n",
       "      <td>66</td>\n",
       "      <td>Some-college</td>\n",
       "      <td>NaN</td>\n",
       "      <td>Female</td>\n",
       "      <td>40</td>\n",
       "    </tr>\n",
       "    <tr>\n",
       "      <th>4</th>\n",
       "      <td>41</td>\n",
       "      <td>Some-college</td>\n",
       "      <td>Prof-specialty</td>\n",
       "      <td>Female</td>\n",
       "      <td>40</td>\n",
       "    </tr>\n",
       "    <tr>\n",
       "      <th>5</th>\n",
       "      <td>34</td>\n",
       "      <td>HS-grad</td>\n",
       "      <td>Other-service</td>\n",
       "      <td>Female</td>\n",
       "      <td>45</td>\n",
       "    </tr>\n",
       "  </tbody>\n",
       "</table>\n",
       "</div>"
      ],
      "text/plain": [
       "   age     education       occupation     sex  hours.per.week\n",
       "0   90       HS-grad              NaN  Female              40\n",
       "1   82       HS-grad  Exec-managerial  Female              18\n",
       "2   66  Some-college              NaN  Female              40\n",
       "4   41  Some-college   Prof-specialty  Female              40\n",
       "5   34       HS-grad    Other-service  Female              45"
      ]
     },
     "execution_count": 52,
     "metadata": {},
     "output_type": "execute_result"
    }
   ],
   "source": [
    "X_income.head()"
   ]
  },
  {
   "cell_type": "markdown",
   "id": "dda9d03d",
   "metadata": {
    "cell_style": "split",
    "slideshow": {
     "slide_type": "fragment"
    }
   },
   "source": [
    "What do we want to use for each column?"
   ]
  },
  {
   "cell_type": "markdown",
   "id": "056ac8a6",
   "metadata": {
    "slideshow": {
     "slide_type": "slide"
    }
   },
   "source": [
    "## First define the separate pipelines"
   ]
  },
  {
   "cell_type": "code",
   "execution_count": 53,
   "id": "21280d37",
   "metadata": {
    "slideshow": {
     "slide_type": "fragment"
    }
   },
   "outputs": [
    {
     "data": {
      "text/plain": [
       "['10th',\n",
       " '11th',\n",
       " 'HS-grad',\n",
       " 'Some-college',\n",
       " 'Assoc-acdm',\n",
       " 'Assoc-voc',\n",
       " 'Bachelors',\n",
       " 'Masters',\n",
       " 'Doctorate']"
      ]
     },
     "execution_count": 53,
     "metadata": {},
     "output_type": "execute_result"
    }
   ],
   "source": [
    "numeric_pipeline = Pipeline([('numimputer', SimpleImputer(strategy = 'mean')), ('numnorm', StandardScaler())])\n",
    "\n",
    "ordinal_pipeline = Pipeline([\n",
    "    ('ordimputer', SimpleImputer(strategy = 'most_frequent')),\n",
    "    ('ordenc', OrdinalEncoder(categories = [ed_list])),\n",
    "    ('ordnorm', StandardScaler())])\n",
    "\n",
    "nominal_pipeline = Pipeline([\n",
    "    ('onehotimputer', SimpleImputer(strategy = 'most_frequent')),\n",
    "    ('onehotenc', OneHotEncoder(sparse = False, drop = 'first')), \n",
    "    ('onehotnorm', MaxAbsScaler())])\n",
    "\n",
    "ed_list"
   ]
  },
  {
   "cell_type": "markdown",
   "id": "af1c2ae3",
   "metadata": {
    "slideshow": {
     "slide_type": "slide"
    }
   },
   "source": [
    "Now unite them with ColumnTransformer:\n",
    "- specify columns each pipeline acts on."
   ]
  },
  {
   "cell_type": "code",
   "execution_count": 54,
   "id": "1f081d24",
   "metadata": {
    "slideshow": {
     "slide_type": "fragment"
    }
   },
   "outputs": [
    {
     "data": {
      "text/plain": [
       "Index(['age', 'hours.per.week'], dtype='object')"
      ]
     },
     "execution_count": 54,
     "metadata": {},
     "output_type": "execute_result"
    }
   ],
   "source": [
    "num_cols = X_inc_train.select_dtypes(['int', 'float']).columns\n",
    "\n",
    "ct = ColumnTransformer(\n",
    "    [(\"ordinalpipe\", ordinal_pipeline, ['education']), \n",
    "     (\"nominalpipe\", nominal_pipeline, ['occupation','sex']),\n",
    "     (\"numpipe\", numeric_pipeline, num_cols)])\n",
    "\n",
    "num_cols"
   ]
  },
  {
   "cell_type": "markdown",
   "id": "12ae0a03",
   "metadata": {
    "slideshow": {
     "slide_type": "slide"
    }
   },
   "source": [
    "Viewing the transformed data:\n",
    "- In order specified by column transformer"
   ]
  },
  {
   "cell_type": "code",
   "execution_count": 55,
   "id": "3d58fc08",
   "metadata": {
    "cell_style": "center",
    "slideshow": {
     "slide_type": "fragment"
    }
   },
   "outputs": [
    {
     "data": {
      "text/html": [
       "<div>\n",
       "<style scoped>\n",
       "    .dataframe tbody tr th:only-of-type {\n",
       "        vertical-align: middle;\n",
       "    }\n",
       "\n",
       "    .dataframe tbody tr th {\n",
       "        vertical-align: top;\n",
       "    }\n",
       "\n",
       "    .dataframe thead th {\n",
       "        text-align: right;\n",
       "    }\n",
       "</style>\n",
       "<table border=\"1\" class=\"dataframe\">\n",
       "  <thead>\n",
       "    <tr style=\"text-align: right;\">\n",
       "      <th></th>\n",
       "      <th>0</th>\n",
       "      <th>1</th>\n",
       "      <th>2</th>\n",
       "      <th>3</th>\n",
       "      <th>4</th>\n",
       "      <th>5</th>\n",
       "      <th>6</th>\n",
       "      <th>7</th>\n",
       "      <th>8</th>\n",
       "      <th>9</th>\n",
       "      <th>10</th>\n",
       "      <th>11</th>\n",
       "      <th>12</th>\n",
       "      <th>13</th>\n",
       "      <th>14</th>\n",
       "      <th>15</th>\n",
       "      <th>16</th>\n",
       "    </tr>\n",
       "  </thead>\n",
       "  <tbody>\n",
       "    <tr>\n",
       "      <th>0</th>\n",
       "      <td>-0.215995</td>\n",
       "      <td>0.0</td>\n",
       "      <td>0.0</td>\n",
       "      <td>0.0</td>\n",
       "      <td>0.0</td>\n",
       "      <td>0.0</td>\n",
       "      <td>0.0</td>\n",
       "      <td>0.0</td>\n",
       "      <td>0.0</td>\n",
       "      <td>0.0</td>\n",
       "      <td>0.0</td>\n",
       "      <td>0.0</td>\n",
       "      <td>0.0</td>\n",
       "      <td>0.0</td>\n",
       "      <td>0.0</td>\n",
       "      <td>-1.357874</td>\n",
       "      <td>-0.450653</td>\n",
       "    </tr>\n",
       "    <tr>\n",
       "      <th>1</th>\n",
       "      <td>-0.741375</td>\n",
       "      <td>0.0</td>\n",
       "      <td>0.0</td>\n",
       "      <td>1.0</td>\n",
       "      <td>0.0</td>\n",
       "      <td>0.0</td>\n",
       "      <td>0.0</td>\n",
       "      <td>0.0</td>\n",
       "      <td>0.0</td>\n",
       "      <td>0.0</td>\n",
       "      <td>0.0</td>\n",
       "      <td>0.0</td>\n",
       "      <td>0.0</td>\n",
       "      <td>0.0</td>\n",
       "      <td>1.0</td>\n",
       "      <td>0.207575</td>\n",
       "      <td>-0.041849</td>\n",
       "    </tr>\n",
       "    <tr>\n",
       "      <th>2</th>\n",
       "      <td>1.885525</td>\n",
       "      <td>0.0</td>\n",
       "      <td>0.0</td>\n",
       "      <td>0.0</td>\n",
       "      <td>0.0</td>\n",
       "      <td>0.0</td>\n",
       "      <td>0.0</td>\n",
       "      <td>0.0</td>\n",
       "      <td>0.0</td>\n",
       "      <td>1.0</td>\n",
       "      <td>0.0</td>\n",
       "      <td>0.0</td>\n",
       "      <td>0.0</td>\n",
       "      <td>0.0</td>\n",
       "      <td>0.0</td>\n",
       "      <td>0.356665</td>\n",
       "      <td>-0.041849</td>\n",
       "    </tr>\n",
       "    <tr>\n",
       "      <th>3</th>\n",
       "      <td>-0.215995</td>\n",
       "      <td>0.0</td>\n",
       "      <td>0.0</td>\n",
       "      <td>0.0</td>\n",
       "      <td>0.0</td>\n",
       "      <td>0.0</td>\n",
       "      <td>0.0</td>\n",
       "      <td>0.0</td>\n",
       "      <td>0.0</td>\n",
       "      <td>0.0</td>\n",
       "      <td>0.0</td>\n",
       "      <td>1.0</td>\n",
       "      <td>0.0</td>\n",
       "      <td>0.0</td>\n",
       "      <td>1.0</td>\n",
       "      <td>0.133030</td>\n",
       "      <td>1.593365</td>\n",
       "    </tr>\n",
       "    <tr>\n",
       "      <th>4</th>\n",
       "      <td>1.885525</td>\n",
       "      <td>0.0</td>\n",
       "      <td>0.0</td>\n",
       "      <td>0.0</td>\n",
       "      <td>0.0</td>\n",
       "      <td>0.0</td>\n",
       "      <td>0.0</td>\n",
       "      <td>0.0</td>\n",
       "      <td>0.0</td>\n",
       "      <td>1.0</td>\n",
       "      <td>0.0</td>\n",
       "      <td>0.0</td>\n",
       "      <td>0.0</td>\n",
       "      <td>0.0</td>\n",
       "      <td>0.0</td>\n",
       "      <td>0.207575</td>\n",
       "      <td>-0.368892</td>\n",
       "    </tr>\n",
       "  </tbody>\n",
       "</table>\n",
       "</div>"
      ],
      "text/plain": [
       "         0    1    2    3    4    5    6    7    8    9    10   11   12   13  \\\n",
       "0 -0.215995  0.0  0.0  0.0  0.0  0.0  0.0  0.0  0.0  0.0  0.0  0.0  0.0  0.0   \n",
       "1 -0.741375  0.0  0.0  1.0  0.0  0.0  0.0  0.0  0.0  0.0  0.0  0.0  0.0  0.0   \n",
       "2  1.885525  0.0  0.0  0.0  0.0  0.0  0.0  0.0  0.0  1.0  0.0  0.0  0.0  0.0   \n",
       "3 -0.215995  0.0  0.0  0.0  0.0  0.0  0.0  0.0  0.0  0.0  0.0  1.0  0.0  0.0   \n",
       "4  1.885525  0.0  0.0  0.0  0.0  0.0  0.0  0.0  0.0  1.0  0.0  0.0  0.0  0.0   \n",
       "\n",
       "    14        15        16  \n",
       "0  0.0 -1.357874 -0.450653  \n",
       "1  1.0  0.207575 -0.041849  \n",
       "2  0.0  0.356665 -0.041849  \n",
       "3  1.0  0.133030  1.593365  \n",
       "4  0.0  0.207575 -0.368892  "
      ]
     },
     "execution_count": 55,
     "metadata": {},
     "output_type": "execute_result"
    }
   ],
   "source": [
    "pd.DataFrame(ct.fit_transform(X_inc_train)).head()"
   ]
  },
  {
   "cell_type": "markdown",
   "id": "75312c35",
   "metadata": {
    "slideshow": {
     "slide_type": "slide"
    }
   },
   "source": [
    "Let's view what our preprocessing pipeline does:"
   ]
  },
  {
   "cell_type": "code",
   "execution_count": 56,
   "id": "94462cda",
   "metadata": {
    "cell_style": "center",
    "slideshow": {
     "slide_type": "fragment"
    }
   },
   "outputs": [
    {
     "data": {
      "text/html": [
       "<style>div.sk-top-container {color: black;background-color: white;}div.sk-toggleable {background-color: white;}label.sk-toggleable__label {cursor: pointer;display: block;width: 100%;margin-bottom: 0;padding: 0.2em 0.3em;box-sizing: border-box;text-align: center;}div.sk-toggleable__content {max-height: 0;max-width: 0;overflow: hidden;text-align: left;background-color: #f0f8ff;}div.sk-toggleable__content pre {margin: 0.2em;color: black;border-radius: 0.25em;background-color: #f0f8ff;}input.sk-toggleable__control:checked~div.sk-toggleable__content {max-height: 200px;max-width: 100%;overflow: auto;}div.sk-estimator input.sk-toggleable__control:checked~label.sk-toggleable__label {background-color: #d4ebff;}div.sk-label input.sk-toggleable__control:checked~label.sk-toggleable__label {background-color: #d4ebff;}input.sk-hidden--visually {border: 0;clip: rect(1px 1px 1px 1px);clip: rect(1px, 1px, 1px, 1px);height: 1px;margin: -1px;overflow: hidden;padding: 0;position: absolute;width: 1px;}div.sk-estimator {font-family: monospace;background-color: #f0f8ff;margin: 0.25em 0.25em;border: 1px dotted black;border-radius: 0.25em;box-sizing: border-box;}div.sk-estimator:hover {background-color: #d4ebff;}div.sk-parallel-item::after {content: \"\";width: 100%;border-bottom: 1px solid gray;flex-grow: 1;}div.sk-label:hover label.sk-toggleable__label {background-color: #d4ebff;}div.sk-serial::before {content: \"\";position: absolute;border-left: 1px solid gray;box-sizing: border-box;top: 2em;bottom: 0;left: 50%;}div.sk-serial {display: flex;flex-direction: column;align-items: center;background-color: white;}div.sk-item {z-index: 1;}div.sk-parallel {display: flex;align-items: stretch;justify-content: center;background-color: white;}div.sk-parallel-item {display: flex;flex-direction: column;position: relative;background-color: white;}div.sk-parallel-item:first-child::after {align-self: flex-end;width: 50%;}div.sk-parallel-item:last-child::after {align-self: flex-start;width: 50%;}div.sk-parallel-item:only-child::after {width: 0;}div.sk-dashed-wrapped {border: 1px dashed gray;margin: 0.2em;box-sizing: border-box;padding-bottom: 0.1em;background-color: white;position: relative;}div.sk-label label {font-family: monospace;font-weight: bold;background-color: white;display: inline-block;line-height: 1.2em;}div.sk-label-container {position: relative;z-index: 2;text-align: center;}div.sk-container {display: inline-block;position: relative;}</style><div class=\"sk-top-container\"><div class=\"sk-container\"><div class=\"sk-item sk-dashed-wrapped\"><div class=\"sk-label-container\"><div class=\"sk-label sk-toggleable\"><input class=\"sk-toggleable__control sk-hidden--visually\" id=\"720d915b-9641-4981-a813-963f66e04164\" type=\"checkbox\" ><label class=\"sk-toggleable__label\" for=\"720d915b-9641-4981-a813-963f66e04164\">ColumnTransformer</label><div class=\"sk-toggleable__content\"><pre>ColumnTransformer(transformers=[('ordinalpipe',\n",
       "                                 Pipeline(steps=[('ordimputer',\n",
       "                                                  SimpleImputer(strategy='most_frequent')),\n",
       "                                                 ('ordenc',\n",
       "                                                  OrdinalEncoder(categories=[['10th',\n",
       "                                                                              '11th',\n",
       "                                                                              'HS-grad',\n",
       "                                                                              'Some-college',\n",
       "                                                                              'Assoc-acdm',\n",
       "                                                                              'Assoc-voc',\n",
       "                                                                              'Bachelors',\n",
       "                                                                              'Masters',\n",
       "                                                                              'Doctorate']])),\n",
       "                                                 ('ordnorm',\n",
       "                                                  StandardScaler())]),\n",
       "                                 ['education']),\n",
       "                                ('nominalpipe',\n",
       "                                 Pipeline(steps=[('onehotimputer',\n",
       "                                                  SimpleImputer(strategy='most_frequent')),\n",
       "                                                 ('onehotenc',\n",
       "                                                  OneHotEncoder(drop='first',\n",
       "                                                                sparse=False)),\n",
       "                                                 ('onehotnorm',\n",
       "                                                  MaxAbsScaler())]),\n",
       "                                 ['occupation', 'sex']),\n",
       "                                ('numpipe',\n",
       "                                 Pipeline(steps=[('numimputer',\n",
       "                                                  SimpleImputer()),\n",
       "                                                 ('numnorm',\n",
       "                                                  StandardScaler())]),\n",
       "                                 Index(['age', 'hours.per.week'], dtype='object'))])</pre></div></div></div><div class=\"sk-parallel\"><div class=\"sk-parallel-item\"><div class=\"sk-item\"><div class=\"sk-label-container\"><div class=\"sk-label sk-toggleable\"><input class=\"sk-toggleable__control sk-hidden--visually\" id=\"ea034c02-c48a-49a4-a44f-409d965aecd4\" type=\"checkbox\" ><label class=\"sk-toggleable__label\" for=\"ea034c02-c48a-49a4-a44f-409d965aecd4\">ordinalpipe</label><div class=\"sk-toggleable__content\"><pre>['education']</pre></div></div></div><div class=\"sk-serial\"><div class=\"sk-item\"><div class=\"sk-serial\"><div class=\"sk-item\"><div class=\"sk-estimator sk-toggleable\"><input class=\"sk-toggleable__control sk-hidden--visually\" id=\"4abf424f-dbb2-45f9-8c3b-29bfdce3d82f\" type=\"checkbox\" ><label class=\"sk-toggleable__label\" for=\"4abf424f-dbb2-45f9-8c3b-29bfdce3d82f\">SimpleImputer</label><div class=\"sk-toggleable__content\"><pre>SimpleImputer(strategy='most_frequent')</pre></div></div></div><div class=\"sk-item\"><div class=\"sk-estimator sk-toggleable\"><input class=\"sk-toggleable__control sk-hidden--visually\" id=\"870ed738-5691-4141-87c4-c765f3885a26\" type=\"checkbox\" ><label class=\"sk-toggleable__label\" for=\"870ed738-5691-4141-87c4-c765f3885a26\">OrdinalEncoder</label><div class=\"sk-toggleable__content\"><pre>OrdinalEncoder(categories=[['10th', '11th', 'HS-grad', 'Some-college',\n",
       "                            'Assoc-acdm', 'Assoc-voc', 'Bachelors', 'Masters',\n",
       "                            'Doctorate']])</pre></div></div></div><div class=\"sk-item\"><div class=\"sk-estimator sk-toggleable\"><input class=\"sk-toggleable__control sk-hidden--visually\" id=\"262305fe-80d9-43de-bfb6-9fd01911fe77\" type=\"checkbox\" ><label class=\"sk-toggleable__label\" for=\"262305fe-80d9-43de-bfb6-9fd01911fe77\">StandardScaler</label><div class=\"sk-toggleable__content\"><pre>StandardScaler()</pre></div></div></div></div></div></div></div></div><div class=\"sk-parallel-item\"><div class=\"sk-item\"><div class=\"sk-label-container\"><div class=\"sk-label sk-toggleable\"><input class=\"sk-toggleable__control sk-hidden--visually\" id=\"71842a8a-977c-495c-91e8-3827c2824dca\" type=\"checkbox\" ><label class=\"sk-toggleable__label\" for=\"71842a8a-977c-495c-91e8-3827c2824dca\">nominalpipe</label><div class=\"sk-toggleable__content\"><pre>['occupation', 'sex']</pre></div></div></div><div class=\"sk-serial\"><div class=\"sk-item\"><div class=\"sk-serial\"><div class=\"sk-item\"><div class=\"sk-estimator sk-toggleable\"><input class=\"sk-toggleable__control sk-hidden--visually\" id=\"cb19c60f-a326-42f2-b85c-e945bd7e125f\" type=\"checkbox\" ><label class=\"sk-toggleable__label\" for=\"cb19c60f-a326-42f2-b85c-e945bd7e125f\">SimpleImputer</label><div class=\"sk-toggleable__content\"><pre>SimpleImputer(strategy='most_frequent')</pre></div></div></div><div class=\"sk-item\"><div class=\"sk-estimator sk-toggleable\"><input class=\"sk-toggleable__control sk-hidden--visually\" id=\"4a400a2a-23f9-427c-bdb1-97eefda856b2\" type=\"checkbox\" ><label class=\"sk-toggleable__label\" for=\"4a400a2a-23f9-427c-bdb1-97eefda856b2\">OneHotEncoder</label><div class=\"sk-toggleable__content\"><pre>OneHotEncoder(drop='first', sparse=False)</pre></div></div></div><div class=\"sk-item\"><div class=\"sk-estimator sk-toggleable\"><input class=\"sk-toggleable__control sk-hidden--visually\" id=\"fcb8f39a-bb66-4e6e-9c4b-13195a3fade5\" type=\"checkbox\" ><label class=\"sk-toggleable__label\" for=\"fcb8f39a-bb66-4e6e-9c4b-13195a3fade5\">MaxAbsScaler</label><div class=\"sk-toggleable__content\"><pre>MaxAbsScaler()</pre></div></div></div></div></div></div></div></div><div class=\"sk-parallel-item\"><div class=\"sk-item\"><div class=\"sk-label-container\"><div class=\"sk-label sk-toggleable\"><input class=\"sk-toggleable__control sk-hidden--visually\" id=\"3bd70be1-b345-4567-881c-9c20501e79c5\" type=\"checkbox\" ><label class=\"sk-toggleable__label\" for=\"3bd70be1-b345-4567-881c-9c20501e79c5\">numpipe</label><div class=\"sk-toggleable__content\"><pre>Index(['age', 'hours.per.week'], dtype='object')</pre></div></div></div><div class=\"sk-serial\"><div class=\"sk-item\"><div class=\"sk-serial\"><div class=\"sk-item\"><div class=\"sk-estimator sk-toggleable\"><input class=\"sk-toggleable__control sk-hidden--visually\" id=\"094a4c66-ef00-49a5-89a2-1ffaf3a4d69f\" type=\"checkbox\" ><label class=\"sk-toggleable__label\" for=\"094a4c66-ef00-49a5-89a2-1ffaf3a4d69f\">SimpleImputer</label><div class=\"sk-toggleable__content\"><pre>SimpleImputer()</pre></div></div></div><div class=\"sk-item\"><div class=\"sk-estimator sk-toggleable\"><input class=\"sk-toggleable__control sk-hidden--visually\" id=\"7696574e-441f-444c-a17f-a616e2018664\" type=\"checkbox\" ><label class=\"sk-toggleable__label\" for=\"7696574e-441f-444c-a17f-a616e2018664\">StandardScaler</label><div class=\"sk-toggleable__content\"><pre>StandardScaler()</pre></div></div></div></div></div></div></div></div></div></div></div></div>"
      ],
      "text/plain": [
       "ColumnTransformer(transformers=[('ordinalpipe',\n",
       "                                 Pipeline(steps=[('ordimputer',\n",
       "                                                  SimpleImputer(strategy='most_frequent')),\n",
       "                                                 ('ordenc',\n",
       "                                                  OrdinalEncoder(categories=[['10th',\n",
       "                                                                              '11th',\n",
       "                                                                              'HS-grad',\n",
       "                                                                              'Some-college',\n",
       "                                                                              'Assoc-acdm',\n",
       "                                                                              'Assoc-voc',\n",
       "                                                                              'Bachelors',\n",
       "                                                                              'Masters',\n",
       "                                                                              'Doctorate']])),\n",
       "                                                 ('ordnorm',\n",
       "                                                  StandardScaler())]),\n",
       "                                 ['education']),\n",
       "                                ('nominalpipe',\n",
       "                                 Pipeline(steps=[('onehotimputer',\n",
       "                                                  SimpleImputer(strategy='most_frequent')),\n",
       "                                                 ('onehotenc',\n",
       "                                                  OneHotEncoder(drop='first',\n",
       "                                                                sparse=False)),\n",
       "                                                 ('onehotnorm',\n",
       "                                                  MaxAbsScaler())]),\n",
       "                                 ['occupation', 'sex']),\n",
       "                                ('numpipe',\n",
       "                                 Pipeline(steps=[('numimputer',\n",
       "                                                  SimpleImputer()),\n",
       "                                                 ('numnorm',\n",
       "                                                  StandardScaler())]),\n",
       "                                 Index(['age', 'hours.per.week'], dtype='object'))])"
      ]
     },
     "execution_count": 56,
     "metadata": {},
     "output_type": "execute_result"
    }
   ],
   "source": [
    "ct"
   ]
  },
  {
   "cell_type": "markdown",
   "id": "fe587f09",
   "metadata": {
    "cell_style": "split",
    "slideshow": {
     "slide_type": "fragment"
    }
   },
   "source": [
    "Takes specified columns:\n",
    "- Applies ordinal pipeline to first set\n",
    "- Nominal pipeline to second subset\n",
    "- Numeric pipeline to last set\n",
    "\n",
    "Joins result *in column transform order* at the end."
   ]
  },
  {
   "cell_type": "markdown",
   "id": "7a5d92f1",
   "metadata": {
    "cell_style": "split",
    "slideshow": {
     "slide_type": "slide"
    }
   },
   "source": [
    "Column transformer: access/change individual steps in branches\n",
    "- .named_transformers_ attribute as dictionary of transformers"
   ]
  },
  {
   "cell_type": "code",
   "execution_count": 57,
   "id": "717900e9",
   "metadata": {
    "cell_style": "center",
    "slideshow": {
     "slide_type": "fragment"
    }
   },
   "outputs": [
    {
     "data": {
      "text/plain": [
       "{'ordinalpipe': Pipeline(steps=[('ordimputer', SimpleImputer(strategy='most_frequent')),\n",
       "                 ('ordenc',\n",
       "                  OrdinalEncoder(categories=[['10th', '11th', 'HS-grad',\n",
       "                                              'Some-college', 'Assoc-acdm',\n",
       "                                              'Assoc-voc', 'Bachelors',\n",
       "                                              'Masters', 'Doctorate']])),\n",
       "                 ('ordnorm', StandardScaler())]),\n",
       " 'nominalpipe': Pipeline(steps=[('onehotimputer', SimpleImputer(strategy='most_frequent')),\n",
       "                 ('onehotenc', OneHotEncoder(drop='first', sparse=False)),\n",
       "                 ('onehotnorm', MaxAbsScaler())]),\n",
       " 'numpipe': Pipeline(steps=[('numimputer', SimpleImputer()), ('numnorm', StandardScaler())])}"
      ]
     },
     "execution_count": 57,
     "metadata": {},
     "output_type": "execute_result"
    }
   ],
   "source": [
    "ct.named_transformers_"
   ]
  },
  {
   "cell_type": "code",
   "execution_count": 58,
   "id": "b4fa49be",
   "metadata": {
    "cell_style": "split",
    "slideshow": {
     "slide_type": "slide"
    }
   },
   "outputs": [
    {
     "data": {
      "text/html": [
       "<style>div.sk-top-container {color: black;background-color: white;}div.sk-toggleable {background-color: white;}label.sk-toggleable__label {cursor: pointer;display: block;width: 100%;margin-bottom: 0;padding: 0.2em 0.3em;box-sizing: border-box;text-align: center;}div.sk-toggleable__content {max-height: 0;max-width: 0;overflow: hidden;text-align: left;background-color: #f0f8ff;}div.sk-toggleable__content pre {margin: 0.2em;color: black;border-radius: 0.25em;background-color: #f0f8ff;}input.sk-toggleable__control:checked~div.sk-toggleable__content {max-height: 200px;max-width: 100%;overflow: auto;}div.sk-estimator input.sk-toggleable__control:checked~label.sk-toggleable__label {background-color: #d4ebff;}div.sk-label input.sk-toggleable__control:checked~label.sk-toggleable__label {background-color: #d4ebff;}input.sk-hidden--visually {border: 0;clip: rect(1px 1px 1px 1px);clip: rect(1px, 1px, 1px, 1px);height: 1px;margin: -1px;overflow: hidden;padding: 0;position: absolute;width: 1px;}div.sk-estimator {font-family: monospace;background-color: #f0f8ff;margin: 0.25em 0.25em;border: 1px dotted black;border-radius: 0.25em;box-sizing: border-box;}div.sk-estimator:hover {background-color: #d4ebff;}div.sk-parallel-item::after {content: \"\";width: 100%;border-bottom: 1px solid gray;flex-grow: 1;}div.sk-label:hover label.sk-toggleable__label {background-color: #d4ebff;}div.sk-serial::before {content: \"\";position: absolute;border-left: 1px solid gray;box-sizing: border-box;top: 2em;bottom: 0;left: 50%;}div.sk-serial {display: flex;flex-direction: column;align-items: center;background-color: white;}div.sk-item {z-index: 1;}div.sk-parallel {display: flex;align-items: stretch;justify-content: center;background-color: white;}div.sk-parallel-item {display: flex;flex-direction: column;position: relative;background-color: white;}div.sk-parallel-item:first-child::after {align-self: flex-end;width: 50%;}div.sk-parallel-item:last-child::after {align-self: flex-start;width: 50%;}div.sk-parallel-item:only-child::after {width: 0;}div.sk-dashed-wrapped {border: 1px dashed gray;margin: 0.2em;box-sizing: border-box;padding-bottom: 0.1em;background-color: white;position: relative;}div.sk-label label {font-family: monospace;font-weight: bold;background-color: white;display: inline-block;line-height: 1.2em;}div.sk-label-container {position: relative;z-index: 2;text-align: center;}div.sk-container {display: inline-block;position: relative;}</style><div class=\"sk-top-container\"><div class=\"sk-container\"><div class=\"sk-item sk-dashed-wrapped\"><div class=\"sk-label-container\"><div class=\"sk-label sk-toggleable\"><input class=\"sk-toggleable__control sk-hidden--visually\" id=\"8aab99f5-47e8-4fb7-8430-dba977ba88c3\" type=\"checkbox\" ><label class=\"sk-toggleable__label\" for=\"8aab99f5-47e8-4fb7-8430-dba977ba88c3\">Pipeline</label><div class=\"sk-toggleable__content\"><pre>Pipeline(steps=[('ordimputer', SimpleImputer(strategy='most_frequent')),\n",
       "                ('ordenc',\n",
       "                 OrdinalEncoder(categories=[['10th', '11th', 'HS-grad',\n",
       "                                             'Some-college', 'Assoc-acdm',\n",
       "                                             'Assoc-voc', 'Bachelors',\n",
       "                                             'Masters', 'Doctorate']])),\n",
       "                ('ordnorm', StandardScaler())])</pre></div></div></div><div class=\"sk-serial\"><div class=\"sk-item\"><div class=\"sk-estimator sk-toggleable\"><input class=\"sk-toggleable__control sk-hidden--visually\" id=\"337dd2e9-862d-4962-9f1d-8f2de6a823cc\" type=\"checkbox\" ><label class=\"sk-toggleable__label\" for=\"337dd2e9-862d-4962-9f1d-8f2de6a823cc\">SimpleImputer</label><div class=\"sk-toggleable__content\"><pre>SimpleImputer(strategy='most_frequent')</pre></div></div></div><div class=\"sk-item\"><div class=\"sk-estimator sk-toggleable\"><input class=\"sk-toggleable__control sk-hidden--visually\" id=\"2fcfed94-bafb-4e2f-a0ab-1da4a6571cea\" type=\"checkbox\" ><label class=\"sk-toggleable__label\" for=\"2fcfed94-bafb-4e2f-a0ab-1da4a6571cea\">OrdinalEncoder</label><div class=\"sk-toggleable__content\"><pre>OrdinalEncoder(categories=[['10th', '11th', 'HS-grad', 'Some-college',\n",
       "                            'Assoc-acdm', 'Assoc-voc', 'Bachelors', 'Masters',\n",
       "                            'Doctorate']])</pre></div></div></div><div class=\"sk-item\"><div class=\"sk-estimator sk-toggleable\"><input class=\"sk-toggleable__control sk-hidden--visually\" id=\"862843bc-27bd-4f15-9db6-fc9dfaa84c6e\" type=\"checkbox\" ><label class=\"sk-toggleable__label\" for=\"862843bc-27bd-4f15-9db6-fc9dfaa84c6e\">StandardScaler</label><div class=\"sk-toggleable__content\"><pre>StandardScaler()</pre></div></div></div></div></div></div></div>"
      ],
      "text/plain": [
       "Pipeline(steps=[('ordimputer', SimpleImputer(strategy='most_frequent')),\n",
       "                ('ordenc',\n",
       "                 OrdinalEncoder(categories=[['10th', '11th', 'HS-grad',\n",
       "                                             'Some-college', 'Assoc-acdm',\n",
       "                                             'Assoc-voc', 'Bachelors',\n",
       "                                             'Masters', 'Doctorate']])),\n",
       "                ('ordnorm', StandardScaler())])"
      ]
     },
     "execution_count": 58,
     "metadata": {},
     "output_type": "execute_result"
    }
   ],
   "source": [
    "ct.named_transformers_['ordinalpipe']"
   ]
  },
  {
   "cell_type": "code",
   "execution_count": 59,
   "id": "1cf8e8b7",
   "metadata": {
    "cell_style": "split",
    "slideshow": {
     "slide_type": "fragment"
    }
   },
   "outputs": [
    {
     "data": {
      "text/html": [
       "<style>div.sk-top-container {color: black;background-color: white;}div.sk-toggleable {background-color: white;}label.sk-toggleable__label {cursor: pointer;display: block;width: 100%;margin-bottom: 0;padding: 0.2em 0.3em;box-sizing: border-box;text-align: center;}div.sk-toggleable__content {max-height: 0;max-width: 0;overflow: hidden;text-align: left;background-color: #f0f8ff;}div.sk-toggleable__content pre {margin: 0.2em;color: black;border-radius: 0.25em;background-color: #f0f8ff;}input.sk-toggleable__control:checked~div.sk-toggleable__content {max-height: 200px;max-width: 100%;overflow: auto;}div.sk-estimator input.sk-toggleable__control:checked~label.sk-toggleable__label {background-color: #d4ebff;}div.sk-label input.sk-toggleable__control:checked~label.sk-toggleable__label {background-color: #d4ebff;}input.sk-hidden--visually {border: 0;clip: rect(1px 1px 1px 1px);clip: rect(1px, 1px, 1px, 1px);height: 1px;margin: -1px;overflow: hidden;padding: 0;position: absolute;width: 1px;}div.sk-estimator {font-family: monospace;background-color: #f0f8ff;margin: 0.25em 0.25em;border: 1px dotted black;border-radius: 0.25em;box-sizing: border-box;}div.sk-estimator:hover {background-color: #d4ebff;}div.sk-parallel-item::after {content: \"\";width: 100%;border-bottom: 1px solid gray;flex-grow: 1;}div.sk-label:hover label.sk-toggleable__label {background-color: #d4ebff;}div.sk-serial::before {content: \"\";position: absolute;border-left: 1px solid gray;box-sizing: border-box;top: 2em;bottom: 0;left: 50%;}div.sk-serial {display: flex;flex-direction: column;align-items: center;background-color: white;}div.sk-item {z-index: 1;}div.sk-parallel {display: flex;align-items: stretch;justify-content: center;background-color: white;}div.sk-parallel-item {display: flex;flex-direction: column;position: relative;background-color: white;}div.sk-parallel-item:first-child::after {align-self: flex-end;width: 50%;}div.sk-parallel-item:last-child::after {align-self: flex-start;width: 50%;}div.sk-parallel-item:only-child::after {width: 0;}div.sk-dashed-wrapped {border: 1px dashed gray;margin: 0.2em;box-sizing: border-box;padding-bottom: 0.1em;background-color: white;position: relative;}div.sk-label label {font-family: monospace;font-weight: bold;background-color: white;display: inline-block;line-height: 1.2em;}div.sk-label-container {position: relative;z-index: 2;text-align: center;}div.sk-container {display: inline-block;position: relative;}</style><div class=\"sk-top-container\"><div class=\"sk-container\"><div class=\"sk-item sk-dashed-wrapped\"><div class=\"sk-label-container\"><div class=\"sk-label sk-toggleable\"><input class=\"sk-toggleable__control sk-hidden--visually\" id=\"d45fac3a-92cd-4a3f-a2bd-d4e13a2f2a8f\" type=\"checkbox\" ><label class=\"sk-toggleable__label\" for=\"d45fac3a-92cd-4a3f-a2bd-d4e13a2f2a8f\">Pipeline</label><div class=\"sk-toggleable__content\"><pre>Pipeline(steps=[('onehotimputer', SimpleImputer(strategy='most_frequent')),\n",
       "                ('onehotenc', OneHotEncoder(drop='first', sparse=False)),\n",
       "                ('onehotnorm', MaxAbsScaler())])</pre></div></div></div><div class=\"sk-serial\"><div class=\"sk-item\"><div class=\"sk-estimator sk-toggleable\"><input class=\"sk-toggleable__control sk-hidden--visually\" id=\"e1cbb3bd-b3c4-4618-9b49-a03a5a9978f9\" type=\"checkbox\" ><label class=\"sk-toggleable__label\" for=\"e1cbb3bd-b3c4-4618-9b49-a03a5a9978f9\">SimpleImputer</label><div class=\"sk-toggleable__content\"><pre>SimpleImputer(strategy='most_frequent')</pre></div></div></div><div class=\"sk-item\"><div class=\"sk-estimator sk-toggleable\"><input class=\"sk-toggleable__control sk-hidden--visually\" id=\"70602434-698f-4572-88dd-b03257f3cab7\" type=\"checkbox\" ><label class=\"sk-toggleable__label\" for=\"70602434-698f-4572-88dd-b03257f3cab7\">OneHotEncoder</label><div class=\"sk-toggleable__content\"><pre>OneHotEncoder(drop='first', sparse=False)</pre></div></div></div><div class=\"sk-item\"><div class=\"sk-estimator sk-toggleable\"><input class=\"sk-toggleable__control sk-hidden--visually\" id=\"e32f1118-294d-4ffd-aebc-f5b3875d2a59\" type=\"checkbox\" ><label class=\"sk-toggleable__label\" for=\"e32f1118-294d-4ffd-aebc-f5b3875d2a59\">MaxAbsScaler</label><div class=\"sk-toggleable__content\"><pre>MaxAbsScaler()</pre></div></div></div></div></div></div></div>"
      ],
      "text/plain": [
       "Pipeline(steps=[('onehotimputer', SimpleImputer(strategy='most_frequent')),\n",
       "                ('onehotenc', OneHotEncoder(drop='first', sparse=False)),\n",
       "                ('onehotnorm', MaxAbsScaler())])"
      ]
     },
     "execution_count": 59,
     "metadata": {},
     "output_type": "execute_result"
    }
   ],
   "source": [
    "ct.named_transformers_['nominalpipe']"
   ]
  },
  {
   "cell_type": "code",
   "execution_count": 60,
   "id": "4b68fa35",
   "metadata": {
    "cell_style": "split",
    "slideshow": {
     "slide_type": "slide"
    }
   },
   "outputs": [
    {
     "data": {
      "text/plain": [
       "('onehotnorm', MaxAbsScaler())"
      ]
     },
     "execution_count": 60,
     "metadata": {},
     "output_type": "execute_result"
    }
   ],
   "source": [
    "ct.named_transformers_['nominalpipe'].steps.pop(-1)\n"
   ]
  },
  {
   "cell_type": "code",
   "execution_count": 61,
   "id": "a36a7a57",
   "metadata": {
    "cell_style": "split",
    "slideshow": {
     "slide_type": "fragment"
    }
   },
   "outputs": [],
   "source": [
    "ct.named_transformers_['nominalpipe'].steps.append([\n",
    "    ('onehotnorm', StandardScaler())\n",
    "])"
   ]
  },
  {
   "cell_type": "markdown",
   "id": "d6af1c4b",
   "metadata": {},
   "source": [
    "# ALWAYS CHECK DIAGRAM TO MAKE SURE SWITCH WAS MADE"
   ]
  },
  {
   "cell_type": "code",
   "execution_count": 62,
   "id": "60fb7de6",
   "metadata": {
    "cell_style": "center",
    "slideshow": {
     "slide_type": "slide"
    }
   },
   "outputs": [
    {
     "data": {
      "text/plain": [
       "{'ordinalpipe': Pipeline(steps=[('ordimputer', SimpleImputer(strategy='most_frequent')),\n",
       "                 ('ordenc',\n",
       "                  OrdinalEncoder(categories=[['10th', '11th', 'HS-grad',\n",
       "                                              'Some-college', 'Assoc-acdm',\n",
       "                                              'Assoc-voc', 'Bachelors',\n",
       "                                              'Masters', 'Doctorate']])),\n",
       "                 ('ordnorm', StandardScaler())]),\n",
       " 'nominalpipe': Pipeline(steps=[('onehotimputer', SimpleImputer(strategy='most_frequent')),\n",
       "                 ('onehotenc', OneHotEncoder(drop='first', sparse=False)),\n",
       "                 [('onehotnorm', StandardScaler())]]),\n",
       " 'numpipe': Pipeline(steps=[('numimputer', SimpleImputer()), ('numnorm', StandardScaler())])}"
      ]
     },
     "execution_count": 62,
     "metadata": {},
     "output_type": "execute_result"
    }
   ],
   "source": [
    "ct.named_transformers_"
   ]
  },
  {
   "cell_type": "code",
   "execution_count": 63,
   "id": "942ed4b0",
   "metadata": {
    "slideshow": {
     "slide_type": "fragment"
    }
   },
   "outputs": [
    {
     "data": {
      "text/html": [
       "<style>div.sk-top-container {color: black;background-color: white;}div.sk-toggleable {background-color: white;}label.sk-toggleable__label {cursor: pointer;display: block;width: 100%;margin-bottom: 0;padding: 0.2em 0.3em;box-sizing: border-box;text-align: center;}div.sk-toggleable__content {max-height: 0;max-width: 0;overflow: hidden;text-align: left;background-color: #f0f8ff;}div.sk-toggleable__content pre {margin: 0.2em;color: black;border-radius: 0.25em;background-color: #f0f8ff;}input.sk-toggleable__control:checked~div.sk-toggleable__content {max-height: 200px;max-width: 100%;overflow: auto;}div.sk-estimator input.sk-toggleable__control:checked~label.sk-toggleable__label {background-color: #d4ebff;}div.sk-label input.sk-toggleable__control:checked~label.sk-toggleable__label {background-color: #d4ebff;}input.sk-hidden--visually {border: 0;clip: rect(1px 1px 1px 1px);clip: rect(1px, 1px, 1px, 1px);height: 1px;margin: -1px;overflow: hidden;padding: 0;position: absolute;width: 1px;}div.sk-estimator {font-family: monospace;background-color: #f0f8ff;margin: 0.25em 0.25em;border: 1px dotted black;border-radius: 0.25em;box-sizing: border-box;}div.sk-estimator:hover {background-color: #d4ebff;}div.sk-parallel-item::after {content: \"\";width: 100%;border-bottom: 1px solid gray;flex-grow: 1;}div.sk-label:hover label.sk-toggleable__label {background-color: #d4ebff;}div.sk-serial::before {content: \"\";position: absolute;border-left: 1px solid gray;box-sizing: border-box;top: 2em;bottom: 0;left: 50%;}div.sk-serial {display: flex;flex-direction: column;align-items: center;background-color: white;}div.sk-item {z-index: 1;}div.sk-parallel {display: flex;align-items: stretch;justify-content: center;background-color: white;}div.sk-parallel-item {display: flex;flex-direction: column;position: relative;background-color: white;}div.sk-parallel-item:first-child::after {align-self: flex-end;width: 50%;}div.sk-parallel-item:last-child::after {align-self: flex-start;width: 50%;}div.sk-parallel-item:only-child::after {width: 0;}div.sk-dashed-wrapped {border: 1px dashed gray;margin: 0.2em;box-sizing: border-box;padding-bottom: 0.1em;background-color: white;position: relative;}div.sk-label label {font-family: monospace;font-weight: bold;background-color: white;display: inline-block;line-height: 1.2em;}div.sk-label-container {position: relative;z-index: 2;text-align: center;}div.sk-container {display: inline-block;position: relative;}</style><div class=\"sk-top-container\"><div class=\"sk-container\"><div class=\"sk-item sk-dashed-wrapped\"><div class=\"sk-label-container\"><div class=\"sk-label sk-toggleable\"><input class=\"sk-toggleable__control sk-hidden--visually\" id=\"85a51d56-283a-4116-8aa7-73c1fc1129af\" type=\"checkbox\" ><label class=\"sk-toggleable__label\" for=\"85a51d56-283a-4116-8aa7-73c1fc1129af\">ColumnTransformer</label><div class=\"sk-toggleable__content\"><pre>ColumnTransformer(transformers=[('ordinalpipe',\n",
       "                                 Pipeline(steps=[('ordimputer',\n",
       "                                                  SimpleImputer(strategy='most_frequent')),\n",
       "                                                 ('ordenc',\n",
       "                                                  OrdinalEncoder(categories=[['10th',\n",
       "                                                                              '11th',\n",
       "                                                                              'HS-grad',\n",
       "                                                                              'Some-college',\n",
       "                                                                              'Assoc-acdm',\n",
       "                                                                              'Assoc-voc',\n",
       "                                                                              'Bachelors',\n",
       "                                                                              'Masters',\n",
       "                                                                              'Doctorate']])),\n",
       "                                                 ('ordnorm',\n",
       "                                                  StandardScaler())]),\n",
       "                                 ['education']),\n",
       "                                ('nominalpipe',\n",
       "                                 Pipeline(steps=[('onehotimputer',\n",
       "                                                  SimpleImputer(strategy='most_frequent')),\n",
       "                                                 ('onehotenc',\n",
       "                                                  OneHotEncoder(drop='first',\n",
       "                                                                sparse=False)),\n",
       "                                                 ('onehotnorm',\n",
       "                                                  MaxAbsScaler())]),\n",
       "                                 ['occupation', 'sex']),\n",
       "                                ('numpipe',\n",
       "                                 Pipeline(steps=[('numimputer',\n",
       "                                                  SimpleImputer()),\n",
       "                                                 ('numnorm',\n",
       "                                                  StandardScaler())]),\n",
       "                                 Index(['age', 'hours.per.week'], dtype='object'))])</pre></div></div></div><div class=\"sk-parallel\"><div class=\"sk-parallel-item\"><div class=\"sk-item\"><div class=\"sk-label-container\"><div class=\"sk-label sk-toggleable\"><input class=\"sk-toggleable__control sk-hidden--visually\" id=\"7ae4df60-d316-4e00-bdc2-64566f3a92ec\" type=\"checkbox\" ><label class=\"sk-toggleable__label\" for=\"7ae4df60-d316-4e00-bdc2-64566f3a92ec\">ordinalpipe</label><div class=\"sk-toggleable__content\"><pre>['education']</pre></div></div></div><div class=\"sk-serial\"><div class=\"sk-item\"><div class=\"sk-serial\"><div class=\"sk-item\"><div class=\"sk-estimator sk-toggleable\"><input class=\"sk-toggleable__control sk-hidden--visually\" id=\"bd3cf75b-fd8a-4279-9fdd-1eb7cd2535c6\" type=\"checkbox\" ><label class=\"sk-toggleable__label\" for=\"bd3cf75b-fd8a-4279-9fdd-1eb7cd2535c6\">SimpleImputer</label><div class=\"sk-toggleable__content\"><pre>SimpleImputer(strategy='most_frequent')</pre></div></div></div><div class=\"sk-item\"><div class=\"sk-estimator sk-toggleable\"><input class=\"sk-toggleable__control sk-hidden--visually\" id=\"e22851bc-781b-47a3-a383-c3547dbf2f7f\" type=\"checkbox\" ><label class=\"sk-toggleable__label\" for=\"e22851bc-781b-47a3-a383-c3547dbf2f7f\">OrdinalEncoder</label><div class=\"sk-toggleable__content\"><pre>OrdinalEncoder(categories=[['10th', '11th', 'HS-grad', 'Some-college',\n",
       "                            'Assoc-acdm', 'Assoc-voc', 'Bachelors', 'Masters',\n",
       "                            'Doctorate']])</pre></div></div></div><div class=\"sk-item\"><div class=\"sk-estimator sk-toggleable\"><input class=\"sk-toggleable__control sk-hidden--visually\" id=\"3eadb360-48a3-4925-ad59-ce80e8b1aef6\" type=\"checkbox\" ><label class=\"sk-toggleable__label\" for=\"3eadb360-48a3-4925-ad59-ce80e8b1aef6\">StandardScaler</label><div class=\"sk-toggleable__content\"><pre>StandardScaler()</pre></div></div></div></div></div></div></div></div><div class=\"sk-parallel-item\"><div class=\"sk-item\"><div class=\"sk-label-container\"><div class=\"sk-label sk-toggleable\"><input class=\"sk-toggleable__control sk-hidden--visually\" id=\"399bfcb8-d987-4ff9-801e-2ddbe6521521\" type=\"checkbox\" ><label class=\"sk-toggleable__label\" for=\"399bfcb8-d987-4ff9-801e-2ddbe6521521\">nominalpipe</label><div class=\"sk-toggleable__content\"><pre>['occupation', 'sex']</pre></div></div></div><div class=\"sk-serial\"><div class=\"sk-item\"><div class=\"sk-serial\"><div class=\"sk-item\"><div class=\"sk-estimator sk-toggleable\"><input class=\"sk-toggleable__control sk-hidden--visually\" id=\"bae35920-9543-4e52-9cf3-dc8341d6b9b0\" type=\"checkbox\" ><label class=\"sk-toggleable__label\" for=\"bae35920-9543-4e52-9cf3-dc8341d6b9b0\">SimpleImputer</label><div class=\"sk-toggleable__content\"><pre>SimpleImputer(strategy='most_frequent')</pre></div></div></div><div class=\"sk-item\"><div class=\"sk-estimator sk-toggleable\"><input class=\"sk-toggleable__control sk-hidden--visually\" id=\"bd01f2f3-042d-4d13-947e-79f915f6a83b\" type=\"checkbox\" ><label class=\"sk-toggleable__label\" for=\"bd01f2f3-042d-4d13-947e-79f915f6a83b\">OneHotEncoder</label><div class=\"sk-toggleable__content\"><pre>OneHotEncoder(drop='first', sparse=False)</pre></div></div></div><div class=\"sk-item\"><div class=\"sk-estimator sk-toggleable\"><input class=\"sk-toggleable__control sk-hidden--visually\" id=\"70855b6d-9eb1-47d7-858d-2078cbdb684a\" type=\"checkbox\" ><label class=\"sk-toggleable__label\" for=\"70855b6d-9eb1-47d7-858d-2078cbdb684a\">MaxAbsScaler</label><div class=\"sk-toggleable__content\"><pre>MaxAbsScaler()</pre></div></div></div></div></div></div></div></div><div class=\"sk-parallel-item\"><div class=\"sk-item\"><div class=\"sk-label-container\"><div class=\"sk-label sk-toggleable\"><input class=\"sk-toggleable__control sk-hidden--visually\" id=\"5c4e74e9-88a9-4c04-826c-481fde942a9e\" type=\"checkbox\" ><label class=\"sk-toggleable__label\" for=\"5c4e74e9-88a9-4c04-826c-481fde942a9e\">numpipe</label><div class=\"sk-toggleable__content\"><pre>Index(['age', 'hours.per.week'], dtype='object')</pre></div></div></div><div class=\"sk-serial\"><div class=\"sk-item\"><div class=\"sk-serial\"><div class=\"sk-item\"><div class=\"sk-estimator sk-toggleable\"><input class=\"sk-toggleable__control sk-hidden--visually\" id=\"b351658d-e449-4281-9cdc-56ae3422ea7f\" type=\"checkbox\" ><label class=\"sk-toggleable__label\" for=\"b351658d-e449-4281-9cdc-56ae3422ea7f\">SimpleImputer</label><div class=\"sk-toggleable__content\"><pre>SimpleImputer()</pre></div></div></div><div class=\"sk-item\"><div class=\"sk-estimator sk-toggleable\"><input class=\"sk-toggleable__control sk-hidden--visually\" id=\"cfab9dc4-b6b3-414b-93a2-86b8cf7eade7\" type=\"checkbox\" ><label class=\"sk-toggleable__label\" for=\"cfab9dc4-b6b3-414b-93a2-86b8cf7eade7\">StandardScaler</label><div class=\"sk-toggleable__content\"><pre>StandardScaler()</pre></div></div></div></div></div></div></div></div></div></div></div></div>"
      ],
      "text/plain": [
       "ColumnTransformer(transformers=[('ordinalpipe',\n",
       "                                 Pipeline(steps=[('ordimputer',\n",
       "                                                  SimpleImputer(strategy='most_frequent')),\n",
       "                                                 ('ordenc',\n",
       "                                                  OrdinalEncoder(categories=[['10th',\n",
       "                                                                              '11th',\n",
       "                                                                              'HS-grad',\n",
       "                                                                              'Some-college',\n",
       "                                                                              'Assoc-acdm',\n",
       "                                                                              'Assoc-voc',\n",
       "                                                                              'Bachelors',\n",
       "                                                                              'Masters',\n",
       "                                                                              'Doctorate']])),\n",
       "                                                 ('ordnorm',\n",
       "                                                  StandardScaler())]),\n",
       "                                 ['education']),\n",
       "                                ('nominalpipe',\n",
       "                                 Pipeline(steps=[('onehotimputer',\n",
       "                                                  SimpleImputer(strategy='most_frequent')),\n",
       "                                                 ('onehotenc',\n",
       "                                                  OneHotEncoder(drop='first',\n",
       "                                                                sparse=False)),\n",
       "                                                 ('onehotnorm',\n",
       "                                                  MaxAbsScaler())]),\n",
       "                                 ['occupation', 'sex']),\n",
       "                                ('numpipe',\n",
       "                                 Pipeline(steps=[('numimputer',\n",
       "                                                  SimpleImputer()),\n",
       "                                                 ('numnorm',\n",
       "                                                  StandardScaler())]),\n",
       "                                 Index(['age', 'hours.per.week'], dtype='object'))])"
      ]
     },
     "execution_count": 63,
     "metadata": {},
     "output_type": "execute_result"
    }
   ],
   "source": [
    "ct"
   ]
  },
  {
   "cell_type": "markdown",
   "id": "f1fd08f7",
   "metadata": {},
   "source": [
    "# ALWAYS CHECK DIAGRAM TO MAKE SURE SWITCH WAS MADE"
   ]
  },
  {
   "cell_type": "markdown",
   "id": "172d0455",
   "metadata": {
    "cell_style": "split",
    "slideshow": {
     "slide_type": "slide"
    }
   },
   "source": [
    "Swapped out MaxAbScaler with StandardScaler in nominalpipe:\n",
    "\n",
    "At this point: \n",
    "- append modeling step\n",
    "- build final pipeline: transformers + model\n",
    "- tuck into gridCV for tuning."
   ]
  },
  {
   "cell_type": "code",
   "execution_count": 64,
   "id": "0b0ba1d0",
   "metadata": {
    "cell_style": "split",
    "slideshow": {
     "slide_type": "fragment"
    }
   },
   "outputs": [
    {
     "data": {
      "text/html": [
       "<style>div.sk-top-container {color: black;background-color: white;}div.sk-toggleable {background-color: white;}label.sk-toggleable__label {cursor: pointer;display: block;width: 100%;margin-bottom: 0;padding: 0.2em 0.3em;box-sizing: border-box;text-align: center;}div.sk-toggleable__content {max-height: 0;max-width: 0;overflow: hidden;text-align: left;background-color: #f0f8ff;}div.sk-toggleable__content pre {margin: 0.2em;color: black;border-radius: 0.25em;background-color: #f0f8ff;}input.sk-toggleable__control:checked~div.sk-toggleable__content {max-height: 200px;max-width: 100%;overflow: auto;}div.sk-estimator input.sk-toggleable__control:checked~label.sk-toggleable__label {background-color: #d4ebff;}div.sk-label input.sk-toggleable__control:checked~label.sk-toggleable__label {background-color: #d4ebff;}input.sk-hidden--visually {border: 0;clip: rect(1px 1px 1px 1px);clip: rect(1px, 1px, 1px, 1px);height: 1px;margin: -1px;overflow: hidden;padding: 0;position: absolute;width: 1px;}div.sk-estimator {font-family: monospace;background-color: #f0f8ff;margin: 0.25em 0.25em;border: 1px dotted black;border-radius: 0.25em;box-sizing: border-box;}div.sk-estimator:hover {background-color: #d4ebff;}div.sk-parallel-item::after {content: \"\";width: 100%;border-bottom: 1px solid gray;flex-grow: 1;}div.sk-label:hover label.sk-toggleable__label {background-color: #d4ebff;}div.sk-serial::before {content: \"\";position: absolute;border-left: 1px solid gray;box-sizing: border-box;top: 2em;bottom: 0;left: 50%;}div.sk-serial {display: flex;flex-direction: column;align-items: center;background-color: white;}div.sk-item {z-index: 1;}div.sk-parallel {display: flex;align-items: stretch;justify-content: center;background-color: white;}div.sk-parallel-item {display: flex;flex-direction: column;position: relative;background-color: white;}div.sk-parallel-item:first-child::after {align-self: flex-end;width: 50%;}div.sk-parallel-item:last-child::after {align-self: flex-start;width: 50%;}div.sk-parallel-item:only-child::after {width: 0;}div.sk-dashed-wrapped {border: 1px dashed gray;margin: 0.2em;box-sizing: border-box;padding-bottom: 0.1em;background-color: white;position: relative;}div.sk-label label {font-family: monospace;font-weight: bold;background-color: white;display: inline-block;line-height: 1.2em;}div.sk-label-container {position: relative;z-index: 2;text-align: center;}div.sk-container {display: inline-block;position: relative;}</style><div class=\"sk-top-container\"><div class=\"sk-container\"><div class=\"sk-item sk-dashed-wrapped\"><div class=\"sk-label-container\"><div class=\"sk-label sk-toggleable\"><input class=\"sk-toggleable__control sk-hidden--visually\" id=\"26f412bf-a81a-4c82-a07a-1079133da68b\" type=\"checkbox\" ><label class=\"sk-toggleable__label\" for=\"26f412bf-a81a-4c82-a07a-1079133da68b\">Pipeline</label><div class=\"sk-toggleable__content\"><pre>Pipeline(steps=[('preprocess',\n",
       "                 ColumnTransformer(transformers=[('ordinalpipe',\n",
       "                                                  Pipeline(steps=[('ordimputer',\n",
       "                                                                   SimpleImputer(strategy='most_frequent')),\n",
       "                                                                  ('ordenc',\n",
       "                                                                   OrdinalEncoder(categories=[['10th',\n",
       "                                                                                               '11th',\n",
       "                                                                                               'HS-grad',\n",
       "                                                                                               'Some-college',\n",
       "                                                                                               'Assoc-acdm',\n",
       "                                                                                               'Assoc-voc',\n",
       "                                                                                               'Bachelors',\n",
       "                                                                                               'Masters',\n",
       "                                                                                               'Doctorate']])),\n",
       "                                                                  ('ordnorm',\n",
       "                                                                   StandardScaler())]),\n",
       "                                                  ['education']),\n",
       "                                                 ('nominalpipe',\n",
       "                                                  P...e(steps=[('onehotimputer',\n",
       "                                                                   SimpleImputer(strategy='most_frequent')),\n",
       "                                                                  ('onehotenc',\n",
       "                                                                   OneHotEncoder(drop='first',\n",
       "                                                                                 sparse=False)),\n",
       "                                                                  ('onehotnorm',\n",
       "                                                                   MaxAbsScaler())]),\n",
       "                                                  ['occupation', 'sex']),\n",
       "                                                 ('numpipe',\n",
       "                                                  Pipeline(steps=[('numimputer',\n",
       "                                                                   SimpleImputer()),\n",
       "                                                                  ('numnorm',\n",
       "                                                                   StandardScaler())]),\n",
       "                                                  Index(['age', 'hours.per.week'], dtype='object'))])),\n",
       "                ('model', KNeighborsClassifier())])</pre></div></div></div><div class=\"sk-serial\"><div class=\"sk-item sk-dashed-wrapped\"><div class=\"sk-label-container\"><div class=\"sk-label sk-toggleable\"><input class=\"sk-toggleable__control sk-hidden--visually\" id=\"3440c31b-203b-4e4e-95d5-429e3c007340\" type=\"checkbox\" ><label class=\"sk-toggleable__label\" for=\"3440c31b-203b-4e4e-95d5-429e3c007340\">preprocess: ColumnTransformer</label><div class=\"sk-toggleable__content\"><pre>ColumnTransformer(transformers=[('ordinalpipe',\n",
       "                                 Pipeline(steps=[('ordimputer',\n",
       "                                                  SimpleImputer(strategy='most_frequent')),\n",
       "                                                 ('ordenc',\n",
       "                                                  OrdinalEncoder(categories=[['10th',\n",
       "                                                                              '11th',\n",
       "                                                                              'HS-grad',\n",
       "                                                                              'Some-college',\n",
       "                                                                              'Assoc-acdm',\n",
       "                                                                              'Assoc-voc',\n",
       "                                                                              'Bachelors',\n",
       "                                                                              'Masters',\n",
       "                                                                              'Doctorate']])),\n",
       "                                                 ('ordnorm',\n",
       "                                                  StandardScaler())]),\n",
       "                                 ['education']),\n",
       "                                ('nominalpipe',\n",
       "                                 Pipeline(steps=[('onehotimputer',\n",
       "                                                  SimpleImputer(strategy='most_frequent')),\n",
       "                                                 ('onehotenc',\n",
       "                                                  OneHotEncoder(drop='first',\n",
       "                                                                sparse=False)),\n",
       "                                                 ('onehotnorm',\n",
       "                                                  MaxAbsScaler())]),\n",
       "                                 ['occupation', 'sex']),\n",
       "                                ('numpipe',\n",
       "                                 Pipeline(steps=[('numimputer',\n",
       "                                                  SimpleImputer()),\n",
       "                                                 ('numnorm',\n",
       "                                                  StandardScaler())]),\n",
       "                                 Index(['age', 'hours.per.week'], dtype='object'))])</pre></div></div></div><div class=\"sk-parallel\"><div class=\"sk-parallel-item\"><div class=\"sk-item\"><div class=\"sk-label-container\"><div class=\"sk-label sk-toggleable\"><input class=\"sk-toggleable__control sk-hidden--visually\" id=\"04437dcb-35b9-4074-86b7-340b746f1c3e\" type=\"checkbox\" ><label class=\"sk-toggleable__label\" for=\"04437dcb-35b9-4074-86b7-340b746f1c3e\">ordinalpipe</label><div class=\"sk-toggleable__content\"><pre>['education']</pre></div></div></div><div class=\"sk-serial\"><div class=\"sk-item\"><div class=\"sk-serial\"><div class=\"sk-item\"><div class=\"sk-estimator sk-toggleable\"><input class=\"sk-toggleable__control sk-hidden--visually\" id=\"670cffb4-1365-4a76-99fb-c21f15333fb7\" type=\"checkbox\" ><label class=\"sk-toggleable__label\" for=\"670cffb4-1365-4a76-99fb-c21f15333fb7\">SimpleImputer</label><div class=\"sk-toggleable__content\"><pre>SimpleImputer(strategy='most_frequent')</pre></div></div></div><div class=\"sk-item\"><div class=\"sk-estimator sk-toggleable\"><input class=\"sk-toggleable__control sk-hidden--visually\" id=\"fa992db6-5829-474a-874b-2387517c540a\" type=\"checkbox\" ><label class=\"sk-toggleable__label\" for=\"fa992db6-5829-474a-874b-2387517c540a\">OrdinalEncoder</label><div class=\"sk-toggleable__content\"><pre>OrdinalEncoder(categories=[['10th', '11th', 'HS-grad', 'Some-college',\n",
       "                            'Assoc-acdm', 'Assoc-voc', 'Bachelors', 'Masters',\n",
       "                            'Doctorate']])</pre></div></div></div><div class=\"sk-item\"><div class=\"sk-estimator sk-toggleable\"><input class=\"sk-toggleable__control sk-hidden--visually\" id=\"36b3b51d-bf54-4c09-99e0-d2961d2b95dc\" type=\"checkbox\" ><label class=\"sk-toggleable__label\" for=\"36b3b51d-bf54-4c09-99e0-d2961d2b95dc\">StandardScaler</label><div class=\"sk-toggleable__content\"><pre>StandardScaler()</pre></div></div></div></div></div></div></div></div><div class=\"sk-parallel-item\"><div class=\"sk-item\"><div class=\"sk-label-container\"><div class=\"sk-label sk-toggleable\"><input class=\"sk-toggleable__control sk-hidden--visually\" id=\"11333266-55f9-4995-9112-fbad972286cd\" type=\"checkbox\" ><label class=\"sk-toggleable__label\" for=\"11333266-55f9-4995-9112-fbad972286cd\">nominalpipe</label><div class=\"sk-toggleable__content\"><pre>['occupation', 'sex']</pre></div></div></div><div class=\"sk-serial\"><div class=\"sk-item\"><div class=\"sk-serial\"><div class=\"sk-item\"><div class=\"sk-estimator sk-toggleable\"><input class=\"sk-toggleable__control sk-hidden--visually\" id=\"8562b246-a122-4a6f-9fdb-5f28b9741088\" type=\"checkbox\" ><label class=\"sk-toggleable__label\" for=\"8562b246-a122-4a6f-9fdb-5f28b9741088\">SimpleImputer</label><div class=\"sk-toggleable__content\"><pre>SimpleImputer(strategy='most_frequent')</pre></div></div></div><div class=\"sk-item\"><div class=\"sk-estimator sk-toggleable\"><input class=\"sk-toggleable__control sk-hidden--visually\" id=\"240ffb13-b90a-4a47-a1f1-4348926c34ac\" type=\"checkbox\" ><label class=\"sk-toggleable__label\" for=\"240ffb13-b90a-4a47-a1f1-4348926c34ac\">OneHotEncoder</label><div class=\"sk-toggleable__content\"><pre>OneHotEncoder(drop='first', sparse=False)</pre></div></div></div><div class=\"sk-item\"><div class=\"sk-estimator sk-toggleable\"><input class=\"sk-toggleable__control sk-hidden--visually\" id=\"b0cbb06d-73fd-42ca-b2cd-cd4393d9a31e\" type=\"checkbox\" ><label class=\"sk-toggleable__label\" for=\"b0cbb06d-73fd-42ca-b2cd-cd4393d9a31e\">MaxAbsScaler</label><div class=\"sk-toggleable__content\"><pre>MaxAbsScaler()</pre></div></div></div></div></div></div></div></div><div class=\"sk-parallel-item\"><div class=\"sk-item\"><div class=\"sk-label-container\"><div class=\"sk-label sk-toggleable\"><input class=\"sk-toggleable__control sk-hidden--visually\" id=\"282eeee5-8277-4c63-8171-a3eb7294d663\" type=\"checkbox\" ><label class=\"sk-toggleable__label\" for=\"282eeee5-8277-4c63-8171-a3eb7294d663\">numpipe</label><div class=\"sk-toggleable__content\"><pre>Index(['age', 'hours.per.week'], dtype='object')</pre></div></div></div><div class=\"sk-serial\"><div class=\"sk-item\"><div class=\"sk-serial\"><div class=\"sk-item\"><div class=\"sk-estimator sk-toggleable\"><input class=\"sk-toggleable__control sk-hidden--visually\" id=\"4f4c63c8-01c0-405c-9e50-334b4c2493fb\" type=\"checkbox\" ><label class=\"sk-toggleable__label\" for=\"4f4c63c8-01c0-405c-9e50-334b4c2493fb\">SimpleImputer</label><div class=\"sk-toggleable__content\"><pre>SimpleImputer()</pre></div></div></div><div class=\"sk-item\"><div class=\"sk-estimator sk-toggleable\"><input class=\"sk-toggleable__control sk-hidden--visually\" id=\"e4f12d52-7e63-430d-b937-61d1d103422d\" type=\"checkbox\" ><label class=\"sk-toggleable__label\" for=\"e4f12d52-7e63-430d-b937-61d1d103422d\">StandardScaler</label><div class=\"sk-toggleable__content\"><pre>StandardScaler()</pre></div></div></div></div></div></div></div></div></div></div><div class=\"sk-item\"><div class=\"sk-estimator sk-toggleable\"><input class=\"sk-toggleable__control sk-hidden--visually\" id=\"932a30ad-3540-47a8-90c4-e17821db4f58\" type=\"checkbox\" ><label class=\"sk-toggleable__label\" for=\"932a30ad-3540-47a8-90c4-e17821db4f58\">KNeighborsClassifier</label><div class=\"sk-toggleable__content\"><pre>KNeighborsClassifier()</pre></div></div></div></div></div></div></div>"
      ],
      "text/plain": [
       "Pipeline(steps=[('preprocess',\n",
       "                 ColumnTransformer(transformers=[('ordinalpipe',\n",
       "                                                  Pipeline(steps=[('ordimputer',\n",
       "                                                                   SimpleImputer(strategy='most_frequent')),\n",
       "                                                                  ('ordenc',\n",
       "                                                                   OrdinalEncoder(categories=[['10th',\n",
       "                                                                                               '11th',\n",
       "                                                                                               'HS-grad',\n",
       "                                                                                               'Some-college',\n",
       "                                                                                               'Assoc-acdm',\n",
       "                                                                                               'Assoc-voc',\n",
       "                                                                                               'Bachelors',\n",
       "                                                                                               'Masters',\n",
       "                                                                                               'Doctorate']])),\n",
       "                                                                  ('ordnorm',\n",
       "                                                                   StandardScaler())]),\n",
       "                                                  ['education']),\n",
       "                                                 ('nominalpipe',\n",
       "                                                  P...e(steps=[('onehotimputer',\n",
       "                                                                   SimpleImputer(strategy='most_frequent')),\n",
       "                                                                  ('onehotenc',\n",
       "                                                                   OneHotEncoder(drop='first',\n",
       "                                                                                 sparse=False)),\n",
       "                                                                  ('onehotnorm',\n",
       "                                                                   MaxAbsScaler())]),\n",
       "                                                  ['occupation', 'sex']),\n",
       "                                                 ('numpipe',\n",
       "                                                  Pipeline(steps=[('numimputer',\n",
       "                                                                   SimpleImputer()),\n",
       "                                                                  ('numnorm',\n",
       "                                                                   StandardScaler())]),\n",
       "                                                  Index(['age', 'hours.per.week'], dtype='object'))])),\n",
       "                ('model', KNeighborsClassifier())])"
      ]
     },
     "execution_count": 64,
     "metadata": {},
     "output_type": "execute_result"
    }
   ],
   "source": [
    "final_pipe = Pipeline([('preprocess', ct),\n",
    "                      ('model',\n",
    "                       KNeighborsClassifier())])\n",
    "final_pipe"
   ]
  },
  {
   "cell_type": "markdown",
   "id": "1dac0e7c",
   "metadata": {
    "slideshow": {
     "slide_type": "slide"
    }
   },
   "source": [
    "Fit the full transformer and model pipeline."
   ]
  },
  {
   "cell_type": "code",
   "execution_count": 65,
   "id": "8b1470a7",
   "metadata": {
    "slideshow": {
     "slide_type": "fragment"
    }
   },
   "outputs": [
    {
     "data": {
      "text/html": [
       "<style>div.sk-top-container {color: black;background-color: white;}div.sk-toggleable {background-color: white;}label.sk-toggleable__label {cursor: pointer;display: block;width: 100%;margin-bottom: 0;padding: 0.2em 0.3em;box-sizing: border-box;text-align: center;}div.sk-toggleable__content {max-height: 0;max-width: 0;overflow: hidden;text-align: left;background-color: #f0f8ff;}div.sk-toggleable__content pre {margin: 0.2em;color: black;border-radius: 0.25em;background-color: #f0f8ff;}input.sk-toggleable__control:checked~div.sk-toggleable__content {max-height: 200px;max-width: 100%;overflow: auto;}div.sk-estimator input.sk-toggleable__control:checked~label.sk-toggleable__label {background-color: #d4ebff;}div.sk-label input.sk-toggleable__control:checked~label.sk-toggleable__label {background-color: #d4ebff;}input.sk-hidden--visually {border: 0;clip: rect(1px 1px 1px 1px);clip: rect(1px, 1px, 1px, 1px);height: 1px;margin: -1px;overflow: hidden;padding: 0;position: absolute;width: 1px;}div.sk-estimator {font-family: monospace;background-color: #f0f8ff;margin: 0.25em 0.25em;border: 1px dotted black;border-radius: 0.25em;box-sizing: border-box;}div.sk-estimator:hover {background-color: #d4ebff;}div.sk-parallel-item::after {content: \"\";width: 100%;border-bottom: 1px solid gray;flex-grow: 1;}div.sk-label:hover label.sk-toggleable__label {background-color: #d4ebff;}div.sk-serial::before {content: \"\";position: absolute;border-left: 1px solid gray;box-sizing: border-box;top: 2em;bottom: 0;left: 50%;}div.sk-serial {display: flex;flex-direction: column;align-items: center;background-color: white;}div.sk-item {z-index: 1;}div.sk-parallel {display: flex;align-items: stretch;justify-content: center;background-color: white;}div.sk-parallel-item {display: flex;flex-direction: column;position: relative;background-color: white;}div.sk-parallel-item:first-child::after {align-self: flex-end;width: 50%;}div.sk-parallel-item:last-child::after {align-self: flex-start;width: 50%;}div.sk-parallel-item:only-child::after {width: 0;}div.sk-dashed-wrapped {border: 1px dashed gray;margin: 0.2em;box-sizing: border-box;padding-bottom: 0.1em;background-color: white;position: relative;}div.sk-label label {font-family: monospace;font-weight: bold;background-color: white;display: inline-block;line-height: 1.2em;}div.sk-label-container {position: relative;z-index: 2;text-align: center;}div.sk-container {display: inline-block;position: relative;}</style><div class=\"sk-top-container\"><div class=\"sk-container\"><div class=\"sk-item sk-dashed-wrapped\"><div class=\"sk-label-container\"><div class=\"sk-label sk-toggleable\"><input class=\"sk-toggleable__control sk-hidden--visually\" id=\"f87ca6b9-11ac-442b-b0ee-7a4371655882\" type=\"checkbox\" ><label class=\"sk-toggleable__label\" for=\"f87ca6b9-11ac-442b-b0ee-7a4371655882\">Pipeline</label><div class=\"sk-toggleable__content\"><pre>Pipeline(steps=[('preprocess',\n",
       "                 ColumnTransformer(transformers=[('ordinalpipe',\n",
       "                                                  Pipeline(steps=[('ordimputer',\n",
       "                                                                   SimpleImputer(strategy='most_frequent')),\n",
       "                                                                  ('ordenc',\n",
       "                                                                   OrdinalEncoder(categories=[['10th',\n",
       "                                                                                               '11th',\n",
       "                                                                                               'HS-grad',\n",
       "                                                                                               'Some-college',\n",
       "                                                                                               'Assoc-acdm',\n",
       "                                                                                               'Assoc-voc',\n",
       "                                                                                               'Bachelors',\n",
       "                                                                                               'Masters',\n",
       "                                                                                               'Doctorate']])),\n",
       "                                                                  ('ordnorm',\n",
       "                                                                   StandardScaler())]),\n",
       "                                                  ['education']),\n",
       "                                                 ('nominalpipe',\n",
       "                                                  P...e(steps=[('onehotimputer',\n",
       "                                                                   SimpleImputer(strategy='most_frequent')),\n",
       "                                                                  ('onehotenc',\n",
       "                                                                   OneHotEncoder(drop='first',\n",
       "                                                                                 sparse=False)),\n",
       "                                                                  ('onehotnorm',\n",
       "                                                                   MaxAbsScaler())]),\n",
       "                                                  ['occupation', 'sex']),\n",
       "                                                 ('numpipe',\n",
       "                                                  Pipeline(steps=[('numimputer',\n",
       "                                                                   SimpleImputer()),\n",
       "                                                                  ('numnorm',\n",
       "                                                                   StandardScaler())]),\n",
       "                                                  Index(['age', 'hours.per.week'], dtype='object'))])),\n",
       "                ('model', KNeighborsClassifier())])</pre></div></div></div><div class=\"sk-serial\"><div class=\"sk-item sk-dashed-wrapped\"><div class=\"sk-label-container\"><div class=\"sk-label sk-toggleable\"><input class=\"sk-toggleable__control sk-hidden--visually\" id=\"2cb59ab2-731a-45cb-a383-93d3d394558e\" type=\"checkbox\" ><label class=\"sk-toggleable__label\" for=\"2cb59ab2-731a-45cb-a383-93d3d394558e\">preprocess: ColumnTransformer</label><div class=\"sk-toggleable__content\"><pre>ColumnTransformer(transformers=[('ordinalpipe',\n",
       "                                 Pipeline(steps=[('ordimputer',\n",
       "                                                  SimpleImputer(strategy='most_frequent')),\n",
       "                                                 ('ordenc',\n",
       "                                                  OrdinalEncoder(categories=[['10th',\n",
       "                                                                              '11th',\n",
       "                                                                              'HS-grad',\n",
       "                                                                              'Some-college',\n",
       "                                                                              'Assoc-acdm',\n",
       "                                                                              'Assoc-voc',\n",
       "                                                                              'Bachelors',\n",
       "                                                                              'Masters',\n",
       "                                                                              'Doctorate']])),\n",
       "                                                 ('ordnorm',\n",
       "                                                  StandardScaler())]),\n",
       "                                 ['education']),\n",
       "                                ('nominalpipe',\n",
       "                                 Pipeline(steps=[('onehotimputer',\n",
       "                                                  SimpleImputer(strategy='most_frequent')),\n",
       "                                                 ('onehotenc',\n",
       "                                                  OneHotEncoder(drop='first',\n",
       "                                                                sparse=False)),\n",
       "                                                 ('onehotnorm',\n",
       "                                                  MaxAbsScaler())]),\n",
       "                                 ['occupation', 'sex']),\n",
       "                                ('numpipe',\n",
       "                                 Pipeline(steps=[('numimputer',\n",
       "                                                  SimpleImputer()),\n",
       "                                                 ('numnorm',\n",
       "                                                  StandardScaler())]),\n",
       "                                 Index(['age', 'hours.per.week'], dtype='object'))])</pre></div></div></div><div class=\"sk-parallel\"><div class=\"sk-parallel-item\"><div class=\"sk-item\"><div class=\"sk-label-container\"><div class=\"sk-label sk-toggleable\"><input class=\"sk-toggleable__control sk-hidden--visually\" id=\"367db3e5-7ccd-4a12-acd3-d20cb8869218\" type=\"checkbox\" ><label class=\"sk-toggleable__label\" for=\"367db3e5-7ccd-4a12-acd3-d20cb8869218\">ordinalpipe</label><div class=\"sk-toggleable__content\"><pre>['education']</pre></div></div></div><div class=\"sk-serial\"><div class=\"sk-item\"><div class=\"sk-serial\"><div class=\"sk-item\"><div class=\"sk-estimator sk-toggleable\"><input class=\"sk-toggleable__control sk-hidden--visually\" id=\"22e89b5d-f530-4a91-8d46-11e358447e83\" type=\"checkbox\" ><label class=\"sk-toggleable__label\" for=\"22e89b5d-f530-4a91-8d46-11e358447e83\">SimpleImputer</label><div class=\"sk-toggleable__content\"><pre>SimpleImputer(strategy='most_frequent')</pre></div></div></div><div class=\"sk-item\"><div class=\"sk-estimator sk-toggleable\"><input class=\"sk-toggleable__control sk-hidden--visually\" id=\"b572a216-1c7a-4517-a7d0-bda94f11c011\" type=\"checkbox\" ><label class=\"sk-toggleable__label\" for=\"b572a216-1c7a-4517-a7d0-bda94f11c011\">OrdinalEncoder</label><div class=\"sk-toggleable__content\"><pre>OrdinalEncoder(categories=[['10th', '11th', 'HS-grad', 'Some-college',\n",
       "                            'Assoc-acdm', 'Assoc-voc', 'Bachelors', 'Masters',\n",
       "                            'Doctorate']])</pre></div></div></div><div class=\"sk-item\"><div class=\"sk-estimator sk-toggleable\"><input class=\"sk-toggleable__control sk-hidden--visually\" id=\"97cc8ffb-3dd9-4d5d-8f42-c7f095331705\" type=\"checkbox\" ><label class=\"sk-toggleable__label\" for=\"97cc8ffb-3dd9-4d5d-8f42-c7f095331705\">StandardScaler</label><div class=\"sk-toggleable__content\"><pre>StandardScaler()</pre></div></div></div></div></div></div></div></div><div class=\"sk-parallel-item\"><div class=\"sk-item\"><div class=\"sk-label-container\"><div class=\"sk-label sk-toggleable\"><input class=\"sk-toggleable__control sk-hidden--visually\" id=\"c2a24d14-4ade-4a43-8bea-9f8cbb329ac4\" type=\"checkbox\" ><label class=\"sk-toggleable__label\" for=\"c2a24d14-4ade-4a43-8bea-9f8cbb329ac4\">nominalpipe</label><div class=\"sk-toggleable__content\"><pre>['occupation', 'sex']</pre></div></div></div><div class=\"sk-serial\"><div class=\"sk-item\"><div class=\"sk-serial\"><div class=\"sk-item\"><div class=\"sk-estimator sk-toggleable\"><input class=\"sk-toggleable__control sk-hidden--visually\" id=\"89037c37-ffdc-4a1a-95d7-66a0613be5dc\" type=\"checkbox\" ><label class=\"sk-toggleable__label\" for=\"89037c37-ffdc-4a1a-95d7-66a0613be5dc\">SimpleImputer</label><div class=\"sk-toggleable__content\"><pre>SimpleImputer(strategy='most_frequent')</pre></div></div></div><div class=\"sk-item\"><div class=\"sk-estimator sk-toggleable\"><input class=\"sk-toggleable__control sk-hidden--visually\" id=\"bc5fa4f9-3a4c-43fa-80e8-e3b22aeeb408\" type=\"checkbox\" ><label class=\"sk-toggleable__label\" for=\"bc5fa4f9-3a4c-43fa-80e8-e3b22aeeb408\">OneHotEncoder</label><div class=\"sk-toggleable__content\"><pre>OneHotEncoder(drop='first', sparse=False)</pre></div></div></div><div class=\"sk-item\"><div class=\"sk-estimator sk-toggleable\"><input class=\"sk-toggleable__control sk-hidden--visually\" id=\"cd371675-ab4e-46ed-9977-ac4f82861168\" type=\"checkbox\" ><label class=\"sk-toggleable__label\" for=\"cd371675-ab4e-46ed-9977-ac4f82861168\">MaxAbsScaler</label><div class=\"sk-toggleable__content\"><pre>MaxAbsScaler()</pre></div></div></div></div></div></div></div></div><div class=\"sk-parallel-item\"><div class=\"sk-item\"><div class=\"sk-label-container\"><div class=\"sk-label sk-toggleable\"><input class=\"sk-toggleable__control sk-hidden--visually\" id=\"0c18ec66-2aa9-496a-89eb-183cb8dc4ea3\" type=\"checkbox\" ><label class=\"sk-toggleable__label\" for=\"0c18ec66-2aa9-496a-89eb-183cb8dc4ea3\">numpipe</label><div class=\"sk-toggleable__content\"><pre>Index(['age', 'hours.per.week'], dtype='object')</pre></div></div></div><div class=\"sk-serial\"><div class=\"sk-item\"><div class=\"sk-serial\"><div class=\"sk-item\"><div class=\"sk-estimator sk-toggleable\"><input class=\"sk-toggleable__control sk-hidden--visually\" id=\"778ee544-4180-41b3-b8dd-1bd2e1b9fab2\" type=\"checkbox\" ><label class=\"sk-toggleable__label\" for=\"778ee544-4180-41b3-b8dd-1bd2e1b9fab2\">SimpleImputer</label><div class=\"sk-toggleable__content\"><pre>SimpleImputer()</pre></div></div></div><div class=\"sk-item\"><div class=\"sk-estimator sk-toggleable\"><input class=\"sk-toggleable__control sk-hidden--visually\" id=\"e51882a8-0b44-4d02-b8de-53fb70d1f363\" type=\"checkbox\" ><label class=\"sk-toggleable__label\" for=\"e51882a8-0b44-4d02-b8de-53fb70d1f363\">StandardScaler</label><div class=\"sk-toggleable__content\"><pre>StandardScaler()</pre></div></div></div></div></div></div></div></div></div></div><div class=\"sk-item\"><div class=\"sk-estimator sk-toggleable\"><input class=\"sk-toggleable__control sk-hidden--visually\" id=\"4956d15d-29df-4c17-a9b4-41b91fe12aa3\" type=\"checkbox\" ><label class=\"sk-toggleable__label\" for=\"4956d15d-29df-4c17-a9b4-41b91fe12aa3\">KNeighborsClassifier</label><div class=\"sk-toggleable__content\"><pre>KNeighborsClassifier()</pre></div></div></div></div></div></div></div>"
      ],
      "text/plain": [
       "Pipeline(steps=[('preprocess',\n",
       "                 ColumnTransformer(transformers=[('ordinalpipe',\n",
       "                                                  Pipeline(steps=[('ordimputer',\n",
       "                                                                   SimpleImputer(strategy='most_frequent')),\n",
       "                                                                  ('ordenc',\n",
       "                                                                   OrdinalEncoder(categories=[['10th',\n",
       "                                                                                               '11th',\n",
       "                                                                                               'HS-grad',\n",
       "                                                                                               'Some-college',\n",
       "                                                                                               'Assoc-acdm',\n",
       "                                                                                               'Assoc-voc',\n",
       "                                                                                               'Bachelors',\n",
       "                                                                                               'Masters',\n",
       "                                                                                               'Doctorate']])),\n",
       "                                                                  ('ordnorm',\n",
       "                                                                   StandardScaler())]),\n",
       "                                                  ['education']),\n",
       "                                                 ('nominalpipe',\n",
       "                                                  P...e(steps=[('onehotimputer',\n",
       "                                                                   SimpleImputer(strategy='most_frequent')),\n",
       "                                                                  ('onehotenc',\n",
       "                                                                   OneHotEncoder(drop='first',\n",
       "                                                                                 sparse=False)),\n",
       "                                                                  ('onehotnorm',\n",
       "                                                                   MaxAbsScaler())]),\n",
       "                                                  ['occupation', 'sex']),\n",
       "                                                 ('numpipe',\n",
       "                                                  Pipeline(steps=[('numimputer',\n",
       "                                                                   SimpleImputer()),\n",
       "                                                                  ('numnorm',\n",
       "                                                                   StandardScaler())]),\n",
       "                                                  Index(['age', 'hours.per.week'], dtype='object'))])),\n",
       "                ('model', KNeighborsClassifier())])"
      ]
     },
     "execution_count": 65,
     "metadata": {},
     "output_type": "execute_result"
    }
   ],
   "source": [
    "final_pipe.fit(X_inc_train, y_inc_train)"
   ]
  },
  {
   "cell_type": "code",
   "execution_count": 66,
   "id": "005c9e29",
   "metadata": {
    "scrolled": true,
    "slideshow": {
     "slide_type": "slide"
    }
   },
   "outputs": [],
   "source": [
    "y_pred = final_pipe.predict(X_inc_test)"
   ]
  },
  {
   "cell_type": "code",
   "execution_count": 71,
   "id": "38436858",
   "metadata": {
    "cell_style": "center",
    "slideshow": {
     "slide_type": "fragment"
    }
   },
   "outputs": [
    {
     "data": {
      "text/plain": [
       "<sklearn.metrics._plot.confusion_matrix.ConfusionMatrixDisplay at 0x7feeb1ab0c70>"
      ]
     },
     "execution_count": 71,
     "metadata": {},
     "output_type": "execute_result"
    },
    {
     "data": {
      "image/png": "[encoded data removed]",
      "text/plain": [
       "<Figure size 432x288 with 2 Axes>"
      ]
     },
     "metadata": {
      "needs_background": "light"
     },
     "output_type": "display_data"
    }
   ],
   "source": [
    "plot_confusion_matrix(final_pipe, X_inc_test,y_inc_test)\n",
    "#ConfusionMatrixDisplay.from_estimator(final_pipe, X_inc_test,y_inc_test);"
   ]
  },
  {
   "cell_type": "markdown",
   "id": "588648c9",
   "metadata": {
    "cell_style": "split",
    "slideshow": {
     "slide_type": "fragment"
    }
   },
   "source": [
    "Probably needs some tuning. Let's look at the steps of final_pipe."
   ]
  },
  {
   "cell_type": "code",
   "execution_count": 72,
   "id": "da737372",
   "metadata": {
    "cell_style": "center",
    "scrolled": false,
    "slideshow": {
     "slide_type": "slide"
    }
   },
   "outputs": [
    {
     "name": "stdout",
     "output_type": "stream",
     "text": [
      "[('preprocess', ColumnTransformer(transformers=[('ordinalpipe',\n",
      "                                 Pipeline(steps=[('ordimputer',\n",
      "                                                  SimpleImputer(strategy='most_frequent')),\n",
      "                                                 ('ordenc',\n",
      "                                                  OrdinalEncoder(categories=[['10th',\n",
      "                                                                              '11th',\n",
      "                                                                              'HS-grad',\n",
      "                                                                              'Some-college',\n",
      "                                                                              'Assoc-acdm',\n",
      "                                                                              'Assoc-voc',\n",
      "                                                                              'Bachelors',\n",
      "                                                                              'Masters',\n",
      "                                                                              'Doctorate']])),\n",
      "                                                 ('ordnorm',\n",
      "                                                  StandardScaler())]),\n",
      "                                 ['education']),\n",
      "                                ('nominalpipe',\n",
      "                                 Pipeline(steps=[('onehotimputer',\n",
      "                                                  SimpleImputer(strategy='most_frequent')),\n",
      "                                                 ('onehotenc',\n",
      "                                                  OneHotEncoder(drop='first',\n",
      "                                                                sparse=False)),\n",
      "                                                 ('onehotnorm',\n",
      "                                                  MaxAbsScaler())]),\n",
      "                                 ['occupation', 'sex']),\n",
      "                                ('numpipe',\n",
      "                                 Pipeline(steps=[('numimputer',\n",
      "                                                  SimpleImputer()),\n",
      "                                                 ('numnorm',\n",
      "                                                  StandardScaler())]),\n",
      "                                 Index(['age', 'hours.per.week'], dtype='object'))])), ('model', KNeighborsClassifier())]\n"
     ]
    }
   ],
   "source": [
    "print(final_pipe.steps)"
   ]
  },
  {
   "cell_type": "code",
   "execution_count": 73,
   "id": "5ef65610",
   "metadata": {
    "slideshow": {
     "slide_type": "slide"
    }
   },
   "outputs": [],
   "source": [
    "# going down each level in estimator with double underscore (level1__level2__estimator__argument)\n",
    "final_pipe_grid = {'preprocess__numpipe__numimputer__strategy': [\"mean\", \"median\"],\n",
    "             'model__n_neighbors': [3, 11, 15],\n",
    "             'model__p': [1, 2]}\n",
    "\n",
    "gs_full_pipe = GridSearchCV(estimator=final_pipe, \n",
    "                       param_grid=final_pipe_grid)"
   ]
  },
  {
   "cell_type": "code",
   "execution_count": 74,
   "id": "87c60c5b",
   "metadata": {
    "cell_style": "center",
    "scrolled": true,
    "slideshow": {
     "slide_type": "fragment"
    }
   },
   "outputs": [
    {
     "data": {
      "text/html": [
       "<style>div.sk-top-container {color: black;background-color: white;}div.sk-toggleable {background-color: white;}label.sk-toggleable__label {cursor: pointer;display: block;width: 100%;margin-bottom: 0;padding: 0.2em 0.3em;box-sizing: border-box;text-align: center;}div.sk-toggleable__content {max-height: 0;max-width: 0;overflow: hidden;text-align: left;background-color: #f0f8ff;}div.sk-toggleable__content pre {margin: 0.2em;color: black;border-radius: 0.25em;background-color: #f0f8ff;}input.sk-toggleable__control:checked~div.sk-toggleable__content {max-height: 200px;max-width: 100%;overflow: auto;}div.sk-estimator input.sk-toggleable__control:checked~label.sk-toggleable__label {background-color: #d4ebff;}div.sk-label input.sk-toggleable__control:checked~label.sk-toggleable__label {background-color: #d4ebff;}input.sk-hidden--visually {border: 0;clip: rect(1px 1px 1px 1px);clip: rect(1px, 1px, 1px, 1px);height: 1px;margin: -1px;overflow: hidden;padding: 0;position: absolute;width: 1px;}div.sk-estimator {font-family: monospace;background-color: #f0f8ff;margin: 0.25em 0.25em;border: 1px dotted black;border-radius: 0.25em;box-sizing: border-box;}div.sk-estimator:hover {background-color: #d4ebff;}div.sk-parallel-item::after {content: \"\";width: 100%;border-bottom: 1px solid gray;flex-grow: 1;}div.sk-label:hover label.sk-toggleable__label {background-color: #d4ebff;}div.sk-serial::before {content: \"\";position: absolute;border-left: 1px solid gray;box-sizing: border-box;top: 2em;bottom: 0;left: 50%;}div.sk-serial {display: flex;flex-direction: column;align-items: center;background-color: white;}div.sk-item {z-index: 1;}div.sk-parallel {display: flex;align-items: stretch;justify-content: center;background-color: white;}div.sk-parallel-item {display: flex;flex-direction: column;position: relative;background-color: white;}div.sk-parallel-item:first-child::after {align-self: flex-end;width: 50%;}div.sk-parallel-item:last-child::after {align-self: flex-start;width: 50%;}div.sk-parallel-item:only-child::after {width: 0;}div.sk-dashed-wrapped {border: 1px dashed gray;margin: 0.2em;box-sizing: border-box;padding-bottom: 0.1em;background-color: white;position: relative;}div.sk-label label {font-family: monospace;font-weight: bold;background-color: white;display: inline-block;line-height: 1.2em;}div.sk-label-container {position: relative;z-index: 2;text-align: center;}div.sk-container {display: inline-block;position: relative;}</style><div class=\"sk-top-container\"><div class=\"sk-container\"><div class=\"sk-item sk-dashed-wrapped\"><div class=\"sk-label-container\"><div class=\"sk-label sk-toggleable\"><input class=\"sk-toggleable__control sk-hidden--visually\" id=\"7efa78d3-b947-4be5-b9f4-4863fd2aac94\" type=\"checkbox\" ><label class=\"sk-toggleable__label\" for=\"7efa78d3-b947-4be5-b9f4-4863fd2aac94\">GridSearchCV</label><div class=\"sk-toggleable__content\"><pre>GridSearchCV(estimator=Pipeline(steps=[('preprocess',\n",
       "                                        ColumnTransformer(transformers=[('ordinalpipe',\n",
       "                                                                         Pipeline(steps=[('ordimputer',\n",
       "                                                                                          SimpleImputer(strategy='most_frequent')),\n",
       "                                                                                         ('ordenc',\n",
       "                                                                                          OrdinalEncoder(categories=[['10th',\n",
       "                                                                                                                      '11th',\n",
       "                                                                                                                      'HS-grad',\n",
       "                                                                                                                      'Some-college',\n",
       "                                                                                                                      'Assoc-acdm',\n",
       "                                                                                                                      'Assoc-voc',\n",
       "                                                                                                                      'Bachelors',\n",
       "                                                                                                                      'Masters',\n",
       "                                                                                                                      'Doctorate']])),\n",
       "                                                                                         ('ordnorm',\n",
       "                                                                                          StandardScaler())]),\n",
       "                                                                         ['educat...\n",
       "                                                                                         ('onehotnorm',\n",
       "                                                                                          MaxAbsScaler())]),\n",
       "                                                                         ['occupation',\n",
       "                                                                          'sex']),\n",
       "                                                                        ('numpipe',\n",
       "                                                                         Pipeline(steps=[('numimputer',\n",
       "                                                                                          SimpleImputer()),\n",
       "                                                                                         ('numnorm',\n",
       "                                                                                          StandardScaler())]),\n",
       "                                                                         Index(['age', 'hours.per.week'], dtype='object'))])),\n",
       "                                       ('model', KNeighborsClassifier())]),\n",
       "             param_grid={'model__n_neighbors': [3, 11, 15], 'model__p': [1, 2],\n",
       "                         'preprocess__numpipe__numimputer__strategy': ['mean',\n",
       "                                                                       'median']})</pre></div></div></div><div class=\"sk-parallel\"><div class=\"sk-parallel-item\"><div class=\"sk-item\"><div class=\"sk-serial\"><div class=\"sk-item\"><div class=\"sk-serial\"><div class=\"sk-item sk-dashed-wrapped\"><div class=\"sk-label-container\"><div class=\"sk-label sk-toggleable\"><input class=\"sk-toggleable__control sk-hidden--visually\" id=\"53543273-dedf-44ce-9ffe-95524fc8ce03\" type=\"checkbox\" ><label class=\"sk-toggleable__label\" for=\"53543273-dedf-44ce-9ffe-95524fc8ce03\">preprocess: ColumnTransformer</label><div class=\"sk-toggleable__content\"><pre>ColumnTransformer(transformers=[('ordinalpipe',\n",
       "                                 Pipeline(steps=[('ordimputer',\n",
       "                                                  SimpleImputer(strategy='most_frequent')),\n",
       "                                                 ('ordenc',\n",
       "                                                  OrdinalEncoder(categories=[['10th',\n",
       "                                                                              '11th',\n",
       "                                                                              'HS-grad',\n",
       "                                                                              'Some-college',\n",
       "                                                                              'Assoc-acdm',\n",
       "                                                                              'Assoc-voc',\n",
       "                                                                              'Bachelors',\n",
       "                                                                              'Masters',\n",
       "                                                                              'Doctorate']])),\n",
       "                                                 ('ordnorm',\n",
       "                                                  StandardScaler())]),\n",
       "                                 ['education']),\n",
       "                                ('nominalpipe',\n",
       "                                 Pipeline(steps=[('onehotimputer',\n",
       "                                                  SimpleImputer(strategy='most_frequent')),\n",
       "                                                 ('onehotenc',\n",
       "                                                  OneHotEncoder(drop='first',\n",
       "                                                                sparse=False)),\n",
       "                                                 ('onehotnorm',\n",
       "                                                  MaxAbsScaler())]),\n",
       "                                 ['occupation', 'sex']),\n",
       "                                ('numpipe',\n",
       "                                 Pipeline(steps=[('numimputer',\n",
       "                                                  SimpleImputer()),\n",
       "                                                 ('numnorm',\n",
       "                                                  StandardScaler())]),\n",
       "                                 Index(['age', 'hours.per.week'], dtype='object'))])</pre></div></div></div><div class=\"sk-parallel\"><div class=\"sk-parallel-item\"><div class=\"sk-item\"><div class=\"sk-label-container\"><div class=\"sk-label sk-toggleable\"><input class=\"sk-toggleable__control sk-hidden--visually\" id=\"6e6ea963-b706-402f-9934-3e90981d1427\" type=\"checkbox\" ><label class=\"sk-toggleable__label\" for=\"6e6ea963-b706-402f-9934-3e90981d1427\">ordinalpipe</label><div class=\"sk-toggleable__content\"><pre>['education']</pre></div></div></div><div class=\"sk-serial\"><div class=\"sk-item\"><div class=\"sk-serial\"><div class=\"sk-item\"><div class=\"sk-estimator sk-toggleable\"><input class=\"sk-toggleable__control sk-hidden--visually\" id=\"57065f90-efed-4441-a7a7-6e2e44a9edb8\" type=\"checkbox\" ><label class=\"sk-toggleable__label\" for=\"57065f90-efed-4441-a7a7-6e2e44a9edb8\">SimpleImputer</label><div class=\"sk-toggleable__content\"><pre>SimpleImputer(strategy='most_frequent')</pre></div></div></div><div class=\"sk-item\"><div class=\"sk-estimator sk-toggleable\"><input class=\"sk-toggleable__control sk-hidden--visually\" id=\"ff4738c4-2bfc-4e4d-8d32-9a85b7d6eb5e\" type=\"checkbox\" ><label class=\"sk-toggleable__label\" for=\"ff4738c4-2bfc-4e4d-8d32-9a85b7d6eb5e\">OrdinalEncoder</label><div class=\"sk-toggleable__content\"><pre>OrdinalEncoder(categories=[['10th', '11th', 'HS-grad', 'Some-college',\n",
       "                            'Assoc-acdm', 'Assoc-voc', 'Bachelors', 'Masters',\n",
       "                            'Doctorate']])</pre></div></div></div><div class=\"sk-item\"><div class=\"sk-estimator sk-toggleable\"><input class=\"sk-toggleable__control sk-hidden--visually\" id=\"d5c4de9c-615a-4ef8-8429-1913626f9f2c\" type=\"checkbox\" ><label class=\"sk-toggleable__label\" for=\"d5c4de9c-615a-4ef8-8429-1913626f9f2c\">StandardScaler</label><div class=\"sk-toggleable__content\"><pre>StandardScaler()</pre></div></div></div></div></div></div></div></div><div class=\"sk-parallel-item\"><div class=\"sk-item\"><div class=\"sk-label-container\"><div class=\"sk-label sk-toggleable\"><input class=\"sk-toggleable__control sk-hidden--visually\" id=\"03ab1518-2b85-4202-97fa-f49452c3ba4a\" type=\"checkbox\" ><label class=\"sk-toggleable__label\" for=\"03ab1518-2b85-4202-97fa-f49452c3ba4a\">nominalpipe</label><div class=\"sk-toggleable__content\"><pre>['occupation', 'sex']</pre></div></div></div><div class=\"sk-serial\"><div class=\"sk-item\"><div class=\"sk-serial\"><div class=\"sk-item\"><div class=\"sk-estimator sk-toggleable\"><input class=\"sk-toggleable__control sk-hidden--visually\" id=\"6b0f7f3e-daae-4628-860f-95345c48bf6c\" type=\"checkbox\" ><label class=\"sk-toggleable__label\" for=\"6b0f7f3e-daae-4628-860f-95345c48bf6c\">SimpleImputer</label><div class=\"sk-toggleable__content\"><pre>SimpleImputer(strategy='most_frequent')</pre></div></div></div><div class=\"sk-item\"><div class=\"sk-estimator sk-toggleable\"><input class=\"sk-toggleable__control sk-hidden--visually\" id=\"e69161c2-01bc-4655-aac8-796a4c64f0a9\" type=\"checkbox\" ><label class=\"sk-toggleable__label\" for=\"e69161c2-01bc-4655-aac8-796a4c64f0a9\">OneHotEncoder</label><div class=\"sk-toggleable__content\"><pre>OneHotEncoder(drop='first', sparse=False)</pre></div></div></div><div class=\"sk-item\"><div class=\"sk-estimator sk-toggleable\"><input class=\"sk-toggleable__control sk-hidden--visually\" id=\"4a6abec6-b78c-45f9-8f18-499acf8abf81\" type=\"checkbox\" ><label class=\"sk-toggleable__label\" for=\"4a6abec6-b78c-45f9-8f18-499acf8abf81\">MaxAbsScaler</label><div class=\"sk-toggleable__content\"><pre>MaxAbsScaler()</pre></div></div></div></div></div></div></div></div><div class=\"sk-parallel-item\"><div class=\"sk-item\"><div class=\"sk-label-container\"><div class=\"sk-label sk-toggleable\"><input class=\"sk-toggleable__control sk-hidden--visually\" id=\"1eb45ae5-49c7-4f20-9c5e-42d58c5a827e\" type=\"checkbox\" ><label class=\"sk-toggleable__label\" for=\"1eb45ae5-49c7-4f20-9c5e-42d58c5a827e\">numpipe</label><div class=\"sk-toggleable__content\"><pre>Index(['age', 'hours.per.week'], dtype='object')</pre></div></div></div><div class=\"sk-serial\"><div class=\"sk-item\"><div class=\"sk-serial\"><div class=\"sk-item\"><div class=\"sk-estimator sk-toggleable\"><input class=\"sk-toggleable__control sk-hidden--visually\" id=\"26c7d700-8096-47aa-880c-b5d2ced24eb4\" type=\"checkbox\" ><label class=\"sk-toggleable__label\" for=\"26c7d700-8096-47aa-880c-b5d2ced24eb4\">SimpleImputer</label><div class=\"sk-toggleable__content\"><pre>SimpleImputer()</pre></div></div></div><div class=\"sk-item\"><div class=\"sk-estimator sk-toggleable\"><input class=\"sk-toggleable__control sk-hidden--visually\" id=\"80b99cd8-149d-4281-8bc6-72aa2b5b38db\" type=\"checkbox\" ><label class=\"sk-toggleable__label\" for=\"80b99cd8-149d-4281-8bc6-72aa2b5b38db\">StandardScaler</label><div class=\"sk-toggleable__content\"><pre>StandardScaler()</pre></div></div></div></div></div></div></div></div></div></div><div class=\"sk-item\"><div class=\"sk-estimator sk-toggleable\"><input class=\"sk-toggleable__control sk-hidden--visually\" id=\"c26c16cf-fd7c-40bf-bb4e-5abfe5583cfb\" type=\"checkbox\" ><label class=\"sk-toggleable__label\" for=\"c26c16cf-fd7c-40bf-bb4e-5abfe5583cfb\">KNeighborsClassifier</label><div class=\"sk-toggleable__content\"><pre>KNeighborsClassifier()</pre></div></div></div></div></div></div></div></div></div></div></div></div>"
      ],
      "text/plain": [
       "GridSearchCV(estimator=Pipeline(steps=[('preprocess',\n",
       "                                        ColumnTransformer(transformers=[('ordinalpipe',\n",
       "                                                                         Pipeline(steps=[('ordimputer',\n",
       "                                                                                          SimpleImputer(strategy='most_frequent')),\n",
       "                                                                                         ('ordenc',\n",
       "                                                                                          OrdinalEncoder(categories=[['10th',\n",
       "                                                                                                                      '11th',\n",
       "                                                                                                                      'HS-grad',\n",
       "                                                                                                                      'Some-college',\n",
       "                                                                                                                      'Assoc-acdm',\n",
       "                                                                                                                      'Assoc-voc',\n",
       "                                                                                                                      'Bachelors',\n",
       "                                                                                                                      'Masters',\n",
       "                                                                                                                      'Doctorate']])),\n",
       "                                                                                         ('ordnorm',\n",
       "                                                                                          StandardScaler())]),\n",
       "                                                                         ['educat...\n",
       "                                                                                         ('onehotnorm',\n",
       "                                                                                          MaxAbsScaler())]),\n",
       "                                                                         ['occupation',\n",
       "                                                                          'sex']),\n",
       "                                                                        ('numpipe',\n",
       "                                                                         Pipeline(steps=[('numimputer',\n",
       "                                                                                          SimpleImputer()),\n",
       "                                                                                         ('numnorm',\n",
       "                                                                                          StandardScaler())]),\n",
       "                                                                         Index(['age', 'hours.per.week'], dtype='object'))])),\n",
       "                                       ('model', KNeighborsClassifier())]),\n",
       "             param_grid={'model__n_neighbors': [3, 11, 15], 'model__p': [1, 2],\n",
       "                         'preprocess__numpipe__numimputer__strategy': ['mean',\n",
       "                                                                       'median']})"
      ]
     },
     "execution_count": 74,
     "metadata": {},
     "output_type": "execute_result"
    }
   ],
   "source": [
    "gs_full_pipe.fit(X_inc_train,y_inc_train)"
   ]
  },
  {
   "cell_type": "code",
   "execution_count": 75,
   "id": "097445f5",
   "metadata": {
    "cell_style": "split",
    "slideshow": {
     "slide_type": "fragment"
    }
   },
   "outputs": [
    {
     "data": {
      "text/plain": [
       "0.7990156968835496"
      ]
     },
     "execution_count": 75,
     "metadata": {},
     "output_type": "execute_result"
    }
   ],
   "source": [
    "gs_full_pipe.best_score_"
   ]
  },
  {
   "cell_type": "code",
   "execution_count": 76,
   "id": "a702944b",
   "metadata": {
    "cell_style": "split",
    "slideshow": {
     "slide_type": "fragment"
    }
   },
   "outputs": [
    {
     "data": {
      "text/plain": [
       "{'model__n_neighbors': 15,\n",
       " 'model__p': 2,\n",
       " 'preprocess__numpipe__numimputer__strategy': 'mean'}"
      ]
     },
     "execution_count": 76,
     "metadata": {},
     "output_type": "execute_result"
    }
   ],
   "source": [
    "gs_full_pipe.best_params_"
   ]
  },
  {
   "cell_type": "code",
   "execution_count": 78,
   "id": "298ad64a",
   "metadata": {
    "cell_style": "center",
    "slideshow": {
     "slide_type": "slide"
    }
   },
   "outputs": [
    {
     "data": {
      "text/plain": [
       "<sklearn.metrics._plot.confusion_matrix.ConfusionMatrixDisplay at 0x7feeb1a44310>"
      ]
     },
     "execution_count": 78,
     "metadata": {},
     "output_type": "execute_result"
    },
    {
     "data": {
      "image/png": "[encoded data removed]",
      "text/plain": [
       "<Figure size 432x288 with 2 Axes>"
      ]
     },
     "metadata": {
      "needs_background": "light"
     },
     "output_type": "display_data"
    }
   ],
   "source": [
    "best_model = gs_full_pipe.best_estimator_\n",
    "y_pred = best_model.predict(X_inc_test)\n",
    "plot_confusion_matrix(best_model,X_inc_test,y_inc_test)\n",
    "#ConfusionMatrixDisplay.from_estimator(best_model,X_inc_test,y_inc_test);"
   ]
  },
  {
   "cell_type": "markdown",
   "id": "53d3c807",
   "metadata": {
    "slideshow": {
     "slide_type": "slide"
    }
   },
   "source": [
    "Try a different scoring metric due to class imbalance"
   ]
  },
  {
   "cell_type": "code",
   "execution_count": 82,
   "id": "e22f8ba4",
   "metadata": {
    "slideshow": {
     "slide_type": "fragment"
    }
   },
   "outputs": [],
   "source": [
    "# going down each level in estimator with double underscore (level1__level2__estimator__argument)\n",
    "final_pipe_grid = {'preprocess__numpipe__numimputer__strategy': [\"mean\", \"median\"],\n",
    "             'model__n_neighbors': [3, 11, 15],\n",
    "             'model__p': [1, 2]}\n",
    "\n",
    "gs_full_pipe2 = GridSearchCV(estimator=final_pipe, \n",
    "                       param_grid=final_pipe_grid, scoring = 'roc_auc')"
   ]
  },
  {
   "cell_type": "code",
   "execution_count": 83,
   "id": "889ed968",
   "metadata": {
    "slideshow": {
     "slide_type": "subslide"
    }
   },
   "outputs": [
    {
     "data": {
      "text/plain": [
       "<sklearn.metrics._plot.confusion_matrix.ConfusionMatrixDisplay at 0x7feeb1ab0970>"
      ]
     },
     "execution_count": 83,
     "metadata": {},
     "output_type": "execute_result"
    },
    {
     "data": {
      "image/png": "[encoded data removed]",
      "text/plain": [
       "<Figure size 432x288 with 2 Axes>"
      ]
     },
     "metadata": {
      "needs_background": "light"
     },
     "output_type": "display_data"
    }
   ],
   "source": [
    "gs_full_pipe2.fit(X_inc_train, y_inc_train)\n",
    "best_model2 = gs_full_pipe2.best_estimator_\n",
    "plot_confusion_matrix(best_model2, X_inc_test,y_inc_test)\n",
    "#ConfusionMatrixDisplay.from_estimator(best_model2, X_inc_test,y_inc_test);"
   ]
  },
  {
   "cell_type": "markdown",
   "id": "db6967f8",
   "metadata": {
    "slideshow": {
     "slide_type": "slide"
    }
   },
   "source": [
    "Scoring made a difference, but not that much. In some case will make a *huge* difference.\n",
    "\n",
    "Probably would do much better with a better classifier and a better tuning range:\n",
    "- But now you see how to address hyperparameters inside column transformers\n",
    "- At any level of the full pipeline\n",
    "- Change metrics you are tuning on"
   ]
  },
  {
   "cell_type": "markdown",
   "id": "ac26ce79",
   "metadata": {
    "slideshow": {
     "slide_type": "slide"
    }
   },
   "source": [
    "#### Feature Union"
   ]
  },
  {
   "cell_type": "markdown",
   "id": "34ddbfcf",
   "metadata": {
    "cell_style": "split",
    "slideshow": {
     "slide_type": "slide"
    }
   },
   "source": [
    "Given a subset of features:\n",
    "- Want to transform feature subset in multiple ways (in parallel)\n",
    "- Keep all of these transformed subsets as features\n",
    "- **Feature Union** of multiple transformers"
   ]
  },
  {
   "cell_type": "markdown",
   "id": "d6839815",
   "metadata": {
    "cell_style": "split",
    "slideshow": {
     "slide_type": "fragment"
    }
   },
   "source": [
    "- E.g. PolynomialFeatures\n",
    "- Function transformer (transform features according to function)"
   ]
  },
  {
   "cell_type": "code",
   "execution_count": 84,
   "id": "755ea694",
   "metadata": {
    "slideshow": {
     "slide_type": "slide"
    }
   },
   "outputs": [],
   "source": [
    "from scipy.stats import norm\n",
    "X = np.linspace(-1.7*np.pi, 1.5*np.pi, 100)\n",
    "np.random.shuffle(X)\n",
    "epsilon = norm.rvs(loc = 0, scale = 3.5, size = 100)\n",
    "y = 5*np.sin(2*X) - 3*np.cos(X) + 2*X + .3*X**2 + epsilon\n",
    "data_df = pd.DataFrame()\n",
    "data_df['X'] = X\n",
    "data_df['y'] = y"
   ]
  },
  {
   "cell_type": "code",
   "execution_count": 85,
   "id": "a7af5435",
   "metadata": {
    "cell_style": "split",
    "scrolled": true,
    "slideshow": {
     "slide_type": "slide"
    }
   },
   "outputs": [
    {
     "data": {
      "text/html": [
       "<div>\n",
       "<style scoped>\n",
       "    .dataframe tbody tr th:only-of-type {\n",
       "        vertical-align: middle;\n",
       "    }\n",
       "\n",
       "    .dataframe tbody tr th {\n",
       "        vertical-align: top;\n",
       "    }\n",
       "\n",
       "    .dataframe thead th {\n",
       "        text-align: right;\n",
       "    }\n",
       "</style>\n",
       "<table border=\"1\" class=\"dataframe\">\n",
       "  <thead>\n",
       "    <tr style=\"text-align: right;\">\n",
       "      <th></th>\n",
       "      <th>X</th>\n",
       "      <th>y</th>\n",
       "    </tr>\n",
       "  </thead>\n",
       "  <tbody>\n",
       "    <tr>\n",
       "      <th>0</th>\n",
       "      <td>-0.872665</td>\n",
       "      <td>-12.831949</td>\n",
       "    </tr>\n",
       "    <tr>\n",
       "      <th>1</th>\n",
       "      <td>-0.669572</td>\n",
       "      <td>-5.189330</td>\n",
       "    </tr>\n",
       "    <tr>\n",
       "      <th>2</th>\n",
       "      <td>2.884553</td>\n",
       "      <td>11.415138</td>\n",
       "    </tr>\n",
       "    <tr>\n",
       "      <th>3</th>\n",
       "      <td>1.869089</td>\n",
       "      <td>10.258193</td>\n",
       "    </tr>\n",
       "    <tr>\n",
       "      <th>4</th>\n",
       "      <td>-0.974211</td>\n",
       "      <td>-8.361334</td>\n",
       "    </tr>\n",
       "    <tr>\n",
       "      <th>...</th>\n",
       "      <td>...</td>\n",
       "      <td>...</td>\n",
       "    </tr>\n",
       "    <tr>\n",
       "      <th>95</th>\n",
       "      <td>2.579914</td>\n",
       "      <td>5.963385</td>\n",
       "    </tr>\n",
       "    <tr>\n",
       "      <th>96</th>\n",
       "      <td>1.259810</td>\n",
       "      <td>5.332738</td>\n",
       "    </tr>\n",
       "    <tr>\n",
       "      <th>97</th>\n",
       "      <td>-2.192768</td>\n",
       "      <td>-3.846696</td>\n",
       "    </tr>\n",
       "    <tr>\n",
       "      <th>98</th>\n",
       "      <td>-1.685036</td>\n",
       "      <td>-3.231827</td>\n",
       "    </tr>\n",
       "    <tr>\n",
       "      <th>99</th>\n",
       "      <td>0.752078</td>\n",
       "      <td>9.323221</td>\n",
       "    </tr>\n",
       "  </tbody>\n",
       "</table>\n",
       "<p>100 rows × 2 columns</p>\n",
       "</div>"
      ],
      "text/plain": [
       "           X          y\n",
       "0  -0.872665 -12.831949\n",
       "1  -0.669572  -5.189330\n",
       "2   2.884553  11.415138\n",
       "3   1.869089  10.258193\n",
       "4  -0.974211  -8.361334\n",
       "..       ...        ...\n",
       "95  2.579914   5.963385\n",
       "96  1.259810   5.332738\n",
       "97 -2.192768  -3.846696\n",
       "98 -1.685036  -3.231827\n",
       "99  0.752078   9.323221\n",
       "\n",
       "[100 rows x 2 columns]"
      ]
     },
     "execution_count": 85,
     "metadata": {},
     "output_type": "execute_result"
    }
   ],
   "source": [
    "data_df"
   ]
  },
  {
   "cell_type": "code",
   "execution_count": 86,
   "id": "f00cb403",
   "metadata": {
    "cell_style": "split",
    "slideshow": {
     "slide_type": "fragment"
    }
   },
   "outputs": [
    {
     "data": {
      "image/png": "[encoded data removed]",
      "text/plain": [
       "<Figure size 432x288 with 1 Axes>"
      ]
     },
     "metadata": {
      "needs_background": "light"
     },
     "output_type": "display_data"
    }
   ],
   "source": [
    "sns.scatterplot(x = 'X', y = 'y', data = \n",
    "                data_df)\n",
    "plt.show()"
   ]
  },
  {
   "cell_type": "code",
   "execution_count": 87,
   "id": "7aabad37",
   "metadata": {
    "cell_style": "center",
    "slideshow": {
     "slide_type": "fragment"
    }
   },
   "outputs": [],
   "source": [
    "X_reshape = data_df['X'].values.reshape(-1,1)\n",
    "y = data_df['y']"
   ]
  },
  {
   "cell_type": "code",
   "execution_count": 88,
   "id": "f8a4e2ab",
   "metadata": {
    "slideshow": {
     "slide_type": "fragment"
    }
   },
   "outputs": [],
   "source": [
    "X_train, X_test, y_train, y_test = train_test_split(X_reshape, y, test_size = 0.2)"
   ]
  },
  {
   "cell_type": "code",
   "execution_count": 89,
   "id": "5af57cb2",
   "metadata": {
    "slideshow": {
     "slide_type": "slide"
    }
   },
   "outputs": [],
   "source": [
    "from sklearn.preprocessing import PolynomialFeatures\n",
    "from sklearn.preprocessing import FunctionTransformer\n",
    "from sklearn.pipeline import FeatureUnion\n",
    "from sklearn.linear_model import Ridge\n",
    "from sklearn.metrics import mean_absolute_error"
   ]
  },
  {
   "cell_type": "markdown",
   "id": "880fbd28",
   "metadata": {
    "slideshow": {
     "slide_type": "fragment"
    }
   },
   "source": [
    "Let's also define two custom functions:"
   ]
  },
  {
   "cell_type": "code",
   "execution_count": 90,
   "id": "f8d68d6b",
   "metadata": {
    "cell_style": "split",
    "slideshow": {
     "slide_type": "fragment"
    }
   },
   "outputs": [],
   "source": [
    "def sinefunc(x, c = 1):\n",
    "    return np.sin(c*x)"
   ]
  },
  {
   "cell_type": "code",
   "execution_count": 91,
   "id": "41e5d738",
   "metadata": {
    "cell_style": "split",
    "slideshow": {
     "slide_type": "fragment"
    }
   },
   "outputs": [],
   "source": [
    "def cosfunc(x, d = 1):\n",
    "    return np.cos(d*x)"
   ]
  },
  {
   "cell_type": "code",
   "execution_count": 92,
   "id": "8ecbe537",
   "metadata": {
    "cell_style": "center",
    "slideshow": {
     "slide_type": "slide"
    }
   },
   "outputs": [],
   "source": [
    "transformer_list = [('poly', PolynomialFeatures(include_bias = False)), \n",
    "                     ('sine', FunctionTransformer(sinefunc)), \n",
    "                     ('cosine', FunctionTransformer(cosfunc))\n",
    "                   ]\n",
    "\n",
    "# takes in input features, applies transformers in parallel to inputs, concatenates:\n",
    "feat_union = FeatureUnion(transformer_list) "
   ]
  },
  {
   "cell_type": "code",
   "execution_count": 93,
   "id": "f4278f84",
   "metadata": {
    "cell_style": "center",
    "slideshow": {
     "slide_type": "fragment"
    }
   },
   "outputs": [
    {
     "data": {
      "text/html": [
       "<style>div.sk-top-container {color: black;background-color: white;}div.sk-toggleable {background-color: white;}label.sk-toggleable__label {cursor: pointer;display: block;width: 100%;margin-bottom: 0;padding: 0.2em 0.3em;box-sizing: border-box;text-align: center;}div.sk-toggleable__content {max-height: 0;max-width: 0;overflow: hidden;text-align: left;background-color: #f0f8ff;}div.sk-toggleable__content pre {margin: 0.2em;color: black;border-radius: 0.25em;background-color: #f0f8ff;}input.sk-toggleable__control:checked~div.sk-toggleable__content {max-height: 200px;max-width: 100%;overflow: auto;}div.sk-estimator input.sk-toggleable__control:checked~label.sk-toggleable__label {background-color: #d4ebff;}div.sk-label input.sk-toggleable__control:checked~label.sk-toggleable__label {background-color: #d4ebff;}input.sk-hidden--visually {border: 0;clip: rect(1px 1px 1px 1px);clip: rect(1px, 1px, 1px, 1px);height: 1px;margin: -1px;overflow: hidden;padding: 0;position: absolute;width: 1px;}div.sk-estimator {font-family: monospace;background-color: #f0f8ff;margin: 0.25em 0.25em;border: 1px dotted black;border-radius: 0.25em;box-sizing: border-box;}div.sk-estimator:hover {background-color: #d4ebff;}div.sk-parallel-item::after {content: \"\";width: 100%;border-bottom: 1px solid gray;flex-grow: 1;}div.sk-label:hover label.sk-toggleable__label {background-color: #d4ebff;}div.sk-serial::before {content: \"\";position: absolute;border-left: 1px solid gray;box-sizing: border-box;top: 2em;bottom: 0;left: 50%;}div.sk-serial {display: flex;flex-direction: column;align-items: center;background-color: white;}div.sk-item {z-index: 1;}div.sk-parallel {display: flex;align-items: stretch;justify-content: center;background-color: white;}div.sk-parallel-item {display: flex;flex-direction: column;position: relative;background-color: white;}div.sk-parallel-item:first-child::after {align-self: flex-end;width: 50%;}div.sk-parallel-item:last-child::after {align-self: flex-start;width: 50%;}div.sk-parallel-item:only-child::after {width: 0;}div.sk-dashed-wrapped {border: 1px dashed gray;margin: 0.2em;box-sizing: border-box;padding-bottom: 0.1em;background-color: white;position: relative;}div.sk-label label {font-family: monospace;font-weight: bold;background-color: white;display: inline-block;line-height: 1.2em;}div.sk-label-container {position: relative;z-index: 2;text-align: center;}div.sk-container {display: inline-block;position: relative;}</style><div class=\"sk-top-container\"><div class=\"sk-container\"><div class=\"sk-item sk-dashed-wrapped\"><div class=\"sk-label-container\"><div class=\"sk-label sk-toggleable\"><input class=\"sk-toggleable__control sk-hidden--visually\" id=\"4afa14e2-32ea-4587-887c-8909c72ee291\" type=\"checkbox\" ><label class=\"sk-toggleable__label\" for=\"4afa14e2-32ea-4587-887c-8909c72ee291\">Pipeline</label><div class=\"sk-toggleable__content\"><pre>Pipeline(steps=[('feateng',\n",
       "                 FeatureUnion(transformer_list=[('poly',\n",
       "                                                 PolynomialFeatures(include_bias=False)),\n",
       "                                                ('sine',\n",
       "                                                 FunctionTransformer(func=<function sinefunc at 0x7feeb1d8c8b0>)),\n",
       "                                                ('cosine',\n",
       "                                                 FunctionTransformer(func=<function cosfunc at 0x7fee68197b80>))])),\n",
       "                ('scaler', StandardScaler())])</pre></div></div></div><div class=\"sk-serial\"><div class=\"sk-item sk-dashed-wrapped\"><div class=\"sk-label-container\"><div class=\"sk-label sk-toggleable\"><input class=\"sk-toggleable__control sk-hidden--visually\" id=\"646244a3-a666-475a-a1cf-dbfb1497ff82\" type=\"checkbox\" ><label class=\"sk-toggleable__label\" for=\"646244a3-a666-475a-a1cf-dbfb1497ff82\">feateng: FeatureUnion</label><div class=\"sk-toggleable__content\"><pre>FeatureUnion(transformer_list=[('poly', PolynomialFeatures(include_bias=False)),\n",
       "                               ('sine',\n",
       "                                FunctionTransformer(func=<function sinefunc at 0x7feeb1d8c8b0>)),\n",
       "                               ('cosine',\n",
       "                                FunctionTransformer(func=<function cosfunc at 0x7fee68197b80>))])</pre></div></div></div><div class=\"sk-parallel\"><div class=\"sk-parallel-item\"><div class=\"sk-item\"><div class=\"sk-label-container\"><div class=\"sk-label sk-toggleable\"><label>poly</label></div></div><div class=\"sk-serial\"><div class=\"sk-item\"><div class=\"sk-estimator sk-toggleable\"><input class=\"sk-toggleable__control sk-hidden--visually\" id=\"94eea171-3500-47d6-9fb4-10b009b9b6a8\" type=\"checkbox\" ><label class=\"sk-toggleable__label\" for=\"94eea171-3500-47d6-9fb4-10b009b9b6a8\">PolynomialFeatures</label><div class=\"sk-toggleable__content\"><pre>PolynomialFeatures(include_bias=False)</pre></div></div></div></div></div></div><div class=\"sk-parallel-item\"><div class=\"sk-item\"><div class=\"sk-label-container\"><div class=\"sk-label sk-toggleable\"><label>sine</label></div></div><div class=\"sk-serial\"><div class=\"sk-item\"><div class=\"sk-estimator sk-toggleable\"><input class=\"sk-toggleable__control sk-hidden--visually\" id=\"56480552-8a04-4cdf-bdd3-b62f301c077f\" type=\"checkbox\" ><label class=\"sk-toggleable__label\" for=\"56480552-8a04-4cdf-bdd3-b62f301c077f\">FunctionTransformer</label><div class=\"sk-toggleable__content\"><pre>FunctionTransformer(func=<function sinefunc at 0x7feeb1d8c8b0>)</pre></div></div></div></div></div></div><div class=\"sk-parallel-item\"><div class=\"sk-item\"><div class=\"sk-label-container\"><div class=\"sk-label sk-toggleable\"><label>cosine</label></div></div><div class=\"sk-serial\"><div class=\"sk-item\"><div class=\"sk-estimator sk-toggleable\"><input class=\"sk-toggleable__control sk-hidden--visually\" id=\"0934f67e-97e1-4101-8f91-0ab6f9626d57\" type=\"checkbox\" ><label class=\"sk-toggleable__label\" for=\"0934f67e-97e1-4101-8f91-0ab6f9626d57\">FunctionTransformer</label><div class=\"sk-toggleable__content\"><pre>FunctionTransformer(func=<function cosfunc at 0x7fee68197b80>)</pre></div></div></div></div></div></div></div></div><div class=\"sk-item\"><div class=\"sk-estimator sk-toggleable\"><input class=\"sk-toggleable__control sk-hidden--visually\" id=\"559d0f7b-5199-4bfe-b61e-ae8a636f1a74\" type=\"checkbox\" ><label class=\"sk-toggleable__label\" for=\"559d0f7b-5199-4bfe-b61e-ae8a636f1a74\">StandardScaler</label><div class=\"sk-toggleable__content\"><pre>StandardScaler()</pre></div></div></div></div></div></div></div>"
      ],
      "text/plain": [
       "Pipeline(steps=[('feateng',\n",
       "                 FeatureUnion(transformer_list=[('poly',\n",
       "                                                 PolynomialFeatures(include_bias=False)),\n",
       "                                                ('sine',\n",
       "                                                 FunctionTransformer(func=<function sinefunc at 0x7feeb1d8c8b0>)),\n",
       "                                                ('cosine',\n",
       "                                                 FunctionTransformer(func=<function cosfunc at 0x7fee68197b80>))])),\n",
       "                ('scaler', StandardScaler())])"
      ]
     },
     "execution_count": 93,
     "metadata": {},
     "output_type": "execute_result"
    }
   ],
   "source": [
    "steps = [('feateng', feat_union), ('scaler', StandardScaler())]\n",
    "preprocess_pipe = Pipeline(steps)\n",
    "preprocess_pipe"
   ]
  },
  {
   "cell_type": "code",
   "execution_count": 94,
   "id": "c32bfbe3",
   "metadata": {
    "cell_style": "center",
    "scrolled": false,
    "slideshow": {
     "slide_type": "slide"
    }
   },
   "outputs": [
    {
     "data": {
      "text/plain": [
       "array([[-0.41484346, -0.82261849, -1.40035021,  0.55911505],\n",
       "       [ 0.33860196, -1.00190768,  0.95326323,  1.35431338],\n",
       "       [ 0.73326385, -0.61012761,  1.33870109, -0.15101111],\n",
       "       [ 0.87677727, -0.38487347,  1.06463577, -0.67095481],\n",
       "       [-1.16828889,  0.57366395,  0.50044561, -1.08871669]])"
      ]
     },
     "execution_count": 94,
     "metadata": {},
     "output_type": "execute_result"
    }
   ],
   "source": [
    "X_proc = preprocess_pipe.fit_transform(X_train)\n",
    "X_proc[0:5]"
   ]
  },
  {
   "cell_type": "markdown",
   "id": "069e132c",
   "metadata": {
    "cell_style": "split",
    "slideshow": {
     "slide_type": "fragment"
    }
   },
   "source": [
    "First column is linear in X, second quadratic in X, then the sin and cosine terms.\n",
    "\n",
    "- Check if all standard scaled:"
   ]
  },
  {
   "cell_type": "code",
   "execution_count": 95,
   "id": "260429a6",
   "metadata": {
    "cell_style": "split",
    "slideshow": {
     "slide_type": "fragment"
    }
   },
   "outputs": [
    {
     "name": "stdout",
     "output_type": "stream",
     "text": [
      "[-5.27355937e-17 -2.21697660e-16 -3.46944695e-17 -2.49800181e-17]\n"
     ]
    }
   ],
   "source": [
    "print(X_proc.mean(axis = 0))"
   ]
  },
  {
   "cell_type": "code",
   "execution_count": 96,
   "id": "0a03a636",
   "metadata": {
    "cell_style": "split",
    "slideshow": {
     "slide_type": "fragment"
    }
   },
   "outputs": [
    {
     "name": "stdout",
     "output_type": "stream",
     "text": [
      "[1. 1. 1. 1.]\n"
     ]
    }
   ],
   "source": [
    "print(X_proc.std(axis = 0))"
   ]
  },
  {
   "cell_type": "markdown",
   "id": "4e9eb2aa",
   "metadata": {
    "slideshow": {
     "slide_type": "slide"
    }
   },
   "source": [
    "Finish pipeline and hyperparameter tune:"
   ]
  },
  {
   "cell_type": "code",
   "execution_count": 97,
   "id": "0a8e3508",
   "metadata": {
    "slideshow": {
     "slide_type": "fragment"
    }
   },
   "outputs": [],
   "source": [
    "steps = [('preprocess', preprocess_pipe), ('ridge', Ridge())]\n",
    "regress_pipe = Pipeline(steps)\n",
    "params = {'preprocess__feateng__poly__degree': [1, 2, 3, 4], \n",
    "          'preprocess__feateng__sine__kw_args': [{'c': 1},{'c': 2},{'c': 3}],\n",
    "          'ridge__alpha': [1e-3, .01, .1, 1, 10, 100]}\n",
    "cv = GridSearchCV(estimator = regress_pipe, param_grid = params, cv = 6)\n",
    "cv.fit(X_train, y_train)\n",
    "best_model = cv.best_estimator_"
   ]
  },
  {
   "cell_type": "code",
   "execution_count": 98,
   "id": "a92cbf3c",
   "metadata": {
    "cell_style": "center",
    "scrolled": false,
    "slideshow": {
     "slide_type": "slide"
    }
   },
   "outputs": [
    {
     "data": {
      "text/plain": [
       "[('preprocess',\n",
       "  Pipeline(steps=[('feateng',\n",
       "                   FeatureUnion(transformer_list=[('poly',\n",
       "                                                   PolynomialFeatures(degree=3,\n",
       "                                                                      include_bias=False)),\n",
       "                                                  ('sine',\n",
       "                                                   FunctionTransformer(func=<function sinefunc at 0x7feeb1d8c8b0>,\n",
       "                                                                       kw_args={'c': 2})),\n",
       "                                                  ('cosine',\n",
       "                                                   FunctionTransformer(func=<function cosfunc at 0x7fee68197b80>))])),\n",
       "                  ('scaler', StandardScaler())])),\n",
       " ('ridge', Ridge(alpha=1))]"
      ]
     },
     "execution_count": 98,
     "metadata": {},
     "output_type": "execute_result"
    }
   ],
   "source": [
    "best_model.steps"
   ]
  },
  {
   "cell_type": "code",
   "execution_count": 99,
   "id": "ebb5871b",
   "metadata": {
    "cell_style": "split",
    "slideshow": {
     "slide_type": "fragment"
    }
   },
   "outputs": [
    {
     "data": {
      "text/plain": [
       "0.8298650336732356"
      ]
     },
     "execution_count": 99,
     "metadata": {},
     "output_type": "execute_result"
    }
   ],
   "source": [
    "cv.best_score_"
   ]
  },
  {
   "cell_type": "code",
   "execution_count": 100,
   "id": "10f614cb",
   "metadata": {
    "cell_style": "split",
    "slideshow": {
     "slide_type": "fragment"
    }
   },
   "outputs": [
    {
     "data": {
      "text/plain": [
       "{'preprocess__feateng__poly__degree': 3,\n",
       " 'preprocess__feateng__sine__kw_args': {'c': 2},\n",
       " 'ridge__alpha': 1}"
      ]
     },
     "execution_count": 100,
     "metadata": {},
     "output_type": "execute_result"
    }
   ],
   "source": [
    "cv.best_params_"
   ]
  },
  {
   "cell_type": "code",
   "execution_count": 101,
   "id": "5beacb43",
   "metadata": {
    "scrolled": true,
    "slideshow": {
     "slide_type": "slide"
    }
   },
   "outputs": [
    {
     "data": {
      "text/html": [
       "<div>\n",
       "<style scoped>\n",
       "    .dataframe tbody tr th:only-of-type {\n",
       "        vertical-align: middle;\n",
       "    }\n",
       "\n",
       "    .dataframe tbody tr th {\n",
       "        vertical-align: top;\n",
       "    }\n",
       "\n",
       "    .dataframe thead th {\n",
       "        text-align: right;\n",
       "    }\n",
       "</style>\n",
       "<table border=\"1\" class=\"dataframe\">\n",
       "  <thead>\n",
       "    <tr style=\"text-align: right;\">\n",
       "      <th></th>\n",
       "      <th>mean_fit_time</th>\n",
       "      <th>std_fit_time</th>\n",
       "      <th>mean_score_time</th>\n",
       "      <th>std_score_time</th>\n",
       "      <th>param_preprocess__feateng__poly__degree</th>\n",
       "      <th>param_preprocess__feateng__sine__kw_args</th>\n",
       "      <th>param_ridge__alpha</th>\n",
       "      <th>params</th>\n",
       "      <th>split0_test_score</th>\n",
       "      <th>split1_test_score</th>\n",
       "      <th>split2_test_score</th>\n",
       "      <th>split3_test_score</th>\n",
       "      <th>split4_test_score</th>\n",
       "      <th>split5_test_score</th>\n",
       "      <th>mean_test_score</th>\n",
       "      <th>std_test_score</th>\n",
       "      <th>rank_test_score</th>\n",
       "    </tr>\n",
       "  </thead>\n",
       "  <tbody>\n",
       "    <tr>\n",
       "      <th>0</th>\n",
       "      <td>0.003237</td>\n",
       "      <td>0.004258</td>\n",
       "      <td>0.000674</td>\n",
       "      <td>0.000183</td>\n",
       "      <td>1</td>\n",
       "      <td>{'c': 1}</td>\n",
       "      <td>0.001</td>\n",
       "      <td>{'preprocess__feateng__poly__degree': 1, 'prep...</td>\n",
       "      <td>0.253355</td>\n",
       "      <td>0.742510</td>\n",
       "      <td>0.659882</td>\n",
       "      <td>0.556695</td>\n",
       "      <td>0.739170</td>\n",
       "      <td>0.777226</td>\n",
       "      <td>0.621473</td>\n",
       "      <td>0.179789</td>\n",
       "      <td>62</td>\n",
       "    </tr>\n",
       "    <tr>\n",
       "      <th>1</th>\n",
       "      <td>0.001115</td>\n",
       "      <td>0.000088</td>\n",
       "      <td>0.000534</td>\n",
       "      <td>0.000047</td>\n",
       "      <td>1</td>\n",
       "      <td>{'c': 1}</td>\n",
       "      <td>0.01</td>\n",
       "      <td>{'preprocess__feateng__poly__degree': 1, 'prep...</td>\n",
       "      <td>0.253453</td>\n",
       "      <td>0.742548</td>\n",
       "      <td>0.659842</td>\n",
       "      <td>0.556794</td>\n",
       "      <td>0.739156</td>\n",
       "      <td>0.777186</td>\n",
       "      <td>0.621496</td>\n",
       "      <td>0.179745</td>\n",
       "      <td>61</td>\n",
       "    </tr>\n",
       "    <tr>\n",
       "      <th>2</th>\n",
       "      <td>0.001103</td>\n",
       "      <td>0.000174</td>\n",
       "      <td>0.000493</td>\n",
       "      <td>0.000065</td>\n",
       "      <td>1</td>\n",
       "      <td>{'c': 1}</td>\n",
       "      <td>0.1</td>\n",
       "      <td>{'preprocess__feateng__poly__degree': 1, 'prep...</td>\n",
       "      <td>0.254429</td>\n",
       "      <td>0.742921</td>\n",
       "      <td>0.659434</td>\n",
       "      <td>0.557780</td>\n",
       "      <td>0.739013</td>\n",
       "      <td>0.776785</td>\n",
       "      <td>0.621727</td>\n",
       "      <td>0.179307</td>\n",
       "      <td>60</td>\n",
       "    </tr>\n",
       "    <tr>\n",
       "      <th>3</th>\n",
       "      <td>0.000901</td>\n",
       "      <td>0.000051</td>\n",
       "      <td>0.000438</td>\n",
       "      <td>0.000021</td>\n",
       "      <td>1</td>\n",
       "      <td>{'c': 1}</td>\n",
       "      <td>1</td>\n",
       "      <td>{'preprocess__feateng__poly__degree': 1, 'prep...</td>\n",
       "      <td>0.263730</td>\n",
       "      <td>0.746391</td>\n",
       "      <td>0.655350</td>\n",
       "      <td>0.567245</td>\n",
       "      <td>0.737502</td>\n",
       "      <td>0.772763</td>\n",
       "      <td>0.623830</td>\n",
       "      <td>0.175115</td>\n",
       "      <td>59</td>\n",
       "    </tr>\n",
       "    <tr>\n",
       "      <th>4</th>\n",
       "      <td>0.000821</td>\n",
       "      <td>0.000028</td>\n",
       "      <td>0.000381</td>\n",
       "      <td>0.000005</td>\n",
       "      <td>1</td>\n",
       "      <td>{'c': 1}</td>\n",
       "      <td>10</td>\n",
       "      <td>{'preprocess__feateng__poly__degree': 1, 'prep...</td>\n",
       "      <td>0.321838</td>\n",
       "      <td>0.760909</td>\n",
       "      <td>0.614736</td>\n",
       "      <td>0.630600</td>\n",
       "      <td>0.716477</td>\n",
       "      <td>0.732009</td>\n",
       "      <td>0.629428</td>\n",
       "      <td>0.147319</td>\n",
       "      <td>56</td>\n",
       "    </tr>\n",
       "    <tr>\n",
       "      <th>...</th>\n",
       "      <td>...</td>\n",
       "      <td>...</td>\n",
       "      <td>...</td>\n",
       "      <td>...</td>\n",
       "      <td>...</td>\n",
       "      <td>...</td>\n",
       "      <td>...</td>\n",
       "      <td>...</td>\n",
       "      <td>...</td>\n",
       "      <td>...</td>\n",
       "      <td>...</td>\n",
       "      <td>...</td>\n",
       "      <td>...</td>\n",
       "      <td>...</td>\n",
       "      <td>...</td>\n",
       "      <td>...</td>\n",
       "      <td>...</td>\n",
       "    </tr>\n",
       "    <tr>\n",
       "      <th>67</th>\n",
       "      <td>0.000833</td>\n",
       "      <td>0.000042</td>\n",
       "      <td>0.000389</td>\n",
       "      <td>0.000002</td>\n",
       "      <td>4</td>\n",
       "      <td>{'c': 3}</td>\n",
       "      <td>0.01</td>\n",
       "      <td>{'preprocess__feateng__poly__degree': 4, 'prep...</td>\n",
       "      <td>0.139889</td>\n",
       "      <td>0.802655</td>\n",
       "      <td>0.742221</td>\n",
       "      <td>0.712937</td>\n",
       "      <td>0.796412</td>\n",
       "      <td>0.853273</td>\n",
       "      <td>0.674565</td>\n",
       "      <td>0.243283</td>\n",
       "      <td>30</td>\n",
       "    </tr>\n",
       "    <tr>\n",
       "      <th>68</th>\n",
       "      <td>0.000820</td>\n",
       "      <td>0.000009</td>\n",
       "      <td>0.000393</td>\n",
       "      <td>0.000007</td>\n",
       "      <td>4</td>\n",
       "      <td>{'c': 3}</td>\n",
       "      <td>0.1</td>\n",
       "      <td>{'preprocess__feateng__poly__degree': 4, 'prep...</td>\n",
       "      <td>0.137983</td>\n",
       "      <td>0.803574</td>\n",
       "      <td>0.744648</td>\n",
       "      <td>0.713606</td>\n",
       "      <td>0.794301</td>\n",
       "      <td>0.854123</td>\n",
       "      <td>0.674706</td>\n",
       "      <td>0.244123</td>\n",
       "      <td>29</td>\n",
       "    </tr>\n",
       "    <tr>\n",
       "      <th>69</th>\n",
       "      <td>0.000824</td>\n",
       "      <td>0.000034</td>\n",
       "      <td>0.000390</td>\n",
       "      <td>0.000006</td>\n",
       "      <td>4</td>\n",
       "      <td>{'c': 3}</td>\n",
       "      <td>1</td>\n",
       "      <td>{'preprocess__feateng__poly__degree': 4, 'prep...</td>\n",
       "      <td>0.150041</td>\n",
       "      <td>0.808795</td>\n",
       "      <td>0.745056</td>\n",
       "      <td>0.716480</td>\n",
       "      <td>0.789877</td>\n",
       "      <td>0.852507</td>\n",
       "      <td>0.677126</td>\n",
       "      <td>0.239718</td>\n",
       "      <td>27</td>\n",
       "    </tr>\n",
       "    <tr>\n",
       "      <th>70</th>\n",
       "      <td>0.000805</td>\n",
       "      <td>0.000007</td>\n",
       "      <td>0.000389</td>\n",
       "      <td>0.000002</td>\n",
       "      <td>4</td>\n",
       "      <td>{'c': 3}</td>\n",
       "      <td>10</td>\n",
       "      <td>{'preprocess__feateng__poly__degree': 4, 'prep...</td>\n",
       "      <td>0.247822</td>\n",
       "      <td>0.827772</td>\n",
       "      <td>0.702604</td>\n",
       "      <td>0.736630</td>\n",
       "      <td>0.782214</td>\n",
       "      <td>0.826236</td>\n",
       "      <td>0.687213</td>\n",
       "      <td>0.201599</td>\n",
       "      <td>21</td>\n",
       "    </tr>\n",
       "    <tr>\n",
       "      <th>71</th>\n",
       "      <td>0.000804</td>\n",
       "      <td>0.000005</td>\n",
       "      <td>0.000389</td>\n",
       "      <td>0.000004</td>\n",
       "      <td>4</td>\n",
       "      <td>{'c': 3}</td>\n",
       "      <td>100</td>\n",
       "      <td>{'preprocess__feateng__poly__degree': 4, 'prep...</td>\n",
       "      <td>0.303284</td>\n",
       "      <td>0.675143</td>\n",
       "      <td>0.455835</td>\n",
       "      <td>0.660450</td>\n",
       "      <td>0.609763</td>\n",
       "      <td>0.592476</td>\n",
       "      <td>0.549492</td>\n",
       "      <td>0.131002</td>\n",
       "      <td>64</td>\n",
       "    </tr>\n",
       "  </tbody>\n",
       "</table>\n",
       "<p>72 rows × 17 columns</p>\n",
       "</div>"
      ],
      "text/plain": [
       "    mean_fit_time  std_fit_time  mean_score_time  std_score_time  \\\n",
       "0        0.003237      0.004258         0.000674        0.000183   \n",
       "1        0.001115      0.000088         0.000534        0.000047   \n",
       "2        0.001103      0.000174         0.000493        0.000065   \n",
       "3        0.000901      0.000051         0.000438        0.000021   \n",
       "4        0.000821      0.000028         0.000381        0.000005   \n",
       "..            ...           ...              ...             ...   \n",
       "67       0.000833      0.000042         0.000389        0.000002   \n",
       "68       0.000820      0.000009         0.000393        0.000007   \n",
       "69       0.000824      0.000034         0.000390        0.000006   \n",
       "70       0.000805      0.000007         0.000389        0.000002   \n",
       "71       0.000804      0.000005         0.000389        0.000004   \n",
       "\n",
       "   param_preprocess__feateng__poly__degree  \\\n",
       "0                                        1   \n",
       "1                                        1   \n",
       "2                                        1   \n",
       "3                                        1   \n",
       "4                                        1   \n",
       "..                                     ...   \n",
       "67                                       4   \n",
       "68                                       4   \n",
       "69                                       4   \n",
       "70                                       4   \n",
       "71                                       4   \n",
       "\n",
       "   param_preprocess__feateng__sine__kw_args param_ridge__alpha  \\\n",
       "0                                  {'c': 1}              0.001   \n",
       "1                                  {'c': 1}               0.01   \n",
       "2                                  {'c': 1}                0.1   \n",
       "3                                  {'c': 1}                  1   \n",
       "4                                  {'c': 1}                 10   \n",
       "..                                      ...                ...   \n",
       "67                                 {'c': 3}               0.01   \n",
       "68                                 {'c': 3}                0.1   \n",
       "69                                 {'c': 3}                  1   \n",
       "70                                 {'c': 3}                 10   \n",
       "71                                 {'c': 3}                100   \n",
       "\n",
       "                                               params  split0_test_score  \\\n",
       "0   {'preprocess__feateng__poly__degree': 1, 'prep...           0.253355   \n",
       "1   {'preprocess__feateng__poly__degree': 1, 'prep...           0.253453   \n",
       "2   {'preprocess__feateng__poly__degree': 1, 'prep...           0.254429   \n",
       "3   {'preprocess__feateng__poly__degree': 1, 'prep...           0.263730   \n",
       "4   {'preprocess__feateng__poly__degree': 1, 'prep...           0.321838   \n",
       "..                                                ...                ...   \n",
       "67  {'preprocess__feateng__poly__degree': 4, 'prep...           0.139889   \n",
       "68  {'preprocess__feateng__poly__degree': 4, 'prep...           0.137983   \n",
       "69  {'preprocess__feateng__poly__degree': 4, 'prep...           0.150041   \n",
       "70  {'preprocess__feateng__poly__degree': 4, 'prep...           0.247822   \n",
       "71  {'preprocess__feateng__poly__degree': 4, 'prep...           0.303284   \n",
       "\n",
       "    split1_test_score  split2_test_score  split3_test_score  \\\n",
       "0            0.742510           0.659882           0.556695   \n",
       "1            0.742548           0.659842           0.556794   \n",
       "2            0.742921           0.659434           0.557780   \n",
       "3            0.746391           0.655350           0.567245   \n",
       "4            0.760909           0.614736           0.630600   \n",
       "..                ...                ...                ...   \n",
       "67           0.802655           0.742221           0.712937   \n",
       "68           0.803574           0.744648           0.713606   \n",
       "69           0.808795           0.745056           0.716480   \n",
       "70           0.827772           0.702604           0.736630   \n",
       "71           0.675143           0.455835           0.660450   \n",
       "\n",
       "    split4_test_score  split5_test_score  mean_test_score  std_test_score  \\\n",
       "0            0.739170           0.777226         0.621473        0.179789   \n",
       "1            0.739156           0.777186         0.621496        0.179745   \n",
       "2            0.739013           0.776785         0.621727        0.179307   \n",
       "3            0.737502           0.772763         0.623830        0.175115   \n",
       "4            0.716477           0.732009         0.629428        0.147319   \n",
       "..                ...                ...              ...             ...   \n",
       "67           0.796412           0.853273         0.674565        0.243283   \n",
       "68           0.794301           0.854123         0.674706        0.244123   \n",
       "69           0.789877           0.852507         0.677126        0.239718   \n",
       "70           0.782214           0.826236         0.687213        0.201599   \n",
       "71           0.609763           0.592476         0.549492        0.131002   \n",
       "\n",
       "    rank_test_score  \n",
       "0                62  \n",
       "1                61  \n",
       "2                60  \n",
       "3                59  \n",
       "4                56  \n",
       "..              ...  \n",
       "67               30  \n",
       "68               29  \n",
       "69               27  \n",
       "70               21  \n",
       "71               64  \n",
       "\n",
       "[72 rows x 17 columns]"
      ]
     },
     "execution_count": 101,
     "metadata": {},
     "output_type": "execute_result"
    }
   ],
   "source": [
    "pd.DataFrame(cv.cv_results_)"
   ]
  },
  {
   "cell_type": "code",
   "execution_count": 102,
   "id": "da436bbb",
   "metadata": {
    "scrolled": false,
    "slideshow": {
     "slide_type": "slide"
    }
   },
   "outputs": [],
   "source": [
    "best_model.fit(X_train, y_train)\n",
    "y_predictions = best_model.predict(data_df['X'].values.reshape(-1,1))"
   ]
  },
  {
   "cell_type": "code",
   "execution_count": 103,
   "id": "5944718d",
   "metadata": {
    "cell_style": "split",
    "scrolled": true,
    "slideshow": {
     "slide_type": "fragment"
    }
   },
   "outputs": [
    {
     "data": {
      "image/png": "[encoded data removed]",
      "text/plain": [
       "<Figure size 432x288 with 1 Axes>"
      ]
     },
     "metadata": {
      "needs_background": "light"
     },
     "output_type": "display_data"
    }
   ],
   "source": [
    "fig, ax = plt.subplots()\n",
    "ax.scatter(X, y_predictions, label = 'fit')\n",
    "ax.scatter(X, y, label = 'data')\n",
    "ax.legend()\n",
    "plt.show()"
   ]
  },
  {
   "cell_type": "code",
   "execution_count": 104,
   "id": "e339fc7b",
   "metadata": {
    "cell_style": "split",
    "slideshow": {
     "slide_type": "fragment"
    }
   },
   "outputs": [],
   "source": [
    "y_pred = best_model.predict(X_test)"
   ]
  },
  {
   "cell_type": "code",
   "execution_count": 105,
   "id": "37eed449",
   "metadata": {
    "cell_style": "split",
    "slideshow": {
     "slide_type": "fragment"
    }
   },
   "outputs": [
    {
     "data": {
      "text/plain": [
       "2.735116290015081"
      ]
     },
     "execution_count": 105,
     "metadata": {},
     "output_type": "execute_result"
    }
   ],
   "source": [
    "mean_absolute_error(y_pred, y_test)"
   ]
  },
  {
   "cell_type": "markdown",
   "id": "32ccfeb3",
   "metadata": {
    "cell_style": "split",
    "slideshow": {
     "slide_type": "fragment"
    }
   },
   "source": [
    "Can use Pipelines, FeatureUnions, FunctionTransformers:\n",
    "- to systematically search basis function spaces\n",
    "- Get best fits based off series of functions\n",
    "- Best function selection"
   ]
  },
  {
   "cell_type": "markdown",
   "id": "07fc11ce",
   "metadata": {
    "cell_style": "split",
    "slideshow": {
     "slide_type": "fragment"
    }
   },
   "source": [
    "**Obviously very powerful**"
   ]
  },
  {
   "cell_type": "markdown",
   "id": "5dd978de",
   "metadata": {
    "slideshow": {
     "slide_type": "slide"
    }
   },
   "source": [
    "Combining FeatureUnion with ColumnTransformer:\n",
    "- Apply function finding/feature engineering of different kinds to different columns\n",
    "- Input transformed features into various types of predictive models (with regularization/hyperparameter tuning)\n",
    "\n",
    "**Now can start to build very powerful/flexible models**"
   ]
  },
  {
   "cell_type": "markdown",
   "id": "53a9ba25",
   "metadata": {
    "cell_style": "split",
    "slideshow": {
     "slide_type": "slide"
    }
   },
   "source": [
    "Kind of like building legos. \n",
    "- Maybe you want some extra pieces\n",
    "- Model/Transformer extensions\n",
    "- Treat models like transformers in FeatureUnion (parallel modeling)\n",
    "- Get an expansion pack!\n"
   ]
  },
  {
   "cell_type": "markdown",
   "id": "2d6e3626",
   "metadata": {
    "cell_style": "split",
    "slideshow": {
     "slide_type": "fragment"
    }
   },
   "source": [
    "May be worth exploring **sklego**:\n",
    "<center><img src = \"Images/sklego.png\" width = 300 /></center>\n",
    "\n",
    "<center>https://scikit-lego.netlify.app/</center>"
   ]
  },
  {
   "cell_type": "markdown",
   "id": "0228738b",
   "metadata": {
    "slideshow": {
     "slide_type": "slide"
    }
   },
   "source": [
    "#### Optimizing tuning strategies"
   ]
  },
  {
   "cell_type": "markdown",
   "id": "dde538fc",
   "metadata": {
    "cell_style": "center",
    "slideshow": {
     "slide_type": "slide"
    }
   },
   "source": [
    "As models/pipelines get complex:\n",
    "- Lots of hyperparameters to play around with\n",
    "- GridSearch not the best **initial** strategy:\n",
    "    - Takes forever\n",
    "    - Want to sample space more effectively."
   ]
  },
  {
   "cell_type": "markdown",
   "id": "e5c9ca48",
   "metadata": {
    "slideshow": {
     "slide_type": "slide"
    }
   },
   "source": [
    "Randomized Search CV"
   ]
  },
  {
   "cell_type": "markdown",
   "id": "919444f0",
   "metadata": {
    "slideshow": {
     "slide_type": "fragment"
    }
   },
   "source": [
    "<img src = \"Images/grid_vs_randomcv.png\" />\n",
    "\n",
    "<center>Often smaller number of random hyperparamter samples better than grid search.</center>"
   ]
  },
  {
   "cell_type": "code",
   "execution_count": 106,
   "id": "95794f65",
   "metadata": {
    "cell_style": "center",
    "slideshow": {
     "slide_type": "slide"
    }
   },
   "outputs": [],
   "source": [
    "from sklearn.model_selection import RandomizedSearchCV"
   ]
  },
  {
   "cell_type": "markdown",
   "id": "d9b82f55",
   "metadata": {
    "cell_style": "split",
    "slideshow": {
     "slide_type": "fragment"
    }
   },
   "source": [
    "Basically same syntax as GridSearchCV:\n",
    "- param_distributions: \n",
    "    - can take dict of hyperparameters with value list: uniformly samples\n",
    "    - can take dict of hyperparameters with specified distributions.\n",
    "- n_iter is # of samples to take."
   ]
  },
  {
   "cell_type": "code",
   "execution_count": 107,
   "id": "8b90e01d",
   "metadata": {
    "cell_style": "split",
    "slideshow": {
     "slide_type": "fragment"
    }
   },
   "outputs": [
    {
     "data": {
      "text/plain": [
       "{'preprocess__feateng__poly__degree': [1, 2, 3, 4],\n",
       " 'preprocess__feateng__sine__kw_args': [{'c': 1}, {'c': 2}, {'c': 3}],\n",
       " 'ridge__alpha': [0.001, 0.01, 0.1, 1, 10, 100]}"
      ]
     },
     "execution_count": 107,
     "metadata": {},
     "output_type": "execute_result"
    }
   ],
   "source": [
    "# will uniformly random sample this grid.\n",
    "params"
   ]
  },
  {
   "cell_type": "code",
   "execution_count": 108,
   "id": "d560fbae",
   "metadata": {
    "cell_style": "center",
    "slideshow": {
     "slide_type": "slide"
    }
   },
   "outputs": [],
   "source": [
    "random_cv = RandomizedSearchCV(estimator = regress_pipe, param_distributions = params, n_iter = 10, cv = 6)\n",
    "random_cv.fit(X_train, y_train);"
   ]
  },
  {
   "cell_type": "code",
   "execution_count": 109,
   "id": "7b8537e1",
   "metadata": {
    "cell_style": "center",
    "slideshow": {
     "slide_type": "fragment"
    }
   },
   "outputs": [
    {
     "data": {
      "text/html": [
       "<div>\n",
       "<style scoped>\n",
       "    .dataframe tbody tr th:only-of-type {\n",
       "        vertical-align: middle;\n",
       "    }\n",
       "\n",
       "    .dataframe tbody tr th {\n",
       "        vertical-align: top;\n",
       "    }\n",
       "\n",
       "    .dataframe thead th {\n",
       "        text-align: right;\n",
       "    }\n",
       "</style>\n",
       "<table border=\"1\" class=\"dataframe\">\n",
       "  <thead>\n",
       "    <tr style=\"text-align: right;\">\n",
       "      <th></th>\n",
       "      <th>mean_fit_time</th>\n",
       "      <th>std_fit_time</th>\n",
       "      <th>mean_score_time</th>\n",
       "      <th>std_score_time</th>\n",
       "      <th>param_ridge__alpha</th>\n",
       "      <th>param_preprocess__feateng__sine__kw_args</th>\n",
       "      <th>param_preprocess__feateng__poly__degree</th>\n",
       "      <th>params</th>\n",
       "      <th>split0_test_score</th>\n",
       "      <th>split1_test_score</th>\n",
       "      <th>split2_test_score</th>\n",
       "      <th>split3_test_score</th>\n",
       "      <th>split4_test_score</th>\n",
       "      <th>split5_test_score</th>\n",
       "      <th>mean_test_score</th>\n",
       "      <th>std_test_score</th>\n",
       "      <th>rank_test_score</th>\n",
       "    </tr>\n",
       "  </thead>\n",
       "  <tbody>\n",
       "    <tr>\n",
       "      <th>0</th>\n",
       "      <td>0.001739</td>\n",
       "      <td>0.001285</td>\n",
       "      <td>0.000717</td>\n",
       "      <td>0.000578</td>\n",
       "      <td>1</td>\n",
       "      <td>{'c': 2}</td>\n",
       "      <td>2</td>\n",
       "      <td>{'ridge__alpha': 1, 'preprocess__feateng__sine...</td>\n",
       "      <td>0.652627</td>\n",
       "      <td>0.925225</td>\n",
       "      <td>0.809735</td>\n",
       "      <td>0.904307</td>\n",
       "      <td>0.792905</td>\n",
       "      <td>0.891453</td>\n",
       "      <td>0.829375</td>\n",
       "      <td>0.092746</td>\n",
       "      <td>1</td>\n",
       "    </tr>\n",
       "    <tr>\n",
       "      <th>1</th>\n",
       "      <td>0.001020</td>\n",
       "      <td>0.000174</td>\n",
       "      <td>0.000474</td>\n",
       "      <td>0.000066</td>\n",
       "      <td>100</td>\n",
       "      <td>{'c': 2}</td>\n",
       "      <td>2</td>\n",
       "      <td>{'ridge__alpha': 100, 'preprocess__feateng__si...</td>\n",
       "      <td>0.380313</td>\n",
       "      <td>0.673107</td>\n",
       "      <td>0.481254</td>\n",
       "      <td>0.683924</td>\n",
       "      <td>0.569835</td>\n",
       "      <td>0.569749</td>\n",
       "      <td>0.559697</td>\n",
       "      <td>0.105538</td>\n",
       "      <td>7</td>\n",
       "    </tr>\n",
       "    <tr>\n",
       "      <th>2</th>\n",
       "      <td>0.001145</td>\n",
       "      <td>0.000148</td>\n",
       "      <td>0.000521</td>\n",
       "      <td>0.000095</td>\n",
       "      <td>0.1</td>\n",
       "      <td>{'c': 3}</td>\n",
       "      <td>4</td>\n",
       "      <td>{'ridge__alpha': 0.1, 'preprocess__feateng__si...</td>\n",
       "      <td>0.137983</td>\n",
       "      <td>0.803574</td>\n",
       "      <td>0.744648</td>\n",
       "      <td>0.713606</td>\n",
       "      <td>0.794301</td>\n",
       "      <td>0.854123</td>\n",
       "      <td>0.674706</td>\n",
       "      <td>0.244123</td>\n",
       "      <td>3</td>\n",
       "    </tr>\n",
       "    <tr>\n",
       "      <th>3</th>\n",
       "      <td>0.000939</td>\n",
       "      <td>0.000075</td>\n",
       "      <td>0.000454</td>\n",
       "      <td>0.000042</td>\n",
       "      <td>100</td>\n",
       "      <td>{'c': 1}</td>\n",
       "      <td>1</td>\n",
       "      <td>{'ridge__alpha': 100, 'preprocess__feateng__si...</td>\n",
       "      <td>0.225739</td>\n",
       "      <td>0.529570</td>\n",
       "      <td>0.349678</td>\n",
       "      <td>0.537873</td>\n",
       "      <td>0.468450</td>\n",
       "      <td>0.445093</td>\n",
       "      <td>0.426067</td>\n",
       "      <td>0.109040</td>\n",
       "      <td>10</td>\n",
       "    </tr>\n",
       "    <tr>\n",
       "      <th>4</th>\n",
       "      <td>0.000934</td>\n",
       "      <td>0.000045</td>\n",
       "      <td>0.000442</td>\n",
       "      <td>0.000022</td>\n",
       "      <td>100</td>\n",
       "      <td>{'c': 3}</td>\n",
       "      <td>1</td>\n",
       "      <td>{'ridge__alpha': 100, 'preprocess__feateng__si...</td>\n",
       "      <td>0.285338</td>\n",
       "      <td>0.530485</td>\n",
       "      <td>0.361679</td>\n",
       "      <td>0.534307</td>\n",
       "      <td>0.474134</td>\n",
       "      <td>0.450553</td>\n",
       "      <td>0.439416</td>\n",
       "      <td>0.089824</td>\n",
       "      <td>9</td>\n",
       "    </tr>\n",
       "  </tbody>\n",
       "</table>\n",
       "</div>"
      ],
      "text/plain": [
       "   mean_fit_time  std_fit_time  mean_score_time  std_score_time  \\\n",
       "0       0.001739      0.001285         0.000717        0.000578   \n",
       "1       0.001020      0.000174         0.000474        0.000066   \n",
       "2       0.001145      0.000148         0.000521        0.000095   \n",
       "3       0.000939      0.000075         0.000454        0.000042   \n",
       "4       0.000934      0.000045         0.000442        0.000022   \n",
       "\n",
       "  param_ridge__alpha param_preprocess__feateng__sine__kw_args  \\\n",
       "0                  1                                 {'c': 2}   \n",
       "1                100                                 {'c': 2}   \n",
       "2                0.1                                 {'c': 3}   \n",
       "3                100                                 {'c': 1}   \n",
       "4                100                                 {'c': 3}   \n",
       "\n",
       "  param_preprocess__feateng__poly__degree  \\\n",
       "0                                       2   \n",
       "1                                       2   \n",
       "2                                       4   \n",
       "3                                       1   \n",
       "4                                       1   \n",
       "\n",
       "                                              params  split0_test_score  \\\n",
       "0  {'ridge__alpha': 1, 'preprocess__feateng__sine...           0.652627   \n",
       "1  {'ridge__alpha': 100, 'preprocess__feateng__si...           0.380313   \n",
       "2  {'ridge__alpha': 0.1, 'preprocess__feateng__si...           0.137983   \n",
       "3  {'ridge__alpha': 100, 'preprocess__feateng__si...           0.225739   \n",
       "4  {'ridge__alpha': 100, 'preprocess__feateng__si...           0.285338   \n",
       "\n",
       "   split1_test_score  split2_test_score  split3_test_score  split4_test_score  \\\n",
       "0           0.925225           0.809735           0.904307           0.792905   \n",
       "1           0.673107           0.481254           0.683924           0.569835   \n",
       "2           0.803574           0.744648           0.713606           0.794301   \n",
       "3           0.529570           0.349678           0.537873           0.468450   \n",
       "4           0.530485           0.361679           0.534307           0.474134   \n",
       "\n",
       "   split5_test_score  mean_test_score  std_test_score  rank_test_score  \n",
       "0           0.891453         0.829375        0.092746                1  \n",
       "1           0.569749         0.559697        0.105538                7  \n",
       "2           0.854123         0.674706        0.244123                3  \n",
       "3           0.445093         0.426067        0.109040               10  \n",
       "4           0.450553         0.439416        0.089824                9  "
      ]
     },
     "execution_count": 109,
     "metadata": {},
     "output_type": "execute_result"
    }
   ],
   "source": [
    "randomcv_results = pd.DataFrame(random_cv.cv_results_)\n",
    "randomcv_results.head()"
   ]
  },
  {
   "cell_type": "code",
   "execution_count": 110,
   "id": "b3ab5118",
   "metadata": {
    "cell_style": "split",
    "slideshow": {
     "slide_type": "slide"
    }
   },
   "outputs": [
    {
     "data": {
      "text/html": [
       "<style>div.sk-top-container {color: black;background-color: white;}div.sk-toggleable {background-color: white;}label.sk-toggleable__label {cursor: pointer;display: block;width: 100%;margin-bottom: 0;padding: 0.2em 0.3em;box-sizing: border-box;text-align: center;}div.sk-toggleable__content {max-height: 0;max-width: 0;overflow: hidden;text-align: left;background-color: #f0f8ff;}div.sk-toggleable__content pre {margin: 0.2em;color: black;border-radius: 0.25em;background-color: #f0f8ff;}input.sk-toggleable__control:checked~div.sk-toggleable__content {max-height: 200px;max-width: 100%;overflow: auto;}div.sk-estimator input.sk-toggleable__control:checked~label.sk-toggleable__label {background-color: #d4ebff;}div.sk-label input.sk-toggleable__control:checked~label.sk-toggleable__label {background-color: #d4ebff;}input.sk-hidden--visually {border: 0;clip: rect(1px 1px 1px 1px);clip: rect(1px, 1px, 1px, 1px);height: 1px;margin: -1px;overflow: hidden;padding: 0;position: absolute;width: 1px;}div.sk-estimator {font-family: monospace;background-color: #f0f8ff;margin: 0.25em 0.25em;border: 1px dotted black;border-radius: 0.25em;box-sizing: border-box;}div.sk-estimator:hover {background-color: #d4ebff;}div.sk-parallel-item::after {content: \"\";width: 100%;border-bottom: 1px solid gray;flex-grow: 1;}div.sk-label:hover label.sk-toggleable__label {background-color: #d4ebff;}div.sk-serial::before {content: \"\";position: absolute;border-left: 1px solid gray;box-sizing: border-box;top: 2em;bottom: 0;left: 50%;}div.sk-serial {display: flex;flex-direction: column;align-items: center;background-color: white;}div.sk-item {z-index: 1;}div.sk-parallel {display: flex;align-items: stretch;justify-content: center;background-color: white;}div.sk-parallel-item {display: flex;flex-direction: column;position: relative;background-color: white;}div.sk-parallel-item:first-child::after {align-self: flex-end;width: 50%;}div.sk-parallel-item:last-child::after {align-self: flex-start;width: 50%;}div.sk-parallel-item:only-child::after {width: 0;}div.sk-dashed-wrapped {border: 1px dashed gray;margin: 0.2em;box-sizing: border-box;padding-bottom: 0.1em;background-color: white;position: relative;}div.sk-label label {font-family: monospace;font-weight: bold;background-color: white;display: inline-block;line-height: 1.2em;}div.sk-label-container {position: relative;z-index: 2;text-align: center;}div.sk-container {display: inline-block;position: relative;}</style><div class=\"sk-top-container\"><div class=\"sk-container\"><div class=\"sk-item sk-dashed-wrapped\"><div class=\"sk-label-container\"><div class=\"sk-label sk-toggleable\"><input class=\"sk-toggleable__control sk-hidden--visually\" id=\"b683b092-0f8f-4dec-a0a4-f53ee54cd374\" type=\"checkbox\" ><label class=\"sk-toggleable__label\" for=\"b683b092-0f8f-4dec-a0a4-f53ee54cd374\">Pipeline</label><div class=\"sk-toggleable__content\"><pre>Pipeline(steps=[('preprocess',\n",
       "                 Pipeline(steps=[('feateng',\n",
       "                                  FeatureUnion(transformer_list=[('poly',\n",
       "                                                                  PolynomialFeatures(include_bias=False)),\n",
       "                                                                 ('sine',\n",
       "                                                                  FunctionTransformer(func=<function sinefunc at 0x7feeb1d8c8b0>,\n",
       "                                                                                      kw_args={'c': 2})),\n",
       "                                                                 ('cosine',\n",
       "                                                                  FunctionTransformer(func=<function cosfunc at 0x7fee68197b80>))])),\n",
       "                                 ('scaler', StandardScaler())])),\n",
       "                ('ridge', Ridge(alpha=1))])</pre></div></div></div><div class=\"sk-serial\"><div class=\"sk-item\"><div class=\"sk-label-container\"><div class=\"sk-label sk-toggleable\"><input class=\"sk-toggleable__control sk-hidden--visually\" id=\"7e724b17-7dae-4ec3-895b-ee1c14a533e8\" type=\"checkbox\" ><label class=\"sk-toggleable__label\" for=\"7e724b17-7dae-4ec3-895b-ee1c14a533e8\">preprocess: Pipeline</label><div class=\"sk-toggleable__content\"><pre>Pipeline(steps=[('feateng',\n",
       "                 FeatureUnion(transformer_list=[('poly',\n",
       "                                                 PolynomialFeatures(include_bias=False)),\n",
       "                                                ('sine',\n",
       "                                                 FunctionTransformer(func=<function sinefunc at 0x7feeb1d8c8b0>,\n",
       "                                                                     kw_args={'c': 2})),\n",
       "                                                ('cosine',\n",
       "                                                 FunctionTransformer(func=<function cosfunc at 0x7fee68197b80>))])),\n",
       "                ('scaler', StandardScaler())])</pre></div></div></div><div class=\"sk-serial\"><div class=\"sk-item sk-dashed-wrapped\"><div class=\"sk-label-container\"><div class=\"sk-label sk-toggleable\"><input class=\"sk-toggleable__control sk-hidden--visually\" id=\"ffd3df15-7803-4f9f-a285-a8c25cbf7718\" type=\"checkbox\" ><label class=\"sk-toggleable__label\" for=\"ffd3df15-7803-4f9f-a285-a8c25cbf7718\">feateng: FeatureUnion</label><div class=\"sk-toggleable__content\"><pre>FeatureUnion(transformer_list=[('poly', PolynomialFeatures(include_bias=False)),\n",
       "                               ('sine',\n",
       "                                FunctionTransformer(func=<function sinefunc at 0x7feeb1d8c8b0>,\n",
       "                                                    kw_args={'c': 2})),\n",
       "                               ('cosine',\n",
       "                                FunctionTransformer(func=<function cosfunc at 0x7fee68197b80>))])</pre></div></div></div><div class=\"sk-parallel\"><div class=\"sk-parallel-item\"><div class=\"sk-item\"><div class=\"sk-label-container\"><div class=\"sk-label sk-toggleable\"><label>poly</label></div></div><div class=\"sk-serial\"><div class=\"sk-item\"><div class=\"sk-estimator sk-toggleable\"><input class=\"sk-toggleable__control sk-hidden--visually\" id=\"aa0b7f46-ebde-45fe-8bf0-2653e1fc184a\" type=\"checkbox\" ><label class=\"sk-toggleable__label\" for=\"aa0b7f46-ebde-45fe-8bf0-2653e1fc184a\">PolynomialFeatures</label><div class=\"sk-toggleable__content\"><pre>PolynomialFeatures(include_bias=False)</pre></div></div></div></div></div></div><div class=\"sk-parallel-item\"><div class=\"sk-item\"><div class=\"sk-label-container\"><div class=\"sk-label sk-toggleable\"><label>sine</label></div></div><div class=\"sk-serial\"><div class=\"sk-item\"><div class=\"sk-estimator sk-toggleable\"><input class=\"sk-toggleable__control sk-hidden--visually\" id=\"1226ba29-e040-4aee-94c2-4cebd2442c7b\" type=\"checkbox\" ><label class=\"sk-toggleable__label\" for=\"1226ba29-e040-4aee-94c2-4cebd2442c7b\">FunctionTransformer</label><div class=\"sk-toggleable__content\"><pre>FunctionTransformer(func=<function sinefunc at 0x7feeb1d8c8b0>,\n",
       "                    kw_args={'c': 2})</pre></div></div></div></div></div></div><div class=\"sk-parallel-item\"><div class=\"sk-item\"><div class=\"sk-label-container\"><div class=\"sk-label sk-toggleable\"><label>cosine</label></div></div><div class=\"sk-serial\"><div class=\"sk-item\"><div class=\"sk-estimator sk-toggleable\"><input class=\"sk-toggleable__control sk-hidden--visually\" id=\"2be1ad77-e323-4e66-a97d-661056bc6f65\" type=\"checkbox\" ><label class=\"sk-toggleable__label\" for=\"2be1ad77-e323-4e66-a97d-661056bc6f65\">FunctionTransformer</label><div class=\"sk-toggleable__content\"><pre>FunctionTransformer(func=<function cosfunc at 0x7fee68197b80>)</pre></div></div></div></div></div></div></div></div><div class=\"sk-item\"><div class=\"sk-estimator sk-toggleable\"><input class=\"sk-toggleable__control sk-hidden--visually\" id=\"0656bac3-f869-4f10-a7a9-8c5e83fc2d1e\" type=\"checkbox\" ><label class=\"sk-toggleable__label\" for=\"0656bac3-f869-4f10-a7a9-8c5e83fc2d1e\">StandardScaler</label><div class=\"sk-toggleable__content\"><pre>StandardScaler()</pre></div></div></div></div></div><div class=\"sk-item\"><div class=\"sk-estimator sk-toggleable\"><input class=\"sk-toggleable__control sk-hidden--visually\" id=\"e6735ef3-01a3-443f-b797-7532bf4bfb3d\" type=\"checkbox\" ><label class=\"sk-toggleable__label\" for=\"e6735ef3-01a3-443f-b797-7532bf4bfb3d\">Ridge</label><div class=\"sk-toggleable__content\"><pre>Ridge(alpha=1)</pre></div></div></div></div></div></div></div>"
      ],
      "text/plain": [
       "Pipeline(steps=[('preprocess',\n",
       "                 Pipeline(steps=[('feateng',\n",
       "                                  FeatureUnion(transformer_list=[('poly',\n",
       "                                                                  PolynomialFeatures(include_bias=False)),\n",
       "                                                                 ('sine',\n",
       "                                                                  FunctionTransformer(func=<function sinefunc at 0x7feeb1d8c8b0>,\n",
       "                                                                                      kw_args={'c': 2})),\n",
       "                                                                 ('cosine',\n",
       "                                                                  FunctionTransformer(func=<function cosfunc at 0x7fee68197b80>))])),\n",
       "                                 ('scaler', StandardScaler())])),\n",
       "                ('ridge', Ridge(alpha=1))])"
      ]
     },
     "execution_count": 110,
     "metadata": {},
     "output_type": "execute_result"
    }
   ],
   "source": [
    "best_random = random_cv.best_estimator_\n",
    "best_random"
   ]
  },
  {
   "cell_type": "code",
   "execution_count": 111,
   "id": "eac9daf0",
   "metadata": {
    "cell_style": "split",
    "slideshow": {
     "slide_type": "fragment"
    }
   },
   "outputs": [
    {
     "data": {
      "text/plain": [
       "0.8293752316224566"
      ]
     },
     "execution_count": 111,
     "metadata": {},
     "output_type": "execute_result"
    }
   ],
   "source": [
    "random_cv.best_score_"
   ]
  },
  {
   "cell_type": "markdown",
   "id": "190aaf41",
   "metadata": {
    "slideshow": {
     "slide_type": "slide"
    }
   },
   "source": [
    "Then after promising RandomSearchCV():\n",
    "- GridSearchCV (possibly):\n",
    "    - select best hyperparameter from random search.\n",
    "    - fine step grid search tuning around this point."
   ]
  },
  {
   "cell_type": "markdown",
   "id": "1a177b5c",
   "metadata": {
    "slideshow": {
     "slide_type": "slide"
    }
   },
   "source": [
    "This is just the beginning of hyperperparameter tuning strategies:\n",
    "- Principled Bayesian approaches exist, etc.\n",
    "- That being said, RandomSearchCV used well is **very** effective"
   ]
  }
 ],
 "metadata": {
  "celltoolbar": "Slideshow",
  "hide_input": false,
  "kernelspec": {
   "display_name": "Python (learn-env)",
   "language": "python",
   "name": "learn-env"
  },
  "language_info": {
   "codemirror_mode": {
    "name": "ipython",
    "version": 3
   },
   "file_extension": ".py",
   "mimetype": "text/x-python",
   "name": "python",
   "nbconvert_exporter": "python",
   "pygments_lexer": "ipython3",
   "version": "3.8.5"
  },
  "latex_envs": {
   "LaTeX_envs_menu_present": true,
   "autoclose": false,
   "autocomplete": true,
   "bibliofile": "biblio.bib",
   "cite_by": "apalike",
   "current_citInitial": 1,
   "eqLabelWithNumbers": true,
   "eqNumInitial": 1,
   "hotkeys": {
    "equation": "Ctrl-E",
    "itemize": "Ctrl-I"
   },
   "labels_anchors": false,
   "latex_user_defs": false,
   "report_style_numbering": false,
   "user_envs_cfg": false
  },
  "nbTranslate": {
   "displayLangs": [
    "*"
   ],
   "hotkey": "alt-t",
   "langInMainMenu": true,
   "sourceLang": "en",
   "targetLang": "fr",
   "useGoogleTranslate": true
  },
  "toc": {
   "base_numbering": 1,
   "nav_menu": {},
   "number_sections": true,
   "sideBar": true,
   "skip_h1_title": false,
   "title_cell": "Table of Contents",
   "title_sidebar": "TOC",
   "toc_cell": true,
   "toc_position": {
    "height": "calc(100% - 180px)",
    "left": "10px",
    "top": "150px",
    "width": "232px"
   },
   "toc_section_display": true,
   "toc_window_display": false
  }
 },
 "nbformat": 4,
 "nbformat_minor": 5
}
