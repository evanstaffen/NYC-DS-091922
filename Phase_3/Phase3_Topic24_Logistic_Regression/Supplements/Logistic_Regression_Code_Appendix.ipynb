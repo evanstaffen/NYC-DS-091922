{
 "cells": [
  {
   "cell_type": "markdown",
   "id": "ce1b38b8",
   "metadata": {},
   "source": [
    "# Logistic Regression Code Appendix\n",
    "\n",
    "Resources: https://scikit-learn.org/stable/modules/generated/sklearn.linear_model.LogisticRegression.html\n",
    "\n",
    "Python Code:\n",
    "\n",
    "``` Python\n",
    "# Import dependency\n",
    "from sklearn.linear_model import LogisticRegression\n",
    "\n",
    "# Create the logistic regression object\n",
    "log = LogisticRegression()\n",
    "\n",
    "# Train the logistic regression model\n",
    "clf = log.fit(X, y)\n",
    "\n",
    "# Predict the target class based on p > 0.5 criteria\n",
    "clf.predict(X)\n",
    "\n",
    "# Predict the probability with the training data set\n",
    "clf.predict_proba(X)\n",
    "\n",
    "# Calculate the model fit\n",
    "clf.score(X, y)\n",
    "```"
   ]
  },
  {
   "cell_type": "code",
<<<<<<< HEAD
   "execution_count": 183,
=======
   "execution_count": 2,
>>>>>>> upstream/main
   "id": "fcf99089",
   "metadata": {},
   "outputs": [],
   "source": [
    "import pandas as pd\n",
    "import numpy as numpy\n",
    "from sklearn.linear_model import LogisticRegression"
   ]
  },
  {
   "cell_type": "code",
<<<<<<< HEAD
   "execution_count": 201,
=======
   "execution_count": 3,
>>>>>>> upstream/main
   "id": "5b8776d9",
   "metadata": {},
   "outputs": [
    {
     "data": {
      "text/html": [
       "<div>\n",
       "<style scoped>\n",
       "    .dataframe tbody tr th:only-of-type {\n",
       "        vertical-align: middle;\n",
       "    }\n",
       "\n",
       "    .dataframe tbody tr th {\n",
       "        vertical-align: top;\n",
       "    }\n",
       "\n",
       "    .dataframe thead th {\n",
       "        text-align: right;\n",
       "    }\n",
       "</style>\n",
       "<table border=\"1\" class=\"dataframe\">\n",
       "  <thead>\n",
       "    <tr style=\"text-align: right;\">\n",
       "      <th></th>\n",
       "      <th>Rating</th>\n",
       "      <th>CostPerSlice</th>\n",
       "      <th>HeatSource</th>\n",
       "      <th>BrickOven</th>\n",
       "      <th>Neighborhood</th>\n",
       "    </tr>\n",
       "  </thead>\n",
       "  <tbody>\n",
       "    <tr>\n",
       "      <th>0</th>\n",
       "      <td>0.03</td>\n",
       "      <td>1.75</td>\n",
       "      <td>Gas</td>\n",
       "      <td>False</td>\n",
       "      <td>LittleItaly</td>\n",
       "    </tr>\n",
       "    <tr>\n",
       "      <th>1</th>\n",
       "      <td>4.89</td>\n",
       "      <td>2.75</td>\n",
       "      <td>Coal</td>\n",
       "      <td>True</td>\n",
       "      <td>SoHo</td>\n",
       "    </tr>\n",
       "    <tr>\n",
       "      <th>2</th>\n",
       "      <td>4.73</td>\n",
       "      <td>4.00</td>\n",
       "      <td>Wood</td>\n",
       "      <td>True</td>\n",
       "      <td>LittleItaly</td>\n",
       "    </tr>\n",
       "    <tr>\n",
       "      <th>3</th>\n",
       "      <td>0.13</td>\n",
       "      <td>1.75</td>\n",
       "      <td>Gas</td>\n",
       "      <td>False</td>\n",
       "      <td>LittleItaly</td>\n",
       "    </tr>\n",
       "    <tr>\n",
       "      <th>4</th>\n",
       "      <td>2.45</td>\n",
       "      <td>2.25</td>\n",
       "      <td>Wood</td>\n",
       "      <td>True</td>\n",
       "      <td>Chinatown</td>\n",
       "    </tr>\n",
       "  </tbody>\n",
       "</table>\n",
       "</div>"
      ],
      "text/plain": [
       "   Rating  CostPerSlice HeatSource BrickOven Neighborhood\n",
       "0    0.03          1.75        Gas     False  LittleItaly\n",
       "1    4.89          2.75       Coal      True         SoHo\n",
       "2    4.73          4.00       Wood      True  LittleItaly\n",
       "3    0.13          1.75        Gas     False  LittleItaly\n",
       "4    2.45          2.25       Wood      True    Chinatown"
      ]
     },
     "execution_count": 3,
     "metadata": {},
     "output_type": "execute_result"
    }
   ],
   "source": [
    "# Loading the fake pizza dataset from the web\n",
    "pizza = pd.read_csv('https://jaredlander.com/data/Fake%20Pizza%20Data.csv')\n",
    "pizza.head()\n",
    "pizza.dropna(inplace=True)"
   ]
  },
  {
   "cell_type": "code",
<<<<<<< HEAD
   "execution_count": 202,
   "id": "b6389a72",
   "metadata": {},
   "outputs": [],
   "source": [
    "from sklearn.preprocessing import LabelEncoder\n",
    "enc = LabelEncoder()\n",
    "pizza['BrickOven'] = enc.fit_transform(pizza['BrickOven'])"
=======
   "execution_count": 6,
   "id": "0a2b71a5",
   "metadata": {},
   "outputs": [],
   "source": [
    "from sklearn.preprocessing import LabelEncoder"
   ]
  },
  {
   "cell_type": "code",
   "execution_count": 9,
   "id": "78bc8ad1",
   "metadata": {},
   "outputs": [],
   "source": [
    "enc = LabelEncoder()\n",
    "pizza[\"BrickOven\"] = enc.fit_transform(pizza[\"BrickOven\"])"
   ]
  },
  {
   "cell_type": "code",
   "execution_count": 10,
   "id": "13d5a1d8",
   "metadata": {},
   "outputs": [
    {
     "data": {
      "text/html": [
       "<div>\n",
       "<style scoped>\n",
       "    .dataframe tbody tr th:only-of-type {\n",
       "        vertical-align: middle;\n",
       "    }\n",
       "\n",
       "    .dataframe tbody tr th {\n",
       "        vertical-align: top;\n",
       "    }\n",
       "\n",
       "    .dataframe thead th {\n",
       "        text-align: right;\n",
       "    }\n",
       "</style>\n",
       "<table border=\"1\" class=\"dataframe\">\n",
       "  <thead>\n",
       "    <tr style=\"text-align: right;\">\n",
       "      <th></th>\n",
       "      <th>Rating</th>\n",
       "      <th>CostPerSlice</th>\n",
       "      <th>HeatSource</th>\n",
       "      <th>BrickOven</th>\n",
       "      <th>Neighborhood</th>\n",
       "    </tr>\n",
       "  </thead>\n",
       "  <tbody>\n",
       "    <tr>\n",
       "      <th>0</th>\n",
       "      <td>0.03</td>\n",
       "      <td>1.75</td>\n",
       "      <td>Gas</td>\n",
       "      <td>0</td>\n",
       "      <td>LittleItaly</td>\n",
       "    </tr>\n",
       "    <tr>\n",
       "      <th>1</th>\n",
       "      <td>4.89</td>\n",
       "      <td>2.75</td>\n",
       "      <td>Coal</td>\n",
       "      <td>1</td>\n",
       "      <td>SoHo</td>\n",
       "    </tr>\n",
       "    <tr>\n",
       "      <th>2</th>\n",
       "      <td>4.73</td>\n",
       "      <td>4.00</td>\n",
       "      <td>Wood</td>\n",
       "      <td>1</td>\n",
       "      <td>LittleItaly</td>\n",
       "    </tr>\n",
       "    <tr>\n",
       "      <th>3</th>\n",
       "      <td>0.13</td>\n",
       "      <td>1.75</td>\n",
       "      <td>Gas</td>\n",
       "      <td>0</td>\n",
       "      <td>LittleItaly</td>\n",
       "    </tr>\n",
       "    <tr>\n",
       "      <th>4</th>\n",
       "      <td>2.45</td>\n",
       "      <td>2.25</td>\n",
       "      <td>Wood</td>\n",
       "      <td>1</td>\n",
       "      <td>Chinatown</td>\n",
       "    </tr>\n",
       "  </tbody>\n",
       "</table>\n",
       "</div>"
      ],
      "text/plain": [
       "   Rating  CostPerSlice HeatSource  BrickOven Neighborhood\n",
       "0    0.03          1.75        Gas          0  LittleItaly\n",
       "1    4.89          2.75       Coal          1         SoHo\n",
       "2    4.73          4.00       Wood          1  LittleItaly\n",
       "3    0.13          1.75        Gas          0  LittleItaly\n",
       "4    2.45          2.25       Wood          1    Chinatown"
      ]
     },
     "execution_count": 10,
     "metadata": {},
     "output_type": "execute_result"
    }
   ],
   "source": [
    "pizza.head()"
   ]
  },
  {
   "cell_type": "code",
   "execution_count": 14,
   "id": "f1c0460b",
   "metadata": {},
   "outputs": [],
   "source": [
    "pizza.dropna(inplace = True)"
>>>>>>> upstream/main
   ]
  },
  {
   "cell_type": "code",
<<<<<<< HEAD
   "execution_count": 203,
=======
   "execution_count": 22,
>>>>>>> upstream/main
   "id": "0ab3a037",
   "metadata": {},
   "outputs": [],
   "source": [
    "# Prepare data for model\n",
    "y = pizza['BrickOven']\n",
    "X = pizza[['Rating']]"
<<<<<<< HEAD
   ]
  },
  {
   "cell_type": "markdown",
   "id": "1d976bfe",
   "metadata": {},
   "source": [
    "# INITIALLY DIDN'T STANDARDIZE SO OUR MODEL WOULDN'T WORK...\n",
    "# SHOULD HAVE USED LABEL ENCODER ON OUR TARGET VARIABLE SINCE IT IS TRUE/FALSE"
=======
>>>>>>> upstream/main
   ]
  },
  {
   "cell_type": "code",
<<<<<<< HEAD
   "execution_count": 204,
   "id": "899c2631",
   "metadata": {},
   "outputs": [],
   "source": [
    "from sklearn.model_selection import train_test_split, cross_validate\n"
=======
   "execution_count": 23,
   "id": "a5776d7d",
   "metadata": {},
   "outputs": [
    {
     "data": {
      "text/plain": [
       "(200, 1)"
      ]
     },
     "execution_count": 23,
     "metadata": {},
     "output_type": "execute_result"
    }
   ],
   "source": [
    "X.shape"
   ]
  },
  {
   "cell_type": "code",
   "execution_count": 24,
   "id": "73e00292",
   "metadata": {},
   "outputs": [],
   "source": [
    "from sklearn.model_selection import train_test_split, cross_validate"
>>>>>>> upstream/main
   ]
  },
  {
   "cell_type": "code",
<<<<<<< HEAD
   "execution_count": 205,
   "id": "ffc623ab",
   "metadata": {},
   "outputs": [],
   "source": [
    "X_train,X_test,y_train,y_test = train_test_split(X,y,random_state=42,test_size=0.2)"
=======
   "execution_count": 25,
   "id": "a7647c60",
   "metadata": {},
   "outputs": [],
   "source": [
    "X_train, X_test, y_train, y_test = train_test_split(X, y, test_size=0.2, random_state=27)"
   ]
  },
  {
   "cell_type": "code",
   "execution_count": 27,
   "id": "7c0edb5c",
   "metadata": {},
   "outputs": [],
   "source": [
    "from sklearn.preprocessing import StandardScaler\n",
    "\n",
    "ss= StandardScaler()\n",
    "X_train = ss.fit_transform(X_train)\n",
    "X_test = ss.transform(X_test)"
   ]
  },
  {
   "cell_type": "code",
   "execution_count": 18,
   "id": "acfa71a3",
   "metadata": {},
   "outputs": [],
   "source": [
    "from sklearn.linear_model import LogisticRegression"
   ]
  },
  {
   "cell_type": "code",
   "execution_count": 34,
   "id": "664e03b7",
   "metadata": {},
   "outputs": [
    {
     "data": {
      "text/plain": [
       "LogisticRegression(penalty='l1', solver='liblinear')"
      ]
     },
     "execution_count": 34,
     "metadata": {},
     "output_type": "execute_result"
    }
   ],
   "source": [
    "log = LogisticRegression(penalty ='l1', solver = 'liblinear')\n",
    "log.fit(X_train, y_train)\n"
   ]
  },
  {
   "cell_type": "code",
   "execution_count": 35,
   "id": "4f79ab4a",
   "metadata": {},
   "outputs": [
    {
     "data": {
      "text/plain": [
       "array([0, 0, 0, 0, 0, 0, 0, 0, 0, 0, 0, 0, 0, 0, 0, 0, 0, 0, 0, 0, 0, 0,\n",
       "       0, 0, 0, 0, 0, 0, 0, 0, 0, 0, 0, 0, 0, 0, 0, 0, 0, 0])"
      ]
     },
     "execution_count": 35,
     "metadata": {},
     "output_type": "execute_result"
    }
   ],
   "source": [
    "# Train the model\n",
    "log.predict(X_test)"
>>>>>>> upstream/main
   ]
  },
  {
   "cell_type": "code",
   "execution_count": 206,
   "id": "4eb22348",
   "metadata": {},
   "outputs": [],
   "source": [
<<<<<<< HEAD
    "from sklearn.preprocessing import StandardScaler\n",
    "ss = StandardScaler()\n",
    "X_train = ss.fit_transform(X_train)\n",
    "X_test = ss.transform(X_test)"
   ]
  },
  {
   "cell_type": "code",
   "execution_count": 207,
   "id": "664e03b7",
   "metadata": {},
   "outputs": [
    {
     "data": {
      "text/plain": [
       "LogisticRegression(penalty='l1', solver='liblinear')"
      ]
     },
     "execution_count": 207,
     "metadata": {},
     "output_type": "execute_result"
    }
   ],
   "source": [
    "# Create the logistic regression object\n",
    "log = LogisticRegression(penalty = 'l1', solver='liblinear')\n",
    "log.fit(X_train,y_train)\n",
    "#pizza.dropna(inplace=True)"
=======
    "# Predict the class of the targe"
>>>>>>> upstream/main
   ]
  },
  {
   "cell_type": "code",
   "execution_count": 210,
   "id": "f50193d6",
   "metadata": {},
   "outputs": [
    {
     "data": {
      "text/plain": [
       "array([0, 0, 0, 0, 0, 0, 0, 0, 0, 0, 0, 0, 0, 0, 0, 0, 0, 0, 0, 0, 0, 0,\n",
       "       0, 0, 0, 0, 0, 0, 0, 0, 0, 0, 0, 0, 0, 0, 0, 0, 0, 0, 0, 0, 0, 0,\n",
       "       0, 0, 0, 0, 0, 0, 0, 0, 0, 0, 0, 0, 0, 0, 0, 0, 0, 0, 0, 0, 0, 0,\n",
       "       0, 0, 0, 0, 0, 0, 0, 0, 0, 0, 0, 0, 0, 0, 0, 0, 0, 0, 0, 0, 0, 0,\n",
       "       0, 0, 0, 0, 0, 0, 0, 0, 0, 0, 0, 0, 0, 0, 0, 0, 0, 0, 0, 0, 0, 0,\n",
       "       0, 0, 0, 0, 0, 0, 0, 0, 0, 0, 0, 0, 0, 0, 0, 0, 0, 0, 0, 0, 0, 0,\n",
       "       0, 0, 0, 0, 0, 0, 0, 0, 0, 0, 0, 0, 0, 0, 0, 0, 0, 0, 0, 0, 0, 0,\n",
       "       0, 0, 0, 0, 0, 0])"
      ]
     },
     "execution_count": 210,
     "metadata": {},
     "output_type": "execute_result"
    }
   ],
   "source": [
    "# Predict the class of the target\n",
    "log.predict(X_train)"
   ]
  },
  {
   "cell_type": "code",
   "execution_count": 211,
   "id": "c2484f3a",
   "metadata": {},
   "outputs": [
    {
     "data": {
      "text/plain": [
       "array([[0.7002279 , 0.2997721 ],\n",
       "       [0.65739259, 0.34260741],\n",
       "       [0.66786098, 0.33213902],\n",
       "       [0.6266242 , 0.3733758 ],\n",
       "       [0.71342407, 0.28657593],\n",
       "       [0.71150536, 0.28849464],\n",
       "       [0.62750032, 0.37249968],\n",
       "       [0.63208611, 0.36791389],\n",
       "       [0.62815686, 0.37184314],\n",
       "       [0.64462606, 0.35537394],\n",
       "       [0.64376736, 0.35623264],\n",
       "       [0.6266242 , 0.3733758 ],\n",
       "       [0.62640504, 0.37359496],\n",
       "       [0.63643144, 0.36356856],\n",
       "       [0.72233887, 0.27766113],\n",
       "       [0.62793806, 0.37206194],\n",
       "       [0.72383917, 0.27616083],\n",
       "       [0.72007904, 0.27992096],\n",
       "       [0.6516745 , 0.3483255 ],\n",
       "       [0.71304094, 0.28695906],\n",
       "       [0.66201831, 0.33798169],\n",
       "       [0.62640504, 0.37359496],\n",
       "       [0.63186827, 0.36813173],\n",
       "       [0.62925004, 0.37074996],\n",
       "       [0.72682468, 0.27317532],\n",
       "       [0.69210577, 0.30789423],\n",
       "       [0.62968695, 0.37031305],\n",
       "       [0.64010758, 0.35989242],\n",
       "       [0.63664813, 0.36335187],\n",
       "       [0.71208177, 0.28791823],\n",
       "       [0.62815686, 0.37184314],\n",
       "       [0.68244381, 0.31755619],\n",
       "       [0.62793806, 0.37206194],\n",
       "       [0.71054314, 0.28945686],\n",
       "       [0.63056012, 0.36943988],\n",
       "       [0.71761824, 0.28238176],\n",
       "       [0.62728137, 0.37271863],\n",
       "       [0.70550912, 0.29449088],\n",
       "       [0.62925004, 0.37074996],\n",
       "       [0.64741042, 0.35258958],\n",
       "       [0.63230389, 0.36769611],\n",
       "       [0.62881293, 0.37118707],\n",
       "       [0.7247743 , 0.2752257 ],\n",
       "       [0.71590695, 0.28409305],\n",
       "       [0.62771922, 0.37228078],\n",
       "       [0.63121443, 0.36878557],\n",
       "       [0.70081737, 0.29918263],\n",
       "       [0.6327393 , 0.3672607 ],\n",
       "       [0.64612656, 0.35387344],\n",
       "       [0.63967594, 0.36032406],\n",
       "       [0.72421346, 0.27578654],\n",
       "       [0.67426987, 0.32573013],\n",
       "       [0.68769758, 0.31230242],\n",
       "       [0.63208611, 0.36791389],\n",
       "       [0.72252668, 0.27747332],\n",
       "       [0.66619682, 0.33380318],\n",
       "       [0.63121443, 0.36878557],\n",
       "       [0.67693836, 0.32306164],\n",
       "       [0.62640504, 0.37359496],\n",
       "       [0.62859429, 0.37140571],\n",
       "       [0.6804106 , 0.3195894 ],\n",
       "       [0.67344651, 0.32655349],\n",
       "       [0.62684331, 0.37315669],\n",
       "       [0.63077828, 0.36922172],\n",
       "       [0.62728137, 0.37271863],\n",
       "       [0.6634837 , 0.3365163 ],\n",
       "       [0.64612656, 0.35387344],\n",
       "       [0.62793806, 0.37206194],\n",
       "       [0.66201831, 0.33798169],\n",
       "       [0.63143243, 0.36856757],\n",
       "       [0.69687505, 0.30312495],\n",
       "       [0.7275679 , 0.2724321 ],\n",
       "       [0.71552581, 0.28447419],\n",
       "       [0.6266242 , 0.3733758 ],\n",
       "       [0.6533734 , 0.3466266 ],\n",
       "       [0.63012364, 0.36987636],\n",
       "       [0.66848397, 0.33151603],\n",
       "       [0.62640504, 0.37359496],\n",
       "       [0.72158684, 0.27841316],\n",
       "       [0.72233887, 0.27766113],\n",
       "       [0.6266242 , 0.3733758 ],\n",
       "       [0.63121443, 0.36878557],\n",
       "       [0.65527999, 0.34472001],\n",
       "       [0.66033975, 0.33966025],\n",
       "       [0.65209959, 0.34790041],\n",
       "       [0.62750032, 0.37249968],\n",
       "       [0.69110695, 0.30889305],\n",
       "       [0.62750032, 0.37249968],\n",
       "       [0.68970558, 0.31029442],\n",
       "       [0.62881293, 0.37118707],\n",
       "       [0.62946852, 0.37053148],\n",
       "       [0.63491307, 0.36508693],\n",
       "       [0.62859429, 0.37140571],\n",
       "       [0.71399819, 0.28600181],\n",
       "       [0.68608609, 0.31391391],\n",
       "       [0.62968695, 0.37031305],\n",
       "       [0.72570747, 0.27429253],\n",
       "       [0.63077828, 0.36922172],\n",
       "       [0.72589387, 0.27410613],\n",
       "       [0.6478379 , 0.3521621 ],\n",
       "       [0.6283756 , 0.3716244 ],\n",
       "       [0.6266242 , 0.3733758 ],\n",
       "       [0.69449562, 0.30550438],\n",
       "       [0.64075462, 0.35924538],\n",
       "       [0.70042446, 0.29957554],\n",
       "       [0.63099638, 0.36900362],\n",
       "       [0.63989179, 0.36010821],\n",
       "       [0.64247756, 0.35752244],\n",
       "       [0.63664813, 0.36335187],\n",
       "       [0.63686477, 0.36313523],\n",
       "       [0.62903151, 0.37096849],\n",
       "       [0.72589387, 0.27410613],\n",
       "       [0.7270106 , 0.2729894 ],\n",
       "       [0.64140115, 0.35859885],\n",
       "       [0.62684331, 0.37315669],\n",
       "       [0.63317449, 0.36682551],\n",
       "       [0.65591442, 0.34408558],\n",
       "       [0.62990532, 0.37009468],\n",
       "       [0.72533444, 0.27466556],\n",
       "       [0.62728137, 0.37271863],\n",
       "       [0.64612656, 0.35387344],\n",
       "       [0.63426151, 0.36573849],\n",
       "       [0.6266242 , 0.3733758 ],\n",
       "       [0.70648116, 0.29351884],\n",
       "       [0.704925  , 0.295075  ],\n",
       "       [0.70764512, 0.29235488],\n",
       "       [0.63946003, 0.36053997],\n",
       "       [0.62771922, 0.37228078],\n",
       "       [0.6422624 , 0.3577376 ],\n",
       "       [0.72663867, 0.27336133],\n",
       "       [0.72645259, 0.27354741],\n",
       "       [0.68081779, 0.31918221],\n",
       "       [0.62968695, 0.37031305],\n",
       "       [0.66327455, 0.33672545],\n",
       "       [0.66910637, 0.33089363],\n",
       "       [0.64548384, 0.35451616],\n",
       "       [0.71913413, 0.28086587],\n",
       "       [0.63121443, 0.36878557],\n",
       "       [0.6266242 , 0.3733758 ],\n",
       "       [0.65464501, 0.34535499],\n",
       "       [0.62881293, 0.37118707],\n",
       "       [0.7111207 , 0.2888793 ],\n",
       "       [0.72252668, 0.27747332],\n",
       "       [0.69528993, 0.30471007],\n",
       "       [0.62728137, 0.37271863],\n",
       "       [0.64634068, 0.35365932],\n",
       "       [0.70297307, 0.29702693],\n",
       "       [0.65422139, 0.34577861],\n",
       "       [0.63513014, 0.36486986],\n",
       "       [0.63121443, 0.36878557],\n",
       "       [0.71188971, 0.28811029],\n",
       "       [0.62750032, 0.37249968],\n",
       "       [0.71818728, 0.28181272],\n",
       "       [0.62728137, 0.37271863],\n",
       "       [0.62728137, 0.37271863],\n",
       "       [0.68749639, 0.31250361],\n",
       "       [0.6266242 , 0.3733758 ],\n",
       "       [0.71799768, 0.28200232],\n",
       "       [0.7249611 , 0.2750389 ],\n",
       "       [0.72064505, 0.27935495]])"
      ]
     },
     "execution_count": 211,
     "metadata": {},
     "output_type": "execute_result"
    }
   ],
   "source": [
    "# Predict the probability of the target\n",
    "log.predict_proba(X_train)"
   ]
  },
  {
   "cell_type": "code",
   "execution_count": 153,
   "id": "b7382b1e",
   "metadata": {},
   "outputs": [],
   "source": [
    "cv_results = cross_validate(\n",
    "                    estimator=clf,\n",
    "                    X=X,\n",
    "                    y=y,\n",
    "                    cv=5,\n",
    "                    return_train_score=True\n",
    ")"
   ]
  },
  {
   "cell_type": "code",
   "execution_count": 145,
   "id": "ae09e681",
   "metadata": {},
   "outputs": [
    {
     "data": {
      "text/plain": [
       "array([0.65625, 0.65625, 0.6625 , 0.6625 , 0.6625 ])"
      ]
     },
     "execution_count": 145,
     "metadata": {},
     "output_type": "execute_result"
    }
   ],
   "source": [
    "cv_results['train_score']"
   ]
  },
  {
   "cell_type": "code",
   "execution_count": 146,
   "id": "10cf62d2",
   "metadata": {},
   "outputs": [
    {
     "data": {
      "text/plain": [
       "array([0.675, 0.675, 0.65 , 0.65 , 0.65 ])"
      ]
     },
     "execution_count": 146,
     "metadata": {},
     "output_type": "execute_result"
    }
   ],
   "source": [
    "cv_results['test_score']"
   ]
  },
  {
   "cell_type": "code",
   "execution_count": 167,
   "id": "d94776f0",
   "metadata": {},
   "outputs": [
    {
     "data": {
      "text/html": [
       "<div>\n",
       "<style scoped>\n",
       "    .dataframe tbody tr th:only-of-type {\n",
       "        vertical-align: middle;\n",
       "    }\n",
       "\n",
       "    .dataframe tbody tr th {\n",
       "        vertical-align: top;\n",
       "    }\n",
       "\n",
       "    .dataframe thead th {\n",
       "        text-align: right;\n",
       "    }\n",
       "</style>\n",
       "<table border=\"1\" class=\"dataframe\">\n",
       "  <thead>\n",
       "    <tr style=\"text-align: right;\">\n",
       "      <th></th>\n",
       "      <th>rating</th>\n",
       "      <th>brick_oven</th>\n",
       "    </tr>\n",
       "  </thead>\n",
       "  <tbody>\n",
       "    <tr>\n",
       "      <th>0</th>\n",
       "      <td>[[[[array([array([array([0.03])], dtype=object...</td>\n",
       "      <td>0</td>\n",
       "    </tr>\n",
       "    <tr>\n",
       "      <th>1</th>\n",
       "      <td>[[[[array([array([array([4.89])], dtype=object...</td>\n",
       "      <td>1</td>\n",
       "    </tr>\n",
       "    <tr>\n",
       "      <th>2</th>\n",
       "      <td>[[[[array([array([array([4.73])], dtype=object...</td>\n",
       "      <td>1</td>\n",
       "    </tr>\n",
       "    <tr>\n",
       "      <th>3</th>\n",
       "      <td>[[[[array([array([array([0.13])], dtype=object...</td>\n",
       "      <td>0</td>\n",
       "    </tr>\n",
       "    <tr>\n",
       "      <th>4</th>\n",
       "      <td>[[[[array([array([array([2.45])], dtype=object...</td>\n",
       "      <td>1</td>\n",
       "    </tr>\n",
       "    <tr>\n",
       "      <th>...</th>\n",
       "      <td>...</td>\n",
       "      <td>...</td>\n",
       "    </tr>\n",
       "    <tr>\n",
       "      <th>195</th>\n",
       "      <td>[[[[array([array([array([0.88])], dtype=object...</td>\n",
       "      <td>1</td>\n",
       "    </tr>\n",
       "    <tr>\n",
       "      <th>196</th>\n",
       "      <td>[[[[array([array([array([4.27])], dtype=object...</td>\n",
       "      <td>0</td>\n",
       "    </tr>\n",
       "    <tr>\n",
       "      <th>197</th>\n",
       "      <td>[[[[array([array([array([3.56])], dtype=object...</td>\n",
       "      <td>1</td>\n",
       "    </tr>\n",
       "    <tr>\n",
       "      <th>198</th>\n",
       "      <td>[[[[array([array([array([0.67])], dtype=object...</td>\n",
       "      <td>0</td>\n",
       "    </tr>\n",
       "    <tr>\n",
       "      <th>199</th>\n",
       "      <td>[[[[array([array([array([4.95])], dtype=object...</td>\n",
       "      <td>1</td>\n",
       "    </tr>\n",
       "  </tbody>\n",
       "</table>\n",
       "<p>200 rows × 2 columns</p>\n",
       "</div>"
      ],
      "text/plain": [
       "                                                rating  brick_oven\n",
       "0    [[[[array([array([array([0.03])], dtype=object...           0\n",
       "1    [[[[array([array([array([4.89])], dtype=object...           1\n",
       "2    [[[[array([array([array([4.73])], dtype=object...           1\n",
       "3    [[[[array([array([array([0.13])], dtype=object...           0\n",
       "4    [[[[array([array([array([2.45])], dtype=object...           1\n",
       "..                                                 ...         ...\n",
       "195  [[[[array([array([array([0.88])], dtype=object...           1\n",
       "196  [[[[array([array([array([4.27])], dtype=object...           0\n",
       "197  [[[[array([array([array([3.56])], dtype=object...           1\n",
       "198  [[[[array([array([array([0.67])], dtype=object...           0\n",
       "199  [[[[array([array([array([4.95])], dtype=object...           1\n",
       "\n",
       "[200 rows x 2 columns]"
      ]
     },
     "execution_count": 167,
     "metadata": {},
     "output_type": "execute_result"
    }
   ],
   "source": [
    "import seaborn as sns"
   ]
  },
  {
   "cell_type": "code",
   "execution_count": 169,
   "id": "cef8b21e",
   "metadata": {},
   "outputs": [
    {
     "data": {
      "image/png": "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\n",
      "text/plain": [
       "<Figure size 432x288 with 1 Axes>"
      ]
     },
     "metadata": {
      "needs_background": "light"
     },
     "output_type": "display_data"
    }
   ],
   "source": [
    "sns.boxplot(data=pizza,x='BrickOven',y='Rating');"
   ]
  }
 ],
 "metadata": {
  "hide_input": false,
  "kernelspec": {
   "display_name": "dplearn",
   "language": "python",
   "name": "dplearn"
  },
  "language_info": {
   "codemirror_mode": {
    "name": "ipython",
    "version": 3
   },
   "file_extension": ".py",
   "mimetype": "text/x-python",
   "name": "python",
   "nbconvert_exporter": "python",
   "pygments_lexer": "ipython3",
<<<<<<< HEAD
   "version": "3.9.12"
=======
   "version": "3.7.5"
>>>>>>> upstream/main
  },
  "latex_envs": {
   "LaTeX_envs_menu_present": true,
   "autoclose": false,
   "autocomplete": true,
   "bibliofile": "biblio.bib",
   "cite_by": "apalike",
   "current_citInitial": 1,
   "eqLabelWithNumbers": true,
   "eqNumInitial": 1,
   "hotkeys": {
    "equation": "Ctrl-E",
    "itemize": "Ctrl-I"
   },
   "labels_anchors": false,
   "latex_user_defs": false,
   "report_style_numbering": false,
   "user_envs_cfg": false
  },
  "nbTranslate": {
   "displayLangs": [
    "*"
   ],
   "hotkey": "alt-t",
   "langInMainMenu": true,
   "sourceLang": "en",
   "targetLang": "fr",
   "useGoogleTranslate": true
  },
  "toc": {
   "base_numbering": 1,
   "nav_menu": {},
   "number_sections": true,
   "sideBar": true,
   "skip_h1_title": false,
   "title_cell": "Table of Contents",
   "title_sidebar": "Contents",
   "toc_cell": false,
   "toc_position": {},
   "toc_section_display": true,
   "toc_window_display": false
  }
 },
 "nbformat": 4,
 "nbformat_minor": 5
}
