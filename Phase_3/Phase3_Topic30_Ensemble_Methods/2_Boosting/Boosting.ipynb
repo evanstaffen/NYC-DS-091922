{
 "cells": [
  {
   "cell_type": "markdown",
   "metadata": {
    "slideshow": {
     "slide_type": "slide"
    }
   },
   "source": [
    "<div style=\"color:white;\n",
    "           display:fill;\n",
    "           border-radius:5px;\n",
    "           background-color:#5642C5;\n",
    "           font-size:200%;\n",
    "           font-family:Arial;letter-spacing:0.5px\">\n",
    "\n",
    "<p width = 20%, style=\"padding: 10px;\n",
    "              color:white;\">\n",
    "Ensemble Learning: Gradient Boosting\n",
    "              \n",
    "</p>\n",
    "</div>\n",
    "\n",
    "Data Science Cohort Live NYC Nov 2022\n",
    "<p>Phase 3: Topic 30</p>\n",
    "<br>\n",
    "<br>\n",
    "\n",
    "<div align = \"right\">\n",
    "<img src=\"Images/flatiron-school-logo.png\" align = \"right\" width=\"200\"/>\n",
    "</div>\n",
    "    \n",
    "    "
   ]
  },
  {
   "cell_type": "code",
   "execution_count": 4,
   "metadata": {
    "slideshow": {
     "slide_type": "skip"
    }
   },
   "outputs": [
    {
     "ename": "ModuleNotFoundError",
     "evalue": "No module named 'sympy'",
     "output_type": "error",
     "traceback": [
      "\u001b[0;31m---------------------------------------------------------------------------\u001b[0m",
      "\u001b[0;31mModuleNotFoundError\u001b[0m                       Traceback (most recent call last)",
      "\u001b[0;32m<ipython-input-4-f3b5e8a7e105>\u001b[0m in \u001b[0;36m<module>\u001b[0;34m\u001b[0m\n\u001b[0;32m----> 1\u001b[0;31m \u001b[0;32mimport\u001b[0m \u001b[0msympy\u001b[0m\u001b[0;34m\u001b[0m\u001b[0;34m\u001b[0m\u001b[0m\n\u001b[0m",
      "\u001b[0;31mModuleNotFoundError\u001b[0m: No module named 'sympy'"
     ]
    }
   ],
   "source": [
    "import sympy"
   ]
  },
  {
   "cell_type": "markdown",
   "metadata": {
    "slideshow": {
     "slide_type": "slide"
    }
   },
   "source": [
    "#### Boosting\n",
    "- Besides bagging: other major framework for ensemble tree learning\n",
    "- Different philosophies of learning."
   ]
  },
  {
   "cell_type": "markdown",
   "metadata": {
    "slideshow": {
     "slide_type": "slide"
    }
   },
   "source": [
    "The Ralph Nader philosophy of learning:"
   ]
  },
  {
   "cell_type": "markdown",
   "metadata": {
    "cell_style": "split",
    "slideshow": {
     "slide_type": "fragment"
    }
   },
   "source": [
    "<img src = \"Images\\mistake_nader.jpg\" />"
   ]
  },
  {
   "cell_type": "markdown",
   "metadata": {
    "cell_style": "split",
    "slideshow": {
     "slide_type": "fragment"
    }
   },
   "source": [
    "<img src = \"Images\\nader.jpeg\" />\n",
    "<center> Nader giving you life lessons about learning theory AND the true source of income inequality in this country. </center>"
   ]
  },
  {
   "cell_type": "markdown",
   "metadata": {
    "slideshow": {
     "slide_type": "slide"
    }
   },
   "source": [
    "Boosting is essentially this:\n",
    "- at each step learner trains on mistakes of previous step.\n",
    "- uses knowledge of mistakes to correct predictions in next step."
   ]
  },
  {
   "cell_type": "markdown",
   "metadata": {
    "slideshow": {
     "slide_type": "slide"
    }
   },
   "source": [
    "**More technically**\n",
    "- Trying to approximate collection of targets $\\{y_i\\}$ with a function $F(x_i)$.\n",
    "\n",
    "Boosting: sequentially update F via step-by-step learning from errors."
   ]
  },
  {
   "cell_type": "markdown",
   "metadata": {
    "slideshow": {
     "slide_type": "fragment"
    }
   },
   "source": [
    "<img src = \"Images/boosting_update.png\" width = 500 />"
   ]
  },
  {
   "cell_type": "markdown",
   "metadata": {
    "cell_style": "split",
    "slideshow": {
     "slide_type": "slide"
    }
   },
   "source": [
    "But there's a general problem with this:\n",
    "- what if what we learn from last mistake is gleaned from a set of situations that are too specific?"
   ]
  },
  {
   "cell_type": "markdown",
   "metadata": {
    "cell_style": "split",
    "slideshow": {
     "slide_type": "fragment"
    }
   },
   "source": [
    "**More technically**\n",
    "\n",
    "Weighting last mistake with respect to the specific training data too strongly.\n",
    "\n",
    "- Our corrections to how we predict will then be too specific to the training data."
   ]
  },
  {
   "cell_type": "markdown",
   "metadata": {
    "cell_style": "center",
    "slideshow": {
     "slide_type": "slide"
    }
   },
   "source": [
    "**I just overfitted**"
   ]
  },
  {
   "cell_type": "markdown",
   "metadata": {
    "slideshow": {
     "slide_type": "fragment"
    }
   },
   "source": [
    "Yes I learned from a specific set of mistakes:\n",
    "- but have I learned a sufficiently general lesson?"
   ]
  },
  {
   "cell_type": "markdown",
   "metadata": {
    "slideshow": {
     "slide_type": "fragment"
    }
   },
   "source": [
    "Want to learn from last mistakes in a way that is **generalizable**"
   ]
  },
  {
   "cell_type": "markdown",
   "metadata": {
    "cell_style": "center",
    "slideshow": {
     "slide_type": "slide"
    }
   },
   "source": [
    "One possibility: \n",
    "- don't weight lesson from any one mistake too strongly.\n",
    "- perhaps even learn from different mistakes in a \"weak\" manner\n",
    "- BUT do this a bunch of times in sequence.\n"
   ]
  },
  {
   "cell_type": "markdown",
   "metadata": {
    "cell_style": "center",
    "slideshow": {
     "slide_type": "fragment"
    }
   },
   "source": [
    "The hope is that eventually:\n",
    "\n",
    "- Gain wisdom via each generation learning from the previous \n",
    "- But in a weak way: take some of the \"lessons\" but not all."
   ]
  },
  {
   "cell_type": "markdown",
   "metadata": {
    "slideshow": {
     "slide_type": "slide"
    }
   },
   "source": [
    "<center><b> Can such a sequence of weak learners create a single strong learner? </b></center>"
   ]
  },
  {
   "cell_type": "markdown",
   "metadata": {
    "slideshow": {
     "slide_type": "fragment"
    }
   },
   "source": [
    "The answer is yes."
   ]
  },
  {
   "cell_type": "markdown",
   "metadata": {
    "slideshow": {
     "slide_type": "slide"
    }
   },
   "source": [
    "#### Gradient Boosting"
   ]
  },
  {
   "cell_type": "markdown",
   "metadata": {
    "cell_style": "split",
    "slideshow": {
     "slide_type": "fragment"
    }
   },
   "source": [
    "<img src = \"Images/boosting_update.png\" width = 500 />"
   ]
  },
  {
   "cell_type": "markdown",
   "metadata": {
    "cell_style": "split",
    "slideshow": {
     "slide_type": "fragment"
    }
   },
   "source": [
    "Getting better approximations on $F$ iteratively.\n",
    "- Looks a lot like gradient descent.\n",
    "\n"
   ]
  },
  {
   "cell_type": "markdown",
   "metadata": {
    "slideshow": {
     "slide_type": "slide"
    }
   },
   "source": [
    "Use regression as example:\n",
    "\n",
    "- Least squares objective function:"
   ]
  },
  {
   "cell_type": "code",
   "execution_count": null,
   "metadata": {
    "slideshow": {
     "slide_type": "slide"
    }
   },
   "outputs": [],
   "source": [
    "from sympy import *\n",
    "from sympy.abc import x, y\n",
    "\n",
    "x, y, i, N, h, F = symbols(\"x, y, i, N, h_0, F\")\n",
    "L = summation((Indexed('y',i) - F)**2 ,(i,1,N))/2"
   ]
  },
  {
   "cell_type": "code",
   "execution_count": null,
   "metadata": {
    "cell_style": "split",
    "slideshow": {
     "slide_type": "slide"
    }
   },
   "outputs": [],
   "source": [
    "L"
   ]
  },
  {
   "cell_type": "markdown",
   "metadata": {
    "cell_style": "split",
    "slideshow": {
     "slide_type": "fragment"
    }
   },
   "source": [
    "Take gradient with respect to the function $F$"
   ]
  },
  {
   "cell_type": "code",
   "execution_count": 5,
   "metadata": {
    "cell_style": "split",
    "slideshow": {
     "slide_type": "fragment"
    }
   },
   "outputs": [
    {
     "ename": "NameError",
     "evalue": "name 'diff' is not defined",
     "output_type": "error",
     "traceback": [
      "\u001b[0;31m---------------------------------------------------------------------------\u001b[0m",
      "\u001b[0;31mNameError\u001b[0m                                 Traceback (most recent call last)",
      "\u001b[0;32m<ipython-input-5-ec464fc7498e>\u001b[0m in \u001b[0;36m<module>\u001b[0;34m\u001b[0m\n\u001b[0;32m----> 1\u001b[0;31m \u001b[0mgradL\u001b[0m \u001b[0;34m=\u001b[0m \u001b[0mdiff\u001b[0m\u001b[0;34m(\u001b[0m\u001b[0mL\u001b[0m\u001b[0;34m,\u001b[0m \u001b[0mF\u001b[0m\u001b[0;34m)\u001b[0m\u001b[0;34m\u001b[0m\u001b[0;34m\u001b[0m\u001b[0m\n\u001b[0m\u001b[1;32m      2\u001b[0m \u001b[0mgradL\u001b[0m\u001b[0;34m\u001b[0m\u001b[0;34m\u001b[0m\u001b[0m\n",
      "\u001b[0;31mNameError\u001b[0m: name 'diff' is not defined"
     ]
    }
   ],
   "source": [
    "gradL = diff(L, F)\n",
    "gradL"
   ]
  },
  {
   "cell_type": "markdown",
   "metadata": {
    "slideshow": {
     "slide_type": "slide"
    }
   },
   "source": [
    "Thus:"
   ]
  },
  {
   "cell_type": "markdown",
   "metadata": {
    "cell_style": "center",
    "slideshow": {
     "slide_type": "fragment"
    }
   },
   "source": [
    "$$ \\nabla_FL = \\sum_{i=1}^N \\Big(F(x_i)- y_i\\Big) $$\n",
    "\n",
    "or $$ - \\nabla_FL = \\sum_{i=1}^N  \\Big(y_i - F(x_i)\\Big) $$\n",
    "**This is  error we input to learner at each step**"
   ]
  },
  {
   "cell_type": "markdown",
   "metadata": {
    "cell_style": "split",
    "slideshow": {
     "slide_type": "slide"
    }
   },
   "source": [
    "Input into a regressor:\n",
    "\n",
    "Want to learn from errors at given stage $m$:"
   ]
  },
  {
   "cell_type": "markdown",
   "metadata": {
    "cell_style": "split",
    "slideshow": {
     "slide_type": "fragment"
    }
   },
   "source": [
    "<img src = \"Images/train_mistakes.png\" />"
   ]
  },
  {
   "cell_type": "markdown",
   "metadata": {
    "cell_style": "split",
    "slideshow": {
     "slide_type": "slide"
    }
   },
   "source": [
    "Now we have a statistical model that can predict error from previous step:\n",
    "\n",
    "- Learned function:\n",
    "$$h_m(x_i)$$"
   ]
  },
  {
   "cell_type": "markdown",
   "metadata": {
    "cell_style": "split",
    "slideshow": {
     "slide_type": "fragment"
    }
   },
   "source": [
    "<img src = \"Images/error_prediction.png\" />"
   ]
  },
  {
   "cell_type": "markdown",
   "metadata": {
    "cell_style": "center",
    "slideshow": {
     "slide_type": "slide"
    }
   },
   "source": [
    "Adding this to previous estimator: previous estimator + training error\n",
    "    \n",
    "$$ F_{m+1}(x_i) = F_m(x_i) + h_m(x_i) $$\n",
    "\n",
    "Corrects for error in previous stage."
   ]
  },
  {
   "cell_type": "markdown",
   "metadata": {
    "slideshow": {
     "slide_type": "fragment"
    }
   },
   "source": [
    "This is good, right?"
   ]
  },
  {
   "cell_type": "markdown",
   "metadata": {
    "slideshow": {
     "slide_type": "slide"
    }
   },
   "source": [
    "Not necessarily. If regressor is good at fitting error:\n",
    "\n",
    "- this is a super-strong learner:\n",
    "- Accounts too strongly for specific training errors  at step $m$.\n",
    "\n",
    "**Will introduce variance problems**"
   ]
  },
  {
   "cell_type": "markdown",
   "metadata": {
    "slideshow": {
     "slide_type": "slide"
    }
   },
   "source": [
    "A way to make learner weak: \n",
    "- simpler decision trees\n",
    "- the learning rate $\\alpha$"
   ]
  },
  {
   "cell_type": "markdown",
   "metadata": {
    "slideshow": {
     "slide_type": "slide"
    }
   },
   "source": [
    "#### Weaker vs. stronger learners: decision tree depth"
   ]
  },
  {
   "cell_type": "markdown",
   "metadata": {
    "cell_style": "split",
    "slideshow": {
     "slide_type": "slide"
    }
   },
   "source": [
    "<center><b>Strong Learner </b> </center>\n",
    "<img src = \"Images/deep_tree.png\" />\n",
    "<center> Will train on errors at each step very well. But probably too well. </center>"
   ]
  },
  {
   "cell_type": "markdown",
   "metadata": {
    "cell_style": "split",
    "slideshow": {
     "slide_type": "fragment"
    }
   },
   "source": [
    "<center><b>Weak learner </b></center>\n",
    "<center><img src = \"Images/dec_stump.png\" width = 250/></center>\n",
    "\n",
    "<center> Decision boundary learned by stump: </center>\n",
    "<center><img src = \"Images/dectree_stump_boundary.png\" width = 250/></center>"
   ]
  },
  {
   "cell_type": "markdown",
   "metadata": {
    "slideshow": {
     "slide_type": "slide"
    }
   },
   "source": [
    "#### The learning rate"
   ]
  },
  {
   "cell_type": "markdown",
   "metadata": {
    "cell_style": "split",
    "slideshow": {
     "slide_type": "fragment"
    }
   },
   "source": [
    "Instead of:\n",
    "    \n",
    "$$ F_{m+1}(x_i) = F_m(x_i) + h_m(x_i) $$\n",
    "\n",
    "with $ h_m(x_i)$ learned by tree."
   ]
  },
  {
   "cell_type": "markdown",
   "metadata": {
    "cell_style": "split",
    "slideshow": {
     "slide_type": "fragment"
    }
   },
   "source": [
    "Weight learning from mth mistake weakly:\n",
    "\n",
    "$$ F_{m+1}(x_i) = F_m(x_i) + \\alpha h_m(x_i) $$\n",
    "\n",
    "where $\\alpha$ is small. \n",
    "\n",
    "- Weakens effect of learning from error."
   ]
  },
  {
   "cell_type": "markdown",
   "metadata": {
    "slideshow": {
     "slide_type": "slide"
    }
   },
   "source": [
    "The learning rate $\\alpha$ controls how much we weight learners:\n",
    "\n",
    "- We weight how we factor in our learning from mistakes of a given step weakly.\n"
   ]
  },
  {
   "cell_type": "markdown",
   "metadata": {
    "slideshow": {
     "slide_type": "slide"
    }
   },
   "source": [
    "The learning rate (one factor controlling weakness of learners): connects to gradient descent"
   ]
  },
  {
   "cell_type": "markdown",
   "metadata": {
    "cell_style": "center",
    "slideshow": {
     "slide_type": "fragment"
    }
   },
   "source": [
    "$$ F_{m+1}(x_i) = F_m(x_i) + \\alpha h_m(x_i) $$"
   ]
  },
  {
   "cell_type": "markdown",
   "metadata": {
    "cell_style": "center",
    "slideshow": {
     "slide_type": "fragment"
    }
   },
   "source": [
    "$$ F_{m+1}(x_i) = F_m(x_i) + \\alpha \\Big(y_i - F_m(x_i)\\Big)_{estimated} $$\n"
   ]
  },
  {
   "cell_type": "markdown",
   "metadata": {
    "slideshow": {
     "slide_type": "slide"
    }
   },
   "source": [
    "But we know that:\n",
    "$$ - \\nabla_F L|_{x_i} = \\sum_i^{N} \\Big(y_i - F_m(x_i)\\Big) $$"
   ]
  },
  {
   "cell_type": "markdown",
   "metadata": {
    "cell_style": "center",
    "slideshow": {
     "slide_type": "slide"
    }
   },
   "source": [
    "$$ F_{m+1}(x_i) = F_m(x_i) + \\alpha \\Big(y_i - F_m(x_i)\\Big)_{estimated} $$"
   ]
  },
  {
   "cell_type": "markdown",
   "metadata": {
    "cell_style": "center",
    "slideshow": {
     "slide_type": "fragment"
    }
   },
   "source": [
    "$$ F_{m+1}(x_i) = F_m(x_i) - \\alpha \\nabla_F L|_{x_i} $$"
   ]
  },
  {
   "cell_type": "markdown",
   "metadata": {
    "cell_style": "center",
    "slideshow": {
     "slide_type": "slide"
    }
   },
   "source": [
    "$$ F_{m+1}(x_i) = F_m(x_i) - \\alpha \\nabla_F L|_{x_i} $$"
   ]
  },
  {
   "cell_type": "markdown",
   "metadata": {
    "cell_style": "center",
    "slideshow": {
     "slide_type": "fragment"
    }
   },
   "source": [
    "Doing gradient descent:\n",
    "- iteratively adding onto (or boosting) estimator to lower loss.\n",
    "- Parameter $\\alpha$ controlling gradient step also representing weakness of learning at each stage.\n"
   ]
  },
  {
   "cell_type": "markdown",
   "metadata": {
    "slideshow": {
     "slide_type": "slide"
    }
   },
   "source": [
    "That's why its called gradient boosting!\n",
    "\n",
    "General framework: with different $L$ applies to classification, etc."
   ]
  },
  {
   "cell_type": "markdown",
   "metadata": {
    "slideshow": {
     "slide_type": "slide"
    }
   },
   "source": [
    "A summary of the learning process in more detail:"
   ]
  },
  {
   "cell_type": "markdown",
   "metadata": {
    "slideshow": {
     "slide_type": "fragment"
    }
   },
   "source": [
    "<center><img src = \"Images/update_detailed_process.png\" width = 1000/></center>"
   ]
  },
  {
   "cell_type": "code",
   "execution_count": 7,
   "metadata": {
    "slideshow": {
     "slide_type": "skip"
    }
   },
   "outputs": [],
   "source": [
    "import pandas as pd\n",
    "import numpy as np\n",
    "import matplotlib.pyplot as plt\n",
    "from scipy.stats import norm\n",
    "from sklearn.tree import DecisionTreeRegressor, plot_tree\n",
    "\n",
    "%matplotlib inline"
   ]
  },
  {
   "cell_type": "markdown",
   "metadata": {
    "slideshow": {
     "slide_type": "slide"
    }
   },
   "source": [
    "#### Fit a noisy sinusoid with boosting:"
   ]
  },
  {
   "cell_type": "code",
   "execution_count": 8,
   "metadata": {
    "scrolled": true,
    "slideshow": {
     "slide_type": "slide"
    }
   },
   "outputs": [
    {
     "data": {
<<<<<<< HEAD
      "image/png": "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\n",
=======
      "image/png": "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\n",
>>>>>>> upstream/main
      "text/plain": [
       "<Figure size 432x288 with 1 Axes>"
      ]
     },
     "metadata": {
      "needs_background": "light"
     },
     "output_type": "display_data"
    }
   ],
   "source": [
    "import numpy as np\n",
    "X = np.linspace(0,40,1000)\n",
    "y = np.sin(X) + norm.rvs(loc = 0, scale = .4, size = 1000)\n",
    "fig, ax = plt.subplots()\n",
    "ax.scatter(X, y);"
   ]
  },
  {
   "cell_type": "markdown",
   "metadata": {
    "slideshow": {
     "slide_type": "slide"
    }
   },
   "source": [
    "#### Starting point: the dummy model\n",
    "\n",
    "Dummy regressor: average of our $\\{y_i\\}$ as a model of our data."
   ]
  },
  {
   "cell_type": "code",
   "execution_count": 9,
   "metadata": {
    "cell_style": "center",
    "scrolled": false,
    "slideshow": {
     "slide_type": "slide"
    }
   },
   "outputs": [],
   "source": [
    "%%capture dummyapprox\n",
    "fig, ax = plt.subplots()\n",
    "ax.scatter(X, y, label = 'Data')\n",
    "f0 = y.mean()\n",
    "ax.hlines(f0, 0, 40, linestyle = '--', color = 'r', label = 'Dummy Regressor')\n",
    "ax.set_ylabel('y')\n",
    "ax.set_xlabel('X')\n",
    "ax.legend()\n",
    "plt.show()"
   ]
  },
  {
   "cell_type": "code",
   "execution_count": 10,
   "metadata": {
    "cell_style": "center",
    "slideshow": {
     "slide_type": "fragment"
    }
   },
   "outputs": [
    {
     "data": {
<<<<<<< HEAD
      "image/png": "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\n",
=======
      "image/png": "iVBORw0KGgoAAAANSUhEUgAAAYAAAAEGCAYAAABsLkJ6AAAAOXRFWHRTb2Z0d2FyZQBNYXRwbG90bGliIHZlcnNpb24zLjUuMSwgaHR0cHM6Ly9tYXRwbG90bGliLm9yZy/YYfK9AAAACXBIWXMAAAsTAAALEwEAmpwYAABQLUlEQVR4nO29f3xU1Z3//zozuZAJIgGNLQ4i2H4WXEUSSBVLf4irxArUCCp1tQ/pflo/bb/2U2ibFru2gmsrNgrsrlu3frYt2+raiGhWpZ9FFPpttUUNJkhR0KoIjq5EIChkQiYz5/PHzBnu3Lnn3HPv3J+Z83w8fEiS+XHuueeeH+8frzehlEKhUCgU1Ucs6AYoFAqFIhjUAqBQKBRViloAFAqFokpRC4BCoVBUKWoBUCgUiiqlJugG2OHUU0+lkyZNCroZCoVCESm2b9/+PqW0wfj7SC0AkyZNQldXV9DNUCgUikhBCHnL7PfKBKRQKBRViloAFAqFokpRC4BCoVBUKWoBUCgUiipFLQAKhUJRpUQqCshrOrtTaN+0B+/0pXF6fQJtLVPQ2pQMulkKhULhCWoBKNDZncLNj+xEOpMFAKT60rj5kZ0AoBYBhUIxLFEmoALtm/YUJ39GOpNF+6Y9AbVIoVAovEUtAAXe6Uvb+r1CoVBEHbUAFDi9PmHr9wqFQhF11AJQoK1lChJavOR3CS2OtpYpAbVIoVAovEU5gQswR6+KAlIoFNWCWgB0tDYl1YSvUCiqBmUCUigUiipFLQAKhUJRpagFQKFQKKqUwHwAhJAzAPwKwEcB5ADcRyn9x6Dao1B4gZIXUdjB7/ESpBN4CMC3KaUvEkJGA9hOCNlMKX05wDYpFK6h5EUUdghivARmAqKUvkspfbHw7w8BvAJAPRWKYYOSF/Gfzu4UZq/agsnLN2L2qi3o7E4F3SRpghgvoQgDJYRMAtAE4LmAm6JQuEYU5UWibLKK+okriPESuBOYEHISgA0AllJKPzD5+42EkC5CSFdvb6//DVQoHBI1eRE2gab60qA4MYFGZRcd9RNXEOMl0AWAEKIhP/k/QCl9xOw1lNL7KKXNlNLmhoYGfxuoUFRA1ORFoj6BRvHEpSeI8RJkFBAB8HMAr1BKVwfVDoXCK6ImLxL1CfT0+gRSJm0N64nLSBDjJUgfwGwAXwSwkxDSU/jd9ymlvw2uSQqFu0RJXiTqE2hby5QSHwAQ7hOXGX6Pl8AWAErpMwBIUN+vUChKifoEGrUTVxgIRRRQ2IhyJIRC4ZThMIFG6cQVBgilNOg2SNPc3Ey7uro8/Q5jKBmQP6ZcN2sibm+d5ul3VxvDZaEdLtehGL4QQrZTSpvLfq8WgFJmr9piagclANYsblQPtkuYLbQJLY47Fk6LVB+bXYcWIziptgZ9/Rm1IChCAW8BCDwPIGzwIh4oEJlwuCgQ9ZBDhtl1ZHIUh/szkYylV4QDvzKalQ/AAC8SAohOOFwUiHrIIUOmvWxhU6cABQ+9GXFMQsOxwSFksnnrTKovjWUdPeh665DrZmh1AjDQ1jKFG5oUlXC4KBC1LFkesu0N68IWZe2c4YIxA7svnSlO/gwK4IFt+1y/P2oBMNDalMR1syaWLQJRCoeLAlHLkjXCJs5UX1oqljmMC1vUpR+GC2ZmRDO8MEOrBcCE21unYc3iRiTrEyAAkvWJSDonw7yza21K4o6F00r6eNHMJNo37Qltmxn6iRPIP5hWi0AYF7bh4oeJOnZOh26fJJUPgEOU44mjooqo7+OotBkwnzgpgDghyHKi6tikGqZrGS5+mKgj8juavdZN1AlgGBLFnV2U2sybILOUlpm1GGE0r/AmEwqE+gQ23DAzh5pNzF6YSNUCMAyJ4s4uSm3mTZzMVJjk/D1sC5rZxMMI44I1XDEzh65e3Ii1Ppihq9oENFwzOKMo6sVrc4wQdHanQnVfRJo5zKw1eflGmBmDwrSg6aUfzPpeha/6B8/k7HXfV+0JgBcBcUvnzlA7T2WIYoQNbzeapTR0O1GzHZtxdxaVMNfWpiSeXX4x14kdpgVLhrAHP4SNqj0B8GzOD2zbV9y5hdkRacXImljx+sbWaZh33ni0b9qDZR09oTztsLZ8+6EdZY7UMO5ErYIEoqasGcVTo5EoBRKI8NMyUbUnAJHkg56w2W2tYA9BXzpT/N3RgSF0vLA/9PHerU1J5DhRNFHbicqcEsJEFE+NRqIUSMDD79yMqj0B2Am9itLkw9OmMRLGXTUwPHaijCiFEhuloMckNBACLOvoQfumPaE7MZoRpUACHrxFbMVjuzzp/6o9AZjteIaDBESQSSVuwPMF9A8Ohe7EMtxg/oA1ixtxfCgXekE7o72/vk4zfR0LJIgCvGeyL53x5BqqdgEwO6JfN2ti5I/BdharMC5s7L4ktNKhebg/E8pJaDgiY0oJ2tlqZio5OjAELV6+jQtjIAEP0TPphSmrahcA4MSO581V8/Ds8otxe+u0SNltzWhrmVL2EMQIyn4X9oVtIJMr+13U7LlRxcqUEgYNIZ6pc9SIGsRJ+SIQlbEjeiZlTdZ2qFofAI8o2W3NogUAlHmy44Rg8SfOwNbdvZHIeWjftMc0hh7IPwSzV20JdfujjpUfRnRC8Oue8BapI7rgB9n3hInWpiRWPr4Lh/vNr8PtnBi1AEQMNukzFUpjyGqtFitz+mZyFPdv24dkfSIUVc2swtysdjpRCO+LQpIhr41WIaxhcLZaLVJRDiSYd9543L9tn+nf3HYGV7UJKGqYqVDqSWey3J0DEA5nnoz5wOwIbyTMR/owmEisELWxtSmJRTOTxfsQJwSLZp44GYchyU0UthrlkNbO7hQ2bOePkz7BCccJ6gQQIWR1w0UEHf7JMx8s1YUb8hQ1jYT1SB8GE4kVVo7eDdtTxfuQpfkTJNuV1mkxaHFSUrTE7wnWKGMRJ6TY/raWKbhj4bTQnsA6u1NY8diu4mQeI0CO5n2O/YNDFT/jdlALQISQmfDqExqOD+WEg8jviVNvahBN7WwXOrZOE55kGGE90vP6N9WXxuTlG0MxIYnMOFYbjf5MDjGSzzAPsvA9+z6z7N87Fk7Ds8sv9rU9MnR2p9C2fkeJmZb9U8bJO5YT6uoUtQBECKvkNYL8EbE+oaFWi3EnUT8nTmN6vhXpTBYja2JIaHHhe8J8pBfdJ725BQjOh8FrI2ufFTkK1I2oQfcP53rQOnmsTjJhOwW0b9pjmpgpgxYnuHXBOa62R/kAIoRIvhc44RPoS2cwkMnh+hDkNTgxWx1JZ8rCca+fNTEy4blW9wkI3odhFi5slzCY4HiLFVtkw+aHcRrKObZOQ/tV05UctJcYoyLmTG0IVeik0e6pjwIyks5k8eBz+3HtBcGGfzqZJE6vT0QqHNdIa1MSXW8dKhEWNCPwCdTZRrRIGExwoipsYfTDiNrLg5navKgqV9ULgH7CH5PQ8OHxIWQLx7NUX7okFCsMx3b23a1NyWJBchFZStHx/H60X+3+zkEWnqkhWViMoqSYaYetu3st59cgJ9BKTBFA3hwRhvtkdzINetG1214ARVOuF3NQ1ZqAjGFwfelMcfLnkc5k8e2HdoRCa1x2IGdyFCse2+Vxa/iIQvKiXBjeCqv7E9RCxyQcKskq9cocYZfO7hRXv4tH0KcWXrU4Wdw2HVbtCcBpSCVbwYM+EdhRM3U7dtgORpVJoxmKnWhYaJzx1LWsowfru/Zh78F0aExxMtQLIpmSAV2DXYe8GXGSd0SGof9FGeM8+geHAo3EMjv12sXNU0zVLgBudGKQNkU3BpJfWNnzRRMTBfDs64eKPwe98IrQmxR51Ce0wMIT3cgjyVKKZR09WNrRE9hCxnDyDHtpTpHBqgynDG6eYqrWBORWJwZlU2Tmk/qEdVyw27HDbmN3Ygoygoangmk0KfJ2piKtGq9xa6wa5UeCMtNV+gwHNY6YCOXaxY2W0WJG3DYdVu0CIBOqJ0OQNsXWpiRGjRQf4uIx92OH3cbJxMRE4fycfETyCbKLWJDjxYvvDnIxduMZDtIpbLaJq9NiGFun+Rb+XLUmIKC0bq4TwhCxYjWAR4+sCZ2pxIgdf4Yev4/xvKSjZQ/1QCa4I6HFMWdqA2av2hKIP4MXdbVoZhJP7HjXsa8oyFNw11uH8OBz+x1F1wDBLshGSQggn2WdyVLfRBsDXQAIIb8AMB/AAUrpuX59rxvOMACBJSOV2JpFyQAI1uRgBU/Z1A5++mG4daQFDY8TghylxbySDdtTgRUtFznkb2+dBgCOIoT8zizXh24fGxxyPPkHuYETzUGZHMXNj7w0/BcAAOsA3APgV35+qRvOsGQhWclvygaOxdgfk9AC23GKMF5HJTlJfu1A7Z5UElq8ZJMwe9WWQJOTZCSq7faln5OocczInFjYxiIZssROqzkonclh0vKNnjvaA10AKKW/J4RM8vt7K50wtFhwSTB2F6++dKb4oKT60mhbvwMrH99VIuLFPtfPB8ONRZjh1w60rWUKlnb0CF+jn3CM/RiUjr6ZqYF3+pBZ5PSnGj8nUTtjhgBl2fxbd/eGZgMke8+9PiWG3glMCLmRENJFCOnq7e115TMrnjAqk1CpiErLwmVytKTYd9v6HWh7eIfvmil2Jj1ReQACcRk9N2ltSlpGVLHJ/9nlFxcfWBY5xDvleLmAsV2z2W7ZzIHb1jIFWkw8wHOUFsuohlFWJFmfwJur5qGtZQo2bE+FTg+oszuFmETNC4aXjvbQLwCU0vsopc2U0uaGhgZXPnPO1Mo+J5Ol+PZDOwIZSDLFUuyQydESXXfAn8gOO5MepSc06PUQANfNmujrJCQTUaWfqIxFfIx4bUKx2jUbJ9XWpiROqhUbBoJynMp+b1//IDcyK2gRPjYe7PotvKgHDERgAXAbq4o7smQpDWQ34dThZRevzRJ2Q/j6MzlksxRscxonBNfNmlh0XvpFa1MS18+aKHyNfqISTcB+qJpa3UezSbXPohZDUOZP2TFzbDBfYEikFBoUKx/f5cj0SQBP5pqqWwCc3gAzgthNVKolIovXuzw7iWyMHE4Uz8hSig3bU74twPoEsK27ewtS2+WPj3FHz5uACeCLCUV0H/VhqfrENtF7RtbEsKyjx9ccDNb3yzp6MLLmRJy8U7yaTK3o7E4JCx2Jnm0KeGJ1CHQBIIQ8COBPAKYQQt4mhPxPL7/P6gY4IdWX9nUw8cTV3Mz29TOy4/hQzvF7mTif1/1vlgB2/7Z9SGfK257OZPH9R15C021PYvLyjVxbr5+Oa96umYCi44X9ZTbyOVMbTN8TI/n75ac93Uy0cSCTw5rFjY43QxQIxAwk+k7mN9q7ah73NV5YHQJdACil11JKx1NKNUrpBErpz738Pq9uup+mIDMFzTsWTsOtC86xdN7J4GexFbe0abzuf7vt7M/kio52M5OdnwusfrwApfELLOlITzqTxdbdvWVjbGydBqNYrh8nYJEdv5JM4CCS10TfqR8PooVNqYFWgNObrsUIhnJUWHzFq1huXuy2/rvYa2T13UfECShQVtTb78Q2t2yxXsfSuz1ZLJrpb7EbOzUkgPz1GsfY5OUbua/1ElHoLGufMcRVhiAc2bwQW2YGZfk6YxIatDgpW5wZSg3UIbKJPFqM4KTammKsfF//IDKD4h2gFw+CMfGFHbu73jpUjG1m2ZC8wWKkPqGh59a5UklBXuOkOhIPLycip1IVPDa+9K7vzmtAvo/MJkdeH3g9kVp9Lxuz33qop+yEwiOoDGCegu/gUBZtD+8oPsN96Qy0GEGMwPSa3OzzqloAZCSU44SUVdCaxNn96PHiQeAdf/WlBu3ufPrSGTTd9iRuXXBOYLLEDDcjmryciNpappQ8oJXith9KFpmFjFX6MkouDA6VPzN+TKQyVePaN+3hTv76DOBUXxpxQkrMKEFIQZvp/xjJ5CjqExqOD+U8rZhXVQuAVU1dAuDaC86wPSi8ehC42jMVfu7h/gzaHt4BIDhN/c7ulGsnAF92dC5H3wYhzzFnaoNlneKaGCmboMw2GWPrNMw7bzzaN+3Bso4e16/DuADVarGy7HXWh7zrYZFW7PPMTtOA/4tA+6Y9Uhu3I+kM1ixu9PSkTqhPceVu0NzcTLu6ulz7vFs6d5Y9EEbzT1vLFKGN0UutjkpL91nBIg/8RiSERQDUjYjjmIXJjeFHURKv74Mf/hezsV4JZuJ9bl2H2fhgnw3Ys/mz8cErwMJMon4yeflGqfvAnk83zLWEkO2U0uay31fjAqBXobSCyeX+x7Z90B/UYgBWeyzZavYgOFXNNIMAeFMQduYVVhOqFiMAgaXJxa+HV/aBrQQv9XU6u1NY1tHj+TUAlW0qrJ5LM5OIDAktLnzPWg+fY+NJhhA5EyB7zutNfHxOFlreAlB1iWBWqflG0pksntjxLuIGGQLjz5W0x6zCFGAe8nndrImWSTAja+Rua1Ap/VbOyEyOijWWC/hV69iPfspS6ll8vZPauU5x6oyXeS770hlHYcPpTFYooeJVKKtZDoOs/0fv4/NSqqWqfACAs9hzs4kmk6UVhx7K2CV59XT1xdONyCZXBZXSL+OMNPGLBYZM8AABEIsRZGVDUQS4HdYqmpTdjMQC8vLjTnBTHdYM0TV6FUHm5TW51eaqOwG4ebMr/Sy7YlXstCCa/GUZNaLycphOcWvh8avWsTGZiu0m9XtKivzDxGQK6hMaKsnLc3Oc1nP6iQU9uJFAyPjw+JCj04vV9bqd7a6HAp5IW3gdmuwGVXcCcDOmmw0cpzZb3gBh9W6Z02fO1IaKSvaZcWwwi2UdPeh661AggmorH99VcTikn7WOjScxMz9GJkdRN6IG3T/M+yV4yVMyuPWAd3ancHRgyPRv182aiCd2vCudQChDNufsZCx6LpO6yB+regxO8SIqSGauSdYnhJFMZrBQXTeouhNApVLQRiqx2fIeclL4XL3ujBf2boq8KYnp1ngt8KX3d1CKMnlnuwRZ2EOUoWql/2/E2A9uhrXyMsQJgAc8GldOdr48jau1ixuLonmtTUlPT65uyyxY1VZgYnx2agMAwKgR7tX5rqoFoLM7hY7n97v+uU4HjtmgdzPKRxZ9gRivdHXMHGKgcGwm8UsVlQdv8a7V8mqZdk6Zo0bUlGk7eW3/p/BunDk5vfA0rvT9cEvnTunwYKe4bbbhubKS9QksmpnEhu0p2z4YN+t8V5UJyI5ejl2cDByzIt1BapUD3unqmPk7eNmOMgTlwAbyi9mx4+VmFS1GTBVCrTiSzpTIcyzr6CmKnVV6H/weU/EKyqXyAh6AfJ8/4ILvywo3I75WPr5LGBSw8aV3HTmJlRSEQ8LolJGxLfuNF/3E+8y+dAb1Cc3Wg1Cf0ALNYDaLCGIOSid+jdPrE55lqsrUMeZRp8VMK8aJGD3SPfOEHqehrPUJDaNG1hRlIKx2225uLERjwekzrqQgHMB2VqJbT4hU6Lkpbt4UmZBDKwjy4XhO7btexL3X12ncB6IvneGavoy/12IEhOQdrCyxRp+17XVCD+/BrRtR43jhZJmqvIiwSq6pEod7fyZnO0LITfOEHid9m9DiWPH5c8r6j7fJSmixUBSMN+JlkuCw9wHIJn45nfzdttma2UJnf2ycdAUkVhDbaYasV7o6Vv1LgbJrTGhxXDdrYrEv6hMaQE74LFhijZ/+Cx7MhGeGzL0TOZUrpZJaEZkchR0fpVdJc3Y/V/Rc8pyzQznq6vipM6kYZ5eEFsfd10zHm6vmeVJBbtifAGSTMZI2bKVMCItJMrutLGhmFpJZnwhKo5zsXBN7vRe76M7ulNRphOJEWJzZbmf2qi3Cz2EVwgB3I4RkxhBrr5l0x3WzJhbVKM1Y8dguT+WWKw27ld0cebF50J+8ZAMkmLQDi8bSjyeA7wt0I7lT324Z01lCi2EgkysTpWTPgtc6V8N+AZDZQcUJkc72/OTHxmHXOx+WJGOl+tKextTL7gIpgA3bU2g+cxxam5K2zEleCcOx3bMMVm2Q6QdWIQxwbxGQ+d45UxvQ2pRE11uH8OBz+5GlFHFCcO0FZ+D21mno7E5xbfF96QzmTx+PDdtTnkn/WhV6F8GznRPkTXtemeCMfhF2SrSaVts37UHXW4dK+jPVl8a3Onq4UTkMt/xfMgEneoG7oGpzDHsTkMwOKkspWpuSWDQzKTyuUwDPvn7IdBdKkY+r9sIEYWcXaNQ615uTRHooXtU2Xvn4LqkFiOU+iHIRZPvB7Xhume/dursXnd2pkrA+feH61qakMJP1iR3vlmg4ja3TXDUtOj1JJLQ4rr3gDNPSixQo1uf1wjxhdvJiO2MRqb40Hti2r+y9MvFZbpmwZBaS2oKJqLUpiWeXX+yZmUfEsF8AZOqGsgG1dXdvRbHRXhWbtlv7VD/49IPr7mumCxc4t23ond0p2+JXIlt+W8sUaV+Im5FUMv3PTIEiaQ9R5nJfOlOysRhwWQzJKikpTgjWLm7E2kKxdX0s/u2t03DHwmmmvgAv6wKL/CJWshBOnmM3T1wyCwmry+FXPXEzhv0CYLWz1990N45/XoRQigp7myEafLUCx5TbD7PTz+K1o7UpKf1gi047djH2vxmnF3wXZrDTldUpQI/b96K1KYn2q6dz/54rnIJFu1GeL8Cr8GreOD69PpF3bLukyAu4H8whu2nLZClWPr7Lle90wrBfAAD+zj5OSMlNd+P450UUhF5TnElC8xYD3i6mszuFtvU7LBOVwiKWx3uv7ATqpsIlcOIktXZxo6lkQVvLFOG9X9bRg0nLN9qyxbs9sYoWoIRgY9DZnSo6183wKvKHN4n2D+aT8Nqvml5xRjgBSuQm3EJm08AIqkQoUCULAM8cwGz/DLumFiNaBVmQPIwSCkwbKGVYDKxkBFY8tksqC9rNh9mpNLCoHbLzuldSEUa/Sn2hXOGyjh4cOnac+z5q+L8enmXG6b0Q1Zjg9V9/JmeqCcXGn2hB9Sorm/W1cXE63J8pOvrZouz0LHDdrIme2dzZpiHMDPsoIJF9zWgmMJNmmHRKAtveOCy1o8zkKLreOuRbCGKqL40N21NSR1eZMEy3w/icWmFE7ZBJNPK6RjAzlRijVJzIQADgFjR3IlxolVEs6j+2E9W/xyoE1o+sbLN+ZSG/rB6xk/MeAdB85riK2yeisztlGblUX8FGqVKG9QmgsztVLH5uhtmkrreBtrVMwfNvyk3+DLcjgaycmW7Yir0QIQOchR4azXJGRKYKwJvr4OF1EZONL71r+z1Wjmi7kVQiMxTLtPWSFY/x7eP6KmpO9hoU7gc+GLFSIIgRFPtQdHLzimF9Alj5+C5hMobVyitrNtHDIoHcSiaRiXuWsRWP5UgxxAiw+hpvaqI6ESLLGcxyejq7U+gX7LLZzt+P+q5+iKw5sQ1bOaLtaAOJrtNqoXYLWTkT2RwBI16JHzJEz2aM5E9/vLwFt/NZTNvg2SeHAKsH6IOBjHCVdaql42YyicyAltnV8aImctS7XZATn4roWqxOOm5HzrAd2aTlGzF5+UYsLcg8V7Lr9BpR/7EJxU7NaJ5O/93XTA+dbo4+R8DOvQlKJJLtLXl5C16G2DKG9QJgRY6Kj5giRDHVfiaTyNq7W5uSaL9quml4pFcDjYXgymJ1LTL94dbDbNT/MVuIzfSLtBgploVM1iewdnGj41KGVuYuM0Tx/uw+yyzK+tOUlU6/G/DMH3b6jmWS7101D2sWN0rb1isJVrBCNneFt9HzcnEChvkCIDMARLt83uAbW6dh8flnmP7NzXJtVgtJnJDiQy2zg29tSiLH8Wd4MdBYZqwsMZIPl+TZP2UWVrcWX1n7Ptt1ssmx/erp6P7h3JI4+lsXnOMousyJOFlrUxIn1fItu+/0pYWOYLNJ3utMVbNIN3YqNTu5xoh1FbXWpiR6bp1bTGxj12bGsUFndYxlsJO7YoZXIbaMYb0ArPi8cxVEwNxsosUJbl1wDrbu7jV9j5vl2njH7+tnTURCixed03aUMLnhlXC/MLZdJ+mxwaxQ2dPKpORm9I+sfZ/tOkWTo52YcD1MnMwuIuf76fUJ7hhgSrJ+yxHwHNcsymfUiJriZiwvjQzUxEgxfDZOCBbNPCGgqD9NsMI6e1fNw5ur5plu6pz2syyy9102p8dNhvUCwLIfRVmhoiMmM5uU7PCuymdT8iYIN/XQ2cShP8nUajHTSkKyZhyRicBtSeVKThVm12PWHwwClEwClcCc71bYeUD1iWRe26dFu8ZUXxqHjx33tA6xXXjXyKJ8+tIZHB0YQjx2QpQunckVbeh6zSXRaQLgL46slvPZP/i/mLR8IyYt34izbt6IWzrlhAxFyJiBtBiRzulxk2EdBQTkH7xlgqgHkT4Le7/+JlipW1aSvMNTBDw+dCLyReTYlpksrKSB3YyKEEWQyITWml1Pa1MS7Zv2lJnuKMA9ldlF1vnu5AFliqEPbNvnmoPfyJypDSVqtUb6MznESH7z45aSp2j8WiETUWUVjaffMIgK6/C+a0xCK1MLzVEU+1FG5ZfXB1L3nORzErxQExYxrE8ADN5D5CSJRaRu6XQXJdq12DGjyE4WVtFRbimD8kxYPHVJI7zr8ap4CjMdyJh/kvUJxxPm7a3TcN2siZavszOe9BFLosmfkaP5KmZumHysdt1WVJqBz3inL205NnhjkhC+WuiDz+23/G6rPri9dRrW6PwRRrw2Q/GoigXA7KbrSwvK2r6t1C2dHtlENlBZW7TsZCFr3nDDFMSTTXhg2z6MrIkVo2XqE5qUSYJNcrxdFKut6ySZRrZyHKNSc4nVacWOCcBu2xluhitXEsIoMu3ZQeTfYL/nRTWJ/CYyp1WZPmBmQN7z53XEjxmBmoAIIZcB+EcAcQD/Rild5cX3GCUexiQ0HBscMk19Fz1wogFdSUq8yAYq+r5RI2tsH7llzRvpTBYrHttVsSmIJ5vQl84gocWxRle9SWRC4BVjZyS0OOZMbXBcWN3OSavOhdqxooe9PqHZ0pBxmpHslrmSt/DYmdB4pj1Z9NF3xnFiFiFkvH+ies8yyrJWJw99n8U4JlAvw1F5EOqyaqL0FxMSB/AqgEsBvA3gBQDXUkpf5r2nubmZdnV1OfvCiy4q/vPFfX0YHMriiamfxv0z5qE2M4B161dgRE0cMybWn3jPkiX5/95/H7jqKmx742DJR97fdDmeOPszGP9BL9Y8cTdq4jEMZXMYURPHxHEJnHrr94EFC4A9e4D/9b/K23TLLcAll2DJ/74PX+3857I//+QzN+DFCWdjxtuv4Lu///eSv9XEY/jwjnbM+cJc4KmngNtvL//8n/0MmDIFePxx4O67AaDkGpbN/zbePbkB81/5Pa7v/m3Z27/WejNu/dJn0bpjM7BuXfnn//a3QF0d8NOfAg89VP733/0u//+77sKLP70fg0MnHsqBmpFYcs3KfBRN5lng6adL33vKKcCGDfl/33wzXuz4vyXvf3f0qVi24Dv5fvrDL3Dx8Xew71C6+Jo3xiXx/cu+AQD4xy334oq6o6Wf39gIrF2b//f112Pb70slQ15MTsVPPrsEAHDvoz/G2PQHxb/FCMH5X74a+MEP8r/43OeAtGECmD8f+E6+ffqxx7hrzHTcc/bc4tgz8vC0S/CnTy/A35/fgMtv+0bZ3/G1rwGLFwP792Pb7MvL/vx/zr8ST3/8Apx18G38eNM9ZX+/91NfwJVtS9BKeoGlS8s//8c/Bj75SeCPfwS+//3ir98/ehxv9B7Diou/gpc/chZm7+3BN/74m7K3f7/lJhyaMBk9M44Xx14Jv/41cMYZQEcHcO+9AErH5tdab8bhujG4audTuGrnU2VvX3L1Cgxotbj+xY2Yv/sPqInF0DxpbLGNV1z1I7zTl8a3X3ocXziwA6eeNPLEmxMJdP7439C+aQ8WbfwFLkr9GWPrNLz3wQAA4HDiZHztyvw1f/f/X4fPfbgXk08ddeL9EyYA99+f//fSpUBPT3FOAcrH3nn97xU/GwBePu0s3HbJjQCANY/fhfEfvg8AIITgYw2jcOqlFwF33JF/8aJFwMFCv7DnyQGEkO2U0mbj74M0AZ0P4C+U0jcopYMAfgPgCj++WD+RyPyeMaJGbKccyuaKn/NG7zFse/2g8PWMGz45Sep1xu/6p6dfs22msboGI3btku8fPY4X9/Vh2xsHS0wwvL6V3SXy3k8AXPOJM3DqSSO5r2HywSLs9EuOUrzy7gfWLxRw6V9/xNLunepL4x82voz3j/JVRgH79xSAY5v7vkNpbi6JkWODQ9LPAODsOhhDuRMW/FNPGlkMzb3p4o+XTv4A3vtgoMRePziURe+Hx/GRk2sR0+32YwQ45/QxpZM/h4njEiXvBfJ9fHp9bcnkL4JSin2H/DUDBXkCuArAZZTSLxd+/iKACyilNxledyOAGwFg4sSJM9966y3b32U8svbrzD96rGrSWpkh7H6enknLN0q9rpLvACCsTWsGAfDmqnnSn922fkdZxMb1gqLosu3nOWfZ+5lmvdnRWuY77N5b9rmVRM/c0rlTymHr9rhksJq0dtpvd5zaGZ+88eP29/DGUj7HgDqOijIzY4pMS2bYed7s4PgEQAi5iRAy1vUWmSfmld15Sul9lNJmSmlzQ4NzeVy9d/4Ix+FjJb/LHEiy1abs2ECd6tfbdRzZqUoF2LMT88Tz7t+2D3OmNnALqcjAi95oa5ki1Ky3I5Whdw7KUEnehJ0sadE91keKGdtdp8VQ53IFOLuV1uz6AURZzDzsRt9Z5R04ua88H5bd59PrzF8jMiagjwJ4gRDyECHkMkJcq7X3NgC9nsIEAO+49NlFzBxkvHAvmTjy1qYk7r5mekVhjGY4DYWz8x0sQkZWZVKLEfQPDklH1IgceFt391akKSPSpOE5Qe0qVuolD0aNkLsXTnWU3AjvtdIrymSp5W7a7gRlt9Ka3QnNroS4k4QpmTbZua+iEFDRd4UhGc9yuaWU3kII+QGAuQC+BOAeQshDAH5OKX29gu9+AcD/IIRMBpAC8AUAf1vB55liZ4DLvpYNNpEpxe7N1EcquR36CcibCZhEbb3DSCke7JoqqZBkFr3R2Z3i9pdIWlpEZ3cKxwblzSmpvjQmL99oy3QgO9ZE99hqEfGiAlzShgy23fEpG6HGPttp2HVbyxSpZ0H2HvFCQJd29BRDnPWy9AT5SmTNZ45znDznFlLnLUopJYT8N4D/BjAEYCyAhwkhmyml33XyxZTSIULITQA2IR8G+gtKqevVke3ottt5GFqbksIFQFR8XfSZrU1JTF6+kfsgMM1zu/Zn2R0nmzOOpDNlbbDKEubVHGAs7ejB0o6eim3nQH7CWPHYLuGpw+lx2smOXr/zA6wXyXpOX9kJ7600btzJjlO2noCde+zEt1bJ+GHv4/mMGLLjR3Qf+tKZokKsWdZ10JLaMj6A/00I2Q7gJwCeBTCNUvo1ADMBLKrkyymlv6WU/hWl9GOU0h9V8lk8zLRvYnDn+CWy27O6pU7sw6KBx4arTGSLHruThRN52lsXnMOtb6unUs0hNmGIJn+WF9C48smitkvTbU9KfafbGkZGOrtTODpQfv+0OMH86eOlv6sSe7FTrRkZHxKboNs37ZEyH9oxh42t01wRqxMp4wL25gOr+5DJUdeyrt1GZpt6KoCFlNIWSul6SmkGACilOQDzPW2dWxgmpXicYPEnzqhYeMnKbs+yee1mGx87bj25H+7PoO3hHdKTqFvOJdHntDYlsfoaOR12dkR2okAqM2EQUNy/bV/JInG4P4OlHT2YZHE/Ku0rqwWkfdMeU/NMTYxgw/aUtKRCJRIKlUxEVvLWh48dR9vDO6SvQ/aEzpR43aCzO1UWtqnHzgle5j54XT3OKZZXSSn9IaXUNPaSUvqK+01yl/ZNe8rKQmayFFt391ascS6Twm4nskBmZ6vHjn6IG3orMrui1qakrTqxTk4DMjt0UelIq+816ys7kQ9WCwiv/elMjmtLNluwjDLT+jaOrdO4O3WnEWcy3wvk+974zPFORnbue/tVlVUh0+slLe3oEZp/7JzgZeW+3VAWdZthrwXklXCYHr1apwgr84CTlH47jmujLo8McUJsn5Ls2tDtRtK4dZrhfa9ZxJEd56TVIumk/bwFq7UpWVyw9G0cyOQw77zxFYXeimARU3tXzZO+nlRfumwhk63IV4n4HuBML8munpFIah3Ih0P7UejdDsNeDprnBPa7chRDNGG7rf1uxBhFY5WIpMUJd9cl0u5xch123iMbxSEDm5TMJHz1181LHnKiyWTW/oQWR60WEzrReU54XhQKC731MtJEFIVlhtFRLnPaJahcfM+pXpKdcckz7elZ+Xjl+lpuMuwXAN7D5la8baWJHjIiUTwqLT/ZfOY44QIgmvxFomt2Iq8YdhcywF7IrAj2Gam+NJZxIpV442jF589x5Ehl7ddPzEC5kBmvrXpEp1yz0Fm3sKqNwcNuzQmKyqNlnJ747YxLme+QzcHxi2G/APAeNrceCjuTnXHhMU6kdib/sXUabl1gf/IxfjcP0ZFbJH3LjsJ2duhOFmSeymilsDtgXNTcHkeiiVm0sBHk7x17b2d36kRssAGvs0qd7qqBExW4CAGshn19Qquo4Axg7zll2B2XTr4jaALTAnJCRWqgLqIfjExa2uj0MmI2YTfd9qTtHYFbWiGiwidWSTaiPIW9hbaJtHmcSlnzsNI3YqYswP6pwa7Wklt0dqewrKPHtJ/1+kc87ZwYycsLu1Xxy9g22X7krE1IaDEARGoBiREgHitNprKbCOZko3D9rIm2KnTJaBnVJzT03DpX+jPdgqcFNOxPAG5jpmsfw4kMWh7HCzvkZR09OL0+gTlTGxwdB93a1YmOq1YPFm+nY9ydjq6tKbPxOjWbVAKLlmLRXrJVv4BginQA4kRD1iaRzTlH4VoWtx6ZiVQvqjZnagM6nt9f1s60RZSWnhwFcpyoIjsyH4B18peeDdtTaD5znK0+E322FiO2IuT8YNhHAbkNT1vIKuu+P5MriYt+QEIF0oibvgveQiITbcErck2R7x9eOOvYOs2TQtcykRr6idzOpO6lGUVUvayzO8UVXmNtsnMdTjWLjFiZfQiAay84A2sWNwIAHti2D0MO1D1lcCKEKCtlDdjvs/ZNe7jzQJwQtF9dWRirF1TVCaBSOyLg3o7QySOxaKZ7Dr1KnONWu1PeJFE3osaTB0Dmnugncju2WiuFWDuITIf6XbqogLj+Htm1ObNaz5XcA6u+psiHO8rIXFeKk8XZbp+5pSXmVJfKa6rmBFBp4WqG33Kteh7Yts8yi1UWnromgLJdqdlOlZf0cnp9wpfcC4ZVRidQHi1lJynuwef3uxK7bRx/femMabLUisd2cSd/o7qpVdy5GZXWeg5q/LulnGk3IdLO9YpeG+S8IaJqFoBKC1cz3MiodYoxQsWNRYBlQ7e1TMGKx3ZhaUdPySLJBNyMC6dI39+qMLdbiOoAlGD4s9nix8uazeYoVj5euUahbMRMn4kIH8O4i2xtSqL96ukFh6oclZqCghr/bki3APJZu0DenGXnBMh7baXh2l5SNSYgt3alxnBAwNqcM/tj4/DiviOuhSoC9p1gIuxGSKQzWTz43H5kKUW8kLtgjJv3MveCITupZnK0rMC9PgzTKorIjdhtN04/p9cnSiJwWN97WaTFiJPxL0tckAezYXvKNf8Ru/dWwQAUKPrqRNLNVsq0iz9xRijNP0AVLQBuZgQbJw9R6Fd9QsMDX7nQdilGGdwyqTiJ52YPapbSksmdZdWOSWio1WKehCEy7Fx/XzqDScs3li1U7P7JUIkPqdIYcbYbNcsb8bpIixH9+JcNZdZiBCfV1qCvP2MaOp3Q4lg0M4kN21OmY9HNDQ9DRtqa+TQ6Xthv6q8BrJP3ZApNBUXVLABeZQSzAWm2A2Ahj+x1bmWuMvwICZWB2a6PD50QM+tLZ5DQ4lizuNGz3Y+TSdUYEimTvs8SkUTZz1ZUIl/BCohs3d1b8SnSbXOETAUvsxwYo0OckPxue0xC416jG05sPa1NSXS9dUjKYc0Tt+sfHHKtsEwQVI0PgOf0dOtI2XPrXKxd3Cj8fCcRJex4bzzk+xESaoe+dMYVH4sd2lqmlDkHZdArbFotICx2u1Ifktn4kyFOCNYsbsTtrdNc2TyMcjkSSzR2kvUJrF3ciO4fzi37TuZ/WrO4EceHcjjcnyk6x0V31A3fl57bW6dh7WI5CXMjqb601OknrA5goIpOAIA4/d6Pz3dyFMxRir2r5rkSwsqjrWUKN+u0UrxOjc9aZGCLSPWluZmqQGns9jKLpCwZjONDxnyS1Tl+RTZyWY5ISo3LwjvZjK3TMGdqQ0nyo9mYNVtYKfgZxF6YggB5RV89svcjrA5goIpOAGHAyWTIdg/6iB23qwq1NiVx3ayJrn2eEdlKXHZp37QH9h/bUniPrxYnuPuaE4k7XkQ23brgHMsTDMuuBuzb+s1wezfKTjbGHfTh/gzu37bPMuyat4CKrtRtk4oTH1hCi0vfj7A6gAG1ALgOL7uzsztlq6gIkDc/9A8O2aoo5pTbW6dh9sfGefLZlZTHFOHmRGAMpRwRj2GZrhCLWfijG2a4Gos4fpZdDVReyMWLSCwgP8HJBCKZmcxEGemiXBM3sTuOmHnXqjQmIF93IyjUAuAiomSz9k177JtYCIq2Ubdi/0U88JULcf2sibbDCmXwwh/g1kSQf0hLr/nYYLas0LubPqQTTmXrMwyboMwWIS1GUCeRB+Cmz8tIZ3dKOlTWeAoWLaxeLbpG7IwjfW0Cs7rORo4NDoWuCIwepQbqIjynohPbLU8m1w91Squ4Zqe4pWTKkFFftEKmEAvgfr/bEaTTf7fRFzRnagM3dJJhVznTLnauBcj7B1h48KRTEvjj64eKm6NRI+L40ZUn2uql74thNw+GnUyc3L+gUGqgHiOqjJSlVOhsNKLFCHdS8zqkzG19fT1e2J+B0hDcsXWa1G6UFNrDHOBWpPrSmLx8o2uTkOx91Gejmk2GMvZrrxynDLtjUq9Sanxmjg1m0fXWoWJbvQrcMPbloplJbN3dKzWp273eMNcIUAuAC8hURhJFNhhZfP4ZXD0Yr9UprTT8nQ5mr9LhzSYIqx2pcUe28vFdUouG0SRUycQkm8NAkc+CReH/+jwEO4mFXm4c3C6E8uBz+23p8NvFLKeDZRrL9OnpNk8ARpn0MKF8AC4gG0VAYe0UStYnsHV3r+nk70ZtVB5Wujp96QzaWqZg7eJGR1owNTHi2wMgyg9IaHHMmdpQdNQ3rnzSdmikG/4MnqaOmU84ncni/m37KjqVeblxcFsfSD8GRZLZThHldMj4v3j+CR4U+ToEYfQFqAXABWR3V8n6BEaN5B+6mINLFBrn1SQqs4gZnaFAqetUFBVhpwBIJTD/hVmFtrF1WlFuQK/K6cSFUOmO2iwxbO3iRsvyiE7wKvqHwQsFrYTZq7bgls6drij4GhHpgln56uoTWvHUuWhmUjqyL0up50EcTlAmIBeQOQKzh1Bkb2ZyzLzi8JWGAYqQmdDYLkmUhzBp+Ubu+70+Blv5L1hsuhu4saM2M19VKhdCAHzyY+Ow92DaU8cpQy9OZzUZ1ic0fDAgt+CyoknGl7rhz7DSBRPVY9ZX9OKd1Hl47YtxgjoBuAAvPG9snVYWMiiKewbANcN4vYuTndCMC4XxiD5qBP9Y7PUOqJIi5Xbw8l60tUyp6KGkAPYeTHuWNKhHH/bMvlsEIbBlKuJ9XqWnL6vQU1F79NFJThbqsOkCqROAS4ysiRUnHzPxK4ZIlI43gRkLgXiBrFiZfqEwc6ZpMYJ4jCBrss0LWzSKE4xqom7T2pTEtx7qqUhj2a9Jxu6C64asNuCOmimAsnBa9rMoBLvSEOmw6QKpBaBCzMwOAwJ7t9ngYxMKzzzkRzk5fbt4GjnGna/ZBJDJUdQnNO4DEqVoFCME8CWeu9ISun5NMn4sNMZx6NbpyyjpXvIMm/Q/QX6DU6lmVth0gdQCUCG8iIJvP7QDyzp6ilK3el18BgXw30cGsLSjB+2b9qCeE8MeI8SXMDKjTdoqCYc3ARxJZ5B0sf6CLG0tU9D28A5TB7Ab+DWxViL6ppcPcdv+bxwPvPHqFqxGwNbdvZ76M0Qnb2MOTyUjiyB8ukBqAagQ3iTIHmD9TjjVl84XHyEn9MXZ69hkaWY+YREEgH8DSCYDk7fjHpPQPKu/YInhCY0BiMeJ6aKgxUjJvbDCr93btRecYdtZTYBioRV9opVb44Zn7tMMfWsn4dFIjOSvwcsiQmZYPcN2rycGmIoUeim46BTlBK4Qu7vCTI4KJ5xsjnJjwb3U1tcj0jTSwytK3pfOYGlHD0bWxEwd4V5hVtwlh7wGPnOyszjv+oSGk2prpCd/Fv7nB3aF+ZL1Cby5ah5GjSy/HrfGDc/cx/qW3eM1ixuxd9U82yGho0bEsfqafO0Ar53XRtw42bGnIFmfwOrFjSWaWnFCcP2siZ4mtzlFnQAqpJJKTzx4NuAgnXtsIul661CxHrAVflQF0yMySfXcOrf4s125C31lN79gZUR5mdkMfXKgW3Wv7XyGWd/OXrXFtpO034foLR6VPsNmQR+tTclQTvhGAjkBEEKuJoTsIoTkCCFlAkVRQp/Q4zVBO/dSfWncv22fLfu0nycXWc1+O9ErfpxceLQ2JS37Wh+aWM9JxHNj3Mj0rTEsFCjdGV8vMIFQCrQ9HEy2rDEpzw6xgmJv+6Y9oUvykiEoE9CfASwE8PuAvt9VWpuStlLD4xYa8PUJzRcZXB5B6607RVY+WDZSaK/PpggjMjUk2MajsztlKk/slgaTTN/yqnsx7aXmM8cJ6wZkstS3zYIIkRxEfUIreX7Zad0PuXYvCMQERCl9BQCIB7rzQWFnVxkDcDIngkJvbvBaBpfHnKkNrmXMAv6dXEQhtgw2qVqdYfw40VkhU0Mi1ZfG7FVb0D84ZKogO5SjWFaIMqtkDMn0rejkOGn5Rql+DyJRymgSNDt1sbYfGchw5TrCmOlrReh9AISQGwHcCAATJ4bPi86wM3AzOYq6ETXo/uFcYbRNUAPJSe1iHn6eXAC+fLBessAKL0X37CB7UhG9jhp2qIDzcWUlzWyVhyFjOAwiUcpWGKjFRYQt09cKz0xAhJCnCCF/NvnvCjufQym9j1LaTCltbmho8Kq5FWN34Kb60sXY/raWKTi9PoF3+tKhsCW6OYiDsp/rMbNNi/BSdE8WJyVErfDaH+OGKmgQCy9vvOcoRbI+YSsMNGyZvlZ4tgBQSi+hlJ5r8t9/evWdQeJk8N/8yE5TxcOlHT2eFVKXIWqD2Aq7kgVxQnypwyzCUQlRCbzcoVbiTAX8DbXVI3Jw2+kvffGeqKDyAFzCTN5XJIwG5HdkDz6333Ry8qqQugxuDmI/nXo87Xi7k16WUt/qMPNwOlHrY8/N8Hpxb21KFoXo7PhRYiQvFhfEwitycNvpL1a8J+gTvB2CCgO9khDyNoALAWwkhGwKoh1uox/8zy6/GD+6cprlqUAU5udnCKUeN30AftlEzZLX2tbvQNNtT1a0kw7qHjidqLOUIqHFce0FZwQaSQbYOxXnaH7TE8TCa7Z5Y6bLOVMbbJ1mghovTgkqCuhRAI8G8d1eYVase+vu3ooTxIJwKrn5nX6Zk3iZqm5o1QRxD2SSk2LEPGkwncli6+5e3LFwWmCRZEC5wKAd/I6oMYrDtW/ag6UdPY6kLaLkCA59FFAUMNNJCVPhESff6Yaqpp87Tq9VRv1GZvI8uVbDkXTGdIJ6py/tWUF1O7A2NN32pO3FOAwhoU5Oj1HyoSkfgAtUUogkWZ/gllIMKhzRjWgOP2oY6HHjoUtoscDNJnqYSZFngjiSzkhnPwfNvPPGc//Gu74whYTKEuR4cYJaAFzA6U6FZWneuuCcsomHIK8eGJQEAStPaUWdFisThNNiBHdfM93Xtle6aCW0OO5YeB7XFuw1ouLnvImQwnzshW0S6uxO4cHn9pv+LU4Irps10bSiHpO19tMpXMmpI0jZEKcoE5ALODWZLP7EGSWDJUh7rZHWpqSU7bY/k4MWN+zhAkjwNmaqMmlkntqnFiM4qbbGVHrY7343MyGypC0AOHa8XOKBYbw6UTU6P5GtnJWjFLe3TkPzmePK7p0XstZW2H2W8xuHaE36egh1WHgiCJqbm2lXV1fQzSjDrrokI04IcpSGYsI3o7M7hbb1O0wlBhi84iVx4v8pwMgtnTtNC4sz6hMaRo2sCXzRnb1qi+mkU5/QcHwoZ2tcMd2dIJEZNwyze8DbePhxbXaf5bAsuFYQQrZTSsuEN9UJwAWMu0/ZJVVfDEa/w5EpxuIHrU1JrHx8l9B5xwtjDaKIjZGtu3uF96IvnSnuUP3cZRrhmR2c1J0NQwSKWV0GM7QYwbHBobJ7wJt8/bg2du+tZLgZLF9H/94ooXwALuE0AYbBwt5ki7H4RZ9F5IbI2hN0TLTdCSNqMf9ef5ZTZPo9TohpQZ50JhtYEhujtSmJu6+ZLv36oMd5JagFwAOcOiSZFhCvGEsQWD10FOJFIMgdqZMJI6iY/0qjroDwOH+t+j2hxXH3NdO5mwuWzGZ8j9+igrzoPDPCcPJygloAPKC1KYlFM5NlEyP7mbfDGZPQuA6ooAZYW8sUS58uRXDSAyJk2m4kqJh/2aJCWoyYlgwdW6eFxhnJKxUKlLaT19csmiaIaCw9ty44R3r8hOHk5QTlA/AIM/szBYq1Uo32XWYP5RHkAKvVYkhnzMpc50kW/BSBFIG3wE6IQ9Ax/61NSa5DGMgvsu1X500TYfAR8WBt0UcBmTlLRWMmLElsXW8dEgYSMKImAsdQC4BH2HHssaMmz9ka1MR0IiKCP/mzXAaZgiF+wtpuhzDsoNtapmBpR4/p37I0XzErCpONzAQetjFjBgtRtQppdVM/y09UGKhHiHZyRpIF2VnenVjrU1F1IzLXUJ/QSoqChwU7/Q+EI2yV4UQ2ISrhiFHFajwRAG+umudfg2zCCwNVPgCPsOPYY7sfM5L1icAeahm/wxEHoYp+IGp7WeIaToSthkHK1ywz3Iog5cP1iDKao4zVszAmIe8wDhNqAfAIo2NPVGiaHX2DjnwwIuN3CKvzS7Sgtl813fR+hCWcz45TWE/Q7Q9bCLObWI3zY4NDkbxOtQB4CCv3mNDi3KQSvdMrDJEPemROMf0hHfhmbSfIT0rtm/Zw70dYwvlYXomdUEQg2PaHLYTZTayehUyWRvI6lRPYY0Tqgsn6cg2aMNlwzfR1Boey6Nc5hcOaCWmUU9bruht/1hO2E41dF12Q7ectPmFZVCtBRp47itepTgAewxsUBMCzyy8O1aRphj7DuefWuRg7amTZa8K6y2NtNyvsbZbAFrTJzQw7Ppag2x8VaWqn6MeTGVG8TrUAeAxvUIxJaJF0lkVxl8drGwVCZXIzQ+TLWLu4MVTtD6Mfyw2Mju05UxuGzXUqE5DHmCW78ESwgHCZUczgyeWGeffDa3MYlDOtCGuCnRlRiOu3i5lU94btKSyamcTW3b2Rv061AHiM2UPRr9M6Z/hdA9UpUZqQGLz6usyBHeY+502qALg1BIKuI2H8/rCo2zqB59jeurs39JsHGdQC4APGh2Ly8o2mrwuzGYURxV2emTQBEF4HthGzSXX2qi3ciJswXYuo2E2Y2skjiiZPO6gFwGPMdj9RNKPoCVu0kgyswpkxnT+Mk6YMUZmYRKGhUehzq2c1yqcbQDmBPYWXGDOcnEhRyvyMyqQpQ1QibqLe5yLH9nBIfFMLgIeI7IdhS/pyQtQegKhMmjJEJeIm6n0uStAcDolvygTkIaLdTxTNKEaidryPogObR1R8McOhz3nPatRPN4BaADwl6rZ+K/QD/eSRMXzjgrE4s15DDASvvPJKgC0zZ0otcP9VSXyQHkI2RxGPEZycqEHdiA/wyisfBN0820ypBf7tivG63wRzHbW1tZgwYQI0rVy2IioLlROGw/OtFgAPGQ67HxH6B+AbF4zFjI+djpq60RhZE8fU8ScH3LpyDvcP4r0jA9CyOYyIx/CRMbUYWzci6GZFGkopDh48iLfffhuTJ082fc1wOO2aMRyeb+UD8BAz++GimXnbYRScplbo7dBn1muoqRuNeCw/sYaNw/2DSB1OYzCb1zEazOaQOpzG4f7BgFsWbQghOOWUUzAwMBB0U3wnjAKOdlEnAI/R736iHhNtRH+8j4FgZE08tLvq944MIGdQVstRiveODISyvVGCCKTOhztRP92oE4CPDIeoASNFgayxCUwdf3JoJ1O285f9vUJRDagFwEd40QF2Shcq+MTjcTQ2NuKcc87B9OnTsXr1auRy+Ql+RNx8qPe+sx//8R//4WczFYrQoBYAH+FFBxAg0r4AJ3iRQJZIJNDT04Ndu3Zh8+bN+O1vf4uVK1cCAD4yphYxg6kiRgj6D/23WgB8IEoJg9WEWgB8pK1lSpkGPZCXJY6yGcgufiSQnXbaabjvvvtwzz33gFKKIwfewVeumYcvfO6zWPy5z2LXiy8gOTaBH634Af7whz+gsbERa9aswd69e/HpT38aM2bMwIwZM/DHP/7RtTZVK1FLGKwmlBPYR1qbklja0WP6tyglj1SKXwlkZ511FnK5HA4cOIDTTjsNW59+CrW1tXjttddw7bXX4trPd2HVqlW466678MQTTwAA+vv7sXnz5pLXdXV1udamaoR3v7/90A4A0QyAGC4EsgAQQtoBLAAwCOB1AF+ilPYF0Ra/SQ6D5JFK8TODkhYifzKZDG666Sb09PQgHo/j1VdfNX297OsU8vDua5bSSEfBDQeCMgFtBnAupfQ8AK8CuDmgdvhOVDRcvMQvfZg33ngD8Xgcp512GtasWYOPfOQj2LFjB7q6ujA4aB7/L/s6hTyi+xr1KLioE8gCQCl9klI6VPhxG4AJQbQjCIZD8kil+LEI9vb24qtf/SpuuukmEEJw5MgRjB8/HrFYDL/+9a+RzeZNEqNHj8aHH35YfB/vdQrnmN1vPdVk/gwbYfAB/B2ADt4fCSE3ArgRACZOnOhXmzwl6skjleKVPkw6nUZjYyMymQxqamrwxS9+Ed/61rcAAF//+texaNEirF+/HnPmzMGoUaMAAOeddx5qamowffp0LFmyhPs6hXPYff32QzuQNSTjAdVl/gwbhJrcEFc+mJCnAHzU5E9/Tyn9z8Jr/h5AM4CFVKIhzc3NVDnkwskrr7yCs88+O+hmKAJC5v4bM+GB/Mmv2k7AQUAI2U4pbTb+3rMTAKX0EosG3QBgPoC/kZn8FQpFtBnOyqBRJagooMsAfA/AZyml/UG0QaFQ+E+1mz/DRlBRQPcAGA1gMyGkhxDyrwG1Q6FQKKqWQE4AlNKPB/G9CoVCoTiBkoJQKBSKKkUtAAqFQlGlqAVAMWwQyUGHiSVLlmDy5MlobGzE9OnT8fTTTwfdJEWVEoZEMIXCFZgcNAAcOHAAf/u3f4sjR44UJaHDRHt7O6666ips3boVN954I1577bWKPzObzSIe52fcusXQ0BBqatTUMRxQJwCFN1x0Ufl/P/1p/m/9/eZ/X7cu//f33y//m02MctDr1q3DTTfdVPz7/Pnz8bvf/Q4AcNJJJ+F73/seZs6ciUsuuQTPP/88LrroIpx11ll47LHHAADr1q1Da2srFixYgMmTJ+Oee+7B6tWr0dTUhFmzZuHQoUN4/fXXMWPGjOJ3vPbaa5g5c6awnRdeeCFSqbwscjabRVtbGz7xiU/gvPPOw89+9jMAQC6Xw9e//nWcc845mD9/Pi6//HI8/PDDAIBJkybhtttuw6c+9SmsX78eTz75JC688ELMmDEDV199NY4ePQoAWL58Of76r/8a5513Hr7zne8AANavX49zzz0X06dPx2c+8xkAwMDAAL70pS9h2rRpaGpqwtatW4vXf/XVV2PBggWYO3eu7fuhCCdqGVcMW/Ry0CKOHTuGiy66CHfeeSeuvPJK3HLLLdi8eTNefvll3HDDDfj85z8PAPjzn/+M7u5uDAwM4OMf/zjuvPNOdHd3Y9myZfjVr36FpUuXYsyYMejp6UFjYyN++ctfYsmSJcLv/q//+i+0trYCAH7+859jzJgxeOGFF3D8+HHMnj0bc+fOxfbt27F3717s3LkTBw4cwNlnn42/+7u/K35GbW0tnnnmGbz//vtYuHAhnnrqKYwaNQp33nknVq9ejZtuugmPPvoodu/eDUII+vr6AAC33XYbNm3ahGQyWfzdv/zLvwAAdu7cid27d2Pu3LlFRdQ//elPeOmllzBu3Dibd0IRVtQCoPCGwu7alLo68d9PPVX8dxvIJJmPGDECl112GQBg2rRpGDlyJDRNw7Rp07B3797i6+bMmYPRo0dj9OjRGDNmDBYsWFB8z0svvQQA+PKXv4xf/vKXWL16NTo6OvD888+bfmdbWxu++93v4sCBA9i2bRsA4Mknn8RLL71U3N0fOXIEr732Gp555hlcffXViMVi+OhHP4o5c+aUfNbixYsBANu2bcPLL7+M2bNnAwAGBwdx4YUX4uSTT0ZtbS2+/OUvY968eZg/fz4AYPbs2ViyZAmuueYaLFy4EADwzDPP4Bvf+AYAYOrUqTjzzDOLC8Cll16qJv9hhloAFMMWvRx0TU1NiUN4YGCg+G9N00AK5SJjsRhGjhxZ/PfQ0FDxdez3otctWrQIK1euxMUXX4yZM2filFNOMW1be3s7Fi5ciH/6p3/CDTfcgO3bt4NSin/+539GS0tLyWs3btwovE4mWEcpxaWXXooHH3yw7DXPP/88nn76afzmN7/BPffcgy1btuBf//Vf8dxzz2Hjxo1obGxET0+PcMFUwnildHanIi9roXwAimGJUQ560qRJ6OnpQS6Xw/79+7k780qpra1FS0sLvva1r+FLX/qS8LWxWAzf/OY3kcvlsGnTJrS0tODee+9FJpMBALz66qs4duwYPvWpT2HDhg3I5XJ47733ir4LI7NmzcKzzz6Lv/zlLwDy1c1effVVHD16FEeOHMHll1+OtWvXFh3lr7/+Oi644ALcdtttOPXUU7F//3585jOfwQMPPFD8/n379mHKlOqpVSHLcClzqU4AimGDSA569uzZmDx5MqZNm4Zzzz23xFnrNtdddx0eeeQRKWcpIQS33HILfvKTn2Dz5s3Yu3cvZsyYAUopGhoa0NnZiUWLFuHpp5/Gueeei7/6q7/CBRdcgDFjxpR9VkNDA9atW4drr70Wx48fBwDcfvvtGD16NK644goMDAyAUoo1a9YAyJuhXnvtNVBK8Td/8zeYPn06pk6diq9+9auYNm0aampqsG7dupKTjyKPX2VNvcYzOWgvUHLQ4UXJQZ/grrvuwpEjR/AP//APrn3m0aNHcdJJJ+HgwYM4//zz8eyzz+KjHzVTWw+Garv/k5dvhNnMSQC8uWqe382xxHc5aIWiGrnyyivx+uuvY8uWLa5+7vz589HX14fBwUH84Ac/CNXkX42cPkxqe6sFQKFwkUcffdSTz+XZ/RXB0NYyxbS4TdRqe6sFQOEalNJiNI2ieoiSGdkthktxG7UAKFyhtrYWBw8exCmnnKIWgSqCUoqDBw+itrY26Kb4znAobqMWAIUrTJgwAW+//TZ6e3uDborCZ2prazFhwoSgm6FwgFoAFK6gaRomT54cdDMUCoUNVCKYQqFQVClqAVAoFIoqRS0ACoVCUaVEKhOYENIL4C2Hbz8VwPsuNsctVLvsodplD9Uue4S1XUBlbTuTUtpg/GWkFoBKIIR0maVCB41qlz1Uu+yh2mWPsLYL8KZtygSkUCgUVYpaABQKhaJKqaYF4L6gG8BBtcseql32UO2yR1jbBXjQtqrxASgUCoWilGo6ASgUCoVCh1oAFAqFokqpigWAEHIZIWQPIeQvhJDlQbeHQQjZSwjZSQjpIYQEVuqMEPILQsgBQsifdb8bRwjZTAh5rfD/sSFp1wpCSKrQZz2EkMsDaNcZhJCthJBXCCG7CCHfLPw+0D4TtCvQPiOE1BJCnieE7Ci0a2Xh90H3F69dgY+xQjvihJBuQsgThZ9d769h7wMghMQBvArgUgBvA3gBwLWU0pcDbRjyCwCAZkppoIknhJDPADgK4FeU0nMLv/sJgEOU0lWFRXMspfR7IWjXCgBHKaV3+dkWQ7vGAxhPKX2REDIawHYArQCWIMA+E7TrGgTYZySvDz6KUnqUEKIBeAbANwEsRLD9xWvXZQh4jBXa9y0AzQBOppTO9+KZrIYTwPkA/kIpfYNSOgjgNwCuCLhNoYJS+nsAhwy/vgLAvxf+/e/ITyS+wmlX4FBK36WUvlj494cAXgGQRMB9JmhXoNA8Rws/aoX/KILvL167AocQMgHAPAD/pvu16/1VDQtAEsB+3c9vIwQPRQEK4ElCyHZCyI1BN8bARyil7wL5iQXAaQG3R89NhJCXCiYi301TegghkwA0AXgOIeozQ7uAgPusYM7oAXAAwGZKaSj6i9MuIPgxthbAdwHkdL9zvb+qYQEwK08VilUewGxK6QwAnwPw/xVMHgox9wL4GIBGAO8CuDuohhBCTgKwAcBSSukHQbXDiEm7Au8zSmmWUtoIYAKA8wkh5/rdBjM47Qq0vwgh8wEcoJRu9/q7qmEBeBvAGbqfJwB4J6C2lEApfafw/wMAHkXeXBUW3ivYlJlt+UDA7QEAUErfKzy0OQD/BwH1WcFmvAHAA5TSRwq/DrzPzNoVlj4rtKUPwO+Qt7MH3l9m7QpBf80G8PmCj/A3AC4mhNwPD/qrGhaAFwD8D0LIZELICABfAPBYwG0CIWRUwVEHQsgoAHMB/Fn8Ll95DMANhX/fAOA/A2xLEfYAFLgSAfRZwXn4cwCvUEpX6/4UaJ/x2hV0nxFCGggh9YV/JwBcAmA3gu8v03YF3V+U0psppRMopZOQn6+2UEqvhxf9RSkd9v8BuBz5SKDXAfx90O0ptOksADsK/+0Ksl0AHkT+qJtB/sT0PwGcAuBpAK8V/j8uJO36NYCdAF4qPBDjA2jXp5A3I74EoKfw3+VB95mgXYH2GYDzAHQXvv/PAH5Y+H3Q/cVrV+BjTNfGiwA84VV/DfswUIVCoVCYUw0mIIVCoVCYoBYAhUKhqFLUAqBQKBRViloAFAqFokpRC4BCoVBUKWoBUCgcUlDffJMQMq7w89jCz2cG3TaFQga1ACgUDqGU7kdeNmBV4VerANxHKX0ruFYpFPKoPACFogIK0gvbAfwCwFcANNG86qxCEXpqgm6AQhFlKKUZQkgbgP8CMFdN/ooooUxACkXlfA55yYpQKFwqFLKoBUChqABCSCPy1eZmAVhmEBJTKEKNWgAUCocU1DfvRV53fx+AdgCBlhFUKOygFgCFwjlfAbCPUrq58PNPAUwlhHw2wDYpFNKoKCCFQqGoUtQJQKFQKKoUtQAoFApFlaIWAIVCoahS1AKgUCgUVYpaABQKhaJKUQuAQqFQVClqAVAoFIoq5f8B+HUZ30uim4AAAAAASUVORK5CYII=\n",
>>>>>>> upstream/main
      "text/plain": [
       "<Figure size 432x288 with 1 Axes>"
      ]
     },
     "metadata": {
      "needs_background": "light"
     },
     "output_type": "display_data"
    }
   ],
   "source": [
    "dummyapprox()"
   ]
  },
  {
   "cell_type": "markdown",
   "metadata": {
    "slideshow": {
     "slide_type": "slide"
    }
   },
   "source": [
    "#### Now walk through process of \"boosting\" this prediction with weak learner sequence."
   ]
  },
  {
   "cell_type": "code",
   "execution_count": 11,
   "metadata": {
    "slideshow": {
     "slide_type": "slide"
    }
   },
   "outputs": [],
   "source": [
    "def simple_boosting_algorithm(X, y, n_learners, learner,\n",
    "                              learning_rate):\n",
    "    y = y.ravel()\n",
    "    # calculates the dummy model\n",
    "    f0 = y.mean()\n",
    "    \n",
    "    # calculates error of first step\n",
    "    residuals = y - f0\n",
    "    \n",
    "    # This next line fills an array of len(y) with the mean of y.\n",
    "    f = np.full(len(y), fill_value=f0)\n",
    "\n",
    "    # start sequential training \n",
    "\n",
    "    for i in range(n_learners):\n",
    "        # error of previous model\n",
    "        residuals = y - f\n",
    "        \n",
    "        # fit error with decision tree\n",
    "        mod = learner.fit(X.reshape(-1, 1), residuals)\n",
    "\n",
    "        # update f\n",
    "        f = learning_rate * mod.predict(X.reshape(-1, 1)) + f\n",
    "        fit_df = pd.DataFrame({'x': X, 'F': f})\n",
    "    return fit_df\n",
    "    \n",
    "   "
   ]
  },
  {
   "cell_type": "code",
   "execution_count": null,
   "metadata": {},
   "outputs": [],
   "source": []
  },
  {
   "cell_type": "code",
   "execution_count": 12,
   "metadata": {
    "scrolled": false,
    "slideshow": {
     "slide_type": "skip"
    }
   },
   "outputs": [
    {
     "ename": "ModuleNotFoundError",
     "evalue": "No module named 'bokeh'",
     "output_type": "error",
     "traceback": [
      "\u001b[0;31m---------------------------------------------------------------------------\u001b[0m",
      "\u001b[0;31mModuleNotFoundError\u001b[0m                       Traceback (most recent call last)",
      "\u001b[0;32m<ipython-input-12-e91991156f23>\u001b[0m in \u001b[0;36m<module>\u001b[0;34m\u001b[0m\n\u001b[0;32m----> 1\u001b[0;31m \u001b[0;32mfrom\u001b[0m \u001b[0mbokeh\u001b[0m\u001b[0;34m.\u001b[0m\u001b[0mlayouts\u001b[0m \u001b[0;32mimport\u001b[0m \u001b[0mcolumn\u001b[0m\u001b[0;34m,\u001b[0m\u001b[0mrow\u001b[0m\u001b[0;34m\u001b[0m\u001b[0;34m\u001b[0m\u001b[0m\n\u001b[0m\u001b[1;32m      2\u001b[0m \u001b[0;32mfrom\u001b[0m \u001b[0mbokeh\u001b[0m\u001b[0;34m.\u001b[0m\u001b[0mmodels\u001b[0m \u001b[0;32mimport\u001b[0m \u001b[0mColumnDataSource\u001b[0m\u001b[0;34m,\u001b[0m \u001b[0mSlider\u001b[0m\u001b[0;34m,\u001b[0m \u001b[0mTextInput\u001b[0m\u001b[0;34m,\u001b[0m \u001b[0mSelect\u001b[0m\u001b[0;34m\u001b[0m\u001b[0;34m\u001b[0m\u001b[0m\n\u001b[1;32m      3\u001b[0m \u001b[0;32mfrom\u001b[0m \u001b[0mbokeh\u001b[0m\u001b[0;34m.\u001b[0m\u001b[0mplotting\u001b[0m \u001b[0;32mimport\u001b[0m \u001b[0mfigure\u001b[0m\u001b[0;34m,\u001b[0m \u001b[0moutput_file\u001b[0m\u001b[0;34m,\u001b[0m \u001b[0mshow\u001b[0m\u001b[0;34m\u001b[0m\u001b[0;34m\u001b[0m\u001b[0m\n\u001b[1;32m      4\u001b[0m \u001b[0;32mfrom\u001b[0m \u001b[0mbokeh\u001b[0m\u001b[0;34m.\u001b[0m\u001b[0mio\u001b[0m \u001b[0;32mimport\u001b[0m \u001b[0mshow\u001b[0m\u001b[0;34m,\u001b[0m \u001b[0moutput_notebook\u001b[0m\u001b[0;34m\u001b[0m\u001b[0;34m\u001b[0m\u001b[0m\n\u001b[1;32m      5\u001b[0m \u001b[0;32mfrom\u001b[0m \u001b[0mbokeh\u001b[0m\u001b[0;34m.\u001b[0m\u001b[0mthemes\u001b[0m \u001b[0;32mimport\u001b[0m \u001b[0mTheme\u001b[0m\u001b[0;34m\u001b[0m\u001b[0;34m\u001b[0m\u001b[0m\n",
      "\u001b[0;31mModuleNotFoundError\u001b[0m: No module named 'bokeh'"
     ]
    }
   ],
   "source": [
    "\n",
    "from bokeh.layouts import column,row\n",
    "from bokeh.models import ColumnDataSource, Slider, TextInput, Select\n",
    "from bokeh.plotting import figure, output_file, show\n",
    "from bokeh.io import show, output_notebook\n",
    "from bokeh.themes import Theme\n",
    "import yaml\n",
    "import numpy as np\n",
    "output_notebook()\n",
    "\n",
    "def bk_app(doc):\n",
    "    \n",
    "    func_approx =simple_boosting_algorithm(X=X,\n",
    "                      y=y,\n",
    "                      n_learners= 1,\n",
    "                      learner=DecisionTreeRegressor(max_depth= 1),\n",
    "                      learning_rate=0.02)\n",
    "\n",
    "    source = ColumnDataSource(func_approx)\n",
    "\n",
    "    # Create plots and widgets\n",
    "    plot = figure()\n",
    "\n",
    "    plot.circle(X, y, size = 6, color = 'blue', legend_label= 'Data')\n",
    "    plot.line('x', 'F', source = source, line_width=3, line_alpha=1, color = 'red', legend_label = 'Boosting') \n",
    "\n",
    "    # Create Slider object\n",
    "     \n",
    "    tree_depth = Slider(start=1, end=10, value=1,\n",
    "                    step=1, title='Tree Depth')  \n",
    "    \n",
    "    n_est = TextInput(title=\"Number of estimators\", value = '1')\n",
    "    \n",
    "    lr = Select(title=\"Learning rate\", value='5e-1',\n",
    "               options=['1e-4', '1e-3', '5e-3', '1e-2', '5e-2', '1e-1', '5e-1', '1'])\n",
    "\n",
    "    # Adding callback code\n",
    "    def callback(attr, old, new):\n",
    "        N = n_est.value\n",
    "        depth = tree_depth.value\n",
    "        learn_rate = float(lr.value)\n",
    "        \n",
    "        func_approx =simple_boosting_algorithm(X=X,\n",
    "                              y=y,\n",
    "                              n_learners= int(N),\n",
    "                              learner=DecisionTreeRegressor(max_depth= depth),\n",
    "                              learning_rate= float(learn_rate))\n",
    "\n",
    "        source.data = func_approx\n",
    "\n",
    "\n",
    "    tree_depth.on_change('value', callback)\n",
    "    n_est.on_change('value', callback)\n",
    "    lr.on_change('value', callback)\n",
    "\n",
    "    doc.add_root(row(\n",
    "        plot,\n",
    "        column(tree_depth, n_est, lr),\n",
    "    ))\n",
    "\n",
    "    doc.theme = Theme(json=yaml.load(\"\"\"\n",
    "        attrs:\n",
    "            Figure:\n",
    "                background_fill_color: white\n",
    "                outline_line_color: white\n",
    "                toolbar_location: above\n",
    "                height: 450\n",
    "                width: 450\n",
    "    \"\"\", Loader=yaml.FullLoader))\n",
    "\n"
   ]
  },
  {
   "cell_type": "markdown",
   "metadata": {
    "slideshow": {
     "slide_type": "slide"
    }
   },
   "source": [
    "The effects of sequential boosting with weak learners:"
   ]
  },
  {
   "cell_type": "code",
<<<<<<< HEAD
   "execution_count": null,
=======
   "execution_count": 11,
>>>>>>> upstream/main
   "metadata": {
    "scrolled": false,
    "slideshow": {
     "slide_type": "fragment"
    }
   },
<<<<<<< HEAD
   "outputs": [],
=======
   "outputs": [
    {
     "data": {
      "application/vnd.bokehjs_exec.v0+json": "",
      "text/html": [
       "<script id=\"1003\">\n",
       "  (function() {\n",
       "    const xhr = new XMLHttpRequest()\n",
       "    xhr.responseType = 'blob';\n",
       "    xhr.open('GET', \"http://localhost:51038/autoload.js?bokeh-autoload-element=1003&bokeh-absolute-url=http://localhost:51038&resources=none\", true);\n",
       "    xhr.onload = function (event) {\n",
       "      const script = document.createElement('script');\n",
       "      const src = URL.createObjectURL(event.target.response);\n",
       "      script.src = src;\n",
       "      document.body.appendChild(script);\n",
       "    };\n",
       "    xhr.send();\n",
       "  })();\n",
       "</script>"
      ]
     },
     "metadata": {
      "application/vnd.bokehjs_exec.v0+json": {
       "server_id": "048aa36290fb4fba860d5b93cd3f4c8b"
      }
     },
     "output_type": "display_data"
    }
   ],
>>>>>>> upstream/main
   "source": [
    "show(bk_app, notebook_url=\"http://localhost:8888\")"
   ]
  },
  {
   "cell_type": "markdown",
   "metadata": {
    "cell_style": "split",
    "slideshow": {
     "slide_type": "slide"
    }
   },
   "source": [
    "Gradient boosting:\n",
    "    \n",
    "- Tuning hyperparameters can be very important for performance."
   ]
  },
  {
   "cell_type": "markdown",
   "metadata": {
    "cell_style": "split",
    "slideshow": {
     "slide_type": "slide"
    }
   },
   "source": [
    "- Number of estimators (convergence/overfitting)\n",
    "- learning rate (too high...overfit)\n",
    "- tree depth (too large...overfit)\n",
    "\n",
    "Critical hyperparameters in balance between underfitting/overfitting"
   ]
  },
  {
   "cell_type": "markdown",
   "metadata": {
    "slideshow": {
     "slide_type": "slide"
    }
   },
   "source": [
    "Playing around with hyperparameters"
   ]
  },
  {
   "cell_type": "code",
<<<<<<< HEAD
   "execution_count": null,
=======
   "execution_count": 12,
>>>>>>> upstream/main
   "metadata": {
    "scrolled": true,
    "slideshow": {
     "slide_type": "fragment"
    }
   },
<<<<<<< HEAD
   "outputs": [],
=======
   "outputs": [
    {
     "data": {
      "application/vnd.bokehjs_exec.v0+json": "",
      "text/html": [
       "<script id=\"1004\">\n",
       "  (function() {\n",
       "    const xhr = new XMLHttpRequest()\n",
       "    xhr.responseType = 'blob';\n",
       "    xhr.open('GET', \"http://localhost:51040/autoload.js?bokeh-autoload-element=1004&bokeh-absolute-url=http://localhost:51040&resources=none\", true);\n",
       "    xhr.onload = function (event) {\n",
       "      const script = document.createElement('script');\n",
       "      const src = URL.createObjectURL(event.target.response);\n",
       "      script.src = src;\n",
       "      document.body.appendChild(script);\n",
       "    };\n",
       "    xhr.send();\n",
       "  })();\n",
       "</script>"
      ]
     },
     "metadata": {
      "application/vnd.bokehjs_exec.v0+json": {
       "server_id": "b9aea5db5d344727a5f4402e86e82cc3"
      }
     },
     "output_type": "display_data"
    }
   ],
>>>>>>> upstream/main
   "source": [
    "show(bk_app, notebook_url=\"http://localhost:8888\")"
   ]
  },
  {
   "cell_type": "markdown",
   "metadata": {
    "cell_style": "split",
    "slideshow": {
     "slide_type": "slide"
    }
   },
   "source": [
    "Why do all this?\n",
    "\n",
    "- Decision trees can be very fast.\n",
    "- Weak learners (particularly stumps) are even **faster**."
   ]
  },
  {
   "cell_type": "markdown",
   "metadata": {
    "cell_style": "split",
    "slideshow": {
     "slide_type": "fragment"
    }
   },
   "source": [
    "In principal:\n",
    "- can tune and fit models really quickly."
   ]
  },
  {
   "cell_type": "markdown",
   "metadata": {
    "cell_style": "center",
    "slideshow": {
     "slide_type": "slide"
    }
   },
   "source": [
    "Our naive implementation: \n",
    "- can be a little sensitive to overfitting \n",
    "- certainly overfits more than random forests."
   ]
  },
  {
   "cell_type": "markdown",
   "metadata": {
    "slideshow": {
     "slide_type": "slide"
    }
   },
   "source": [
    "\n",
    "Gets much better with extra randomization: \n",
    "- Random feature subset selection on individual trees \n",
    "- Randomly sampling subset of training data to improve on error at each stage.\n"
   ]
  },
  {
   "cell_type": "markdown",
   "metadata": {
    "slideshow": {
     "slide_type": "slide"
    }
   },
   "source": [
    "Even better with regularization on trees:"
   ]
  },
  {
   "cell_type": "markdown",
   "metadata": {
    "cell_style": "split",
    "slideshow": {
     "slide_type": "fragment"
    }
   },
   "source": [
    "$$ L = \\sum_{i=1}^N l(y_i, \\hat{y}_i) + \\gamma \\sum_{m=1}^M \\Omega(h_m)$$\n",
    "- $\\Omega$: complexity of tree at the mth step. \n",
    "- $\\gamma$: controls penalty on complexity \n",
    "\n",
    "**Penalizing building more complex trees but also allows for it if necessary**"
   ]
  },
  {
   "cell_type": "markdown",
   "metadata": {
    "cell_style": "split",
    "slideshow": {
     "slide_type": "fragment"
    }
   },
   "source": [
    "$\\gamma$ controls tree pruning. If branch doesn't minimize error (maximize imformation gain) **enough** then cut it.\n",
    "\n",
    "<img src = \"Images/pruning_reg.webp\" />"
   ]
  },
  {
   "cell_type": "markdown",
   "metadata": {
    "cell_style": "center",
    "slideshow": {
     "slide_type": "slide"
    }
   },
   "source": [
    "#### Use above strategies + a lot of algorithm optimization\n",
    "\n",
    "- XGBoost (Extreme Gradient Boosting)\n",
    "\n"
   ]
  },
  {
   "cell_type": "markdown",
   "metadata": {
    "cell_style": "center",
    "slideshow": {
     "slide_type": "fragment"
    }
   },
   "source": [
    "<img src = \"Images/xgboost.png\" />\n",
    "<center>Package integrates well with scikit-learn</center>"
   ]
  },
  {
   "cell_type": "markdown",
   "metadata": {
    "slideshow": {
     "slide_type": "slide"
    }
   },
   "source": [
    "Load in the XGB classifier/regressor"
   ]
  },
  {
   "cell_type": "code",
   "execution_count": 13,
   "metadata": {
    "slideshow": {
     "slide_type": "fragment"
    }
   },
   "outputs": [],
   "source": [
    "from xgboost import XGBRegressor\n",
    "from xgboost import XGBClassifier"
   ]
  },
  {
   "cell_type": "code",
   "execution_count": 14,
   "metadata": {
    "slideshow": {
     "slide_type": "fragment"
    }
   },
   "outputs": [],
   "source": [
    "from sklearn.model_selection import train_test_split\n",
    "from sklearn.model_selection import GridSearchCV"
   ]
  },
  {
   "cell_type": "code",
   "execution_count": 15,
   "metadata": {
    "slideshow": {
     "slide_type": "fragment"
    }
   },
   "outputs": [],
   "source": [
    "X_train, X_test, y_train, y_test = train_test_split(X, y, test_size = .3)"
   ]
  },
  {
   "cell_type": "markdown",
   "metadata": {
    "slideshow": {
     "slide_type": "slide"
    }
   },
   "source": [
    "#### Hyperparameters to tune and ranges"
   ]
  },
  {
   "cell_type": "markdown",
   "metadata": {
    "slideshow": {
     "slide_type": "fragment"
    }
   },
   "source": [
    "| Hyperparameter | Description  | Typical ranges | <center> Comments </center> |\n",
    "| --- | --- | --- | --- |\n",
    "| n_estimator | Number of trees <br> (iterations in sequence) | 50-500 | <center> Can get into low thousands. <br> Increasing beyond certain point: <br> overfitting or no benefit. </center>  |\n",
    "| max_depth | Maximum tree depth of learners | 3-6 |<center> Increment by 1. <br> Changing depth: huge effect. </center>| \n",
    "| learning_rate | The learning rate | 1e-3 to 1 | <center> Proper regularization/randomization <br> allows for faster learning rates <br> ~ 0.1-1 </center>   |\n",
    "|  <font color='red'>gamma </font>| Tree complexity regularization | 0 - 100 | <center> Primary knob for tree regularization </center>   |\n",
    "| <font color='red'>colsample_bytree </font> | <center> Fraction of features <br> randomly sampled by tree </center> | 0.5 - 1 | <center> Regularizing effect  <br>colsample_bylevel, colsample_bynode:<br> add extra degrees of randomization </center>|"
   ]
  },
  {
   "cell_type": "markdown",
   "metadata": {
    "slideshow": {
     "slide_type": "slide"
    }
   },
   "source": [
    "XGB estimators fits neatly and seamlessly into scikit-learn model pipelines, grid search, etc."
   ]
  },
  {
   "cell_type": "code",
   "execution_count": 16,
   "metadata": {
    "slideshow": {
     "slide_type": "fragment"
    }
   },
   "outputs": [],
   "source": [
    "from xgboost import XGBRegressor\n",
    "from xgboost import XGBClassifier"
   ]
  },
  {
   "cell_type": "code",
   "execution_count": 17,
   "metadata": {
    "slideshow": {
     "slide_type": "fragment"
    }
   },
   "outputs": [],
   "source": [
    "params = {'max_depth': [3,4, 5], 'learning_rate': [.1, .3, .5],\n",
    "          'gamma': [0,5,10], 'n_estimators': [50,100, 150] }\n",
    "cv = GridSearchCV(estimator = XGBRegressor(objective='reg:squarederror'), scoring='neg_mean_absolute_error',\n",
    "                  param_grid = params, cv = 5)\n",
    "cv.fit(X_train.reshape(-1,1), y_train);"
   ]
  },
  {
   "cell_type": "code",
   "execution_count": 18,
   "metadata": {
    "cell_style": "center",
    "scrolled": true,
    "slideshow": {
     "slide_type": "slide"
    }
   },
   "outputs": [
    {
     "data": {
      "text/plain": [
       "XGBRegressor(base_score=0.5, booster='gbtree', colsample_bylevel=1,\n",
<<<<<<< HEAD
       "             colsample_bynode=1, colsample_bytree=1, gamma=0, gpu_id=-1,\n",
       "             importance_type='gain', interaction_constraints='',\n",
       "             learning_rate=0.3, max_delta_step=0, max_depth=3,\n",
       "             min_child_weight=1, missing=nan, monotone_constraints='()',\n",
       "             n_estimators=50, n_jobs=0, num_parallel_tree=1, random_state=0,\n",
       "             reg_alpha=0, reg_lambda=1, scale_pos_weight=1, subsample=1,\n",
       "             tree_method='exact', validate_parameters=1, verbosity=None)"
=======
       "             colsample_bynode=1, colsample_bytree=1, enable_categorical=False,\n",
       "             gamma=0, gpu_id=-1, importance_type=None,\n",
       "             interaction_constraints='', learning_rate=0.1, max_delta_step=0,\n",
       "             max_depth=3, min_child_weight=1, missing=nan,\n",
       "             monotone_constraints='()', n_estimators=100, n_jobs=8,\n",
       "             num_parallel_tree=1, predictor='auto', random_state=0, reg_alpha=0,\n",
       "             reg_lambda=1, scale_pos_weight=1, subsample=1, tree_method='exact',\n",
       "             validate_parameters=1, verbosity=None)"
>>>>>>> upstream/main
      ]
     },
     "execution_count": 18,
     "metadata": {},
     "output_type": "execute_result"
    }
   ],
   "source": [
    "cv.best_estimator_"
   ]
  },
  {
   "cell_type": "code",
   "execution_count": 19,
   "metadata": {
    "cell_style": "split",
    "slideshow": {
     "slide_type": "fragment"
    }
   },
   "outputs": [
    {
     "data": {
      "text/plain": [
<<<<<<< HEAD
       "-0.3644882520341214"
=======
       "-0.3521079489740862"
>>>>>>> upstream/main
      ]
     },
     "execution_count": 19,
     "metadata": {},
     "output_type": "execute_result"
    }
   ],
   "source": [
    "cv.best_score_"
   ]
  },
  {
   "cell_type": "code",
   "execution_count": 27,
   "metadata": {
    "cell_style": "split",
    "slideshow": {
     "slide_type": "fragment"
    }
   },
   "outputs": [],
   "source": [
    "best_mod = cv.best_estimator_\n",
    "best_mod.fit(X_train.reshape(-1,1), y_train);\n",
    "y_pred = best_mod.predict(X_test.reshape(-1,1))"
   ]
  },
  {
   "cell_type": "code",
   "execution_count": 29,
   "metadata": {
    "cell_style": "split",
    "slideshow": {
     "slide_type": "fragment"
    }
   },
   "outputs": [],
   "source": [
    "total_preds = best_mod.predict(X_train.reshape(-1,1))"
   ]
  },
  {
   "cell_type": "code",
   "execution_count": 30,
   "metadata": {
    "cell_style": "split",
    "scrolled": false,
    "slideshow": {
     "slide_type": "slide"
    }
   },
   "outputs": [
    {
     "data": {
<<<<<<< HEAD
      "image/png": "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\n",
=======
      "image/png": "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\n",
>>>>>>> upstream/main
      "text/plain": [
       "<Figure size 432x288 with 1 Axes>"
      ]
     },
     "metadata": {
      "needs_background": "light"
     },
     "output_type": "display_data"
    }
   ],
   "source": [
    "fig, ax = plt.subplots()\n",
    "ax.scatter(X_test, y_test, c ='g', label = 'Test data')\n",
    "ax.scatter(X_test, y_pred, c ='r', label = 'Prediction')\n",
    "ax.legend()\n",
    "plt.show()"
   ]
  },
  {
   "cell_type": "markdown",
   "metadata": {
    "cell_style": "split",
    "slideshow": {
     "slide_type": "fragment"
    }
   },
   "source": [
    "Clearly doing pretty well with variance\n",
    "- CV average MAE at scale of intrinsic noise in model.\n",
    "- Also doing decently with bias. Sine wave amplitude ~ 1."
   ]
  },
  {
   "cell_type": "markdown",
   "metadata": {
    "slideshow": {
     "slide_type": "slide"
    }
   },
   "source": [
    "#### How about something a little more complicated?"
   ]
  },
  {
   "cell_type": "code",
   "execution_count": 31,
   "metadata": {
    "slideshow": {
     "slide_type": "slide"
    }
   },
   "outputs": [],
   "source": [
    "# load data\n",
    "file_path = \"Data/WHO_life.csv\"\n",
    "who_df = pd.read_csv(file_path).drop(columns = ['Adult Mortality', 'infant deaths',\n",
    "                                            'Year', 'Status', ' thinness 5-9 years', 'Country', \n",
    "                                            'under-five deaths ']).dropna()\n",
    "# clean column names\n",
    "who_df.columns = who_df.columns.str.strip()\n",
    "\n",
    "X_who, y_who = who_df.drop(columns = ['Life expectancy']), who_df['Life expectancy']"
   ]
  },
  {
   "cell_type": "code",
   "execution_count": 32,
   "metadata": {
    "cell_style": "center",
    "scrolled": true,
    "slideshow": {
     "slide_type": "slide"
    }
   },
   "outputs": [
    {
     "data": {
      "text/html": [
       "<div>\n",
       "<style scoped>\n",
       "    .dataframe tbody tr th:only-of-type {\n",
       "        vertical-align: middle;\n",
       "    }\n",
       "\n",
       "    .dataframe tbody tr th {\n",
       "        vertical-align: top;\n",
       "    }\n",
       "\n",
       "    .dataframe thead th {\n",
       "        text-align: right;\n",
       "    }\n",
       "</style>\n",
       "<table border=\"1\" class=\"dataframe\">\n",
       "  <thead>\n",
       "    <tr style=\"text-align: right;\">\n",
       "      <th></th>\n",
       "      <th>Alcohol</th>\n",
       "      <th>percentage expenditure</th>\n",
       "      <th>Hepatitis B</th>\n",
       "      <th>Measles</th>\n",
       "      <th>BMI</th>\n",
       "      <th>Polio</th>\n",
       "      <th>Total expenditure</th>\n",
       "      <th>Diphtheria</th>\n",
       "      <th>HIV/AIDS</th>\n",
       "      <th>GDP</th>\n",
       "      <th>Population</th>\n",
       "      <th>thinness  1-19 years</th>\n",
       "      <th>Income composition of resources</th>\n",
       "      <th>Schooling</th>\n",
       "    </tr>\n",
       "  </thead>\n",
       "  <tbody>\n",
       "    <tr>\n",
       "      <th>0</th>\n",
       "      <td>0.01</td>\n",
       "      <td>71.279624</td>\n",
       "      <td>65.0</td>\n",
       "      <td>1154</td>\n",
       "      <td>19.1</td>\n",
       "      <td>6.0</td>\n",
       "      <td>8.16</td>\n",
       "      <td>65.0</td>\n",
       "      <td>0.1</td>\n",
       "      <td>584.259210</td>\n",
       "      <td>33736494.0</td>\n",
       "      <td>17.2</td>\n",
       "      <td>0.479</td>\n",
       "      <td>10.1</td>\n",
       "    </tr>\n",
       "    <tr>\n",
       "      <th>1</th>\n",
       "      <td>0.01</td>\n",
       "      <td>73.523582</td>\n",
       "      <td>62.0</td>\n",
       "      <td>492</td>\n",
       "      <td>18.6</td>\n",
       "      <td>58.0</td>\n",
       "      <td>8.18</td>\n",
       "      <td>62.0</td>\n",
       "      <td>0.1</td>\n",
       "      <td>612.696514</td>\n",
       "      <td>327582.0</td>\n",
       "      <td>17.5</td>\n",
       "      <td>0.476</td>\n",
       "      <td>10.0</td>\n",
       "    </tr>\n",
       "    <tr>\n",
       "      <th>2</th>\n",
       "      <td>0.01</td>\n",
       "      <td>73.219243</td>\n",
       "      <td>64.0</td>\n",
       "      <td>430</td>\n",
       "      <td>18.1</td>\n",
       "      <td>62.0</td>\n",
       "      <td>8.13</td>\n",
       "      <td>64.0</td>\n",
       "      <td>0.1</td>\n",
       "      <td>631.744976</td>\n",
       "      <td>31731688.0</td>\n",
       "      <td>17.7</td>\n",
       "      <td>0.470</td>\n",
       "      <td>9.9</td>\n",
       "    </tr>\n",
       "    <tr>\n",
       "      <th>3</th>\n",
       "      <td>0.01</td>\n",
       "      <td>78.184215</td>\n",
       "      <td>67.0</td>\n",
       "      <td>2787</td>\n",
       "      <td>17.6</td>\n",
       "      <td>67.0</td>\n",
       "      <td>8.52</td>\n",
       "      <td>67.0</td>\n",
       "      <td>0.1</td>\n",
       "      <td>669.959000</td>\n",
       "      <td>3696958.0</td>\n",
       "      <td>17.9</td>\n",
       "      <td>0.463</td>\n",
       "      <td>9.8</td>\n",
       "    </tr>\n",
       "    <tr>\n",
       "      <th>4</th>\n",
       "      <td>0.01</td>\n",
       "      <td>7.097109</td>\n",
       "      <td>68.0</td>\n",
       "      <td>3013</td>\n",
       "      <td>17.2</td>\n",
       "      <td>68.0</td>\n",
       "      <td>7.87</td>\n",
       "      <td>68.0</td>\n",
       "      <td>0.1</td>\n",
       "      <td>63.537231</td>\n",
       "      <td>2978599.0</td>\n",
       "      <td>18.2</td>\n",
       "      <td>0.454</td>\n",
       "      <td>9.5</td>\n",
       "    </tr>\n",
       "  </tbody>\n",
       "</table>\n",
       "</div>"
      ],
      "text/plain": [
       "   Alcohol  percentage expenditure  Hepatitis B  Measles   BMI  Polio  \\\n",
       "0     0.01               71.279624         65.0     1154  19.1    6.0   \n",
       "1     0.01               73.523582         62.0      492  18.6   58.0   \n",
       "2     0.01               73.219243         64.0      430  18.1   62.0   \n",
       "3     0.01               78.184215         67.0     2787  17.6   67.0   \n",
       "4     0.01                7.097109         68.0     3013  17.2   68.0   \n",
       "\n",
       "   Total expenditure  Diphtheria  HIV/AIDS         GDP  Population  \\\n",
       "0               8.16        65.0       0.1  584.259210  33736494.0   \n",
       "1               8.18        62.0       0.1  612.696514    327582.0   \n",
       "2               8.13        64.0       0.1  631.744976  31731688.0   \n",
       "3               8.52        67.0       0.1  669.959000   3696958.0   \n",
       "4               7.87        68.0       0.1   63.537231   2978599.0   \n",
       "\n",
       "   thinness  1-19 years  Income composition of resources  Schooling  \n",
       "0                  17.2                            0.479       10.1  \n",
       "1                  17.5                            0.476       10.0  \n",
       "2                  17.7                            0.470        9.9  \n",
       "3                  17.9                            0.463        9.8  \n",
       "4                  18.2                            0.454        9.5  "
      ]
     },
     "execution_count": 32,
     "metadata": {},
     "output_type": "execute_result"
    }
   ],
   "source": [
    "X_who.head()"
   ]
  },
  {
   "cell_type": "code",
   "execution_count": 33,
   "metadata": {
    "cell_style": "split",
    "slideshow": {
     "slide_type": "fragment"
    }
   },
   "outputs": [
    {
     "data": {
      "text/plain": [
       "0    65.0\n",
       "1    59.9\n",
       "2    59.9\n",
       "3    59.5\n",
       "4    59.2\n",
       "Name: Life expectancy, dtype: float64"
      ]
     },
     "execution_count": 33,
     "metadata": {},
     "output_type": "execute_result"
    }
   ],
   "source": [
    "y_who.head()"
   ]
  },
  {
   "cell_type": "code",
   "execution_count": 34,
   "metadata": {
    "slideshow": {
     "slide_type": "fragment"
    }
   },
   "outputs": [],
   "source": [
    "# Train test split\n",
    "X_who_train, X_who_test, y_who_train, y_who_test = train_test_split(X_who, y_who, test_size = 0.3)"
   ]
  },
  {
   "cell_type": "code",
   "execution_count": 35,
   "metadata": {
    "slideshow": {
     "slide_type": "slide"
    }
   },
   "outputs": [],
   "source": [
    "params = {'max_depth': [3,4, 5], 'learning_rate': [.1, .3, .5],\n",
    "          'gamma': [0,5,10], 'colsample_bynode': [.5, .75, 1], 'n_estimators': [50,100, 150] }\n",
    "cv = GridSearchCV(estimator = XGBRegressor(objective='reg:squarederror'), scoring='neg_mean_absolute_error',\n",
    "                  param_grid = params, cv = 5)\n",
    "cv.fit(X_who_train, y_who_train);"
   ]
  },
  {
   "cell_type": "code",
   "execution_count": 36,
   "metadata": {
    "cell_style": "center",
    "slideshow": {
     "slide_type": "slide"
    }
   },
   "outputs": [
    {
     "data": {
      "text/plain": [
<<<<<<< HEAD
       "-1.6816077911934115"
=======
       "-1.6829698581304249"
>>>>>>> upstream/main
      ]
     },
     "execution_count": 36,
     "metadata": {},
     "output_type": "execute_result"
    }
   ],
   "source": [
    "cv.best_score_"
   ]
  },
  {
   "cell_type": "code",
   "execution_count": 37,
   "metadata": {
    "cell_style": "center",
    "slideshow": {
     "slide_type": "fragment"
    }
   },
   "outputs": [
    {
     "data": {
      "text/plain": [
       "XGBRegressor(base_score=0.5, booster='gbtree', colsample_bylevel=1,\n",
<<<<<<< HEAD
       "             colsample_bynode=1, colsample_bytree=1, gamma=0, gpu_id=-1,\n",
       "             importance_type='gain', interaction_constraints='',\n",
       "             learning_rate=0.1, max_delta_step=0, max_depth=5,\n",
       "             min_child_weight=1, missing=nan, monotone_constraints='()',\n",
       "             n_estimators=150, n_jobs=0, num_parallel_tree=1, random_state=0,\n",
       "             reg_alpha=0, reg_lambda=1, scale_pos_weight=1, subsample=1,\n",
       "             tree_method='exact', validate_parameters=1, verbosity=None)"
=======
       "             colsample_bynode=0.5, colsample_bytree=1, enable_categorical=False,\n",
       "             gamma=0, gpu_id=-1, importance_type=None,\n",
       "             interaction_constraints='', learning_rate=0.1, max_delta_step=0,\n",
       "             max_depth=5, min_child_weight=1, missing=nan,\n",
       "             monotone_constraints='()', n_estimators=150, n_jobs=8,\n",
       "             num_parallel_tree=1, predictor='auto', random_state=0, reg_alpha=0,\n",
       "             reg_lambda=1, scale_pos_weight=1, subsample=1, tree_method='exact',\n",
       "             validate_parameters=1, verbosity=None)"
>>>>>>> upstream/main
      ]
     },
     "execution_count": 37,
     "metadata": {},
     "output_type": "execute_result"
    }
   ],
   "source": [
    "best_regressor = cv.best_estimator_\n",
    "best_regressor"
   ]
  },
  {
   "cell_type": "code",
   "execution_count": 38,
   "metadata": {
    "cell_style": "split",
    "slideshow": {
     "slide_type": "slide"
    }
   },
   "outputs": [],
   "source": [
    "best_regressor.fit(X_who_train, y_who_train)\n",
    "y_pred_train = best_regressor.predict(\n",
    "    X_who_train)\n",
    "y_pred_test = best_regressor.predict(X_who_test)"
   ]
  },
  {
   "cell_type": "code",
   "execution_count": 39,
   "metadata": {
    "cell_style": "split",
    "slideshow": {
     "slide_type": "slide"
    }
   },
   "outputs": [],
   "source": [
    "from sklearn.metrics import mean_absolute_error\n",
    "from sklearn.metrics import mean_squared_error\n",
    "from sklearn.metrics import r2_score\n"
   ]
  },
  {
   "cell_type": "code",
   "execution_count": 40,
   "metadata": {
    "cell_style": "split",
    "slideshow": {
     "slide_type": "slide"
    }
   },
   "outputs": [
    {
     "name": "stdout",
     "output_type": "stream",
     "text": [
<<<<<<< HEAD
      "1.5925196776727233\n"
=======
      "1.711768367266414\n"
>>>>>>> upstream/main
     ]
    }
   ],
   "source": [
    "MAE = mean_absolute_error(y_who_test, \n",
    "                          y_pred_test)\n",
    "print(MAE)"
   ]
  },
  {
   "cell_type": "code",
   "execution_count": 41,
   "metadata": {
    "cell_style": "split",
    "slideshow": {
     "slide_type": "fragment"
    }
   },
   "outputs": [
    {
     "name": "stdout",
     "output_type": "stream",
     "text": [
<<<<<<< HEAD
      "2.27841189642654\n"
=======
      "2.3691056645296333\n"
>>>>>>> upstream/main
     ]
    }
   ],
   "source": [
    "RMSE = np.sqrt(mean_squared_error(y_who_test,\n",
    "                                  y_pred_test))\n",
    "print(RMSE)"
   ]
  },
  {
   "cell_type": "markdown",
   "metadata": {
    "slideshow": {
     "slide_type": "slide"
    }
   },
   "source": [
    "Train and test: $R^2$ score"
   ]
  },
  {
   "cell_type": "code",
   "execution_count": 42,
   "metadata": {
    "cell_style": "split",
    "slideshow": {
     "slide_type": "fragment"
    }
   },
   "outputs": [
    {
     "data": {
      "text/plain": [
<<<<<<< HEAD
       "0.9914111580407297"
=======
       "0.9896355610015164"
>>>>>>> upstream/main
      ]
     },
     "execution_count": 42,
     "metadata": {},
     "output_type": "execute_result"
    }
   ],
   "source": [
    "r2_score(y_who_train, y_pred_train)"
   ]
  },
  {
   "cell_type": "code",
   "execution_count": 43,
   "metadata": {
    "cell_style": "split",
    "slideshow": {
     "slide_type": "fragment"
    }
   },
   "outputs": [
    {
     "data": {
      "text/plain": [
<<<<<<< HEAD
       "0.932800356558734"
=======
       "0.9249631924646295"
>>>>>>> upstream/main
      ]
     },
     "execution_count": 43,
     "metadata": {},
     "output_type": "execute_result"
    }
   ],
   "source": [
    "r2_score(y_who_test, y_pred_test)"
   ]
  },
  {
   "cell_type": "markdown",
   "metadata": {
    "slideshow": {
     "slide_type": "slide"
    }
   },
   "source": [
    "Comparing this to our simple multiple linear regression:\n",
    "- $R^2 = 0.76$ \n",
    "- MAE of ~3.5.\n",
    "- Had to carefully remove correlated features.\n",
    "- Standardize for feature weight importance or regularization.\n"
   ]
  },
  {
   "cell_type": "code",
   "execution_count": 44,
   "metadata": {
    "cell_style": "center",
    "scrolled": true,
    "slideshow": {
     "slide_type": "slide"
    }
   },
   "outputs": [
    {
     "data": {
<<<<<<< HEAD
      "image/png": "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\n",
=======
      "image/png": "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\n",
>>>>>>> upstream/main
      "text/plain": [
       "<Figure size 432x288 with 1 Axes>"
      ]
     },
     "metadata": {
      "needs_background": "light"
     },
     "output_type": "display_data"
    }
   ],
   "source": [
    "feat_imp = pd.Series(best_regressor.feature_importances_,\n",
    "             index = X_who.columns).sort_values(ascending = False)\n",
    "fig, ax = plt.subplots()\n",
    "feat_imp.plot(kind = 'barh', ax = ax)\n",
    "ax.set_xlabel('Feature Importance')\n",
    "ax.set_title('XGB Regressor: Feature Importances')\n",
    "plt.show()"
   ]
  },
  {
   "cell_type": "markdown",
   "metadata": {
    "cell_style": "center",
    "slideshow": {
     "slide_type": "slide"
    }
   },
   "source": [
    "Exact same with classification:\n",
    "- XGBClassifier()\n",
    "- basically same hyperparameters\n",
    "- just different objective function\n"
   ]
  },
  {
   "cell_type": "markdown",
   "metadata": {
    "cell_style": "center",
    "slideshow": {
     "slide_type": "slide"
    }
   },
   "source": [
    "#### Gradient boosting\n",
    "\n",
    "- Needs tuning\n",
    "- But extremely fast and effective (as has been seen)\n",
    "- Along with random forest: workhorse of classification/regression in many professional workflows."
   ]
  }
 ],
 "metadata": {
  "celltoolbar": "Slideshow",
  "kernelspec": {
   "display_name": "Python (learn-env)",
   "language": "python",
   "name": "learn-env"
  },
  "language_info": {
   "codemirror_mode": {
    "name": "ipython",
    "version": 3
   },
   "file_extension": ".py",
   "mimetype": "text/x-python",
   "name": "python",
   "nbconvert_exporter": "python",
   "pygments_lexer": "ipython3",
   "version": "3.8.5"
  }
 },
 "nbformat": 4,
 "nbformat_minor": 2
}
